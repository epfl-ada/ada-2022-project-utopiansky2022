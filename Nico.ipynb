{
 "cells": [
  {
   "cell_type": "markdown",
   "metadata": {},
   "source": [
    "0. Importing Libraries"
   ]
  },
  {
   "cell_type": "code",
   "execution_count": 72,
   "metadata": {},
   "outputs": [],
   "source": [
    "import pandas as pd\n",
    "import numpy as np\n",
    "import matplotlib.pyplot as plt\n"
   ]
  },
  {
   "cell_type": "markdown",
   "metadata": {},
   "source": [
    "1. Loading the data"
   ]
  },
  {
   "cell_type": "code",
   "execution_count": 2,
   "metadata": {},
   "outputs": [],
   "source": [
    "# Loading the data of character metadata\n",
    "\n",
    "df_characters = pd.read_csv('Data/character.metadata.tsv', sep='\\t')\n",
    "df_characters.columns = ['Wikipedia movie ID', 'Freebase movie ID', 'Movie release date', 'Character name', 'Actor date of birth', 'Actor gender',\n",
    "                        'Actor height (in meters)', 'Actor ethnicity (Freebase ID)', 'Actor name', 'Actor age at movie release',\n",
    "                        'Freebase character/actor map ID', 'Freebase character ID', 'Freebase actor ID']"
   ]
  },
  {
   "cell_type": "code",
   "execution_count": 3,
   "metadata": {},
   "outputs": [],
   "source": [
    "# Loading the data of movie metadata\n",
    "\n",
    "df_movie = pd.read_csv('Data/movie.metadata.tsv', sep='\\t')\n",
    "df_movie.columns = ['Wikipedia movie ID', 'Freebase movie ID', 'Movie name', 'Movie release date', 'Movie box office revenue', 'Movie runtime',\n",
    "                    'Movie languages (Freebase ID)', 'Movie countries (Freebase ID)', 'Movie genres (Freebase ID)']"
   ]
  },
  {
   "cell_type": "code",
   "execution_count": 4,
   "metadata": {},
   "outputs": [
    {
     "name": "stdout",
     "output_type": "stream",
     "text": [
      "450668\n"
     ]
    }
   ],
   "source": [
    "# Loading name clusters\n",
    "# 970 unique character names used in at least two different movies, along with 2,666 instances of those types\n",
    "\n",
    "df_name_clusters = pd.read_csv('Data/name.clusters.txt', sep='\\t')\n",
    "df_name_clusters.columns = ['Character name', 'Freebase character/actor map ID']\n",
    "print(len(df_characters))"
   ]
  },
  {
   "cell_type": "code",
   "execution_count": 5,
   "metadata": {},
   "outputs": [
    {
     "name": "stdout",
     "output_type": "stream",
     "text": [
      "81740\n"
     ]
    }
   ],
   "source": [
    "# Loading plot summaries\n",
    "df_plot_summaries = pd.read_csv('Data/plot_summaries.txt', sep='\\t')\n",
    "df_plot_summaries.columns = ['Wikipedia movie ID', 'Plot Summary']\n",
    "print(len(df_movie))"
   ]
  },
  {
   "cell_type": "markdown",
   "metadata": {},
   "source": [
    "2. Data Exploration"
   ]
  },
  {
   "cell_type": "code",
   "execution_count": 170,
   "metadata": {},
   "outputs": [
    {
     "data": {
      "text/html": [
       "<div>\n",
       "<style scoped>\n",
       "    .dataframe tbody tr th:only-of-type {\n",
       "        vertical-align: middle;\n",
       "    }\n",
       "\n",
       "    .dataframe tbody tr th {\n",
       "        vertical-align: top;\n",
       "    }\n",
       "\n",
       "    .dataframe thead th {\n",
       "        text-align: right;\n",
       "    }\n",
       "</style>\n",
       "<table border=\"1\" class=\"dataframe\">\n",
       "  <thead>\n",
       "    <tr style=\"text-align: right;\">\n",
       "      <th></th>\n",
       "      <th>Wikipedia movie ID</th>\n",
       "      <th>Freebase movie ID</th>\n",
       "      <th>Movie release date</th>\n",
       "      <th>Character name</th>\n",
       "      <th>Actor date of birth</th>\n",
       "      <th>Actor gender</th>\n",
       "      <th>Actor height (in meters)</th>\n",
       "      <th>Actor ethnicity (Freebase ID)</th>\n",
       "      <th>Actor name</th>\n",
       "      <th>Actor age at movie release</th>\n",
       "      <th>Freebase character/actor map ID</th>\n",
       "      <th>Freebase character ID</th>\n",
       "      <th>Freebase actor ID</th>\n",
       "    </tr>\n",
       "  </thead>\n",
       "  <tbody>\n",
       "    <tr>\n",
       "      <th>0</th>\n",
       "      <td>975900</td>\n",
       "      <td>/m/03vyhn</td>\n",
       "      <td>2001-08-24</td>\n",
       "      <td>Lieutenant Melanie Ballard</td>\n",
       "      <td>1974-08-15</td>\n",
       "      <td>F</td>\n",
       "      <td>1.780</td>\n",
       "      <td>/m/044038p</td>\n",
       "      <td>Natasha Henstridge</td>\n",
       "      <td>27.0</td>\n",
       "      <td>/m/0jys3m</td>\n",
       "      <td>/m/0bgchn4</td>\n",
       "      <td>/m/0346l4</td>\n",
       "    </tr>\n",
       "    <tr>\n",
       "      <th>1</th>\n",
       "      <td>975900</td>\n",
       "      <td>/m/03vyhn</td>\n",
       "      <td>2001-08-24</td>\n",
       "      <td>Desolation Williams</td>\n",
       "      <td>1969-06-15</td>\n",
       "      <td>M</td>\n",
       "      <td>1.727</td>\n",
       "      <td>/m/0x67</td>\n",
       "      <td>Ice Cube</td>\n",
       "      <td>32.0</td>\n",
       "      <td>/m/0jys3g</td>\n",
       "      <td>/m/0bgchn_</td>\n",
       "      <td>/m/01vw26l</td>\n",
       "    </tr>\n",
       "    <tr>\n",
       "      <th>2</th>\n",
       "      <td>975900</td>\n",
       "      <td>/m/03vyhn</td>\n",
       "      <td>2001-08-24</td>\n",
       "      <td>Sgt Jericho Butler</td>\n",
       "      <td>1967-09-12</td>\n",
       "      <td>M</td>\n",
       "      <td>1.750</td>\n",
       "      <td>NaN</td>\n",
       "      <td>Jason Statham</td>\n",
       "      <td>33.0</td>\n",
       "      <td>/m/02vchl6</td>\n",
       "      <td>/m/0bgchnq</td>\n",
       "      <td>/m/034hyc</td>\n",
       "    </tr>\n",
       "    <tr>\n",
       "      <th>3</th>\n",
       "      <td>975900</td>\n",
       "      <td>/m/03vyhn</td>\n",
       "      <td>2001-08-24</td>\n",
       "      <td>Bashira Kincaid</td>\n",
       "      <td>1977-09-25</td>\n",
       "      <td>F</td>\n",
       "      <td>1.650</td>\n",
       "      <td>NaN</td>\n",
       "      <td>Clea DuVall</td>\n",
       "      <td>23.0</td>\n",
       "      <td>/m/02vbb3r</td>\n",
       "      <td>/m/0bgchp9</td>\n",
       "      <td>/m/01y9xg</td>\n",
       "    </tr>\n",
       "    <tr>\n",
       "      <th>4</th>\n",
       "      <td>975900</td>\n",
       "      <td>/m/03vyhn</td>\n",
       "      <td>2001-08-24</td>\n",
       "      <td>Commander Helena Braddock</td>\n",
       "      <td>1949-05-26</td>\n",
       "      <td>F</td>\n",
       "      <td>1.727</td>\n",
       "      <td>/m/0x67</td>\n",
       "      <td>Pam Grier</td>\n",
       "      <td>52.0</td>\n",
       "      <td>/m/02vdcfp</td>\n",
       "      <td>/m/0bgchnd</td>\n",
       "      <td>/m/0418ft</td>\n",
       "    </tr>\n",
       "    <tr>\n",
       "      <th>...</th>\n",
       "      <td>...</td>\n",
       "      <td>...</td>\n",
       "      <td>...</td>\n",
       "      <td>...</td>\n",
       "      <td>...</td>\n",
       "      <td>...</td>\n",
       "      <td>...</td>\n",
       "      <td>...</td>\n",
       "      <td>...</td>\n",
       "      <td>...</td>\n",
       "      <td>...</td>\n",
       "      <td>...</td>\n",
       "      <td>...</td>\n",
       "    </tr>\n",
       "    <tr>\n",
       "      <th>450663</th>\n",
       "      <td>913762</td>\n",
       "      <td>/m/03pcrp</td>\n",
       "      <td>1992-05-21</td>\n",
       "      <td>Elensh</td>\n",
       "      <td>1970-05</td>\n",
       "      <td>F</td>\n",
       "      <td>NaN</td>\n",
       "      <td>NaN</td>\n",
       "      <td>Dorothy Elias-Fahn</td>\n",
       "      <td>NaN</td>\n",
       "      <td>/m/0kr406c</td>\n",
       "      <td>/m/0kr406h</td>\n",
       "      <td>/m/0b_vcv</td>\n",
       "    </tr>\n",
       "    <tr>\n",
       "      <th>450664</th>\n",
       "      <td>913762</td>\n",
       "      <td>/m/03pcrp</td>\n",
       "      <td>1992-05-21</td>\n",
       "      <td>Hibiki</td>\n",
       "      <td>1965-04-12</td>\n",
       "      <td>M</td>\n",
       "      <td>NaN</td>\n",
       "      <td>NaN</td>\n",
       "      <td>Jonathan Fahn</td>\n",
       "      <td>27.0</td>\n",
       "      <td>/m/0kr405_</td>\n",
       "      <td>/m/0kr4090</td>\n",
       "      <td>/m/0bx7_j</td>\n",
       "    </tr>\n",
       "    <tr>\n",
       "      <th>450665</th>\n",
       "      <td>28308153</td>\n",
       "      <td>/m/0cp05t9</td>\n",
       "      <td>1957</td>\n",
       "      <td>NaN</td>\n",
       "      <td>1941-11-18</td>\n",
       "      <td>M</td>\n",
       "      <td>1.730</td>\n",
       "      <td>/m/02w7gg</td>\n",
       "      <td>David Hemmings</td>\n",
       "      <td>15.0</td>\n",
       "      <td>/m/0g8ngmc</td>\n",
       "      <td>NaN</td>\n",
       "      <td>/m/022g44</td>\n",
       "    </tr>\n",
       "    <tr>\n",
       "      <th>450666</th>\n",
       "      <td>28308153</td>\n",
       "      <td>/m/0cp05t9</td>\n",
       "      <td>1957</td>\n",
       "      <td>NaN</td>\n",
       "      <td>NaN</td>\n",
       "      <td>NaN</td>\n",
       "      <td>NaN</td>\n",
       "      <td>NaN</td>\n",
       "      <td>Roberta Paterson</td>\n",
       "      <td>NaN</td>\n",
       "      <td>/m/0g8ngmj</td>\n",
       "      <td>NaN</td>\n",
       "      <td>/m/0g8ngmm</td>\n",
       "    </tr>\n",
       "    <tr>\n",
       "      <th>450667</th>\n",
       "      <td>28308153</td>\n",
       "      <td>/m/0cp05t9</td>\n",
       "      <td>1957</td>\n",
       "      <td>NaN</td>\n",
       "      <td>NaN</td>\n",
       "      <td>NaN</td>\n",
       "      <td>NaN</td>\n",
       "      <td>NaN</td>\n",
       "      <td>John Rogers</td>\n",
       "      <td>NaN</td>\n",
       "      <td>/m/0g8ngmw</td>\n",
       "      <td>NaN</td>\n",
       "      <td>/m/0btz19d</td>\n",
       "    </tr>\n",
       "  </tbody>\n",
       "</table>\n",
       "<p>450668 rows × 13 columns</p>\n",
       "</div>"
      ],
      "text/plain": [
       "        Wikipedia movie ID Freebase movie ID Movie release date  \\\n",
       "0                   975900         /m/03vyhn         2001-08-24   \n",
       "1                   975900         /m/03vyhn         2001-08-24   \n",
       "2                   975900         /m/03vyhn         2001-08-24   \n",
       "3                   975900         /m/03vyhn         2001-08-24   \n",
       "4                   975900         /m/03vyhn         2001-08-24   \n",
       "...                    ...               ...                ...   \n",
       "450663              913762         /m/03pcrp         1992-05-21   \n",
       "450664              913762         /m/03pcrp         1992-05-21   \n",
       "450665            28308153        /m/0cp05t9               1957   \n",
       "450666            28308153        /m/0cp05t9               1957   \n",
       "450667            28308153        /m/0cp05t9               1957   \n",
       "\n",
       "                    Character name Actor date of birth Actor gender  \\\n",
       "0       Lieutenant Melanie Ballard          1974-08-15            F   \n",
       "1              Desolation Williams          1969-06-15            M   \n",
       "2               Sgt Jericho Butler          1967-09-12            M   \n",
       "3                  Bashira Kincaid          1977-09-25            F   \n",
       "4        Commander Helena Braddock          1949-05-26            F   \n",
       "...                            ...                 ...          ...   \n",
       "450663                      Elensh             1970-05            F   \n",
       "450664                      Hibiki          1965-04-12            M   \n",
       "450665                         NaN          1941-11-18            M   \n",
       "450666                         NaN                 NaN          NaN   \n",
       "450667                         NaN                 NaN          NaN   \n",
       "\n",
       "        Actor height (in meters) Actor ethnicity (Freebase ID)  \\\n",
       "0                          1.780                    /m/044038p   \n",
       "1                          1.727                       /m/0x67   \n",
       "2                          1.750                           NaN   \n",
       "3                          1.650                           NaN   \n",
       "4                          1.727                       /m/0x67   \n",
       "...                          ...                           ...   \n",
       "450663                       NaN                           NaN   \n",
       "450664                       NaN                           NaN   \n",
       "450665                     1.730                     /m/02w7gg   \n",
       "450666                       NaN                           NaN   \n",
       "450667                       NaN                           NaN   \n",
       "\n",
       "                Actor name  Actor age at movie release  \\\n",
       "0       Natasha Henstridge                        27.0   \n",
       "1                 Ice Cube                        32.0   \n",
       "2            Jason Statham                        33.0   \n",
       "3              Clea DuVall                        23.0   \n",
       "4                Pam Grier                        52.0   \n",
       "...                    ...                         ...   \n",
       "450663  Dorothy Elias-Fahn                         NaN   \n",
       "450664       Jonathan Fahn                        27.0   \n",
       "450665      David Hemmings                        15.0   \n",
       "450666    Roberta Paterson                         NaN   \n",
       "450667         John Rogers                         NaN   \n",
       "\n",
       "       Freebase character/actor map ID Freebase character ID Freebase actor ID  \n",
       "0                            /m/0jys3m            /m/0bgchn4         /m/0346l4  \n",
       "1                            /m/0jys3g            /m/0bgchn_        /m/01vw26l  \n",
       "2                           /m/02vchl6            /m/0bgchnq         /m/034hyc  \n",
       "3                           /m/02vbb3r            /m/0bgchp9         /m/01y9xg  \n",
       "4                           /m/02vdcfp            /m/0bgchnd         /m/0418ft  \n",
       "...                                ...                   ...               ...  \n",
       "450663                      /m/0kr406c            /m/0kr406h         /m/0b_vcv  \n",
       "450664                      /m/0kr405_            /m/0kr4090         /m/0bx7_j  \n",
       "450665                      /m/0g8ngmc                   NaN         /m/022g44  \n",
       "450666                      /m/0g8ngmj                   NaN        /m/0g8ngmm  \n",
       "450667                      /m/0g8ngmw                   NaN        /m/0btz19d  \n",
       "\n",
       "[450668 rows x 13 columns]"
      ]
     },
     "execution_count": 170,
     "metadata": {},
     "output_type": "execute_result"
    }
   ],
   "source": [
    "df_characters"
   ]
  },
  {
   "cell_type": "code",
   "execution_count": 169,
   "metadata": {},
   "outputs": [
    {
     "name": "stdout",
     "output_type": "stream",
     "text": [
      "Missing \"character names\" in character metadata: 257875\n",
      "Missing \"Freebase character\" IDs in character metadata: 257865\n",
      "We can see that the number of missing character names ≈ missing Freebase character IDs\n",
      "There are 10 characters where we have a \"Freebase character ID\" but not \"character names\"\n",
      "Missing Character name AND Freebase character ID: 257865\n"
     ]
    },
    {
     "data": {
      "text/plain": [
       "0         False\n",
       "1         False\n",
       "2         False\n",
       "3         False\n",
       "4         False\n",
       "          ...  \n",
       "450663    False\n",
       "450664    False\n",
       "450665     True\n",
       "450666     True\n",
       "450667     True\n",
       "Length: 450668, dtype: bool"
      ]
     },
     "execution_count": 169,
     "metadata": {},
     "output_type": "execute_result"
    }
   ],
   "source": [
    "# Checking when either character name or Freebase movie ID are missing:\n",
    "print('Missing \"character names\" in character metadata: %d' %df_characters['Character name'].isnull().sum())\n",
    "print('Missing \"Freebase character\" IDs in character metadata: %d' %df_characters['Freebase character ID'].isnull().sum())\n",
    "print('We can see that the number of missing character names ≈ missing Freebase character IDs')\n",
    "print('There are 10 characters where we have a \"Freebase character ID\" but not \"character names\"')\n",
    "\n",
    "# Checking when both \"Character name\" and \"Freebase character ID are missing\":\n",
    "df_characters.loc[df_characters['Character name'].isnull() & df_characters['Freebase movie ID'].isnull()]\n",
    "out = df_characters.iloc[:, [3, 11]].isnull().all(1)\n",
    "out\n",
    "true_count = sum(out)\n",
    "print('Missing Character name AND Freebase character ID: %d' %true_count)\n",
    "\n",
    "# We could try and recover the character names by their Freebase movie IDs.\n",
    "\n",
    "#df_characters.loc[df_characters['Character name'].isnull() & df_characters['Freebase actor ID'].notnull() & df_characters['Freebase character ID'].notnull()]\n",
    "\n",
    "\n",
    "#df_characters.loc[df_characters['Wikipedia movie ID'].isnull() & df_characters['Freebase movie ID'].notnull()].count()\n",
    "df_characters.iloc[:, [3, 11]].isnull().all(1)"
   ]
  },
  {
   "cell_type": "code",
   "execution_count": 7,
   "metadata": {},
   "outputs": [
    {
     "name": "stdout",
     "output_type": "stream",
     "text": [
      "The total number of characters that we obtain from the inner merge is: 450652\n",
      "By merging character and movie metadata we are missing\n"
     ]
    }
   ],
   "source": [
    "# Merging character with movie metadata with an inner join\n",
    "\n",
    "df_char_movie = pd.merge(left=df_characters, right=df_movie, how='inner', on= ['Wikipedia movie ID', 'Freebase movie ID', 'Movie release date'])\n",
    "print('The total number of characters that we obtain from the inner merge is: %d' %len(df_char_movie))\n",
    "print('By merging character and movie metadata we are missing')"
   ]
  },
  {
   "cell_type": "markdown",
   "metadata": {},
   "source": [
    "We do an inner join because there are movies in the movie metadata for which we do not have any character information in character metadata\n",
    "and vice versa."
   ]
  },
  {
   "cell_type": "code",
   "execution_count": 8,
   "metadata": {},
   "outputs": [
    {
     "name": "stdout",
     "output_type": "stream",
     "text": [
      "The resulting number of movies from the merge of characters and movies is: 64329\n"
     ]
    }
   ],
   "source": [
    "movies_with_characters = df_char_movie.groupby(['Wikipedia movie ID']).agg('size')\n",
    "print('The resulting number of movies from the merge of characters and movies is: %d'%len(movies_with_characters))"
   ]
  },
  {
   "cell_type": "code",
   "execution_count": 110,
   "metadata": {},
   "outputs": [],
   "source": [
    "# Computing the total number of characters and the number of character names we have in our dataframe\n",
    "char_names_per_movie = df_char_movie.groupby('Wikipedia movie ID')['Character name'].count() # extracts number of characters we have (i.e. not coun ting NaNs)\n",
    "total_characters_per_movie = df_char_movie.groupby(['Wikipedia movie ID'])['Character name'].agg(['size'])"
   ]
  },
  {
   "cell_type": "code",
   "execution_count": 145,
   "metadata": {},
   "outputs": [
    {
     "data": {
      "text/html": [
       "<div>\n",
       "<style scoped>\n",
       "    .dataframe tbody tr th:only-of-type {\n",
       "        vertical-align: middle;\n",
       "    }\n",
       "\n",
       "    .dataframe tbody tr th {\n",
       "        vertical-align: top;\n",
       "    }\n",
       "\n",
       "    .dataframe thead th {\n",
       "        text-align: right;\n",
       "    }\n",
       "</style>\n",
       "<table border=\"1\" class=\"dataframe\">\n",
       "  <thead>\n",
       "    <tr style=\"text-align: right;\">\n",
       "      <th></th>\n",
       "      <th>total_n°_characters (incl. NaN)</th>\n",
       "      <th>character_names (excl. NaN)</th>\n",
       "      <th>n°_missing_characters</th>\n",
       "      <th>percentage_missing</th>\n",
       "      <th>percentage_available</th>\n",
       "    </tr>\n",
       "    <tr>\n",
       "      <th>Wikipedia movie ID</th>\n",
       "      <th></th>\n",
       "      <th></th>\n",
       "      <th></th>\n",
       "      <th></th>\n",
       "      <th></th>\n",
       "    </tr>\n",
       "  </thead>\n",
       "  <tbody>\n",
       "    <tr>\n",
       "      <th>330</th>\n",
       "      <td>4</td>\n",
       "      <td>0</td>\n",
       "      <td>4</td>\n",
       "      <td>100.0</td>\n",
       "      <td>0.0</td>\n",
       "    </tr>\n",
       "    <tr>\n",
       "      <th>3217</th>\n",
       "      <td>14</td>\n",
       "      <td>14</td>\n",
       "      <td>0</td>\n",
       "      <td>0.0</td>\n",
       "      <td>100.0</td>\n",
       "    </tr>\n",
       "    <tr>\n",
       "      <th>3333</th>\n",
       "      <td>14</td>\n",
       "      <td>0</td>\n",
       "      <td>14</td>\n",
       "      <td>100.0</td>\n",
       "      <td>0.0</td>\n",
       "    </tr>\n",
       "    <tr>\n",
       "      <th>3746</th>\n",
       "      <td>15</td>\n",
       "      <td>15</td>\n",
       "      <td>0</td>\n",
       "      <td>0.0</td>\n",
       "      <td>100.0</td>\n",
       "    </tr>\n",
       "    <tr>\n",
       "      <th>3837</th>\n",
       "      <td>20</td>\n",
       "      <td>16</td>\n",
       "      <td>4</td>\n",
       "      <td>20.0</td>\n",
       "      <td>80.0</td>\n",
       "    </tr>\n",
       "  </tbody>\n",
       "</table>\n",
       "</div>"
      ],
      "text/plain": [
       "                    total_n°_characters (incl. NaN)  \\\n",
       "Wikipedia movie ID                                    \n",
       "330                                               4   \n",
       "3217                                             14   \n",
       "3333                                             14   \n",
       "3746                                             15   \n",
       "3837                                             20   \n",
       "\n",
       "                    character_names (excl. NaN)  n°_missing_characters  \\\n",
       "Wikipedia movie ID                                                       \n",
       "330                                           0                      4   \n",
       "3217                                         14                      0   \n",
       "3333                                          0                     14   \n",
       "3746                                         15                      0   \n",
       "3837                                         16                      4   \n",
       "\n",
       "                    percentage_missing  percentage_available  \n",
       "Wikipedia movie ID                                            \n",
       "330                              100.0                   0.0  \n",
       "3217                               0.0                 100.0  \n",
       "3333                             100.0                   0.0  \n",
       "3746                               0.0                 100.0  \n",
       "3837                              20.0                  80.0  "
      ]
     },
     "execution_count": 145,
     "metadata": {},
     "output_type": "execute_result"
    }
   ],
   "source": [
    "df_character_missing_stats = pd.merge(total_characters_per_movie, char_names_per_movie, on='Wikipedia movie ID')\n",
    "\n",
    "df_character_missing_stats['n°_missing_characters'] = df_character_missing_stats['size'] - df_character_missing_stats['Character name']\n",
    "df_character_missing_stats['percentage_missing'] = round(100 * df_character_missing_stats['n°_missing_characters'] / df_character_missing_stats['size'], 2) # computing percentages of missing character names\n",
    "df_character_missing_stats['percentage_available'] = 100 - df_character_missing_stats['percentage_missing']\n",
    "df_character_missing_stats = df_character_missing_stats.rename(columns={'size': 'total_n°_characters (incl. NaN)'})\n",
    "df_character_missing_stats = df_character_missing_stats.rename(columns={'Character name': 'character_names (excl. NaN)'})\n",
    "df_character_missing_stats.head()"
   ]
  },
  {
   "cell_type": "markdown",
   "metadata": {},
   "source": [
    "In the dataframe above we obtain:\n",
    "- the total amount of characters in a specific movie\n",
    "- the number of character names for a specific movie\n",
    "- the percentage of the character names that are missing per movie\n",
    "- the percentage of the character names that are available per movie"
   ]
  },
  {
   "cell_type": "code",
   "execution_count": 160,
   "metadata": {},
   "outputs": [
    {
     "data": {
      "image/png": "[encoded data removed]",
      "text/plain": [
       "<Figure size 640x480 with 1 Axes>"
      ]
     },
     "metadata": {},
     "output_type": "display_data"
    }
   ],
   "source": [
    "df_character_missing_stats['percentage_available'].hist(bins=10, grid=False)\n",
    "plt.xticks(np.arange(0, 110, step=10))\n",
    "plt.ylabel('N° movies')\n",
    "plt.xlabel('Percentage of available character names in [%]')\n",
    "plt.title('N° movies according to percentage of known character names')\n",
    "plt.show()"
   ]
  },
  {
   "cell_type": "markdown",
   "metadata": {},
   "source": [
    "For example: there are roughly 39 000 movies for which we have less than 10% of the character names."
   ]
  },
  {
   "cell_type": "code",
   "execution_count": 144,
   "metadata": {},
   "outputs": [
    {
     "name": "stdout",
     "output_type": "stream",
     "text": [
      "The total number of movies where we have at least one character name is: 32570\n",
      "The percentage of movies for which we have at least one character name is: 50\n"
     ]
    }
   ],
   "source": [
    "# Let's calculate the percentage of movies for which we have at least 1 character name\n",
    "# Assuming that the character name that would be available is the one of the main character.\n",
    "\n",
    "more_2_char = df_character_missing_stats['character_names (excl. NaN)'][df_character_missing_stats['character_names (excl. NaN)'] >= 1].count()\n",
    "perc_2_char = 100*more_2_char/64329\n",
    "\n",
    "print('The total number of movies where we have at least one character name is: %d' %more_2_char)\n",
    "print('The percentage of movies for which we have at least one character name is: %d' %perc_2_char)"
   ]
  },
  {
   "cell_type": "markdown",
   "metadata": {},
   "source": [
    "After running the plot summaries through the CORE NLP, we will most likely obtain the name of the main character. We have 50% of movies with at least one known character name. Moreover, we assume that this one name would correspond to the main character. This means that we have a substantial amount of movies with character data which we will be able to match with agent and patient verbs as well as attributes to conduct our analysis."
   ]
  },
  {
   "cell_type": "code",
   "execution_count": null,
   "metadata": {},
   "outputs": [],
   "source": []
  }
 ],
 "metadata": {
  "kernelspec": {
   "display_name": "Python 3 (ipykernel)",
   "language": "python",
   "name": "python3"
  },
  "language_info": {
   "codemirror_mode": {
    "name": "ipython",
    "version": 3
   },
   "file_extension": ".py",
   "mimetype": "text/x-python",
   "name": "python",
   "nbconvert_exporter": "python",
   "pygments_lexer": "ipython3",
   "version": "3.9.13"
  },
  "vscode": {
   "interpreter": {
    "hash": "ce99cf25ffd600a1bd039dd0e5fc1f91a501536a7e4709656cdce4bef5f7601c"
   }
  }
 },
 "nbformat": 4,
 "nbformat_minor": 2
}
