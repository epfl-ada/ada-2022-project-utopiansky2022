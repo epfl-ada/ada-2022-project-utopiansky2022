{
 "cells": [
  {
   "cell_type": "markdown",
   "id": "af6fc6b6",
   "metadata": {},
   "source": [
    "# ADA Project : Milestone 2"
   ]
  },
  {
   "cell_type": "markdown",
   "id": "a3cc35f7",
   "metadata": {},
   "source": [
    "## Into the male gaze..."
   ]
  },
  {
   "cell_type": "markdown",
   "id": "af8f11d7",
   "metadata": {},
   "source": [
    "Abstract"
   ]
  },
  {
   "cell_type": "markdown",
   "id": "8eb309dd",
   "metadata": {},
   "source": [
    "First, import the necessary libraries and define our data paths:"
   ]
  },
  {
   "cell_type": "code",
   "execution_count": 1,
   "id": "aaaf5f77",
   "metadata": {},
   "outputs": [],
   "source": [
    "# Utilitaries\n",
    "\n",
    "import pandas as pd\n",
    "import numpy as np\n",
    "\n",
    "#Data visualization\n",
    "import matplotlib.pyplot as plt\n",
    "import seaborn as sns\n",
    "from  matplotlib.colors import LinearSegmentedColormap\n",
    "%matplotlib inline\n",
    "\n",
    "import math\n",
    "import os\n",
    "\n",
    "# External libraries needed for the project:\n",
    "\n",
    "#!pip install stanza\n",
    "#pip install deplacy\n",
    "#pip install empath\n",
    "#pip install thefuzz\n",
    "\n",
    "#Natural language processing libraries:\n",
    "import stanza\n",
    "import deplacy\n",
    "from thefuzz import process\n",
    "from empath import Empath \n",
    "from CoreNLPanalysis import *\n",
    "\n",
    "#PCA:\n",
    "from sklearn.preprocessing import StandardScaler\n",
    "from sklearn.decomposition import PCA\n",
    "\n",
    "#Avoid copy warnings:\n",
    "import warnings\n",
    "lexicon = Empath()\n",
    "\n",
    "os.environ[\"KMP_DUPLICATE_LIB_OK\"]=\"TRUE\""
   ]
  },
  {
   "cell_type": "code",
   "execution_count": 28,
   "id": "ef1dd944",
   "metadata": {},
   "outputs": [],
   "source": [
    "warnings.filterwarnings('ignore')"
   ]
  },
  {
   "cell_type": "markdown",
   "id": "adfbdc5a",
   "metadata": {},
   "source": [
    "# 1. Data importation"
   ]
  },
  {
   "cell_type": "code",
   "execution_count": 2,
   "id": "87dbd2c4",
   "metadata": {},
   "outputs": [],
   "source": [
    "google_colab = False\n",
    "if google_colab:\n",
    "    data_folder = '/content/sample_data/'\n",
    "else:\n",
    "    data_folder = './Data/'"
   ]
  },
  {
   "cell_type": "code",
   "execution_count": 3,
   "id": "4d532bb5",
   "metadata": {},
   "outputs": [],
   "source": [
    "#Loading character metadata:\n",
    "characters = pd.read_csv(data_folder + \"character.metadata.tsv\", sep='\\t', header = None)\n",
    "characters.columns = ('Wikipedia movie ID', 'Freebase movie ID', 'Movie release date',\n",
    "              'Character name', 'Actor date of birth', 'Actor gender',\n",
    "              'Actor height (in meters)', 'Actor ethnicity (Freebase ID)', 'Actor name', \n",
    "              'Actor age at movie release', 'Freebase character/actor map ID', 'Freebase character ID', \n",
    "              'Freebase actor ID')\n",
    "characters['Movie release date'] = pd.to_datetime(characters['Movie release date'], errors = 'coerce').dt.year\n",
    "\n",
    "# change all formats to datetime and keep the year only\n",
    "# Many of the date formats are inconsistent. \n",
    "# Here we convert it all to just year as this is the temporal resolution in which we are interested"
   ]
  },
  {
   "cell_type": "code",
   "execution_count": 4,
   "id": "13f5bd22",
   "metadata": {},
   "outputs": [],
   "source": [
    "#Loading movie metadata:\n",
    "movies = pd.read_csv(data_folder + \"movie.metadata.tsv\", sep='\\t', header = None)\n",
    "movies.columns = ('Wikipedia movie ID' , 'Freebase movie ID' , 'Movie name' , \n",
    "                'Movie release date' , 'Movie box office revenue' , \n",
    "                'Movie runtime' , 'Movie languages' , 'Movie countries' , 'Movie genres')\n",
    "\n",
    "movies['Movie release date'] = pd.to_datetime(movies['Movie release date'], errors = 'coerce').dt.year"
   ]
  },
  {
   "cell_type": "code",
   "execution_count": 5,
   "id": "edd18926",
   "metadata": {},
   "outputs": [
    {
     "name": "stdout",
     "output_type": "stream",
     "text": [
      "There are 42302 plot summaries\n"
     ]
    }
   ],
   "source": [
    "# Loading plot summaries:\n",
    "df_plot_summaries = pd.read_csv(data_folder + 'plot_summaries.txt', sep='\\t')\n",
    "df_plot_summaries.columns = ['Wikipedia movie ID', 'Plot Summary']\n",
    "print(\"There are\", len(df_plot_summaries), \"plot summaries\")"
   ]
  },
  {
   "cell_type": "markdown",
   "id": "0c4c06c5",
   "metadata": {},
   "source": [
    "# 2. Preliminary Analysis"
   ]
  },
  {
   "cell_type": "markdown",
   "id": "88e2f411",
   "metadata": {},
   "source": [
    "#### Characters Preliminary"
   ]
  },
  {
   "cell_type": "code",
   "execution_count": 6,
   "id": "d9088b96",
   "metadata": {},
   "outputs": [
    {
     "data": {
      "text/html": [
       "<div>\n",
       "<style scoped>\n",
       "    .dataframe tbody tr th:only-of-type {\n",
       "        vertical-align: middle;\n",
       "    }\n",
       "\n",
       "    .dataframe tbody tr th {\n",
       "        vertical-align: top;\n",
       "    }\n",
       "\n",
       "    .dataframe thead th {\n",
       "        text-align: right;\n",
       "    }\n",
       "</style>\n",
       "<table border=\"1\" class=\"dataframe\">\n",
       "  <thead>\n",
       "    <tr style=\"text-align: right;\">\n",
       "      <th></th>\n",
       "      <th>Wikipedia movie ID</th>\n",
       "      <th>Freebase movie ID</th>\n",
       "      <th>Movie name</th>\n",
       "      <th>Movie release date</th>\n",
       "      <th>Movie box office revenue</th>\n",
       "      <th>Movie runtime</th>\n",
       "      <th>Movie languages</th>\n",
       "      <th>Movie countries</th>\n",
       "      <th>Movie genres</th>\n",
       "    </tr>\n",
       "  </thead>\n",
       "  <tbody>\n",
       "    <tr>\n",
       "      <th>76557</th>\n",
       "      <td>33910742</td>\n",
       "      <td>/m/0hn9fhm</td>\n",
       "      <td>The Builder</td>\n",
       "      <td>NaN</td>\n",
       "      <td>NaN</td>\n",
       "      <td>NaN</td>\n",
       "      <td>{}</td>\n",
       "      <td>{}</td>\n",
       "      <td>{\"/m/07s9rl0\": \"Drama\"}</td>\n",
       "    </tr>\n",
       "    <tr>\n",
       "      <th>62075</th>\n",
       "      <td>35996674</td>\n",
       "      <td>/m/0hhgh69</td>\n",
       "      <td>Epic</td>\n",
       "      <td>2013.0</td>\n",
       "      <td>NaN</td>\n",
       "      <td>NaN</td>\n",
       "      <td>{\"/m/02h40lc\": \"English Language\"}</td>\n",
       "      <td>{\"/m/09c7w0\": \"United States of America\"}</td>\n",
       "      <td>{\"/m/0hqxf\": \"Family Film\", \"/m/01hmnh\": \"Fant...</td>\n",
       "    </tr>\n",
       "    <tr>\n",
       "      <th>14696</th>\n",
       "      <td>31916334</td>\n",
       "      <td>/m/0c0l41c</td>\n",
       "      <td>To Have &amp; to Hold</td>\n",
       "      <td>1996.0</td>\n",
       "      <td>NaN</td>\n",
       "      <td>99.0</td>\n",
       "      <td>{\"/m/02h40lc\": \"English Language\"}</td>\n",
       "      <td>{\"/m/0chghy\": \"Australia\"}</td>\n",
       "      <td>{\"/m/01jfsb\": \"Thriller\", \"/m/02n4kr\": \"Mystery\"}</td>\n",
       "    </tr>\n",
       "  </tbody>\n",
       "</table>\n",
       "</div>"
      ],
      "text/plain": [
       "       Wikipedia movie ID Freebase movie ID         Movie name  \\\n",
       "76557            33910742        /m/0hn9fhm        The Builder   \n",
       "62075            35996674        /m/0hhgh69               Epic   \n",
       "14696            31916334        /m/0c0l41c  To Have & to Hold   \n",
       "\n",
       "       Movie release date  Movie box office revenue  Movie runtime  \\\n",
       "76557                 NaN                       NaN            NaN   \n",
       "62075              2013.0                       NaN            NaN   \n",
       "14696              1996.0                       NaN           99.0   \n",
       "\n",
       "                          Movie languages  \\\n",
       "76557                                  {}   \n",
       "62075  {\"/m/02h40lc\": \"English Language\"}   \n",
       "14696  {\"/m/02h40lc\": \"English Language\"}   \n",
       "\n",
       "                                 Movie countries  \\\n",
       "76557                                         {}   \n",
       "62075  {\"/m/09c7w0\": \"United States of America\"}   \n",
       "14696                 {\"/m/0chghy\": \"Australia\"}   \n",
       "\n",
       "                                            Movie genres  \n",
       "76557                            {\"/m/07s9rl0\": \"Drama\"}  \n",
       "62075  {\"/m/0hqxf\": \"Family Film\", \"/m/01hmnh\": \"Fant...  \n",
       "14696  {\"/m/01jfsb\": \"Thriller\", \"/m/02n4kr\": \"Mystery\"}  "
      ]
     },
     "execution_count": 6,
     "metadata": {},
     "output_type": "execute_result"
    }
   ],
   "source": [
    "movies.sample(3)"
   ]
  },
  {
   "cell_type": "code",
   "execution_count": 7,
   "id": "9108d159",
   "metadata": {},
   "outputs": [
    {
     "name": "stdout",
     "output_type": "stream",
     "text": [
      "There are 81741 entries in the movies dataset\n"
     ]
    }
   ],
   "source": [
    "print('There are {} entries in the movies dataset'.format(len(movies)))"
   ]
  },
  {
   "cell_type": "code",
   "execution_count": 8,
   "id": "524dfdf7",
   "metadata": {},
   "outputs": [
    {
     "name": "stdout",
     "output_type": "stream",
     "text": [
      "100.0 % of movies have an associated Wikipedia movie ID\n",
      "100.0 % of movies have an associated Freebase movie ID\n",
      "100.0 % of movies have an associated Movie name\n",
      "91.56 % of movies have an associated Movie release date\n",
      "10.28 % of movies have an associated Movie box office revenue\n",
      "74.98 % of movies have an associated Movie runtime\n",
      "100.0 % of movies have an associated Movie languages\n",
      "100.0 % of movies have an associated Movie countries\n",
      "100.0 % of movies have an associated Movie genres\n"
     ]
    }
   ],
   "source": [
    "for name, values in movies.items():\n",
    "    print ('{:.4} % of movies have an associated {}'.format(100 * len(values.loc[values.notnull()])/len(values), name))"
   ]
  },
  {
   "cell_type": "markdown",
   "id": "a94ef66a",
   "metadata": {},
   "source": [
    "**Note :** Any analysis based on the movie revenue (as a measure of success) will need extra information, as probably basing the study only in 10% of the data is not enough.\n",
    "\n"
   ]
  },
  {
   "cell_type": "code",
   "execution_count": 9,
   "id": "1b3991c4",
   "metadata": {},
   "outputs": [
    {
     "data": {
      "image/png": "[encoded data removed]",
      "text/plain": [
       "<Figure size 640x480 with 1 Axes>"
      ]
     },
     "metadata": {},
     "output_type": "display_data"
    }
   ],
   "source": [
    "fig, ax = plt.subplots()\n",
    "ax = movies['Movie release date'].hist(bins = range(1880,2030,10), grid = True, xlabelsize = 8 ,xrot = 45)\n",
    "plt.xlabel('Year of Release')\n",
    "plt.ylabel('Number of movies')\n",
    "plt.title('Movies released over the Decades');"
   ]
  },
  {
   "cell_type": "markdown",
   "id": "7546e7f7",
   "metadata": {},
   "source": [
    "**Note:** On 16 December 2014, Google announced that it would shut down Freebase over the succeeding six months and help with the move of the data from Freebase to Wikidata. Data collection does not go through the entire 2010's decade"
   ]
  },
  {
   "cell_type": "code",
   "execution_count": 10,
   "id": "00a91cee",
   "metadata": {},
   "outputs": [
    {
     "name": "stdout",
     "output_type": "stream",
     "text": [
      "The dataset is comprised of movies with known releases between 1888 and 2016 \n"
     ]
    }
   ],
   "source": [
    "print('The dataset is comprised of movies with known releases between {0:n} and {1:n} '.format(movies['Movie release date'].min(), \n",
    "                                                                                               movies['Movie release date'].max()))"
   ]
  },
  {
   "cell_type": "code",
   "execution_count": 11,
   "id": "4746df96",
   "metadata": {},
   "outputs": [],
   "source": [
    "rmovies = movies[movies['Movie box office revenue'].notnull()]"
   ]
  },
  {
   "cell_type": "code",
   "execution_count": 12,
   "id": "6baa3deb",
   "metadata": {},
   "outputs": [
    {
     "data": {
      "image/png": "[encoded data removed]",
      "text/plain": [
       "<Figure size 640x480 with 1 Axes>"
      ]
     },
     "metadata": {},
     "output_type": "display_data"
    }
   ],
   "source": [
    "r_by_year = rmovies.groupby(\"Movie release date\")['Movie box office revenue'].agg(['mean','size']).reset_index()\n",
    "r_by_year.plot(kind = 'scatter', x = 'Movie release date', y = 'mean',s = 'size')\n",
    "plt.title('Mean Revenue by Year')\n",
    "plt.ylabel('Mean Revenue')\n",
    "plt.xlabel('Year of Release');"
   ]
  },
  {
   "cell_type": "markdown",
   "id": "c97f3e57",
   "metadata": {},
   "source": [
    "From the above plot we see that the mean revenues increase over time. It would be interesting to normalize this by inflation or perhaps some share of GDP. We also see that there is much more data present in the later years (dot size scaled by amount of revenues averaged to form datapoint. 1897 - 1 movie revenue, 2008 - 367 movie revenues)"
   ]
  },
  {
   "cell_type": "code",
   "execution_count": 13,
   "id": "ed97f555",
   "metadata": {},
   "outputs": [],
   "source": [
    "def correct_countries(x):\n",
    "    if len(x)>2:\n",
    "        x= x.split(':')[1][0:-1]\n",
    "        res = x.split('\"')[1]\n",
    "    else:\n",
    "        res = 'NA' \n",
    "    return res\n",
    "\n",
    "movies[\"Movie countries corrected\"]= movies[\"Movie countries\"].apply(lambda x: correct_countries(x))"
   ]
  },
  {
   "cell_type": "code",
   "execution_count": 18,
   "id": "20108ef8",
   "metadata": {},
   "outputs": [
    {
     "data": {
      "text/html": [
       "<div>\n",
       "<style scoped>\n",
       "    .dataframe tbody tr th:only-of-type {\n",
       "        vertical-align: middle;\n",
       "    }\n",
       "\n",
       "    .dataframe tbody tr th {\n",
       "        vertical-align: top;\n",
       "    }\n",
       "\n",
       "    .dataframe thead th {\n",
       "        text-align: right;\n",
       "    }\n",
       "</style>\n",
       "<table border=\"1\" class=\"dataframe\">\n",
       "  <thead>\n",
       "    <tr style=\"text-align: right;\">\n",
       "      <th></th>\n",
       "      <th>Movie release date</th>\n",
       "      <th>Movie countries corrected</th>\n",
       "      <th>Count</th>\n",
       "    </tr>\n",
       "  </thead>\n",
       "  <tbody>\n",
       "    <tr>\n",
       "      <th>0</th>\n",
       "      <td>1888.0</td>\n",
       "      <td>United Kingdom</td>\n",
       "      <td>1</td>\n",
       "    </tr>\n",
       "    <tr>\n",
       "      <th>1</th>\n",
       "      <td>1889.0</td>\n",
       "      <td>United Kingdom</td>\n",
       "      <td>1</td>\n",
       "    </tr>\n",
       "    <tr>\n",
       "      <th>2</th>\n",
       "      <td>1890.0</td>\n",
       "      <td>United Kingdom</td>\n",
       "      <td>1</td>\n",
       "    </tr>\n",
       "    <tr>\n",
       "      <th>3</th>\n",
       "      <td>1890.0</td>\n",
       "      <td>United States of America</td>\n",
       "      <td>1</td>\n",
       "    </tr>\n",
       "    <tr>\n",
       "      <th>4</th>\n",
       "      <td>1891.0</td>\n",
       "      <td>NA</td>\n",
       "      <td>2</td>\n",
       "    </tr>\n",
       "    <tr>\n",
       "      <th>...</th>\n",
       "      <td>...</td>\n",
       "      <td>...</td>\n",
       "      <td>...</td>\n",
       "    </tr>\n",
       "    <tr>\n",
       "      <th>4109</th>\n",
       "      <td>2014.0</td>\n",
       "      <td>United States of America</td>\n",
       "      <td>4</td>\n",
       "    </tr>\n",
       "    <tr>\n",
       "      <th>4110</th>\n",
       "      <td>2015.0</td>\n",
       "      <td>NA</td>\n",
       "      <td>2</td>\n",
       "    </tr>\n",
       "    <tr>\n",
       "      <th>4111</th>\n",
       "      <td>2015.0</td>\n",
       "      <td>United States of America</td>\n",
       "      <td>2</td>\n",
       "    </tr>\n",
       "    <tr>\n",
       "      <th>4112</th>\n",
       "      <td>2016.0</td>\n",
       "      <td>NA</td>\n",
       "      <td>1</td>\n",
       "    </tr>\n",
       "    <tr>\n",
       "      <th>4113</th>\n",
       "      <td>2016.0</td>\n",
       "      <td>United States of America</td>\n",
       "      <td>2</td>\n",
       "    </tr>\n",
       "  </tbody>\n",
       "</table>\n",
       "<p>4114 rows × 3 columns</p>\n",
       "</div>"
      ],
      "text/plain": [
       "      Movie release date Movie countries corrected  Count\n",
       "0                 1888.0            United Kingdom      1\n",
       "1                 1889.0            United Kingdom      1\n",
       "2                 1890.0            United Kingdom      1\n",
       "3                 1890.0  United States of America      1\n",
       "4                 1891.0                        NA      2\n",
       "...                  ...                       ...    ...\n",
       "4109              2014.0  United States of America      4\n",
       "4110              2015.0                        NA      2\n",
       "4111              2015.0  United States of America      2\n",
       "4112              2016.0                        NA      1\n",
       "4113              2016.0  United States of America      2\n",
       "\n",
       "[4114 rows x 3 columns]"
      ]
     },
     "execution_count": 18,
     "metadata": {},
     "output_type": "execute_result"
    }
   ],
   "source": [
    "c_movies_filt = pd.DataFrame(movies.groupby([\"Movie release date\",\"Movie countries corrected\"]).size()).reset_index()\n",
    "c_movies_filt = c_movies_filt.set_axis([\"Movie release date\", \"Movie countries corrected\", 'Count'], axis='columns')\n",
    "c_movies_filt"
   ]
  },
  {
   "cell_type": "code",
   "execution_count": 19,
   "id": "bba95e93",
   "metadata": {},
   "outputs": [
    {
     "data": {
      "text/html": [
       "<div>\n",
       "<style scoped>\n",
       "    .dataframe tbody tr th:only-of-type {\n",
       "        vertical-align: middle;\n",
       "    }\n",
       "\n",
       "    .dataframe tbody tr th {\n",
       "        vertical-align: top;\n",
       "    }\n",
       "\n",
       "    .dataframe thead th {\n",
       "        text-align: right;\n",
       "    }\n",
       "</style>\n",
       "<table border=\"1\" class=\"dataframe\">\n",
       "  <thead>\n",
       "    <tr style=\"text-align: right;\">\n",
       "      <th></th>\n",
       "      <th>Country</th>\n",
       "      <th>Number of movies</th>\n",
       "    </tr>\n",
       "  </thead>\n",
       "  <tbody>\n",
       "    <tr>\n",
       "      <th>124</th>\n",
       "      <td>United States of America</td>\n",
       "      <td>34118</td>\n",
       "    </tr>\n",
       "    <tr>\n",
       "      <th>51</th>\n",
       "      <td>India</td>\n",
       "      <td>8294</td>\n",
       "    </tr>\n",
       "    <tr>\n",
       "      <th>123</th>\n",
       "      <td>United Kingdom</td>\n",
       "      <td>5477</td>\n",
       "    </tr>\n",
       "    <tr>\n",
       "      <th>40</th>\n",
       "      <td>France</td>\n",
       "      <td>3996</td>\n",
       "    </tr>\n",
       "    <tr>\n",
       "      <th>60</th>\n",
       "      <td>Japan</td>\n",
       "      <td>2321</td>\n",
       "    </tr>\n",
       "    <tr>\n",
       "      <th>58</th>\n",
       "      <td>Italy</td>\n",
       "      <td>1925</td>\n",
       "    </tr>\n",
       "    <tr>\n",
       "      <th>21</th>\n",
       "      <td>Canada</td>\n",
       "      <td>1471</td>\n",
       "    </tr>\n",
       "    <tr>\n",
       "      <th>3</th>\n",
       "      <td>Argentina</td>\n",
       "      <td>1291</td>\n",
       "    </tr>\n",
       "    <tr>\n",
       "      <th>48</th>\n",
       "      <td>Hong Kong</td>\n",
       "      <td>1120</td>\n",
       "    </tr>\n",
       "    <tr>\n",
       "      <th>5</th>\n",
       "      <td>Australia</td>\n",
       "      <td>874</td>\n",
       "    </tr>\n",
       "  </tbody>\n",
       "</table>\n",
       "</div>"
      ],
      "text/plain": [
       "                      Country  Number of movies\n",
       "124  United States of America             34118\n",
       "51                      India              8294\n",
       "123            United Kingdom              5477\n",
       "40                     France              3996\n",
       "60                      Japan              2321\n",
       "58                      Italy              1925\n",
       "21                     Canada              1471\n",
       "3                   Argentina              1291\n",
       "48                  Hong Kong              1120\n",
       "5                   Australia               874"
      ]
     },
     "execution_count": 19,
     "metadata": {},
     "output_type": "execute_result"
    }
   ],
   "source": [
    "most_common_count = movies.groupby([\"Movie countries corrected\"]).size().reset_index()\n",
    "most_common_count = most_common_count.set_axis([\"Country\", \"Number of movies\"], axis='columns')\n",
    "most_common_count.drop(most_common_count[most_common_count['Country'] == 'NA'].index, inplace = True)\n",
    "most_common_count = most_common_count.sort_values(\"Number of movies\", ascending=False)[0:10]\n",
    "most_common_count"
   ]
  },
  {
   "cell_type": "code",
   "execution_count": 20,
   "id": "410f70bf",
   "metadata": {},
   "outputs": [],
   "source": [
    "top10_country_data = c_movies_filt[c_movies_filt['Movie countries corrected'].isin(most_common_count['Country'])]"
   ]
  },
  {
   "cell_type": "code",
   "execution_count": 21,
   "id": "1685e223",
   "metadata": {},
   "outputs": [
    {
     "data": {
      "image/png": "[encoded data removed]",
      "text/plain": [
       "<Figure size 640x480 with 1 Axes>"
      ]
     },
     "metadata": {},
     "output_type": "display_data"
    }
   ],
   "source": [
    "sns.lineplot(x='Movie release date', y='Count',data = top10_country_data, hue = 'Movie countries corrected', legend=True)\n",
    "plt.xlabel(\"Year\")\n",
    "plt.ylabel(\"Numer of times country released movie\")\n",
    "plt.title(\"Release frequency by country over time\")\n",
    "plt.ylim([0,top10_country_data['Count'].max()+50])\n",
    "plt.xlim([top10_country_data['Movie release date'].min(), top10_country_data['Movie release date'].max()]);\n",
    "#plt.yscale('log')"
   ]
  },
  {
   "cell_type": "markdown",
   "id": "bbf9c407",
   "metadata": {},
   "source": [
    "#### Characters Preliminary"
   ]
  },
  {
   "cell_type": "code",
   "execution_count": 22,
   "id": "6aaf3720",
   "metadata": {
    "scrolled": true
   },
   "outputs": [
    {
     "data": {
      "text/html": [
       "<div>\n",
       "<style scoped>\n",
       "    .dataframe tbody tr th:only-of-type {\n",
       "        vertical-align: middle;\n",
       "    }\n",
       "\n",
       "    .dataframe tbody tr th {\n",
       "        vertical-align: top;\n",
       "    }\n",
       "\n",
       "    .dataframe thead th {\n",
       "        text-align: right;\n",
       "    }\n",
       "</style>\n",
       "<table border=\"1\" class=\"dataframe\">\n",
       "  <thead>\n",
       "    <tr style=\"text-align: right;\">\n",
       "      <th></th>\n",
       "      <th>Wikipedia movie ID</th>\n",
       "      <th>Freebase movie ID</th>\n",
       "      <th>Movie release date</th>\n",
       "      <th>Character name</th>\n",
       "      <th>Actor date of birth</th>\n",
       "      <th>Actor gender</th>\n",
       "      <th>Actor height (in meters)</th>\n",
       "      <th>Actor ethnicity (Freebase ID)</th>\n",
       "      <th>Actor name</th>\n",
       "      <th>Actor age at movie release</th>\n",
       "      <th>Freebase character/actor map ID</th>\n",
       "      <th>Freebase character ID</th>\n",
       "      <th>Freebase actor ID</th>\n",
       "    </tr>\n",
       "  </thead>\n",
       "  <tbody>\n",
       "    <tr>\n",
       "      <th>58834</th>\n",
       "      <td>24301781</td>\n",
       "      <td>/m/07scj0r</td>\n",
       "      <td>1964.0</td>\n",
       "      <td>NaN</td>\n",
       "      <td>1935-01-09</td>\n",
       "      <td>M</td>\n",
       "      <td>NaN</td>\n",
       "      <td>NaN</td>\n",
       "      <td>Bob Denver</td>\n",
       "      <td>NaN</td>\n",
       "      <td>/m/07ssxhy</td>\n",
       "      <td>NaN</td>\n",
       "      <td>/m/018hgr</td>\n",
       "    </tr>\n",
       "    <tr>\n",
       "      <th>318594</th>\n",
       "      <td>3578467</td>\n",
       "      <td>/m/09mrk_</td>\n",
       "      <td>1977.0</td>\n",
       "      <td>NaN</td>\n",
       "      <td>1933-11-09</td>\n",
       "      <td>M</td>\n",
       "      <td>NaN</td>\n",
       "      <td>NaN</td>\n",
       "      <td>Robert Gillespie</td>\n",
       "      <td>43.0</td>\n",
       "      <td>/m/0k1n79</td>\n",
       "      <td>NaN</td>\n",
       "      <td>/m/0ck208</td>\n",
       "    </tr>\n",
       "    <tr>\n",
       "      <th>257826</th>\n",
       "      <td>14781533</td>\n",
       "      <td>/m/04gh3n0</td>\n",
       "      <td>2008.0</td>\n",
       "      <td>NaN</td>\n",
       "      <td>1955-01-18</td>\n",
       "      <td>M</td>\n",
       "      <td>1.85</td>\n",
       "      <td>/m/09vc4s</td>\n",
       "      <td>Kevin Costner</td>\n",
       "      <td>53.0</td>\n",
       "      <td>/m/0gxk9y4</td>\n",
       "      <td>NaN</td>\n",
       "      <td>/m/0127m7</td>\n",
       "    </tr>\n",
       "  </tbody>\n",
       "</table>\n",
       "</div>"
      ],
      "text/plain": [
       "        Wikipedia movie ID Freebase movie ID  Movie release date  \\\n",
       "58834             24301781        /m/07scj0r              1964.0   \n",
       "318594             3578467         /m/09mrk_              1977.0   \n",
       "257826            14781533        /m/04gh3n0              2008.0   \n",
       "\n",
       "       Character name Actor date of birth Actor gender  \\\n",
       "58834             NaN          1935-01-09            M   \n",
       "318594            NaN          1933-11-09            M   \n",
       "257826            NaN          1955-01-18            M   \n",
       "\n",
       "        Actor height (in meters) Actor ethnicity (Freebase ID)  \\\n",
       "58834                        NaN                           NaN   \n",
       "318594                       NaN                           NaN   \n",
       "257826                      1.85                     /m/09vc4s   \n",
       "\n",
       "              Actor name  Actor age at movie release  \\\n",
       "58834         Bob Denver                         NaN   \n",
       "318594  Robert Gillespie                        43.0   \n",
       "257826     Kevin Costner                        53.0   \n",
       "\n",
       "       Freebase character/actor map ID Freebase character ID Freebase actor ID  \n",
       "58834                       /m/07ssxhy                   NaN         /m/018hgr  \n",
       "318594                       /m/0k1n79                   NaN         /m/0ck208  \n",
       "257826                      /m/0gxk9y4                   NaN         /m/0127m7  "
      ]
     },
     "execution_count": 22,
     "metadata": {},
     "output_type": "execute_result"
    }
   ],
   "source": [
    "characters.sample(3)"
   ]
  },
  {
   "cell_type": "code",
   "execution_count": 23,
   "id": "e028362c",
   "metadata": {},
   "outputs": [
    {
     "name": "stdout",
     "output_type": "stream",
     "text": [
      "There are 450669 entries in the characters dataset\n"
     ]
    }
   ],
   "source": [
    "print('There are {} entries in the characters dataset'.format(len(characters)))"
   ]
  },
  {
   "cell_type": "code",
   "execution_count": 24,
   "id": "6fd81472",
   "metadata": {},
   "outputs": [
    {
     "name": "stdout",
     "output_type": "stream",
     "text": [
      "100.0 % of characters have an associated Wikipedia movie ID\n",
      "100.0 % of characters have an associated Freebase movie ID\n",
      "97.78 % of characters have an associated Movie release date\n",
      "42.78 % of characters have an associated Character name\n",
      "76.45 % of characters have an associated Actor date of birth\n",
      "89.88 % of characters have an associated Actor gender\n",
      "34.35 % of characters have an associated Actor height (in meters)\n",
      "23.53 % of characters have an associated Actor ethnicity (Freebase ID)\n",
      "99.73 % of characters have an associated Actor name\n",
      "64.92 % of characters have an associated Actor age at movie release\n",
      "100.0 % of characters have an associated Freebase character/actor map ID\n",
      "42.78 % of characters have an associated Freebase character ID\n",
      "99.82 % of characters have an associated Freebase actor ID\n"
     ]
    }
   ],
   "source": [
    "for name, values in characters.items():\n",
    "    print ('{:.4} % of characters have an associated {}'.format(100 * len(values.loc[values.notnull()])/len(values), name))"
   ]
  },
  {
   "cell_type": "code",
   "execution_count": 25,
   "id": "ab7464fb",
   "metadata": {},
   "outputs": [],
   "source": [
    "#we see lots of NA ages at release... lets drop those\n",
    "char_filt_age = characters[characters['Actor age at movie release'].notnull()]"
   ]
  },
  {
   "cell_type": "code",
   "execution_count": 26,
   "id": "ba208c3f",
   "metadata": {},
   "outputs": [
    {
     "data": {
      "text/html": [
       "<div>\n",
       "<style scoped>\n",
       "    .dataframe tbody tr th:only-of-type {\n",
       "        vertical-align: middle;\n",
       "    }\n",
       "\n",
       "    .dataframe tbody tr th {\n",
       "        vertical-align: top;\n",
       "    }\n",
       "\n",
       "    .dataframe thead th {\n",
       "        text-align: right;\n",
       "    }\n",
       "</style>\n",
       "<table border=\"1\" class=\"dataframe\">\n",
       "  <thead>\n",
       "    <tr style=\"text-align: right;\">\n",
       "      <th></th>\n",
       "      <th>Wikipedia movie ID</th>\n",
       "      <th>Freebase movie ID</th>\n",
       "      <th>Movie release date</th>\n",
       "      <th>Character name</th>\n",
       "      <th>Actor date of birth</th>\n",
       "      <th>Actor gender</th>\n",
       "      <th>Actor height (in meters)</th>\n",
       "      <th>Actor ethnicity (Freebase ID)</th>\n",
       "      <th>Actor name</th>\n",
       "      <th>Actor age at movie release</th>\n",
       "      <th>Freebase character/actor map ID</th>\n",
       "      <th>Freebase character ID</th>\n",
       "      <th>Freebase actor ID</th>\n",
       "    </tr>\n",
       "  </thead>\n",
       "  <tbody>\n",
       "    <tr>\n",
       "      <th>767</th>\n",
       "      <td>15007384</td>\n",
       "      <td>/m/03h4h5p</td>\n",
       "      <td>1934.0</td>\n",
       "      <td>NaN</td>\n",
       "      <td>1963-11-07</td>\n",
       "      <td>NaN</td>\n",
       "      <td>NaN</td>\n",
       "      <td>NaN</td>\n",
       "      <td>Franck Dubosc</td>\n",
       "      <td>-29.0</td>\n",
       "      <td>/m/0bwb9k3</td>\n",
       "      <td>NaN</td>\n",
       "      <td>/m/01wlly9</td>\n",
       "    </tr>\n",
       "    <tr>\n",
       "      <th>2286</th>\n",
       "      <td>2553539</td>\n",
       "      <td>/m/07mlsy</td>\n",
       "      <td>1918.0</td>\n",
       "      <td>NaN</td>\n",
       "      <td>1931-03-25</td>\n",
       "      <td>M</td>\n",
       "      <td>NaN</td>\n",
       "      <td>NaN</td>\n",
       "      <td>Tom Wilson</td>\n",
       "      <td>-12.0</td>\n",
       "      <td>/m/0jsqm1</td>\n",
       "      <td>NaN</td>\n",
       "      <td>/m/0382zh</td>\n",
       "    </tr>\n",
       "    <tr>\n",
       "      <th>3892</th>\n",
       "      <td>5917218</td>\n",
       "      <td>/m/0fdf3y</td>\n",
       "      <td>1965.0</td>\n",
       "      <td>NaN</td>\n",
       "      <td>1983-03-03</td>\n",
       "      <td>F</td>\n",
       "      <td>1.75</td>\n",
       "      <td>NaN</td>\n",
       "      <td>Kim Smith</td>\n",
       "      <td>-18.0</td>\n",
       "      <td>/m/04mb5kf</td>\n",
       "      <td>NaN</td>\n",
       "      <td>/m/03pjkv</td>\n",
       "    </tr>\n",
       "    <tr>\n",
       "      <th>6666</th>\n",
       "      <td>73930</td>\n",
       "      <td>/m/0jsjm</td>\n",
       "      <td>1924.0</td>\n",
       "      <td>Robert</td>\n",
       "      <td>1972-11-07</td>\n",
       "      <td>M</td>\n",
       "      <td>1.80</td>\n",
       "      <td>NaN</td>\n",
       "      <td>Jason London</td>\n",
       "      <td>-48.0</td>\n",
       "      <td>/m/01xrptw</td>\n",
       "      <td>/m/02nwfsk</td>\n",
       "      <td>/m/04kdmg</td>\n",
       "    </tr>\n",
       "    <tr>\n",
       "      <th>7188</th>\n",
       "      <td>21242801</td>\n",
       "      <td>/m/05bzjwj</td>\n",
       "      <td>1955.0</td>\n",
       "      <td>NaN</td>\n",
       "      <td>1973-08-01</td>\n",
       "      <td>M</td>\n",
       "      <td>1.79</td>\n",
       "      <td>/m/03ttfc</td>\n",
       "      <td>Eduardo Noriega</td>\n",
       "      <td>-17.0</td>\n",
       "      <td>/m/0cg2f0f</td>\n",
       "      <td>NaN</td>\n",
       "      <td>/m/0bkkw0</td>\n",
       "    </tr>\n",
       "    <tr>\n",
       "      <th>...</th>\n",
       "      <td>...</td>\n",
       "      <td>...</td>\n",
       "      <td>...</td>\n",
       "      <td>...</td>\n",
       "      <td>...</td>\n",
       "      <td>...</td>\n",
       "      <td>...</td>\n",
       "      <td>...</td>\n",
       "      <td>...</td>\n",
       "      <td>...</td>\n",
       "      <td>...</td>\n",
       "      <td>...</td>\n",
       "      <td>...</td>\n",
       "    </tr>\n",
       "    <tr>\n",
       "      <th>446570</th>\n",
       "      <td>3642891</td>\n",
       "      <td>/m/09rsyj</td>\n",
       "      <td>1999.0</td>\n",
       "      <td>Tess</td>\n",
       "      <td>2936-12-24</td>\n",
       "      <td>F</td>\n",
       "      <td>NaN</td>\n",
       "      <td>NaN</td>\n",
       "      <td>J.J. McColl</td>\n",
       "      <td>-937.0</td>\n",
       "      <td>/m/0l2rdfz</td>\n",
       "      <td>/m/0l2rdg1</td>\n",
       "      <td>/m/0l2rdg8</td>\n",
       "    </tr>\n",
       "    <tr>\n",
       "      <th>446581</th>\n",
       "      <td>25868401</td>\n",
       "      <td>/m/09v6ykm</td>\n",
       "      <td>1955.0</td>\n",
       "      <td>NaN</td>\n",
       "      <td>1967-05-31</td>\n",
       "      <td>F</td>\n",
       "      <td>1.67</td>\n",
       "      <td>/m/03ts0c</td>\n",
       "      <td>Sandrine Bonnaire</td>\n",
       "      <td>-12.0</td>\n",
       "      <td>/m/04j05tr</td>\n",
       "      <td>NaN</td>\n",
       "      <td>/m/07wn_5</td>\n",
       "    </tr>\n",
       "    <tr>\n",
       "      <th>446583</th>\n",
       "      <td>8595532</td>\n",
       "      <td>/m/02799cv</td>\n",
       "      <td>1944.0</td>\n",
       "      <td>NaN</td>\n",
       "      <td>1947-05-28</td>\n",
       "      <td>M</td>\n",
       "      <td>NaN</td>\n",
       "      <td>NaN</td>\n",
       "      <td>Kevin O'Shea</td>\n",
       "      <td>-3.0</td>\n",
       "      <td>/m/02vcqnq</td>\n",
       "      <td>NaN</td>\n",
       "      <td>/m/02q384f</td>\n",
       "    </tr>\n",
       "    <tr>\n",
       "      <th>446816</th>\n",
       "      <td>1276915</td>\n",
       "      <td>/m/04pg6m</td>\n",
       "      <td>1941.0</td>\n",
       "      <td>NaN</td>\n",
       "      <td>1957-04-19</td>\n",
       "      <td>M</td>\n",
       "      <td>NaN</td>\n",
       "      <td>NaN</td>\n",
       "      <td>Tony Martin</td>\n",
       "      <td>-15.0</td>\n",
       "      <td>/m/0cg164j</td>\n",
       "      <td>NaN</td>\n",
       "      <td>/m/07q_fg</td>\n",
       "    </tr>\n",
       "    <tr>\n",
       "      <th>447210</th>\n",
       "      <td>23382222</td>\n",
       "      <td>/m/06w1hlj</td>\n",
       "      <td>1932.0</td>\n",
       "      <td>NaN</td>\n",
       "      <td>1942-02-08</td>\n",
       "      <td>M</td>\n",
       "      <td>NaN</td>\n",
       "      <td>/m/041rx</td>\n",
       "      <td>Robert Klein</td>\n",
       "      <td>-9.0</td>\n",
       "      <td>/m/0cg08dz</td>\n",
       "      <td>NaN</td>\n",
       "      <td>/m/02pb53</td>\n",
       "    </tr>\n",
       "  </tbody>\n",
       "</table>\n",
       "<p>381 rows × 13 columns</p>\n",
       "</div>"
      ],
      "text/plain": [
       "        Wikipedia movie ID Freebase movie ID  Movie release date  \\\n",
       "767               15007384        /m/03h4h5p              1934.0   \n",
       "2286               2553539         /m/07mlsy              1918.0   \n",
       "3892               5917218         /m/0fdf3y              1965.0   \n",
       "6666                 73930          /m/0jsjm              1924.0   \n",
       "7188              21242801        /m/05bzjwj              1955.0   \n",
       "...                    ...               ...                 ...   \n",
       "446570             3642891         /m/09rsyj              1999.0   \n",
       "446581            25868401        /m/09v6ykm              1955.0   \n",
       "446583             8595532        /m/02799cv              1944.0   \n",
       "446816             1276915         /m/04pg6m              1941.0   \n",
       "447210            23382222        /m/06w1hlj              1932.0   \n",
       "\n",
       "       Character name Actor date of birth Actor gender  \\\n",
       "767               NaN          1963-11-07          NaN   \n",
       "2286              NaN          1931-03-25            M   \n",
       "3892              NaN          1983-03-03            F   \n",
       "6666           Robert          1972-11-07            M   \n",
       "7188              NaN          1973-08-01            M   \n",
       "...               ...                 ...          ...   \n",
       "446570           Tess          2936-12-24            F   \n",
       "446581            NaN          1967-05-31            F   \n",
       "446583            NaN          1947-05-28            M   \n",
       "446816            NaN          1957-04-19            M   \n",
       "447210            NaN          1942-02-08            M   \n",
       "\n",
       "        Actor height (in meters) Actor ethnicity (Freebase ID)  \\\n",
       "767                          NaN                           NaN   \n",
       "2286                         NaN                           NaN   \n",
       "3892                        1.75                           NaN   \n",
       "6666                        1.80                           NaN   \n",
       "7188                        1.79                     /m/03ttfc   \n",
       "...                          ...                           ...   \n",
       "446570                       NaN                           NaN   \n",
       "446581                      1.67                     /m/03ts0c   \n",
       "446583                       NaN                           NaN   \n",
       "446816                       NaN                           NaN   \n",
       "447210                       NaN                      /m/041rx   \n",
       "\n",
       "               Actor name  Actor age at movie release  \\\n",
       "767         Franck Dubosc                       -29.0   \n",
       "2286           Tom Wilson                       -12.0   \n",
       "3892            Kim Smith                       -18.0   \n",
       "6666         Jason London                       -48.0   \n",
       "7188      Eduardo Noriega                       -17.0   \n",
       "...                   ...                         ...   \n",
       "446570        J.J. McColl                      -937.0   \n",
       "446581  Sandrine Bonnaire                       -12.0   \n",
       "446583       Kevin O'Shea                        -3.0   \n",
       "446816        Tony Martin                       -15.0   \n",
       "447210       Robert Klein                        -9.0   \n",
       "\n",
       "       Freebase character/actor map ID Freebase character ID Freebase actor ID  \n",
       "767                         /m/0bwb9k3                   NaN        /m/01wlly9  \n",
       "2286                         /m/0jsqm1                   NaN         /m/0382zh  \n",
       "3892                        /m/04mb5kf                   NaN         /m/03pjkv  \n",
       "6666                        /m/01xrptw            /m/02nwfsk         /m/04kdmg  \n",
       "7188                        /m/0cg2f0f                   NaN         /m/0bkkw0  \n",
       "...                                ...                   ...               ...  \n",
       "446570                      /m/0l2rdfz            /m/0l2rdg1        /m/0l2rdg8  \n",
       "446581                      /m/04j05tr                   NaN         /m/07wn_5  \n",
       "446583                      /m/02vcqnq                   NaN        /m/02q384f  \n",
       "446816                      /m/0cg164j                   NaN         /m/07q_fg  \n",
       "447210                      /m/0cg08dz                   NaN         /m/02pb53  \n",
       "\n",
       "[381 rows x 13 columns]"
      ]
     },
     "execution_count": 26,
     "metadata": {},
     "output_type": "execute_result"
    }
   ],
   "source": [
    "char_filt_age.loc[char_filt_age['Actor age at movie release']<0]"
   ]
  },
  {
   "cell_type": "markdown",
   "id": "f015d769",
   "metadata": {},
   "source": [
    "**Note:** In the dataframe above we see 381 instances of negative ages. By taking the difference between the actor date of birth and movie release date we realize that the actor age is correct in magnitude but not in sign. Below, we correct the column by taking its absolute value."
   ]
  },
  {
   "cell_type": "code",
   "execution_count": 27,
   "id": "8b9f6aa7",
   "metadata": {},
   "outputs": [],
   "source": [
    "char_filt_age.loc[char_filt_age['Actor age at movie release'] < 0, \n",
    "                  'Actor age at movie release'] = char_filt_age['Actor age at movie release'].abs()"
   ]
  },
  {
   "cell_type": "code",
   "execution_count": 28,
   "id": "5ed5d738",
   "metadata": {},
   "outputs": [
    {
     "name": "stdout",
     "output_type": "stream",
     "text": [
      "Only 64.92 % of charactors have an associated actor age at release\n"
     ]
    }
   ],
   "source": [
    "print('Only {:.4} % of charactors have an associated actor age at release'.format(100 * len(char_filt_age)/len(characters)))"
   ]
  },
  {
   "cell_type": "code",
   "execution_count": 29,
   "id": "8b10991d",
   "metadata": {},
   "outputs": [],
   "source": [
    "char_age_grouped = char_filt_age.groupby([\"Movie release date\", \"Actor gender\"])['Actor age at movie release'].agg(['mean','size']).reset_index()\n"
   ]
  },
  {
   "cell_type": "code",
   "execution_count": 30,
   "id": "353853c7",
   "metadata": {},
   "outputs": [
    {
     "data": {
      "image/png": "[encoded data removed]",
      "text/plain": [
       "<Figure size 601.361x500 with 1 Axes>"
      ]
     },
     "metadata": {},
     "output_type": "display_data"
    }
   ],
   "source": [
    "# Here we break down the analysis by gender, \n",
    "\n",
    "sns.lmplot(x=\"Movie release date\", y='mean',data = char_age_grouped, hue = 'Actor gender', scatter_kws={\"s\":5})\n",
    "plt.xlabel(\"Year\")\n",
    "plt.ylabel(\"Average age of Actors\")\n",
    "plt.title(\"Average Age of Actors by Gender and Year of Release\")\n",
    "plt.ylim([0,100])\n",
    "plt.xlim([char_age_grouped[\"Movie release date\"].min(),char_age_grouped[\"Movie release date\"].max()]);"
   ]
  },
  {
   "cell_type": "code",
   "execution_count": 31,
   "id": "6e358268",
   "metadata": {},
   "outputs": [
    {
     "name": "stdout",
     "output_type": "stream",
     "text": [
      "The average age for male actors is  40.0 , whereas for actresses it is  33.0\n"
     ]
    }
   ],
   "source": [
    "avg_age_M = round(char_filt_age.loc[char_filt_age['Actor gender'] == 'M']['Actor age at movie release'].mean(),0)\n",
    "avg_age_F = round(char_filt_age.loc[char_filt_age['Actor gender'] == 'F']['Actor age at movie release'].mean(),0)\n",
    "print('The average age for male actors is ', avg_age_M, ', whereas for actresses it is ', avg_age_F)"
   ]
  },
  {
   "cell_type": "markdown",
   "id": "b7fd22fc",
   "metadata": {},
   "source": [
    "In the above figure we are displaying the average age at movie release for female and male actors, as well as the linear regression of the average age evolution over time. The shaded areas represent the 95% confidence interval for the regression.\n",
    "\n",
    "It is interesting to note that males tend to be older than women in cinema over the last hundred years (at least since 1940). This difference observed in the plot is also confirmed by the computed overall average age at realease for both genders (40 for men compared to 33 for women). \n",
    "\n",
    "We can also observe a tendency to employ older actors in movies. One of the hypothesis for this fact is that the age at release data is lacking for older actors at the beginning of the 20th century. Record keeping was not as good as it is now. This could be an explanation for the fact that the data we do have on actors with roles in the early 20th century are all quite young - ie they lived long enough to enter modern database management. "
   ]
  },
  {
   "cell_type": "code",
   "execution_count": 32,
   "id": "4e2cd76f",
   "metadata": {
    "scrolled": false
   },
   "outputs": [
    {
     "data": {
      "text/html": [
       "<div>\n",
       "<style scoped>\n",
       "    .dataframe tbody tr th:only-of-type {\n",
       "        vertical-align: middle;\n",
       "    }\n",
       "\n",
       "    .dataframe tbody tr th {\n",
       "        vertical-align: top;\n",
       "    }\n",
       "\n",
       "    .dataframe thead th {\n",
       "        text-align: right;\n",
       "    }\n",
       "</style>\n",
       "<table border=\"1\" class=\"dataframe\">\n",
       "  <thead>\n",
       "    <tr style=\"text-align: right;\">\n",
       "      <th></th>\n",
       "      <th>Movie release date</th>\n",
       "      <th>Actor gender</th>\n",
       "      <th>Count</th>\n",
       "      <th>Gender Percentage</th>\n",
       "    </tr>\n",
       "  </thead>\n",
       "  <tbody>\n",
       "    <tr>\n",
       "      <th>0</th>\n",
       "      <td>1888.0</td>\n",
       "      <td>F</td>\n",
       "      <td>2</td>\n",
       "      <td>50.000000</td>\n",
       "    </tr>\n",
       "    <tr>\n",
       "      <th>4</th>\n",
       "      <td>1894.0</td>\n",
       "      <td>F</td>\n",
       "      <td>1</td>\n",
       "      <td>25.000000</td>\n",
       "    </tr>\n",
       "    <tr>\n",
       "      <th>7</th>\n",
       "      <td>1896.0</td>\n",
       "      <td>F</td>\n",
       "      <td>5</td>\n",
       "      <td>55.555556</td>\n",
       "    </tr>\n",
       "    <tr>\n",
       "      <th>9</th>\n",
       "      <td>1897.0</td>\n",
       "      <td>F</td>\n",
       "      <td>2</td>\n",
       "      <td>66.666667</td>\n",
       "    </tr>\n",
       "    <tr>\n",
       "      <th>11</th>\n",
       "      <td>1898.0</td>\n",
       "      <td>F</td>\n",
       "      <td>1</td>\n",
       "      <td>25.000000</td>\n",
       "    </tr>\n",
       "  </tbody>\n",
       "</table>\n",
       "</div>"
      ],
      "text/plain": [
       "    Movie release date Actor gender  Count  Gender Percentage\n",
       "0               1888.0            F      2          50.000000\n",
       "4               1894.0            F      1          25.000000\n",
       "7               1896.0            F      5          55.555556\n",
       "9               1897.0            F      2          66.666667\n",
       "11              1898.0            F      1          25.000000"
      ]
     },
     "execution_count": 32,
     "metadata": {},
     "output_type": "execute_result"
    }
   ],
   "source": [
    "char_gen = pd.DataFrame(characters.groupby(['Movie release date', 'Actor gender'])['Actor gender'].agg('size')).rename(columns={'Actor gender' : 'Count'}).reset_index()\n",
    "char_gen['Gender Percentage'] = char_gen['Count'] / char_gen.groupby('Movie release date')['Count'].transform('sum')*100\n",
    "char_gen = char_gen.loc[char_gen['Actor gender'] == 'F']\n",
    "char_gen.head()"
   ]
  },
  {
   "cell_type": "code",
   "execution_count": 33,
   "id": "7139e5ea",
   "metadata": {
    "scrolled": false
   },
   "outputs": [
    {
     "data": {
      "text/plain": [
       "<matplotlib.legend.Legend at 0x26695474280>"
      ]
     },
     "execution_count": 33,
     "metadata": {},
     "output_type": "execute_result"
    },
    {
     "data": {
      "image/png": "[encoded data removed]",
      "text/plain": [
       "<Figure size 640x480 with 1 Axes>"
      ]
     },
     "metadata": {},
     "output_type": "display_data"
    }
   ],
   "source": [
    "ax = sns.lineplot(x='Movie release date', y='Gender Percentage',data = char_gen, legend=True)\n",
    "l1 = ax.lines[0]\n",
    "x1 = l1.get_xydata()[:, 0]\n",
    "y1 = l1.get_xydata()[:, 1]\n",
    "ax.fill_between(x1, y1, 100, color=\"orange\", alpha=0.2, label = 'Males')\n",
    "\n",
    "ax.fill_between(x1, y1, color=\"blue\", alpha=0.2, label = 'Females')\n",
    "plt.xlabel(\"Year\")\n",
    "plt.ylabel(\"Percentage of females/males in movies per year\")\n",
    "plt.title(\"Percentage of female and male characters in movies over time\")\n",
    "plt.ylim([0,100])\n",
    "plt.xlim([char_gen['Movie release date'].min(), char_gen['Movie release date'].max()])\n",
    "plt.legend()\n",
    "\n",
    "#plt.yscale('log')"
   ]
  },
  {
   "cell_type": "markdown",
   "id": "2d4c6d40",
   "metadata": {},
   "source": [
    "We see more dynamic behavior in the earlier years. This is due to small sample sizes which lead to large spikes in % for small deviations. We see it stabilize for a majority of the graph before once again entering erratic territory in the last years (data collection was limited in the 2010's). The most obvious takeaway is that male characters are more common than female characters"
   ]
  },
  {
   "cell_type": "code",
   "execution_count": 34,
   "id": "8013cc23",
   "metadata": {},
   "outputs": [
    {
     "name": "stdout",
     "output_type": "stream",
     "text": [
      "Missing \"character names\" in character metadata: 257875\n",
      "Missing \"Freebase character\" IDs in character metadata: 257865\n",
      "We can see that the number of missing character names ≈ missing Freebase character IDs\n",
      "There are 10 characters where we have a \"Freebase character ID\" but not \"character names\"\n",
      "Missing Character name AND Freebase character ID: 257865\n",
      "Missing character name but known Freebase character/actor map ID and Freebase actor ID: 257389\n"
     ]
    }
   ],
   "source": [
    "# Checking when either character name or Freebase movie ID are missing:\n",
    "print('Missing \"character names\" in character metadata: %d' %characters['Character name'].isnull().sum())\n",
    "print('Missing \"Freebase character\" IDs in character metadata: %d' %characters['Freebase character ID'].isnull().sum())\n",
    "print('We can see that the number of missing character names ≈ missing Freebase character IDs')\n",
    "print('There are 10 characters where we have a \"Freebase character ID\" but not \"character names\"')\n",
    "# Checking when both \"Character name\" and \"Freebase character ID are missing\":\n",
    "characters.loc[characters['Character name'].isnull() & characters['Freebase movie ID'].isnull()]\n",
    "missing_both_IDs = sum(characters.iloc[:, [3, 11]].isnull().all(1))\n",
    "print('Missing Character name AND Freebase character ID: %d' %missing_both_IDs)\n",
    "# Checking characters for which we don't have that character name buit we have both the Freebase character/actor map ID and Freebase actor ID\n",
    "characters.iloc[:, [3, 11]].isnull().all(1) # 4th column and 11th column\n",
    "poss_recov = sum(characters.iloc[:, [3]].isnull().all(1) & characters.iloc[:, [10, 12]].notnull().all(1))\n",
    "print('Missing character name but known Freebase character/actor map ID and Freebase actor ID: %d' %poss_recov)"
   ]
  },
  {
   "cell_type": "markdown",
   "id": "ad38415e",
   "metadata": {},
   "source": [
    "The previous analysis highlights the possibility of using the available Freebase IDs in order to recover a substantial amount to character names. The Freebase character/actor map will link the Freebase actor ID to the roles that the specific actor will have performed. As a result, we will be able to extract the Freebase character IDs, thus the missing character names. "
   ]
  },
  {
   "cell_type": "code",
   "execution_count": 35,
   "id": "4240bff7",
   "metadata": {},
   "outputs": [
    {
     "name": "stdout",
     "output_type": "stream",
     "text": [
      "The total number of characters that we obtain from the inner merge is: 450669\n"
     ]
    }
   ],
   "source": [
    "''' Merging character with movie metadata with an inner join. We do an inner join \n",
    "because there are movies in the movie metadata for which we do not \n",
    "have any character information in character metadata and vice versa.\n",
    "For the future analysis we need both information about the characters\n",
    "and movie in which they appear'''\n",
    "\n",
    "df_char_movie = pd.merge(left= characters, right= movies, how='inner', on= ['Wikipedia movie ID', 'Freebase movie ID', 'Movie release date'])\n",
    "print('The total number of characters that we obtain from the inner merge is: %d' %len(df_char_movie))"
   ]
  },
  {
   "cell_type": "code",
   "execution_count": 36,
   "id": "c3671566",
   "metadata": {},
   "outputs": [
    {
     "name": "stdout",
     "output_type": "stream",
     "text": [
      "The resulting number of movies from the merge of characters and movies is: 64330\n"
     ]
    }
   ],
   "source": [
    "movies_with_characters = df_char_movie.groupby(['Wikipedia movie ID']).agg('size')\n",
    "print('The resulting number of movies from the merge of characters and movies is: %d'%len(movies_with_characters))"
   ]
  },
  {
   "cell_type": "code",
   "execution_count": 37,
   "id": "968610e0",
   "metadata": {},
   "outputs": [],
   "source": [
    "# Computing the total number of characters and the number of character names we have in our dataframe\n",
    "char_names_per_movie = df_char_movie.groupby('Wikipedia movie ID')['Character name'].count() # extracts number of characters we have (i.e. not coun ting NaNs)\n",
    "total_characters_per_movie = df_char_movie.groupby(['Wikipedia movie ID'])['Character name'].agg(['size'])"
   ]
  },
  {
   "cell_type": "code",
   "execution_count": 38,
   "id": "f771ef2a",
   "metadata": {},
   "outputs": [
    {
     "data": {
      "text/html": [
       "<div>\n",
       "<style scoped>\n",
       "    .dataframe tbody tr th:only-of-type {\n",
       "        vertical-align: middle;\n",
       "    }\n",
       "\n",
       "    .dataframe tbody tr th {\n",
       "        vertical-align: top;\n",
       "    }\n",
       "\n",
       "    .dataframe thead th {\n",
       "        text-align: right;\n",
       "    }\n",
       "</style>\n",
       "<table border=\"1\" class=\"dataframe\">\n",
       "  <thead>\n",
       "    <tr style=\"text-align: right;\">\n",
       "      <th></th>\n",
       "      <th>total_n°_characters (incl. NaN)</th>\n",
       "      <th>character_names (excl. NaN)</th>\n",
       "      <th>n°_missing_characters</th>\n",
       "      <th>percentage_missing</th>\n",
       "      <th>percentage_available</th>\n",
       "    </tr>\n",
       "    <tr>\n",
       "      <th>Wikipedia movie ID</th>\n",
       "      <th></th>\n",
       "      <th></th>\n",
       "      <th></th>\n",
       "      <th></th>\n",
       "      <th></th>\n",
       "    </tr>\n",
       "  </thead>\n",
       "  <tbody>\n",
       "    <tr>\n",
       "      <th>330</th>\n",
       "      <td>4</td>\n",
       "      <td>0</td>\n",
       "      <td>4</td>\n",
       "      <td>100.0</td>\n",
       "      <td>0.0</td>\n",
       "    </tr>\n",
       "    <tr>\n",
       "      <th>3217</th>\n",
       "      <td>14</td>\n",
       "      <td>14</td>\n",
       "      <td>0</td>\n",
       "      <td>0.0</td>\n",
       "      <td>100.0</td>\n",
       "    </tr>\n",
       "    <tr>\n",
       "      <th>3333</th>\n",
       "      <td>14</td>\n",
       "      <td>0</td>\n",
       "      <td>14</td>\n",
       "      <td>100.0</td>\n",
       "      <td>0.0</td>\n",
       "    </tr>\n",
       "    <tr>\n",
       "      <th>3746</th>\n",
       "      <td>15</td>\n",
       "      <td>15</td>\n",
       "      <td>0</td>\n",
       "      <td>0.0</td>\n",
       "      <td>100.0</td>\n",
       "    </tr>\n",
       "    <tr>\n",
       "      <th>3837</th>\n",
       "      <td>20</td>\n",
       "      <td>16</td>\n",
       "      <td>4</td>\n",
       "      <td>20.0</td>\n",
       "      <td>80.0</td>\n",
       "    </tr>\n",
       "  </tbody>\n",
       "</table>\n",
       "</div>"
      ],
      "text/plain": [
       "                    total_n°_characters (incl. NaN)  \\\n",
       "Wikipedia movie ID                                    \n",
       "330                                               4   \n",
       "3217                                             14   \n",
       "3333                                             14   \n",
       "3746                                             15   \n",
       "3837                                             20   \n",
       "\n",
       "                    character_names (excl. NaN)  n°_missing_characters  \\\n",
       "Wikipedia movie ID                                                       \n",
       "330                                           0                      4   \n",
       "3217                                         14                      0   \n",
       "3333                                          0                     14   \n",
       "3746                                         15                      0   \n",
       "3837                                         16                      4   \n",
       "\n",
       "                    percentage_missing  percentage_available  \n",
       "Wikipedia movie ID                                            \n",
       "330                              100.0                   0.0  \n",
       "3217                               0.0                 100.0  \n",
       "3333                             100.0                   0.0  \n",
       "3746                               0.0                 100.0  \n",
       "3837                              20.0                  80.0  "
      ]
     },
     "execution_count": 38,
     "metadata": {},
     "output_type": "execute_result"
    }
   ],
   "source": [
    "df_character_missing_stats = pd.merge(total_characters_per_movie, char_names_per_movie, on='Wikipedia movie ID')\n",
    "df_character_missing_stats['n°_missing_characters'] = df_character_missing_stats['size'] - df_character_missing_stats['Character name']\n",
    "df_character_missing_stats['percentage_missing'] = round(100 * df_character_missing_stats['n°_missing_characters'] / df_character_missing_stats['size'], 2) # computing percentages of missing character names\n",
    "df_character_missing_stats['percentage_available'] = 100 - df_character_missing_stats['percentage_missing']\n",
    "df_character_missing_stats = df_character_missing_stats.rename(columns={'size': 'total_n°_characters (incl. NaN)'})\n",
    "df_character_missing_stats = df_character_missing_stats.rename(columns={'Character name': 'character_names (excl. NaN)'})\n",
    "df_character_missing_stats.head()"
   ]
  },
  {
   "cell_type": "markdown",
   "id": "ba0d5d85",
   "metadata": {},
   "source": [
    "In the dataframe above we obtain:\n",
    "- the total amount of characters in a specific movie\n",
    "- the number of character names for a specific movie\n",
    "- the percentage of the character names that are missing per movie\n",
    "- the percentage of the character names that are available per movie"
   ]
  },
  {
   "cell_type": "code",
   "execution_count": 39,
   "id": "8a9b49b1",
   "metadata": {},
   "outputs": [
    {
     "data": {
      "image/png": "[encoded data removed]",
      "text/plain": [
       "<Figure size 640x480 with 1 Axes>"
      ]
     },
     "metadata": {},
     "output_type": "display_data"
    }
   ],
   "source": [
    "df_character_missing_stats['percentage_available'].hist(bins=10, grid=False)\n",
    "plt.xticks(np.arange(0, 110, step=10))\n",
    "plt.ylabel('N° movies')\n",
    "plt.xlabel('Percentage of available character names in [%]')\n",
    "plt.title('N° movies according to percentage of known character names')\n",
    "plt.show()"
   ]
  },
  {
   "cell_type": "markdown",
   "id": "e1a71cd8",
   "metadata": {},
   "source": [
    "For example: there are roughly 39 000 movies for which we have less than 10% of the character names."
   ]
  },
  {
   "cell_type": "code",
   "execution_count": 40,
   "id": "7b9fce91",
   "metadata": {},
   "outputs": [
    {
     "name": "stdout",
     "output_type": "stream",
     "text": [
      "The total number of movies where we have at least one character name is: 32571\n",
      "The percentage of movies for which we have at least one character name is: 50 %\n"
     ]
    }
   ],
   "source": [
    "# Let's calculate the percentage of movies for which we have at least 1 character name\n",
    "# Assuming that the character name that would be available is the one of the main character.\n",
    "\n",
    "more_1_char = df_character_missing_stats['character_names (excl. NaN)'][df_character_missing_stats['character_names (excl. NaN)'] >= 1].count()\n",
    "perc_1_char = 100*more_1_char/64329\n",
    "\n",
    "print('The total number of movies where we have at least one character name is: %d' %more_1_char)\n",
    "print('The percentage of movies for which we have at least one character name is: %d' %perc_1_char, '%')"
   ]
  },
  {
   "cell_type": "markdown",
   "id": "1a7c9c8e",
   "metadata": {},
   "source": [
    "# CoreNLP"
   ]
  },
  {
   "cell_type": "code",
   "execution_count": 42,
   "id": "b4aeac92",
   "metadata": {},
   "outputs": [
    {
     "data": {
      "text/html": [
       "<div>\n",
       "<style scoped>\n",
       "    .dataframe tbody tr th:only-of-type {\n",
       "        vertical-align: middle;\n",
       "    }\n",
       "\n",
       "    .dataframe tbody tr th {\n",
       "        vertical-align: top;\n",
       "    }\n",
       "\n",
       "    .dataframe thead th {\n",
       "        text-align: right;\n",
       "    }\n",
       "</style>\n",
       "<table border=\"1\" class=\"dataframe\">\n",
       "  <thead>\n",
       "    <tr style=\"text-align: right;\">\n",
       "      <th></th>\n",
       "      <th>Wikipedia movie ID</th>\n",
       "      <th>Plot Summary</th>\n",
       "    </tr>\n",
       "  </thead>\n",
       "  <tbody>\n",
       "    <tr>\n",
       "      <th>0</th>\n",
       "      <td>975900</td>\n",
       "      <td>Set in the second half of the 22nd century, th...</td>\n",
       "    </tr>\n",
       "    <tr>\n",
       "      <th>1</th>\n",
       "      <td>261236</td>\n",
       "      <td>Eva, an upper class housewife, becomes frustra...</td>\n",
       "    </tr>\n",
       "    <tr>\n",
       "      <th>2</th>\n",
       "      <td>2238856</td>\n",
       "      <td>The structure of the film consists of several ...</td>\n",
       "    </tr>\n",
       "    <tr>\n",
       "      <th>3</th>\n",
       "      <td>18296435</td>\n",
       "      <td>Serap, a young actress with a strong, lively p...</td>\n",
       "    </tr>\n",
       "    <tr>\n",
       "      <th>4</th>\n",
       "      <td>32456683</td>\n",
       "      <td>Otto Brosowski, a communist miner, writes to t...</td>\n",
       "    </tr>\n",
       "    <tr>\n",
       "      <th>...</th>\n",
       "      <td>...</td>\n",
       "      <td>...</td>\n",
       "    </tr>\n",
       "    <tr>\n",
       "      <th>37773</th>\n",
       "      <td>22545667</td>\n",
       "      <td>Gracie  and Laurie  are lovers who together fo...</td>\n",
       "    </tr>\n",
       "    <tr>\n",
       "      <th>37774</th>\n",
       "      <td>31627556</td>\n",
       "      <td>Kara , George , and Enzo  are 3 best friends w...</td>\n",
       "    </tr>\n",
       "    <tr>\n",
       "      <th>37775</th>\n",
       "      <td>30553937</td>\n",
       "      <td>A daytime soap opera star has to deal with his...</td>\n",
       "    </tr>\n",
       "    <tr>\n",
       "      <th>37776</th>\n",
       "      <td>12476867</td>\n",
       "      <td>The movie is about a teenage girl who loves ho...</td>\n",
       "    </tr>\n",
       "    <tr>\n",
       "      <th>37777</th>\n",
       "      <td>913762</td>\n",
       "      <td>The story takes place in the year 2092,The Sup...</td>\n",
       "    </tr>\n",
       "  </tbody>\n",
       "</table>\n",
       "<p>37778 rows × 2 columns</p>\n",
       "</div>"
      ],
      "text/plain": [
       "       Wikipedia movie ID                                       Plot Summary\n",
       "0                  975900  Set in the second half of the 22nd century, th...\n",
       "1                  261236  Eva, an upper class housewife, becomes frustra...\n",
       "2                 2238856  The structure of the film consists of several ...\n",
       "3                18296435  Serap, a young actress with a strong, lively p...\n",
       "4                32456683  Otto Brosowski, a communist miner, writes to t...\n",
       "...                   ...                                                ...\n",
       "37773            22545667  Gracie  and Laurie  are lovers who together fo...\n",
       "37774            31627556  Kara , George , and Enzo  are 3 best friends w...\n",
       "37775            30553937  A daytime soap opera star has to deal with his...\n",
       "37776            12476867  The movie is about a teenage girl who loves ho...\n",
       "37777              913762  The story takes place in the year 2092,The Sup...\n",
       "\n",
       "[37778 rows x 2 columns]"
      ]
     },
     "execution_count": 42,
     "metadata": {},
     "output_type": "execute_result"
    }
   ],
   "source": [
    "'''Now we want to proceed to the analysis of the plots using the CoreNLP model. \n",
    "For that we first compare the plot information with the character and movie information, \n",
    "to not analyse plots we can not link to other data. The final dataframe contains only the Wikipedia Modie ID and Plot Summaries\n",
    "which are related to movie and character data'''\n",
    "\n",
    "df_char_movie_plot = pd.merge(left= df_char_movie, right= df_plot_summaries, how='inner', on= ['Wikipedia movie ID'])\n",
    "df_plots_filt = df_char_movie_plot[['Wikipedia movie ID','Plot Summary']].drop_duplicates().reset_index()\n",
    "df_plots_filt = df_plots_filt.drop(columns = ['index'])\n",
    "df_plots_filt"
   ]
  },
  {
   "cell_type": "code",
   "execution_count": null,
   "id": "a07cff7a",
   "metadata": {},
   "outputs": [],
   "source": [
    "stanza.download('en') # download English model"
   ]
  },
  {
   "cell_type": "code",
   "execution_count": null,
   "id": "7690da16",
   "metadata": {},
   "outputs": [],
   "source": [
    "nlp = stanza.Pipeline(lang='en', processors='tokenize, mwt, pos, lemma, depparse, ner')"
   ]
  },
  {
   "cell_type": "markdown",
   "id": "55186727",
   "metadata": {},
   "source": [
    "**Note:** The two following cells should not be ran locally, because of the computational cost. Instead, we used Google Colab with GPU option to run the NLP analysis and create the resulting dataset. Here we keep it for a good understanding of the workflow. The result of the analysis is in the Data folder, and we can import it directly from there."
   ]
  },
  {
   "cell_type": "code",
   "execution_count": null,
   "id": "06b8235e",
   "metadata": {},
   "outputs": [],
   "source": [
    "# The Analyse_Plots function is in a separated python file,\n",
    "#to avoid any information not critical to the understanding of our analysis\n",
    "#It is then imported from CoreNLPanalysis.py\n",
    "df_NLP = Analyse_Plots(df_plots_filt, nlp)  "
   ]
  },
  {
   "cell_type": "code",
   "execution_count": null,
   "id": "bce7c41f",
   "metadata": {},
   "outputs": [],
   "source": [
    "df_NLP.to_csv(data_folder + \"Plot_NLP_Analysis.csv\", sep='\\t', header=None)"
   ]
  },
  {
   "cell_type": "code",
   "execution_count": null,
   "id": "d26ffd27",
   "metadata": {},
   "outputs": [],
   "source": [
    "# Loading the data obtained from the NLP pipeline:\n",
    "df_1 = pd.read_csv(data_folder + \"Plot_NLP_Analysis_0_14100.csv\", sep='\\t', header = None)\n",
    "df_2 = pd.read_csv(data_folder + \"Plot_NLP_Analysis_14101_23201.csv\", sep='\\t', header = None)\n",
    "df_3 = pd.read_csv(data_folder + \"Plot_NLP_Analysis23202-42302.csv\", sep='\\t', header = None)\n",
    "df_1 = df_1.drop(columns=0)\n",
    "df_2 = df_2.drop(columns=0)\n",
    "df_3 = df_3.drop(columns=0)\n",
    "clusters_df = pd.concat([df_1, df_2, df_3], ignore_index=True)\n",
    "clusters_df.columns = ('Wikipedia movie ID', 'Character partial name', 'Agent Verbs', 'Patient Verbs', 'Attributes')"
   ]
  },
  {
   "cell_type": "code",
   "execution_count": null,
   "id": "29af5bea",
   "metadata": {},
   "outputs": [],
   "source": [
    "clusters_df"
   ]
  },
  {
   "cell_type": "code",
   "execution_count": null,
   "id": "4c6b2569",
   "metadata": {},
   "outputs": [],
   "source": [
    "df_char_movie_names = df_char_movie[['Wikipedia movie ID','Character name']].dropna()\n",
    "df_char_movie_names['All_names'] = df_char_movie_names.groupby(['Wikipedia movie ID'], \n",
    "            as_index = True)['Character name'].transform(lambda x: ','.join(x))\n",
    "df_char_movie_names = df_char_movie_names[['Wikipedia movie ID', 'All_names']].drop_duplicates()\n",
    "df_char_movie_names['All_names'] = [x.strip('()').split(',') for x in df_char_movie_names['All_names']]"
   ]
  },
  {
   "cell_type": "code",
   "execution_count": null,
   "id": "2e3eb6bb",
   "metadata": {},
   "outputs": [],
   "source": [
    "clusters_df = clusters_df.merge(df_char_movie_names, how = 'inner', on = 'Wikipedia movie ID')\n",
    "clusters_df.head(3)"
   ]
  },
  {
   "cell_type": "markdown",
   "id": "4a11f006",
   "metadata": {},
   "source": [
    "### Case study example over one movie : \"Bhagwan Dada\", movie ID 10644072 \n"
   ]
  },
  {
   "cell_type": "code",
   "execution_count": null,
   "id": "70a02a3c",
   "metadata": {},
   "outputs": [],
   "source": [
    "#Let's first extract the beginning of the plot summary of Bhagwan Dada, movie ID 10644072.\n",
    "\n",
    "text_extract_10644072 = '''A villager new to the big city – Bhagwaan  – turns to crime to avoid starvation. He is drawn into the gang of slum crime lord ‘dada’ Shambu  where he falls into every crime but one: violence against women. When an impoverished but honourable young widow hangs herself after being raped by Shambu Dada, the cries of her orphaned baby awaken Bhagwaan’s soul. He rebels against his former master. Bhagwaan vows to atone for his formerly evil life, and adopts the orphaned baby as his own son. The innocent young boy becomes Bhagwaan’s source of personal redemption and the inspiration for all that he does. 12 years later the man now lovingly hailed as “Bhagwaan Dada” has transformed the former crime-ridden slum into a safe and happy neighbourhood - Shantinagar - where his adopted son Govinda  has become the pride and joy of the whole community. Despite his own dark past, this loving father has worked hard to raise the boy as a good person with sound moral values. At this time, Bhagwaan chances to rescue another naïve young man new to the big city – Swaroop  – when Shambu Dada’s gang steal all Swaroop’s money. Impressed with Swaroop’s education as well as the similarity of situation to his own arrival in the city years before, Bhagwaan takes the “innocent and simple” villager under his protective wing. He arranges a good job, even brings Swaroop home to live with himself and his son, young Govinda. Swaroop and Bhagwaan claim each other as ‘brothers’.'''\n",
    "text_extract_10644072"
   ]
  },
  {
   "cell_type": "code",
   "execution_count": null,
   "id": "e656c89a",
   "metadata": {},
   "outputs": [],
   "source": [
    "# Then, we run the pipeline over the plot summary which will run annotation over each sentence of the plot:\n",
    "doc_10644072 = nlp(text_extract_10644072)"
   ]
  },
  {
   "cell_type": "code",
   "execution_count": null,
   "id": "475fe96a",
   "metadata": {
    "scrolled": false
   },
   "outputs": [],
   "source": [
    "#Then, we can have a look at the dependencies of the words between each other:\n",
    "print(*[f'id: {word.id}\\tword: {word.text}\\thead id: {word.head}\\thead: {sent.words[word.head-1].text if word.head > 0 else \"root\"}\\tdeprel: {word.deprel}' for sent in doc_10644072.sentences for word in sent.words], sep='\\n')"
   ]
  },
  {
   "cell_type": "markdown",
   "id": "e9b05235",
   "metadata": {},
   "source": [
    "As we can see, the result of these show each tokenized word of the sentence, their id, and their dependency relationship with other words and their ids in the same sentence. The deprel type relies on the Stanford typed dependencies representation \"which was designed to provide a simple description of the grammatical relationships in a sentence that can easily be understood and effectively used by people\n",
    "without linguistic expertise who want to extract textual relations\" (Marneffe and Manning, 2008)."
   ]
  },
  {
   "cell_type": "code",
   "execution_count": null,
   "id": "f2fa6395",
   "metadata": {
    "scrolled": false
   },
   "outputs": [],
   "source": [
    "#We can visualize the results of these annotations with the first sentences of the plot summary with the deplacy library:\n",
    "deplacy.render(doc_10644072)\n",
    "#Here, it also shows the position of the word, meaning the type of word it is:"
   ]
  },
  {
   "cell_type": "code",
   "execution_count": null,
   "id": "7ee8591b",
   "metadata": {},
   "outputs": [],
   "source": [
    "#Another type of visualization, maybe more visual, with port=None to be visualized directly within the notebook is the following:\n",
    "deplacy.serve(doc_10644072, port=None, RtoL=False)"
   ]
  },
  {
   "cell_type": "code",
   "execution_count": null,
   "id": "923ea3f2",
   "metadata": {},
   "outputs": [],
   "source": [
    "#Then, we select the plot summary within all the plots, to demonstrate a typical output we get from our pipeline:\n",
    "plot_10644072 = df_plots_filt[df_plots_filt['Wikipedia movie ID']==10644072].reset_index()\n",
    "plot_10644072"
   ]
  },
  {
   "cell_type": "code",
   "execution_count": null,
   "id": "3a41aad7",
   "metadata": {},
   "outputs": [],
   "source": [
    "# This may take a lot of time to run (4 hours or more without google colab GPU) if you don't select a subset of plot summaries:\n",
    "# Here, we select the movie ID of our example and it returns us a dataframe with all the characters (entities) found in the plot summary\n",
    "# with their corresponding agent verbs, patient verbs and attributes:\n",
    "df_NLP = Analyse_Plots(plot_10644072, nlp)  \n",
    "df_NLP"
   ]
  },
  {
   "cell_type": "code",
   "execution_count": null,
   "id": "9d145412",
   "metadata": {},
   "outputs": [],
   "source": [
    "pd.set_option('display.max_colwidth', None)\n",
    "for elem in ['Shambu', 'Bhagwaan', 'Bijli','Madhu']:\n",
    "    print(elem,'\\'s attributes in the movie plot correspond to :', df_NLP.loc[df_NLP['Character_Name']==elem]['Attributes'].values)\n",
    "    print(elem,'\\'s agent verbs, meaning verbs for which he\\'s taking the action in the movie plot correspond to :', df_NLP.loc[df_NLP['Character_Name']==elem]['Agent Verbs'].values)\n",
    "    print(elem,'\\'s patient verbs, meaning verbs for which he is the action\\'s subject in the movie plot correspond to :', df_NLP.loc[df_NLP['Character_Name']==elem]['Patient Verbs'].values)\n",
    "    print('    ')"
   ]
  },
  {
   "cell_type": "markdown",
   "id": "187a43a8",
   "metadata": {},
   "source": [
    "Here, we can see that it depicts a quite satisfying big picture of the character, where we can later analyse the lexical field of the words employed in the plot summary to describe him to define the archetype of this character. We can clearly retain from our analysis that Shambu holds a negative and violent description of himself depicted as a fugitive and evil master of the gang Bhagwaan was involved into. Bhagwaan on the contrary is correctly defined in the opposite way in our analysis by his 'soul' and thirst of revenge against his former master. Of course, only the archetype can be deduced from our list of attributes and verbs and not the meaning and relation between the characters, but this will help us to do archetypes comparison between character's genders later in the analysis. Indeed, Bijili and Madhu, both feminine characters, have much less verbs and attributes compared to previous masculine characters and their corresponding verbs are more on the 'victim' side: manages, confesses, help, as well as their attributes: sex worker, attraction, streetwalker etc. Of course, this concerns only one movie and cannot be generalized yet but we are confident about our results and can now move on to merge our outputs of the NLP pipeline with corresponding character names and movie IDs from character and movie metadata."
   ]
  },
  {
   "cell_type": "markdown",
   "id": "e54a1ed9",
   "metadata": {},
   "source": [
    "**Note:** Same as previously, we will not run those following cells, but they are useful to understand where our data comes from."
   ]
  },
  {
   "cell_type": "code",
   "execution_count": null,
   "id": "f718b8ac",
   "metadata": {},
   "outputs": [],
   "source": [
    "def matching(col1, col2):\n",
    "    if process.extractOne(col1, list(col2))[1]>80:\n",
    "        res = process.extractOne(col1, list(col2))[0]    \n",
    "    else:\n",
    "        res = 'Not found'\n",
    "    return res\n",
    "\n",
    "clusters_df['Full_name'] = clusters_df.apply(lambda x: matching(x['Character partial name'],\n",
    "                                                                            x['All_names']), axis=1)\n",
    "clusters_df.tail(50)"
   ]
  },
  {
   "cell_type": "code",
   "execution_count": null,
   "id": "e9c1f908",
   "metadata": {},
   "outputs": [],
   "source": [
    "char_df = clusters_df.loc[clusters_df['Full_name'] != 'Not found']"
   ]
  },
  {
   "cell_type": "code",
   "execution_count": null,
   "id": "84efd607",
   "metadata": {},
   "outputs": [],
   "source": [
    "categories = ['Agent Verbs', 'Patient Verbs', 'Attributes']\n",
    "\n",
    "for i,cat in enumerate(categories):\n",
    "    rem = char_df[cat] == '0.0'\n",
    "    char_df.loc[rem, cat] = char_df.loc[rem, cat].replace('0.0', '')\n",
    "char_df['All_Agent_Verbs'] = char_df.groupby(['Full_name'])['Agent Verbs'].transform(lambda x: ','.join(x))\n",
    "char_df['All_Patient_Verbs'] = char_df.groupby(['Full_name'])['Patient Verbs'].transform(lambda x: ','.join(x))\n",
    "char_df['All_Attributes'] = char_df.groupby(['Full_name'])['Attributes'].transform(lambda x: ','.join(x))"
   ]
  },
  {
   "cell_type": "code",
   "execution_count": null,
   "id": "09b5e192",
   "metadata": {},
   "outputs": [],
   "source": [
    "char_df = char_df[['Wikipedia movie ID', 'Full_name', 'All_Agent_Verbs', 'All_Patient_Verbs', 'All_Attributes']]"
   ]
  },
  {
   "cell_type": "code",
   "execution_count": null,
   "id": "c9da5df2",
   "metadata": {},
   "outputs": [],
   "source": [
    "char_df.to_csv(data_folder + \"Characters_Matched_DF_Clean.csv\", sep='\\t', header=None)"
   ]
  },
  {
   "cell_type": "markdown",
   "id": "9981a69f",
   "metadata": {},
   "source": [
    "## 3- Sentiment Analysis"
   ]
  },
  {
   "cell_type": "code",
   "execution_count": 43,
   "id": "97180881",
   "metadata": {},
   "outputs": [
    {
     "ename": "FileNotFoundError",
     "evalue": "[Errno 2] No such file or directory: './Data/Characters_Matched_DF_Clean.csv'",
     "output_type": "error",
     "traceback": [
      "\u001b[1;31m---------------------------------------------------------------------------\u001b[0m",
      "\u001b[1;31mFileNotFoundError\u001b[0m                         Traceback (most recent call last)",
      "\u001b[1;32mc:\\Users\\camil\\Documents\\GitHub\\ada-2022-project-utopiansky2022\\main.ipynb Cellule 84\u001b[0m in \u001b[0;36m<cell line: 1>\u001b[1;34m()\u001b[0m\n\u001b[1;32m----> <a href='vscode-notebook-cell:/c%3A/Users/camil/Documents/GitHub/ada-2022-project-utopiansky2022/main.ipynb#Y145sZmlsZQ%3D%3D?line=0'>1</a>\u001b[0m CMdf \u001b[39m=\u001b[39m pd\u001b[39m.\u001b[39;49mread_csv(data_folder \u001b[39m+\u001b[39;49m \u001b[39m'\u001b[39;49m\u001b[39mCharacters_Matched_DF_Clean.csv\u001b[39;49m\u001b[39m'\u001b[39;49m, sep\u001b[39m=\u001b[39;49m\u001b[39m'\u001b[39;49m\u001b[39m\\t\u001b[39;49;00m\u001b[39m'\u001b[39;49m,index_col \u001b[39m=\u001b[39;49m \u001b[39m0\u001b[39;49m)\n\u001b[0;32m      <a href='vscode-notebook-cell:/c%3A/Users/camil/Documents/GitHub/ada-2022-project-utopiansky2022/main.ipynb#Y145sZmlsZQ%3D%3D?line=1'>2</a>\u001b[0m CMdf\u001b[39m.\u001b[39mcolumns \u001b[39m=\u001b[39m [\u001b[39m'\u001b[39m\u001b[39mWikipedia movie ID\u001b[39m\u001b[39m'\u001b[39m, \u001b[39m'\u001b[39m\u001b[39mCharacter name\u001b[39m\u001b[39m'\u001b[39m, \u001b[39m'\u001b[39m\u001b[39mAgent Verbs\u001b[39m\u001b[39m'\u001b[39m, \u001b[39m'\u001b[39m\u001b[39mPatient Verbs\u001b[39m\u001b[39m'\u001b[39m, \u001b[39m'\u001b[39m\u001b[39mAttributes\u001b[39m\u001b[39m'\u001b[39m]\n\u001b[0;32m      <a href='vscode-notebook-cell:/c%3A/Users/camil/Documents/GitHub/ada-2022-project-utopiansky2022/main.ipynb#Y145sZmlsZQ%3D%3D?line=2'>3</a>\u001b[0m CMdf\u001b[39m.\u001b[39mreset_index(inplace \u001b[39m=\u001b[39m \u001b[39mTrue\u001b[39;00m,drop\u001b[39m=\u001b[39m\u001b[39mTrue\u001b[39;00m)\n",
      "File \u001b[1;32mc:\\Users\\camil\\anaconda3\\envs\\ada\\lib\\site-packages\\pandas\\util\\_decorators.py:311\u001b[0m, in \u001b[0;36mdeprecate_nonkeyword_arguments.<locals>.decorate.<locals>.wrapper\u001b[1;34m(*args, **kwargs)\u001b[0m\n\u001b[0;32m    305\u001b[0m \u001b[39mif\u001b[39;00m \u001b[39mlen\u001b[39m(args) \u001b[39m>\u001b[39m num_allow_args:\n\u001b[0;32m    306\u001b[0m     warnings\u001b[39m.\u001b[39mwarn(\n\u001b[0;32m    307\u001b[0m         msg\u001b[39m.\u001b[39mformat(arguments\u001b[39m=\u001b[39marguments),\n\u001b[0;32m    308\u001b[0m         \u001b[39mFutureWarning\u001b[39;00m,\n\u001b[0;32m    309\u001b[0m         stacklevel\u001b[39m=\u001b[39mstacklevel,\n\u001b[0;32m    310\u001b[0m     )\n\u001b[1;32m--> 311\u001b[0m \u001b[39mreturn\u001b[39;00m func(\u001b[39m*\u001b[39margs, \u001b[39m*\u001b[39m\u001b[39m*\u001b[39mkwargs)\n",
      "File \u001b[1;32mc:\\Users\\camil\\anaconda3\\envs\\ada\\lib\\site-packages\\pandas\\io\\parsers\\readers.py:678\u001b[0m, in \u001b[0;36mread_csv\u001b[1;34m(filepath_or_buffer, sep, delimiter, header, names, index_col, usecols, squeeze, prefix, mangle_dupe_cols, dtype, engine, converters, true_values, false_values, skipinitialspace, skiprows, skipfooter, nrows, na_values, keep_default_na, na_filter, verbose, skip_blank_lines, parse_dates, infer_datetime_format, keep_date_col, date_parser, dayfirst, cache_dates, iterator, chunksize, compression, thousands, decimal, lineterminator, quotechar, quoting, doublequote, escapechar, comment, encoding, encoding_errors, dialect, error_bad_lines, warn_bad_lines, on_bad_lines, delim_whitespace, low_memory, memory_map, float_precision, storage_options)\u001b[0m\n\u001b[0;32m    663\u001b[0m kwds_defaults \u001b[39m=\u001b[39m _refine_defaults_read(\n\u001b[0;32m    664\u001b[0m     dialect,\n\u001b[0;32m    665\u001b[0m     delimiter,\n\u001b[1;32m   (...)\u001b[0m\n\u001b[0;32m    674\u001b[0m     defaults\u001b[39m=\u001b[39m{\u001b[39m\"\u001b[39m\u001b[39mdelimiter\u001b[39m\u001b[39m\"\u001b[39m: \u001b[39m\"\u001b[39m\u001b[39m,\u001b[39m\u001b[39m\"\u001b[39m},\n\u001b[0;32m    675\u001b[0m )\n\u001b[0;32m    676\u001b[0m kwds\u001b[39m.\u001b[39mupdate(kwds_defaults)\n\u001b[1;32m--> 678\u001b[0m \u001b[39mreturn\u001b[39;00m _read(filepath_or_buffer, kwds)\n",
      "File \u001b[1;32mc:\\Users\\camil\\anaconda3\\envs\\ada\\lib\\site-packages\\pandas\\io\\parsers\\readers.py:575\u001b[0m, in \u001b[0;36m_read\u001b[1;34m(filepath_or_buffer, kwds)\u001b[0m\n\u001b[0;32m    572\u001b[0m _validate_names(kwds\u001b[39m.\u001b[39mget(\u001b[39m\"\u001b[39m\u001b[39mnames\u001b[39m\u001b[39m\"\u001b[39m, \u001b[39mNone\u001b[39;00m))\n\u001b[0;32m    574\u001b[0m \u001b[39m# Create the parser.\u001b[39;00m\n\u001b[1;32m--> 575\u001b[0m parser \u001b[39m=\u001b[39m TextFileReader(filepath_or_buffer, \u001b[39m*\u001b[39m\u001b[39m*\u001b[39mkwds)\n\u001b[0;32m    577\u001b[0m \u001b[39mif\u001b[39;00m chunksize \u001b[39mor\u001b[39;00m iterator:\n\u001b[0;32m    578\u001b[0m     \u001b[39mreturn\u001b[39;00m parser\n",
      "File \u001b[1;32mc:\\Users\\camil\\anaconda3\\envs\\ada\\lib\\site-packages\\pandas\\io\\parsers\\readers.py:932\u001b[0m, in \u001b[0;36mTextFileReader.__init__\u001b[1;34m(self, f, engine, **kwds)\u001b[0m\n\u001b[0;32m    929\u001b[0m     \u001b[39mself\u001b[39m\u001b[39m.\u001b[39moptions[\u001b[39m\"\u001b[39m\u001b[39mhas_index_names\u001b[39m\u001b[39m\"\u001b[39m] \u001b[39m=\u001b[39m kwds[\u001b[39m\"\u001b[39m\u001b[39mhas_index_names\u001b[39m\u001b[39m\"\u001b[39m]\n\u001b[0;32m    931\u001b[0m \u001b[39mself\u001b[39m\u001b[39m.\u001b[39mhandles: IOHandles \u001b[39m|\u001b[39m \u001b[39mNone\u001b[39;00m \u001b[39m=\u001b[39m \u001b[39mNone\u001b[39;00m\n\u001b[1;32m--> 932\u001b[0m \u001b[39mself\u001b[39m\u001b[39m.\u001b[39m_engine \u001b[39m=\u001b[39m \u001b[39mself\u001b[39;49m\u001b[39m.\u001b[39;49m_make_engine(f, \u001b[39mself\u001b[39;49m\u001b[39m.\u001b[39;49mengine)\n",
      "File \u001b[1;32mc:\\Users\\camil\\anaconda3\\envs\\ada\\lib\\site-packages\\pandas\\io\\parsers\\readers.py:1216\u001b[0m, in \u001b[0;36mTextFileReader._make_engine\u001b[1;34m(self, f, engine)\u001b[0m\n\u001b[0;32m   1212\u001b[0m     mode \u001b[39m=\u001b[39m \u001b[39m\"\u001b[39m\u001b[39mrb\u001b[39m\u001b[39m\"\u001b[39m\n\u001b[0;32m   1213\u001b[0m \u001b[39m# error: No overload variant of \"get_handle\" matches argument types\u001b[39;00m\n\u001b[0;32m   1214\u001b[0m \u001b[39m# \"Union[str, PathLike[str], ReadCsvBuffer[bytes], ReadCsvBuffer[str]]\"\u001b[39;00m\n\u001b[0;32m   1215\u001b[0m \u001b[39m# , \"str\", \"bool\", \"Any\", \"Any\", \"Any\", \"Any\", \"Any\"\u001b[39;00m\n\u001b[1;32m-> 1216\u001b[0m \u001b[39mself\u001b[39m\u001b[39m.\u001b[39mhandles \u001b[39m=\u001b[39m get_handle(  \u001b[39m# type: ignore[call-overload]\u001b[39;49;00m\n\u001b[0;32m   1217\u001b[0m     f,\n\u001b[0;32m   1218\u001b[0m     mode,\n\u001b[0;32m   1219\u001b[0m     encoding\u001b[39m=\u001b[39;49m\u001b[39mself\u001b[39;49m\u001b[39m.\u001b[39;49moptions\u001b[39m.\u001b[39;49mget(\u001b[39m\"\u001b[39;49m\u001b[39mencoding\u001b[39;49m\u001b[39m\"\u001b[39;49m, \u001b[39mNone\u001b[39;49;00m),\n\u001b[0;32m   1220\u001b[0m     compression\u001b[39m=\u001b[39;49m\u001b[39mself\u001b[39;49m\u001b[39m.\u001b[39;49moptions\u001b[39m.\u001b[39;49mget(\u001b[39m\"\u001b[39;49m\u001b[39mcompression\u001b[39;49m\u001b[39m\"\u001b[39;49m, \u001b[39mNone\u001b[39;49;00m),\n\u001b[0;32m   1221\u001b[0m     memory_map\u001b[39m=\u001b[39;49m\u001b[39mself\u001b[39;49m\u001b[39m.\u001b[39;49moptions\u001b[39m.\u001b[39;49mget(\u001b[39m\"\u001b[39;49m\u001b[39mmemory_map\u001b[39;49m\u001b[39m\"\u001b[39;49m, \u001b[39mFalse\u001b[39;49;00m),\n\u001b[0;32m   1222\u001b[0m     is_text\u001b[39m=\u001b[39;49mis_text,\n\u001b[0;32m   1223\u001b[0m     errors\u001b[39m=\u001b[39;49m\u001b[39mself\u001b[39;49m\u001b[39m.\u001b[39;49moptions\u001b[39m.\u001b[39;49mget(\u001b[39m\"\u001b[39;49m\u001b[39mencoding_errors\u001b[39;49m\u001b[39m\"\u001b[39;49m, \u001b[39m\"\u001b[39;49m\u001b[39mstrict\u001b[39;49m\u001b[39m\"\u001b[39;49m),\n\u001b[0;32m   1224\u001b[0m     storage_options\u001b[39m=\u001b[39;49m\u001b[39mself\u001b[39;49m\u001b[39m.\u001b[39;49moptions\u001b[39m.\u001b[39;49mget(\u001b[39m\"\u001b[39;49m\u001b[39mstorage_options\u001b[39;49m\u001b[39m\"\u001b[39;49m, \u001b[39mNone\u001b[39;49;00m),\n\u001b[0;32m   1225\u001b[0m )\n\u001b[0;32m   1226\u001b[0m \u001b[39massert\u001b[39;00m \u001b[39mself\u001b[39m\u001b[39m.\u001b[39mhandles \u001b[39mis\u001b[39;00m \u001b[39mnot\u001b[39;00m \u001b[39mNone\u001b[39;00m\n\u001b[0;32m   1227\u001b[0m f \u001b[39m=\u001b[39m \u001b[39mself\u001b[39m\u001b[39m.\u001b[39mhandles\u001b[39m.\u001b[39mhandle\n",
      "File \u001b[1;32mc:\\Users\\camil\\anaconda3\\envs\\ada\\lib\\site-packages\\pandas\\io\\common.py:786\u001b[0m, in \u001b[0;36mget_handle\u001b[1;34m(path_or_buf, mode, encoding, compression, memory_map, is_text, errors, storage_options)\u001b[0m\n\u001b[0;32m    781\u001b[0m \u001b[39melif\u001b[39;00m \u001b[39misinstance\u001b[39m(handle, \u001b[39mstr\u001b[39m):\n\u001b[0;32m    782\u001b[0m     \u001b[39m# Check whether the filename is to be opened in binary mode.\u001b[39;00m\n\u001b[0;32m    783\u001b[0m     \u001b[39m# Binary mode does not support 'encoding' and 'newline'.\u001b[39;00m\n\u001b[0;32m    784\u001b[0m     \u001b[39mif\u001b[39;00m ioargs\u001b[39m.\u001b[39mencoding \u001b[39mand\u001b[39;00m \u001b[39m\"\u001b[39m\u001b[39mb\u001b[39m\u001b[39m\"\u001b[39m \u001b[39mnot\u001b[39;00m \u001b[39min\u001b[39;00m ioargs\u001b[39m.\u001b[39mmode:\n\u001b[0;32m    785\u001b[0m         \u001b[39m# Encoding\u001b[39;00m\n\u001b[1;32m--> 786\u001b[0m         handle \u001b[39m=\u001b[39m \u001b[39mopen\u001b[39;49m(\n\u001b[0;32m    787\u001b[0m             handle,\n\u001b[0;32m    788\u001b[0m             ioargs\u001b[39m.\u001b[39;49mmode,\n\u001b[0;32m    789\u001b[0m             encoding\u001b[39m=\u001b[39;49mioargs\u001b[39m.\u001b[39;49mencoding,\n\u001b[0;32m    790\u001b[0m             errors\u001b[39m=\u001b[39;49merrors,\n\u001b[0;32m    791\u001b[0m             newline\u001b[39m=\u001b[39;49m\u001b[39m\"\u001b[39;49m\u001b[39m\"\u001b[39;49m,\n\u001b[0;32m    792\u001b[0m         )\n\u001b[0;32m    793\u001b[0m     \u001b[39melse\u001b[39;00m:\n\u001b[0;32m    794\u001b[0m         \u001b[39m# Binary mode\u001b[39;00m\n\u001b[0;32m    795\u001b[0m         handle \u001b[39m=\u001b[39m \u001b[39mopen\u001b[39m(handle, ioargs\u001b[39m.\u001b[39mmode)\n",
      "\u001b[1;31mFileNotFoundError\u001b[0m: [Errno 2] No such file or directory: './Data/Characters_Matched_DF_Clean.csv'"
     ]
    }
   ],
   "source": [
    "CMdf = pd.read_csv(data_folder + 'Characters_Matched_DF_Clean.csv', sep='\\t',index_col = 0)\n",
    "CMdf.columns = ['Wikipedia movie ID', 'Character name', 'Agent Verbs', 'Patient Verbs', 'Attributes']\n",
    "CMdf.reset_index(inplace = True,drop=True)\n",
    "CMdf.drop_duplicates(inplace = True)"
   ]
  },
  {
   "cell_type": "code",
   "execution_count": null,
   "id": "6f32fd18",
   "metadata": {},
   "outputs": [],
   "source": [
    "CMdf = pd.merge(left= CMdf, right=df_char_movie, how='inner', on= ['Wikipedia movie ID', 'Character name'])"
   ]
  },
  {
   "cell_type": "code",
   "execution_count": null,
   "id": "79371250",
   "metadata": {},
   "outputs": [],
   "source": [
    "CMdf_c = CMdf[['Wikipedia movie ID','Character name','Actor gender','Agent Verbs','Patient Verbs','Attributes']]"
   ]
  },
  {
   "cell_type": "markdown",
   "id": "68e6a178",
   "metadata": {},
   "source": [
    "## Columns kept:\n",
    "In this section, we extract the following columns for each character:\n",
    "We keep only features such as for the preliminary sentiment analysis: \n",
    "- `Wikipedia movie ID`: ID of the movie from wikidata\n",
    "- `Character name`: character name associated with verbs and attributes\n",
    "- `Actor gender`\n",
    "- `Agent Verbs`\n",
    "- `Patient Verbs`\n",
    "- `Attributes`\n",
    "\n",
    "However, for later analysis, we would want to add other interesting features such as:\n",
    "- `Movie release date`: the release date of the movie the character is from\n",
    "- `nbr_words`: median of number of words in the plot summary corresponding to the movie ID\n",
    "- `nbr_characters`: median of number of characters present in the movie (that we have in the final data!)"
   ]
  },
  {
   "cell_type": "code",
   "execution_count": null,
   "id": "7fe6a243",
   "metadata": {},
   "outputs": [],
   "source": [
    "#our lexicon.analyze requires a string of words with a space between them. \n",
    "# to transform current AV,PV, Attributes into required format: \n",
    "\n",
    "cols = ['Agent Verbs', 'Patient Verbs', 'Attributes']\n",
    "\n",
    "for i in cols:\n",
    "    CMdf_c[i] = CMdf_c[i].str.replace(',' ,' ')\n",
    "    CMdf_c[i] = CMdf_c[i].str.replace('[' ,'')\n",
    "    CMdf_c[i] = CMdf_c[i].str.replace(']' ,'')\n",
    "    CMdf_c[i] = CMdf_c[i].str.replace(\"'\" ,'')"
   ]
  },
  {
   "cell_type": "code",
   "execution_count": null,
   "id": "ae81b72c",
   "metadata": {},
   "outputs": [],
   "source": [
    "CMdf_c.sample(10)"
   ]
  },
  {
   "cell_type": "markdown",
   "id": "962517af",
   "metadata": {},
   "source": [
    "## Feature extraction:\n",
    "-  `scores` returned by the `analyze` function of the `Empath library` for different lexical categories. We choose these categories to cover a wide range of lexical fields for the purpose of our data analysis and obtain a score for each one of them. The whole list of categories of this library can be found following this link: https://github.com/Ejhfast/empath-client/blob/master/empath/data/categories.tsv.\n",
    "- `Richness of the vocabulary`, that we compute by counting the median number of different words in the attributes, agent and patient verbs for women and men.\n",
    "Other informations:\n",
    "For later:\n",
    "- `Top10Words`: presence or absence of verbs or attributes in the top 10 words occurring the most (make categories of them ? such as top10 violence, top10 sex etc)\n",
    "\n",
    "These features could be added to the columns of the previous dataframe for each character but this would render the analysis too difficult for more than 15 000 characters !! For this reason, we first group the data in 2 groups: men and women, for a preliminary sentiment analysis but we want to extend this to common archetypes by gender later."
   ]
  },
  {
   "cell_type": "markdown",
   "id": "4a8d50e4",
   "metadata": {},
   "source": [
    "### 3.1  Lexical Analysis"
   ]
  },
  {
   "cell_type": "code",
   "execution_count": null,
   "id": "d86523c6",
   "metadata": {},
   "outputs": [],
   "source": [
    "# grouping of the data by gender\n",
    "# then we randomly mis data to create several subsets for male and female\n",
    "# each subset will be a sample for the PCA analysis\n",
    "women = CMdf_c.loc[CMdf_c['Actor gender'] == 'F']\n",
    "men = CMdf_c.loc[CMdf_c['Actor gender'] == 'M']"
   ]
  },
  {
   "cell_type": "code",
   "execution_count": null,
   "id": "2bfd4ff0",
   "metadata": {},
   "outputs": [],
   "source": [
    "women.fillna('', inplace=True)\n",
    "men.fillna('', inplace=True)"
   ]
  },
  {
   "cell_type": "code",
   "execution_count": null,
   "id": "ab748341",
   "metadata": {},
   "outputs": [],
   "source": [
    "for elem in ['Agent Verbs', 'Patient Verbs', 'Attributes']:\n",
    "\n",
    "    women[elem] = women[elem].astype(\"string\")\n",
    "    men[elem] = men[elem].astype(\"string\")"
   ]
  },
  {
   "cell_type": "code",
   "execution_count": null,
   "id": "f3e5d67d",
   "metadata": {},
   "outputs": [],
   "source": [
    "print('The cleaned and processed lexical information contains {} male movie characters and {} female movie characters'.format(len(men),len(women)))"
   ]
  },
  {
   "cell_type": "code",
   "execution_count": null,
   "id": "aabefff5",
   "metadata": {},
   "outputs": [],
   "source": [
    "men_agent_verbs = men['Agent Verbs'].str.split(expand=True).stack().value_counts().to_frame()\n",
    "men_agent_verbs = men_agent_verbs.reset_index(level=0)\n",
    "men_agent_verbs.set_axis(['agent_verb','verb_count'], axis='columns', inplace=True)\n",
    "men_agent_verbs.head(10)"
   ]
  },
  {
   "cell_type": "code",
   "execution_count": null,
   "id": "59ea7418",
   "metadata": {},
   "outputs": [],
   "source": [
    "women_agent_verbs = women['Agent Verbs'].str.split(expand=True).stack().value_counts().to_frame()\n",
    "women_agent_verbs = women_agent_verbs.reset_index(level=0)\n",
    "women_agent_verbs.set_axis(['agent_verb','verb_count'], axis='columns', inplace=True)\n",
    "women_agent_verbs"
   ]
  },
  {
   "cell_type": "code",
   "execution_count": null,
   "id": "1fe398f0",
   "metadata": {},
   "outputs": [],
   "source": [
    "men_patient_verbs = men['Patient Verbs'].str.split(expand=True).stack().value_counts().to_frame()\n",
    "men_patient_verbs = men_patient_verbs.reset_index(level=0)\n",
    "men_patient_verbs.set_axis(['patient_verb','verb_count'], axis='columns', inplace=True)\n",
    "men_patient_verbs.head()"
   ]
  },
  {
   "cell_type": "code",
   "execution_count": null,
   "id": "c2d10c7e",
   "metadata": {},
   "outputs": [],
   "source": [
    "women_patient_verbs = women['Patient Verbs'].str.split(expand=True).stack().value_counts().to_frame()\n",
    "women_patient_verbs = women_patient_verbs.reset_index(level=0)\n",
    "women_patient_verbs.set_axis(['patient_verb','verb_count'], axis='columns', inplace=True)\n",
    "women_patient_verbs.head()"
   ]
  },
  {
   "cell_type": "code",
   "execution_count": null,
   "id": "d6ad6e27",
   "metadata": {},
   "outputs": [],
   "source": [
    "men_attributes = men['Attributes'].str.split(expand=True).stack().value_counts().to_frame()\n",
    "men_attributes = men_attributes.reset_index(level=0)\n",
    "men_attributes.set_axis(['attributes','attribute_count'], axis='columns', inplace=True)\n",
    "men_attributes.head()"
   ]
  },
  {
   "cell_type": "code",
   "execution_count": null,
   "id": "39ad84ed",
   "metadata": {},
   "outputs": [],
   "source": [
    "women_attributes = women['Attributes'].str.split(expand=True).stack().value_counts()\n",
    "women_attributes = women_attributes.reset_index(level=0)\n",
    "women_attributes.set_axis(['attributes','attribute_count'], axis='columns', inplace=True)\n",
    "women_attributes.head()"
   ]
  },
  {
   "cell_type": "code",
   "execution_count": null,
   "id": "b2dc0db9",
   "metadata": {},
   "outputs": [],
   "source": [
    "# This dataframe shows the top agent verbs for men and women above a certain threshold (for either of the genders)\n",
    "# The values have been normalised by the total number of words for each gender.\n",
    "\n",
    "common_agent_verbs = pd.merge(left= men_agent_verbs, right=women_agent_verbs, how='inner', on= ['agent_verb'])\n",
    "common_agent_verbs.set_axis(['agent_verb','verb_count_men', 'verb_count_women'], axis='columns', inplace=True)\n",
    "\n",
    "total_verbs_men = sum(common_agent_verbs['verb_count_men'])\n",
    "total_verbs_women = sum(common_agent_verbs['verb_count_women'])\n",
    "\n",
    "common_agent_verbs['verb_count_men'] = 1000*common_agent_verbs['verb_count_men']/total_verbs_men\n",
    "common_agent_verbs['verb_count_women'] = 1000*common_agent_verbs['verb_count_women']/total_verbs_women\n",
    "\n",
    "common_agent_verbs = common_agent_verbs.loc[(common_agent_verbs['verb_count_men']>=10) | (common_agent_verbs['verb_count_women']>=10)]\n",
    "\n",
    "common_agent_verbs"
   ]
  },
  {
   "cell_type": "code",
   "execution_count": null,
   "id": "0c4befcd",
   "metadata": {},
   "outputs": [],
   "source": [
    "# This dataframe shows the top patient verbs for men and women above a certain threshold (for either of the genders)\n",
    "# The values have been normalised by the total number of words for each gender.\n",
    "\n",
    "common_patient_verbs = pd.merge(left= men_patient_verbs, right=women_patient_verbs, how='inner', on= ['patient_verb'])\n",
    "common_patient_verbs.set_axis(['agent_verb','verb_count_men', 'verb_count_women'], axis='columns', inplace=True)\n",
    "\n",
    "total_patient_verbs_men = sum(common_patient_verbs['verb_count_men'])\n",
    "total_patient_verbs_women = sum(common_patient_verbs['verb_count_women'])\n",
    "\n",
    "common_patient_verbs['verb_count_men'] = 1000*common_patient_verbs['verb_count_men']/total_patient_verbs_men\n",
    "common_patient_verbs['verb_count_women'] = 1000*common_patient_verbs['verb_count_women']/total_patient_verbs_women\n",
    "\n",
    "common_patient_verbs = common_patient_verbs.loc[(common_patient_verbs['verb_count_men']>=10) | (common_patient_verbs['verb_count_women']>=10)]\n",
    "\n",
    "common_patient_verbs"
   ]
  },
  {
   "cell_type": "code",
   "execution_count": null,
   "id": "81781090",
   "metadata": {
    "scrolled": true
   },
   "outputs": [],
   "source": [
    "# This dataframe shows the top attributes for men and women above a certain threshold (for either of the genders)\n",
    "# The values have been normalised by the total number of words for each gender.\n",
    "\n",
    "common_attributes = pd.merge(left= men_attributes, right=women_attributes, how='inner', on= ['attributes'])\n",
    "common_attributes.set_axis(['attributes','attribute_count_men', 'attribute_count_women'], axis='columns', inplace=True)\n",
    "\n",
    "total_attributes_men = sum(common_attributes['attribute_count_men'])\n",
    "total_attributes_women = sum(common_attributes['attribute_count_women'])\n",
    "\n",
    "common_attributes['attribute_count_men'] = 1000*common_attributes['attribute_count_men']/total_attributes_men\n",
    "common_attributes['attribute_count_women'] = 1000*common_attributes['attribute_count_women']/total_attributes_women\n",
    "\n",
    "common_attributes = common_attributes.loc[(common_attributes['attribute_count_men']>=10) | (common_attributes['attribute_count_women']>=10)]\n",
    "\n",
    "common_attributes"
   ]
  },
  {
   "cell_type": "markdown",
   "id": "fc76ccce",
   "metadata": {},
   "source": [
    "### 3.2 Empath Analysis"
   ]
  },
  {
   "cell_type": "code",
   "execution_count": null,
   "id": "36b79a08",
   "metadata": {},
   "outputs": [],
   "source": [
    "women_lex_av = pd.DataFrame([lexicon.analyze(women['Agent Verbs'].str.cat(sep = ' '))])\n",
    "women_lex_pv = pd.DataFrame([lexicon.analyze(women['Patient Verbs'].str.cat(sep = ' '))])\n",
    "women_lex_att = pd.DataFrame([lexicon.analyze(women['Attributes'].str.cat(sep = ' '))])"
   ]
  },
  {
   "cell_type": "code",
   "execution_count": null,
   "id": "695162c1",
   "metadata": {},
   "outputs": [],
   "source": [
    "men_lex_av = pd.DataFrame([lexicon.analyze(men['Agent Verbs'].str.cat(sep = ' '))])\n",
    "men_lex_pv = pd.DataFrame([lexicon.analyze(men['Patient Verbs'].str.cat(sep = ' '))])\n",
    "men_lex_att = pd.DataFrame([lexicon.analyze(men['Attributes'].str.cat(sep = ' '))])"
   ]
  },
  {
   "cell_type": "code",
   "execution_count": null,
   "id": "952db8c4",
   "metadata": {},
   "outputs": [],
   "source": [
    "gendered_lex = pd.concat([women_lex_av, women_lex_pv, women_lex_att, men_lex_av, men_lex_pv, men_lex_att], ignore_index=True)\n",
    "gendered_lex.rename(index={0:\"Agent Verb [F]\", 1:\"Patient Verb [F]\", 2: \"Attribute [F]\" ,3:\"Agent Verb [M]\", 4:\"Patient Verb [M]\", 5: \"Attribute [M]\"}, inplace = True)\n",
    "gendered_lex"
   ]
  },
  {
   "cell_type": "code",
   "execution_count": null,
   "id": "765ce2fb",
   "metadata": {},
   "outputs": [],
   "source": [
    "gendered_lex['Total words'] = gendered_lex.sum(axis=1)\n",
    "gendered_lex"
   ]
  },
  {
   "cell_type": "code",
   "execution_count": null,
   "id": "2cc059ba",
   "metadata": {},
   "outputs": [],
   "source": [
    "gendered_lex['Total words'] = gendered_lex.sum(axis=1)\n",
    "gendered_lex\n",
    "for col in gendered_lex.columns:\n",
    "    gendered_lex[col] = gendered_lex[col]/gendered_lex['Total words']\n"
   ]
  },
  {
   "cell_type": "code",
   "execution_count": null,
   "id": "f0c48fb9",
   "metadata": {
    "scrolled": true
   },
   "outputs": [],
   "source": [
    "gendered_lex"
   ]
  },
  {
   "cell_type": "code",
   "execution_count": null,
   "id": "8b6ae0f3",
   "metadata": {},
   "outputs": [],
   "source": []
  },
  {
   "cell_type": "code",
   "execution_count": null,
   "id": "d91c0ed8",
   "metadata": {},
   "outputs": [],
   "source": []
  },
  {
   "cell_type": "code",
   "execution_count": null,
   "id": "a6a3fce7",
   "metadata": {},
   "outputs": [],
   "source": []
  },
  {
   "cell_type": "code",
   "execution_count": null,
   "id": "3da1c340",
   "metadata": {},
   "outputs": [],
   "source": [
    "female_chars = women.sample(frac = 1, random_state = 1).reset_index()\n",
    "male_chars = men.sample(frac = 1, random_state = 1).reset_index()\n",
    "idx_f = np.arange(0, len(female_chars),500)\n",
    "samples_f = dict()\n",
    "for i in range(len(idx_f)-1):\n",
    "    samples_f['df_f_'+str(i)] = female_chars.iloc[idx_f[i]:idx_f[i+1],:]\n",
    "idx_m = np.arange(0, len(male_chars),500)\n",
    "samples_m = dict()\n",
    "for i in range(len(idx_m)-1):\n",
    "    samples_m['df_m_'+str(i)] = male_chars.iloc[idx_m[i]:idx_m[i+1],:]"
   ]
  },
  {
   "cell_type": "code",
   "execution_count": null,
   "id": "b57c8b0b",
   "metadata": {},
   "outputs": [],
   "source": [
    "def voc(x):\n",
    "    if len(x)==0:\n",
    "        res = 0\n",
    "    else:\n",
    "        res = len(x.split())\n",
    "    return res"
   ]
  },
  {
   "cell_type": "code",
   "execution_count": null,
   "id": "976a77c9",
   "metadata": {},
   "outputs": [],
   "source": [
    "med_num_av_f = []\n",
    "med_num_pv_f = []\n",
    "med_num_att_f = []\n",
    "\n",
    "for i in samples_f.keys():\n",
    "    times_av = samples_f[i]['Agent Verbs'].apply(lambda x: pd.Series({'sum': voc(x)}))\n",
    "    med_num_av_f.append(times_av['sum'].median())\n",
    "    times_pv = samples_f[i]['Patient Verbs'].apply(lambda x: pd.Series({'sum': voc(x)}))\n",
    "    med_num_pv_f.append(times_pv['sum'].median())\n",
    "    times_att = samples_f[i]['Attributes'].apply(lambda x: pd.Series({'sum': voc(x)}))\n",
    "    med_num_att_f.append(times_att['sum'].median())\n"
   ]
  },
  {
   "cell_type": "code",
   "execution_count": null,
   "id": "a8a62aaf",
   "metadata": {},
   "outputs": [],
   "source": [
    "med_num_av_m = []\n",
    "med_num_pv_m = []\n",
    "med_num_att_m = []\n",
    "\n",
    "for i in samples_m.keys():\n",
    "    times_av = samples_m[i]['Agent Verbs'].apply(lambda x: pd.Series({'sum': voc(x)}))\n",
    "    med_num_av_m.append(times_av['sum'].median())\n",
    "    times_pv = samples_m[i]['Patient Verbs'].apply(lambda x: pd.Series({'sum': voc(x)}))\n",
    "    med_num_pv_m.append(times_pv['sum'].median())\n",
    "    times_att = samples_m[i]['Attributes'].apply(lambda x: pd.Series({'sum': voc(x)}))\n",
    "    med_num_att_m.append(times_att['sum'].median())"
   ]
  },
  {
   "cell_type": "code",
   "execution_count": null,
   "id": "51860f30",
   "metadata": {},
   "outputs": [],
   "source": [
    "categories = ['help','money','wedding','domestic_work','hate','cheerfulness','aggression','occupation','envy','anticipation','family','crime','attractive','masculine','prison'\n",
    ",'pride','dispute','nervousness','weakness','government','horror','swearing_terms','suffering','wealthy','royalty','magic','school','beach','banking','social_media'\n",
    ",'exercise','night','kill','blue_collar_job','art','ridicule','play','computer','optimism','stealing','home','sexual','fear','irritability','superhero'\n",
    ",'business','driving','childish','cooking','exasperation','religion','surprise','reading','worship','leader','independence','movement','body','zest','confusion','sports','death','healing','legend','heroic','celebration'\n",
    ",'violence','dominant_hierarchical','military','neglect','exotic','love','communication','hearing','order','sympathy','anonymity','trust','ancient','deception'\n",
    ",'fight','dominant_personality','politeness','farming','meeting','war','speaking','listen','shopping','disgust','tool','gain','injury','rage','science','work','appearance','valuable','warmth','youth','sadness','fun','emotional','joy','affection','fashion','ugliness'\n",
    "'lust','shame','torment','economics','anger','politics','strength','breaking','shape_and_size','power','white_collar_job','terrorism','party','disappointment','poor','pain','beauty','timidity','philosophy','negotiate','negative_emotion','cleaning','competing','law','friends','achievement','alcohol'\n",
    ",'feminine','weapon','children','monster','giving','contentment','positive_emotion','writing','rural']"
   ]
  },
  {
   "cell_type": "code",
   "execution_count": null,
   "id": "c175758a",
   "metadata": {},
   "outputs": [],
   "source": [
    "cols = ['Agent Verbs', 'Patient Verbs', 'Attributes']\n",
    "samples = [samples_f, samples_m]\n",
    "for df in samples:\n",
    "    for key in df.keys():\n",
    "        df[key]['Descriptors'] = df[key][cols].apply(lambda row: ' '.join(row.values.astype(str)), axis=1)\n",
    "        "
   ]
  },
  {
   "cell_type": "code",
   "execution_count": null,
   "id": "e8391257",
   "metadata": {},
   "outputs": [],
   "source": [
    "sent_analysis_f = {}\n",
    "sent_analysis_m= {}\n",
    "\n",
    "for i, key in enumerate(samples_f.keys()):\n",
    "    sent_analysis_f['df_f_'+str(i)] = pd.DataFrame([lexicon.analyze(samples_f[key]['Descriptors'].str.cat(sep = ' '), categories = categories)])\n",
    "    \n",
    "for i, key in enumerate(samples_m.keys()):\n",
    "    sent_analysis_m['df_m_'+str(i)] = pd.DataFrame([lexicon.analyze(samples_m[key]['Descriptors'].str.cat(sep = ' '), categories = categories)])"
   ]
  },
  {
   "cell_type": "code",
   "execution_count": null,
   "id": "92e65f57",
   "metadata": {},
   "outputs": [],
   "source": [
    "feats_fem = pd.concat(sent_analysis_f.values(), ignore_index=True)\n",
    "feats_male = pd.concat(sent_analysis_m.values(), ignore_index=True)"
   ]
  },
  {
   "cell_type": "code",
   "execution_count": null,
   "id": "d0ebcbd8",
   "metadata": {},
   "outputs": [],
   "source": [
    "feats_fem['Total words'] = feats_fem.sum(axis=1)\n",
    "for col in feats_fem.columns:\n",
    "    feats_fem[col] = feats_fem[col]/feats_fem['Total words']\n",
    "\n",
    "feats_male['Total words'] = feats_male.sum(axis=1)\n",
    "for col in feats_male.columns:\n",
    "    feats_male[col] = feats_male[col]/feats_male['Total words']\n",
    "    \n",
    "feats_fem = feats_fem.drop(columns = ['Total words'])\n",
    "feats_male = feats_male.drop(columns = ['Total words'])"
   ]
  },
  {
   "cell_type": "code",
   "execution_count": null,
   "id": "f750b944",
   "metadata": {},
   "outputs": [],
   "source": [
    "feats_fem['med_num_av'] = med_num_av_f\n",
    "feats_fem['med_num_pv'] = med_num_pv_f\n",
    "feats_fem['med_num_att'] = med_num_att_f\n",
    "feats_fem['gender'] = 0\n",
    "feats_male['med_num_av'] = med_num_av_m\n",
    "feats_male['med_num_pv'] = med_num_pv_m\n",
    "feats_male['med_num_att'] = med_num_att_m\n",
    "feats_male['gender'] = 1\n"
   ]
  },
  {
   "cell_type": "code",
   "execution_count": null,
   "id": "be424fe7",
   "metadata": {},
   "outputs": [],
   "source": [
    "data = pd.concat([feats_fem, feats_male], axis = 0)"
   ]
  },
  {
   "cell_type": "code",
   "execution_count": null,
   "id": "c9f57624",
   "metadata": {},
   "outputs": [],
   "source": [
    "X = data.drop(columns = 'gender')\n",
    "y = data['gender']"
   ]
  },
  {
   "cell_type": "code",
   "execution_count": null,
   "id": "5db6dd15",
   "metadata": {},
   "outputs": [],
   "source": [
    "scaler = StandardScaler()\n",
    "scaled_df = pd.DataFrame(scaler.fit_transform(X), columns = X.columns).copy()\n",
    "\n",
    "%matplotlib inline\n",
    "\n",
    "pca_screeplot = PCA(n_components=2)\n",
    "pca_screeplot.fit_transform(scaled_df)\n",
    "pca = PCA().fit(scaled_df)\n",
    "\n",
    "# Percentage variance explaines\n",
    "ratio = pca_screeplot.explained_variance_ratio_\n",
    "print('The 2D PCA contains',round((ratio[0]+ratio[1])*100,4),'% of the information' )\n",
    "print(\"\")\n",
    "print ('Component 1 contains',ratio[0]*100,'% of the information' )\n",
    "print ('Component 2 contains',ratio[1]*100,'% of the information' )\n",
    "print(\"\")\n",
    "print ('So far,',(1-np.sum([ratio[0],ratio[1]]))*100,'% of the information has been lost' )\n",
    "\n",
    "#Scree Plot\n",
    "plt.ylabel(\"Eigenvalues\")\n",
    "plt.xlabel(\"Number of components\")\n",
    "plt.title(\"Scree plot for our PCA\")\n",
    "plt.axhline(y = 1, color = 'r', linestyle = '--')\n",
    "plt.plot(pca.explained_variance_)\n",
    "plt.show()"
   ]
  },
  {
   "cell_type": "code",
   "execution_count": null,
   "id": "3060425a",
   "metadata": {},
   "outputs": [],
   "source": [
    "%matplotlib inline\n",
    "\n",
    "plt.figure(figsize=(15,5))\n",
    "\n",
    "pca_2d = PCA(n_components=2)\n",
    "pca_2d.fit_transform(scaled_df)\n",
    "pca = PCA().fit(scaled_df)\n",
    "\n",
    "map_ = pd.DataFrame(pca_2d.components_,columns=scaled_df.columns)\n",
    "sns.heatmap(map_,cmap=\"PiYG\")\n",
    "plt.title(\"Features importance in Quotebank speakers PCA\")\n",
    "plt.yticks([0,1],['Component 1','Component 2'], fontsize=10)\n",
    "plt.xlabel('Features')\n",
    "plt.show()"
   ]
  },
  {
   "cell_type": "code",
   "execution_count": null,
   "id": "0525c3ad",
   "metadata": {},
   "outputs": [],
   "source": [
    "#2D PCA\n",
    "PCA_2d = PCA(n_components=2)\n",
    "PCs_2 = PCA_2d.fit_transform(scaled_df)\n",
    "res_PCA_2d = pd.DataFrame(data = PCs_2, columns = ['Principal component 1', 'Principal component 2'])\n",
    "\n",
    "#3D PCA\n",
    "PCA_3d = PCA(n_components=3)\n",
    "PCs_3 = PCA_3d.fit_transform(scaled_df)\n",
    "res_PCA_3d = pd.DataFrame(data = PCs_3, columns = ['Principal component 1', 'Principal component 2', 'Principal component 3'])"
   ]
  },
  {
   "cell_type": "code",
   "execution_count": null,
   "id": "b2b0feba",
   "metadata": {},
   "outputs": [],
   "source": [
    "#Visualize results 2D PCA\n",
    "%matplotlib inline\n",
    "\n",
    "plt.figure(figsize=(10,10))\n",
    "plt.xlabel('Principal Component 1',fontsize = 15)  \n",
    "plt.ylabel('Principal Component 2',fontsize = 15)  \n",
    "plt.title(\"PCA with 2 Components on gendered attributes, patient and agent verbs\",fontsize=20) \n",
    "\n",
    "plot = plt.scatter(res_PCA_3d.loc[:,'Principal component 1'], res_PCA_3d.loc[:,'Principal component 2'], c = pca_input['gender'])\n",
    "plt.legend(handles=plot.legend_elements()[0], labels=list(pca_input['gender']))\n",
    "\n",
    "plt.grid()\n",
    "#plt.savefig(\"data/PCA_visualization.png\")\n",
    "plt.show()"
   ]
  },
  {
   "cell_type": "code",
   "execution_count": null,
   "id": "559887d5",
   "metadata": {},
   "outputs": [],
   "source": [
    "loadings = PCA_2d.components_.T * np.sqrt(PCA_2d.explained_variance_)\n",
    "loading_matrix = pd.DataFrame(abs(loadings), columns=['PC1', 'PC2'], index=X.columns)\n",
    "loading_matrix = loading_matrix.sort_values('PC1', ascending = False)\n",
    "loading_matrix = loading_matrix.loc[loading_matrix['PC1']>0.8]\n",
    "loading_matrix.drop(columns = ['PC2'], axis = 1)"
   ]
  }
 ],
 "metadata": {
  "kernelspec": {
   "display_name": "Python 3.9.13 ('ada')",
   "language": "python",
   "name": "python3"
  },
  "language_info": {
   "codemirror_mode": {
    "name": "ipython",
    "version": 3
   },
   "file_extension": ".py",
   "mimetype": "text/x-python",
   "name": "python",
   "nbconvert_exporter": "python",
   "pygments_lexer": "ipython3",
   "version": "3.9.13"
  },
  "vscode": {
   "interpreter": {
    "hash": "8a04086ede2c9fba8dded5ae1d3862c5ce141bc2778c1114f47c151057d7c332"
   }
  }
 },
 "nbformat": 4,
 "nbformat_minor": 5
}
