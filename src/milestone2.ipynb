{
 "cells": [
  {
   "cell_type": "markdown",
   "id": "a3cc35f7",
   "metadata": {},
   "source": [
    "#                                    Into the male gaze...\n",
    "\n",
    "### ADA Project : Milestone 2"
   ]
  },
  {
   "cell_type": "markdown",
   "id": "af8f11d7",
   "metadata": {},
   "source": [
    "## Abstract :\n",
    "Art imitates life and life imitates art - Cinema has the power to capture the zeitgeist of an era. In this project we will be studying gender representation in cinema to better understand trends in societal sentiments. Our goal is to assess if representations differ by gender and if they have evolved through time. This project is motivated by the fact that the 20th century was a time of dynamic social upheavel and mobility, e.g., in Switzerland, womens sufferage at the federal level was granted as late as 1971.\n",
    "\n",
    "This project is based on the ___[CMU Movie Summary Corpus Datasets](http://www.cs.cmu.edu/~ark/personas/)___. It is predicated on the idea that character portrayal in cinema serves as a mirror for the society, which gave rise to the character. Character focused analysis will lean heavily on Stanfords NLP library in order to understand lexical groups by which characters are represented."
   ]
  },
  {
   "cell_type": "markdown",
   "id": "c5dc7902",
   "metadata": {},
   "source": [
    "## Table of Contents:\n",
    "\n",
    "    0 - Import necessary libraries, defining paths and where to run the script.\n",
    "    1 - Importing data\n",
    "    2 - Preliminary analysis and visualizations\n",
    "    3 - CoreNLP analysis\n",
    "    4 - Lexical Analysis\n",
    "    5 - PCA and feature selection\n",
    "    6 - Sentiment analysis\n"
   ]
  },
  {
   "cell_type": "markdown",
   "id": "8eb309dd",
   "metadata": {},
   "source": [
    "# 0. Libraries and paths\n",
    "\n",
    "First, import the necessary libraries and define our data paths:"
   ]
  },
  {
   "cell_type": "code",
   "execution_count": 3,
   "id": "aaaf5f77",
   "metadata": {},
   "outputs": [],
   "source": [
    "# Utilitaries\n",
    "\n",
    "import pandas as pd\n",
    "import numpy as np\n",
    "\n",
    "#Data visualization\n",
    "import matplotlib.pyplot as plt\n",
    "import seaborn as sns\n",
    "from  matplotlib.colors import LinearSegmentedColormap\n",
    "%matplotlib inline\n",
    "\n",
    "import math\n",
    "import os\n",
    "\n",
    "# External libraries needed for the project:\n",
    "\n",
    "#!pip install stanza\n",
    "#pip install deplacy\n",
    "#pip install empath\n",
    "#pip install thefuzz\n",
    "\n",
    "#Natural language processing libraries:\n",
    "import stanza\n",
    "import deplacy\n",
    "from thefuzz import process\n",
    "from empath import Empath \n",
    "from CoreNLPanalysis import *\n",
    "\n",
    "#PCA:\n",
    "from sklearn.preprocessing import StandardScaler\n",
    "from sklearn.decomposition import PCA\n",
    "\n",
    "#Avoid copy warnings:\n",
    "import warnings\n",
    "lexicon = Empath()\n",
    "\n",
    "os.environ[\"KMP_DUPLICATE_LIB_OK\"]=\"TRUE\""
   ]
  },
  {
   "cell_type": "code",
   "execution_count": 4,
   "id": "ef1dd944",
   "metadata": {},
   "outputs": [],
   "source": [
    "warnings.filterwarnings('ignore')"
   ]
  },
  {
   "cell_type": "code",
   "execution_count": 5,
   "id": "b0fe985f",
   "metadata": {},
   "outputs": [],
   "source": [
    "google_colab = False\n",
    "if google_colab:\n",
    "    data_folder = '/content/sample_data/'\n",
    "else:\n",
    "    data_folder = '../Data/'\n",
    "output_folder = '../Output/'"
   ]
  },
  {
   "cell_type": "markdown",
   "id": "adfbdc5a",
   "metadata": {},
   "source": [
    "# 1. Data importation"
   ]
  },
  {
   "cell_type": "code",
   "execution_count": 6,
   "id": "4d532bb5",
   "metadata": {},
   "outputs": [],
   "source": [
    "#Loading character metadata:\n",
    "characters = pd.read_csv(data_folder + \"character.metadata.tsv\", sep='\\t', header = None)\n",
    "characters.columns = ('Wikipedia movie ID', 'Freebase movie ID', 'Movie release date',\n",
    "              'Character name', 'Actor date of birth', 'Actor gender',\n",
    "              'Actor height (in meters)', 'Actor ethnicity (Freebase ID)', 'Actor name', \n",
    "              'Actor age at movie release', 'Freebase character/actor map ID', 'Freebase character ID', \n",
    "              'Freebase actor ID')\n",
    "characters['Movie release date'] = pd.to_datetime(characters['Movie release date'], errors = 'coerce').dt.year\n",
    "# change all formats to datetime and keep the year only\n",
    "# Many of the date formats are inconsistent. \n",
    "# Here we convert it all to just year as this is the temporal resolution in which we are interested"
   ]
  },
  {
   "cell_type": "code",
   "execution_count": 7,
   "id": "13f5bd22",
   "metadata": {},
   "outputs": [],
   "source": [
    "#Loading movie metadata:\n",
    "movies = pd.read_csv(data_folder + \"movie.metadata.tsv\", sep='\\t', header = None)\n",
    "movies.columns = ('Wikipedia movie ID' , 'Freebase movie ID' , 'Movie name' , \n",
    "                'Movie release date' , 'Movie box office revenue' , \n",
    "                'Movie runtime' , 'Movie languages' , 'Movie countries' , 'Movie genres')\n",
    "movies['Movie release date'] = pd.to_datetime(movies['Movie release date'], errors = 'coerce').dt.year\n"
   ]
  },
  {
   "cell_type": "code",
   "execution_count": 8,
   "id": "edd18926",
   "metadata": {},
   "outputs": [],
   "source": [
    "# Loading plot summaries:\n",
    "df_plot_summaries = pd.read_csv(data_folder + 'plot_summaries.txt', sep='\\t')\n",
    "df_plot_summaries.columns = ['Wikipedia movie ID', 'Plot Summary']"
   ]
  },
  {
   "cell_type": "markdown",
   "id": "0c4c06c5",
   "metadata": {},
   "source": [
    "# 2. Preliminary Analysis"
   ]
  },
  {
   "cell_type": "markdown",
   "id": "88e2f411",
   "metadata": {},
   "source": [
    "### 2.1  Movies Preliminary"
   ]
  },
  {
   "cell_type": "code",
   "execution_count": 20,
   "id": "d9088b96",
   "metadata": {},
   "outputs": [
    {
     "data": {
      "text/html": [
       "<div>\n",
       "<style scoped>\n",
       "    .dataframe tbody tr th:only-of-type {\n",
       "        vertical-align: middle;\n",
       "    }\n",
       "\n",
       "    .dataframe tbody tr th {\n",
       "        vertical-align: top;\n",
       "    }\n",
       "\n",
       "    .dataframe thead th {\n",
       "        text-align: right;\n",
       "    }\n",
       "</style>\n",
       "<table border=\"1\" class=\"dataframe\">\n",
       "  <thead>\n",
       "    <tr style=\"text-align: right;\">\n",
       "      <th></th>\n",
       "      <th>Wikipedia movie ID</th>\n",
       "      <th>Freebase movie ID</th>\n",
       "      <th>Movie name</th>\n",
       "      <th>Movie release date</th>\n",
       "      <th>Movie box office revenue</th>\n",
       "      <th>Movie runtime</th>\n",
       "      <th>Movie languages</th>\n",
       "      <th>Movie countries</th>\n",
       "      <th>Movie genres</th>\n",
       "    </tr>\n",
       "  </thead>\n",
       "  <tbody>\n",
       "    <tr>\n",
       "      <th>55084</th>\n",
       "      <td>33975474</td>\n",
       "      <td>/m/0hncf13</td>\n",
       "      <td>Rocky Mountain Express</td>\n",
       "      <td>2011.0</td>\n",
       "      <td>NaN</td>\n",
       "      <td>47.0</td>\n",
       "      <td>{}</td>\n",
       "      <td>{}</td>\n",
       "      <td>{\"/m/0jtdp\": \"Documentary\"}</td>\n",
       "    </tr>\n",
       "    <tr>\n",
       "      <th>75366</th>\n",
       "      <td>4264066</td>\n",
       "      <td>/m/0bt16h</td>\n",
       "      <td>Totally Doctor Who</td>\n",
       "      <td>NaN</td>\n",
       "      <td>NaN</td>\n",
       "      <td>NaN</td>\n",
       "      <td>{}</td>\n",
       "      <td>{}</td>\n",
       "      <td>{}</td>\n",
       "    </tr>\n",
       "    <tr>\n",
       "      <th>53114</th>\n",
       "      <td>588698</td>\n",
       "      <td>/m/02sxmw</td>\n",
       "      <td>And Now For Something Completely Different</td>\n",
       "      <td>1971.0</td>\n",
       "      <td>NaN</td>\n",
       "      <td>84.0</td>\n",
       "      <td>{\"/m/02h40lc\": \"English Language\"}</td>\n",
       "      <td>{\"/m/07ssc\": \"United Kingdom\"}</td>\n",
       "      <td>{\"/m/0gf28\": \"Parody\", \"/m/06nbt\": \"Satire\", \"...</td>\n",
       "    </tr>\n",
       "  </tbody>\n",
       "</table>\n",
       "</div>"
      ],
      "text/plain": [
       "       Wikipedia movie ID Freebase movie ID  \\\n",
       "55084            33975474        /m/0hncf13   \n",
       "75366             4264066         /m/0bt16h   \n",
       "53114              588698         /m/02sxmw   \n",
       "\n",
       "                                       Movie name  Movie release date  \\\n",
       "55084                      Rocky Mountain Express              2011.0   \n",
       "75366                          Totally Doctor Who                 NaN   \n",
       "53114  And Now For Something Completely Different              1971.0   \n",
       "\n",
       "       Movie box office revenue  Movie runtime  \\\n",
       "55084                       NaN           47.0   \n",
       "75366                       NaN            NaN   \n",
       "53114                       NaN           84.0   \n",
       "\n",
       "                          Movie languages                 Movie countries  \\\n",
       "55084                                  {}                              {}   \n",
       "75366                                  {}                              {}   \n",
       "53114  {\"/m/02h40lc\": \"English Language\"}  {\"/m/07ssc\": \"United Kingdom\"}   \n",
       "\n",
       "                                            Movie genres  \n",
       "55084                        {\"/m/0jtdp\": \"Documentary\"}  \n",
       "75366                                                 {}  \n",
       "53114  {\"/m/0gf28\": \"Parody\", \"/m/06nbt\": \"Satire\", \"...  "
      ]
     },
     "execution_count": 20,
     "metadata": {},
     "output_type": "execute_result"
    }
   ],
   "source": [
    "movies.sample(3)"
   ]
  },
  {
   "cell_type": "code",
   "execution_count": 21,
   "id": "9108d159",
   "metadata": {},
   "outputs": [
    {
     "name": "stdout",
     "output_type": "stream",
     "text": [
      "There are 81741 entries in the movies dataset\n"
     ]
    }
   ],
   "source": [
    "print('There are {} entries in the movies dataset'.format(len(movies)))"
   ]
  },
  {
   "cell_type": "code",
   "execution_count": 22,
   "id": "524dfdf7",
   "metadata": {},
   "outputs": [
    {
     "name": "stdout",
     "output_type": "stream",
     "text": [
      "100.0 % of movies have an associated Wikipedia movie ID\n",
      "100.0 % of movies have an associated Freebase movie ID\n",
      "100.0 % of movies have an associated Movie name\n",
      "91.56 % of movies have an associated Movie release date\n",
      "10.28 % of movies have an associated Movie box office revenue\n",
      "74.98 % of movies have an associated Movie runtime\n",
      "100.0 % of movies have an associated Movie languages\n",
      "100.0 % of movies have an associated Movie countries\n",
      "100.0 % of movies have an associated Movie genres\n"
     ]
    }
   ],
   "source": [
    "for name, values in movies.items():\n",
    "    print ('{:.4} % of movies have an associated {}'.format(100 * len(values.loc[values.notnull()])/len(values), name))"
   ]
  },
  {
   "cell_type": "markdown",
   "id": "a94ef66a",
   "metadata": {},
   "source": [
    "**Note :** Any analysis based on the movie revenue (as a measure of success) will need extra information, as probably basing the study only in 10% of the data is not enough.\n",
    "\n"
   ]
  },
  {
   "cell_type": "markdown",
   "id": "cb25000f",
   "metadata": {},
   "source": [
    "### Movies released per decade\n",
    "\n",
    "Here we aim to visualize the amount of data we have for each decade, as it will affect our analysis."
   ]
  },
  {
   "cell_type": "code",
   "execution_count": 27,
   "id": "1b3991c4",
   "metadata": {},
   "outputs": [
    {
     "data": {
      "image/png": "[encoded data removed]",
      "text/plain": [
       "<Figure size 640x480 with 1 Axes>"
      ]
     },
     "metadata": {},
     "output_type": "display_data"
    }
   ],
   "source": [
    "fig, ax = plt.subplots()\n",
    "ax = movies['Movie release date'].hist(bins = range(1880,2030,10), grid = True, xlabelsize = 8 ,xrot = 45)\n",
    "plt.xlabel('Year of Release')\n",
    "plt.ylabel('Number of movies')\n",
    "plt.title('Movies released over the Decades');"
   ]
  },
  {
   "cell_type": "markdown",
   "id": "7546e7f7",
   "metadata": {},
   "source": [
    "**Note:** On 16 December 2014, Google announced that it would shut down Freebase over the succeeding six months and help with the move of the data from Freebase to Wikidata. Data collection does not go through the entire 2010's decade"
   ]
  },
  {
   "cell_type": "code",
   "execution_count": 28,
   "id": "00a91cee",
   "metadata": {},
   "outputs": [
    {
     "name": "stdout",
     "output_type": "stream",
     "text": [
      "The dataset is comprised of movies with known releases between 1888 and 2016 \n"
     ]
    }
   ],
   "source": [
    "print('The dataset is comprised of movies with known releases between {0:n} and {1:n} '.format(movies['Movie release date'].min(), \n",
    "                                                                                               movies['Movie release date'].max()))"
   ]
  },
  {
   "cell_type": "markdown",
   "id": "3e9c638e",
   "metadata": {},
   "source": [
    "### Revenue analysis\n",
    "\n",
    "Although we have detected that almost 90% of movie revenues were missing, it can still be interesting to have a revenue analysis. "
   ]
  },
  {
   "cell_type": "code",
   "execution_count": 30,
   "id": "4746df96",
   "metadata": {},
   "outputs": [],
   "source": [
    "rmovies = movies[movies['Movie box office revenue'].notnull()]"
   ]
  },
  {
   "cell_type": "code",
   "execution_count": 31,
   "id": "6baa3deb",
   "metadata": {},
   "outputs": [
    {
     "data": {
      "image/png": "[encoded data removed]",
      "text/plain": [
       "<Figure size 640x480 with 1 Axes>"
      ]
     },
     "metadata": {},
     "output_type": "display_data"
    }
   ],
   "source": [
    "r_by_year = rmovies.groupby(\"Movie release date\")['Movie box office revenue'].agg(['mean','size']).reset_index()\n",
    "r_by_year.plot(kind = 'scatter', x = 'Movie release date', y = 'mean',s = 'size')\n",
    "plt.title('Mean Revenue by Year')\n",
    "plt.ylabel('Mean Revenue')\n",
    "plt.xlabel('Year of Release');"
   ]
  },
  {
   "cell_type": "markdown",
   "id": "c97f3e57",
   "metadata": {},
   "source": [
    "From the above plot we see that the mean revenues increase over time. It would be interesting to normalize this by inflation or perhaps some share of GDP. We also see that there is much more data present in the later years (dot size scaled by amount of revenues averaged to form datapoint. 1897 - 1 movie revenue, 2008 - 367 movie revenues)"
   ]
  },
  {
   "cell_type": "markdown",
   "id": "ebd9a430",
   "metadata": {},
   "source": [
    "### Country analysis\n",
    "\n",
    "As we are studying movie representations as a mirror of society, it is very important to understand from which countries most of those representations come from. It is also interesting to see if the countries for which we have more information are mantained or not through time."
   ]
  },
  {
   "cell_type": "code",
   "execution_count": 35,
   "id": "ed97f555",
   "metadata": {},
   "outputs": [],
   "source": [
    "# We create here a function to clean the values in the dataset and remove the ID (only keep the country name)\n",
    "def correct_countries(x):\n",
    "    if len(x)>2:\n",
    "        x= x.split(':')[1][0:-1]\n",
    "        res = x.split('\"')[1]\n",
    "    else:\n",
    "        res = 'NA' \n",
    "    return res\n",
    "\n",
    "movies[\"Movie countries corrected\"]= movies[\"Movie countries\"].apply(lambda x: correct_countries(x))"
   ]
  },
  {
   "cell_type": "code",
   "execution_count": 36,
   "id": "20108ef8",
   "metadata": {},
   "outputs": [
    {
     "data": {
      "text/html": [
       "<div>\n",
       "<style scoped>\n",
       "    .dataframe tbody tr th:only-of-type {\n",
       "        vertical-align: middle;\n",
       "    }\n",
       "\n",
       "    .dataframe tbody tr th {\n",
       "        vertical-align: top;\n",
       "    }\n",
       "\n",
       "    .dataframe thead th {\n",
       "        text-align: right;\n",
       "    }\n",
       "</style>\n",
       "<table border=\"1\" class=\"dataframe\">\n",
       "  <thead>\n",
       "    <tr style=\"text-align: right;\">\n",
       "      <th></th>\n",
       "      <th>Movie release date</th>\n",
       "      <th>Movie countries corrected</th>\n",
       "      <th>Count</th>\n",
       "    </tr>\n",
       "  </thead>\n",
       "  <tbody>\n",
       "    <tr>\n",
       "      <th>0</th>\n",
       "      <td>1888.0</td>\n",
       "      <td>United Kingdom</td>\n",
       "      <td>1</td>\n",
       "    </tr>\n",
       "    <tr>\n",
       "      <th>1</th>\n",
       "      <td>1889.0</td>\n",
       "      <td>United Kingdom</td>\n",
       "      <td>1</td>\n",
       "    </tr>\n",
       "    <tr>\n",
       "      <th>2</th>\n",
       "      <td>1890.0</td>\n",
       "      <td>United Kingdom</td>\n",
       "      <td>1</td>\n",
       "    </tr>\n",
       "    <tr>\n",
       "      <th>3</th>\n",
       "      <td>1890.0</td>\n",
       "      <td>United States of America</td>\n",
       "      <td>1</td>\n",
       "    </tr>\n",
       "    <tr>\n",
       "      <th>4</th>\n",
       "      <td>1891.0</td>\n",
       "      <td>NA</td>\n",
       "      <td>2</td>\n",
       "    </tr>\n",
       "    <tr>\n",
       "      <th>...</th>\n",
       "      <td>...</td>\n",
       "      <td>...</td>\n",
       "      <td>...</td>\n",
       "    </tr>\n",
       "    <tr>\n",
       "      <th>4109</th>\n",
       "      <td>2014.0</td>\n",
       "      <td>United States of America</td>\n",
       "      <td>4</td>\n",
       "    </tr>\n",
       "    <tr>\n",
       "      <th>4110</th>\n",
       "      <td>2015.0</td>\n",
       "      <td>NA</td>\n",
       "      <td>2</td>\n",
       "    </tr>\n",
       "    <tr>\n",
       "      <th>4111</th>\n",
       "      <td>2015.0</td>\n",
       "      <td>United States of America</td>\n",
       "      <td>2</td>\n",
       "    </tr>\n",
       "    <tr>\n",
       "      <th>4112</th>\n",
       "      <td>2016.0</td>\n",
       "      <td>NA</td>\n",
       "      <td>1</td>\n",
       "    </tr>\n",
       "    <tr>\n",
       "      <th>4113</th>\n",
       "      <td>2016.0</td>\n",
       "      <td>United States of America</td>\n",
       "      <td>2</td>\n",
       "    </tr>\n",
       "  </tbody>\n",
       "</table>\n",
       "<p>4114 rows × 3 columns</p>\n",
       "</div>"
      ],
      "text/plain": [
       "      Movie release date Movie countries corrected  Count\n",
       "0                 1888.0            United Kingdom      1\n",
       "1                 1889.0            United Kingdom      1\n",
       "2                 1890.0            United Kingdom      1\n",
       "3                 1890.0  United States of America      1\n",
       "4                 1891.0                        NA      2\n",
       "...                  ...                       ...    ...\n",
       "4109              2014.0  United States of America      4\n",
       "4110              2015.0                        NA      2\n",
       "4111              2015.0  United States of America      2\n",
       "4112              2016.0                        NA      1\n",
       "4113              2016.0  United States of America      2\n",
       "\n",
       "[4114 rows x 3 columns]"
      ]
     },
     "execution_count": 36,
     "metadata": {},
     "output_type": "execute_result"
    }
   ],
   "source": [
    "c_movies_filt = pd.DataFrame(movies.groupby([\"Movie release date\",\"Movie countries corrected\"]).size()).reset_index()\n",
    "c_movies_filt = c_movies_filt.set_axis([\"Movie release date\", \"Movie countries corrected\", 'Count'], axis='columns')\n",
    "c_movies_filt"
   ]
  },
  {
   "cell_type": "code",
   "execution_count": 37,
   "id": "bba95e93",
   "metadata": {},
   "outputs": [
    {
     "data": {
      "text/html": [
       "<div>\n",
       "<style scoped>\n",
       "    .dataframe tbody tr th:only-of-type {\n",
       "        vertical-align: middle;\n",
       "    }\n",
       "\n",
       "    .dataframe tbody tr th {\n",
       "        vertical-align: top;\n",
       "    }\n",
       "\n",
       "    .dataframe thead th {\n",
       "        text-align: right;\n",
       "    }\n",
       "</style>\n",
       "<table border=\"1\" class=\"dataframe\">\n",
       "  <thead>\n",
       "    <tr style=\"text-align: right;\">\n",
       "      <th></th>\n",
       "      <th>Country</th>\n",
       "      <th>Number of movies</th>\n",
       "    </tr>\n",
       "  </thead>\n",
       "  <tbody>\n",
       "    <tr>\n",
       "      <th>124</th>\n",
       "      <td>United States of America</td>\n",
       "      <td>34118</td>\n",
       "    </tr>\n",
       "    <tr>\n",
       "      <th>51</th>\n",
       "      <td>India</td>\n",
       "      <td>8294</td>\n",
       "    </tr>\n",
       "    <tr>\n",
       "      <th>123</th>\n",
       "      <td>United Kingdom</td>\n",
       "      <td>5477</td>\n",
       "    </tr>\n",
       "    <tr>\n",
       "      <th>40</th>\n",
       "      <td>France</td>\n",
       "      <td>3996</td>\n",
       "    </tr>\n",
       "    <tr>\n",
       "      <th>60</th>\n",
       "      <td>Japan</td>\n",
       "      <td>2321</td>\n",
       "    </tr>\n",
       "    <tr>\n",
       "      <th>58</th>\n",
       "      <td>Italy</td>\n",
       "      <td>1925</td>\n",
       "    </tr>\n",
       "    <tr>\n",
       "      <th>21</th>\n",
       "      <td>Canada</td>\n",
       "      <td>1471</td>\n",
       "    </tr>\n",
       "    <tr>\n",
       "      <th>3</th>\n",
       "      <td>Argentina</td>\n",
       "      <td>1291</td>\n",
       "    </tr>\n",
       "    <tr>\n",
       "      <th>48</th>\n",
       "      <td>Hong Kong</td>\n",
       "      <td>1120</td>\n",
       "    </tr>\n",
       "    <tr>\n",
       "      <th>5</th>\n",
       "      <td>Australia</td>\n",
       "      <td>874</td>\n",
       "    </tr>\n",
       "  </tbody>\n",
       "</table>\n",
       "</div>"
      ],
      "text/plain": [
       "                      Country  Number of movies\n",
       "124  United States of America             34118\n",
       "51                      India              8294\n",
       "123            United Kingdom              5477\n",
       "40                     France              3996\n",
       "60                      Japan              2321\n",
       "58                      Italy              1925\n",
       "21                     Canada              1471\n",
       "3                   Argentina              1291\n",
       "48                  Hong Kong              1120\n",
       "5                   Australia               874"
      ]
     },
     "execution_count": 37,
     "metadata": {},
     "output_type": "execute_result"
    }
   ],
   "source": [
    "most_common_count = movies.groupby([\"Movie countries corrected\"]).size().reset_index()\n",
    "most_common_count = most_common_count.set_axis([\"Country\", \"Number of movies\"], axis='columns')\n",
    "most_common_count.drop(most_common_count[most_common_count['Country'] == 'NA'].index, inplace = True)\n",
    "most_common_count = most_common_count.sort_values(\"Number of movies\", ascending=False)[0:10]\n",
    "most_common_count"
   ]
  },
  {
   "cell_type": "code",
   "execution_count": 38,
   "id": "410f70bf",
   "metadata": {},
   "outputs": [],
   "source": [
    "top10_country_data = c_movies_filt[c_movies_filt['Movie countries corrected'].isin(most_common_count['Country'])]"
   ]
  },
  {
   "cell_type": "code",
   "execution_count": 39,
   "id": "1685e223",
   "metadata": {},
   "outputs": [
    {
     "data": {
      "image/png": "[encoded data removed]",
      "text/plain": [
       "<Figure size 640x480 with 1 Axes>"
      ]
     },
     "metadata": {},
     "output_type": "display_data"
    }
   ],
   "source": [
    "sns.lineplot(x='Movie release date', y='Count',data = top10_country_data, hue = 'Movie countries corrected', legend=True)\n",
    "plt.xlabel(\"Year\")\n",
    "plt.ylabel(\"Numer of times country released movie\")\n",
    "plt.title(\"Release frequency by country over time\")\n",
    "plt.ylim([0,top10_country_data['Count'].max()+50])\n",
    "plt.xlim([top10_country_data['Movie release date'].min(), top10_country_data['Movie release date'].max()]);\n",
    "#plt.yscale('log')"
   ]
  },
  {
   "cell_type": "markdown",
   "id": "aa450148",
   "metadata": {},
   "source": [
    "In the last years, most of the movies are produced either in the USA or in India. We can also observe that Japan was the second country to release more movies (from the database) for a period of time. Italy has two peaks of activity as well around 1950 and 1963. "
   ]
  },
  {
   "cell_type": "markdown",
   "id": "bbf9c407",
   "metadata": {},
   "source": [
    "### 2.2 Characters Preliminary"
   ]
  },
  {
   "cell_type": "code",
   "execution_count": 40,
   "id": "6aaf3720",
   "metadata": {
    "scrolled": true
   },
   "outputs": [
    {
     "data": {
      "text/html": [
       "<div>\n",
       "<style scoped>\n",
       "    .dataframe tbody tr th:only-of-type {\n",
       "        vertical-align: middle;\n",
       "    }\n",
       "\n",
       "    .dataframe tbody tr th {\n",
       "        vertical-align: top;\n",
       "    }\n",
       "\n",
       "    .dataframe thead th {\n",
       "        text-align: right;\n",
       "    }\n",
       "</style>\n",
       "<table border=\"1\" class=\"dataframe\">\n",
       "  <thead>\n",
       "    <tr style=\"text-align: right;\">\n",
       "      <th></th>\n",
       "      <th>Wikipedia movie ID</th>\n",
       "      <th>Freebase movie ID</th>\n",
       "      <th>Movie release date</th>\n",
       "      <th>Character name</th>\n",
       "      <th>Actor date of birth</th>\n",
       "      <th>Actor gender</th>\n",
       "      <th>Actor height (in meters)</th>\n",
       "      <th>Actor ethnicity (Freebase ID)</th>\n",
       "      <th>Actor name</th>\n",
       "      <th>Actor age at movie release</th>\n",
       "      <th>Freebase character/actor map ID</th>\n",
       "      <th>Freebase character ID</th>\n",
       "      <th>Freebase actor ID</th>\n",
       "    </tr>\n",
       "  </thead>\n",
       "  <tbody>\n",
       "    <tr>\n",
       "      <th>38016</th>\n",
       "      <td>9628464</td>\n",
       "      <td>/m/02pmcp1</td>\n",
       "      <td>1994.0</td>\n",
       "      <td>NaN</td>\n",
       "      <td>1953-06-02</td>\n",
       "      <td>M</td>\n",
       "      <td>1.67</td>\n",
       "      <td>/m/06gbnc</td>\n",
       "      <td>Keith Allen</td>\n",
       "      <td>41.0</td>\n",
       "      <td>/m/0cg4yyf</td>\n",
       "      <td>NaN</td>\n",
       "      <td>/m/01bbwp</td>\n",
       "    </tr>\n",
       "    <tr>\n",
       "      <th>14811</th>\n",
       "      <td>20066135</td>\n",
       "      <td>/m/04yd_w6</td>\n",
       "      <td>1949.0</td>\n",
       "      <td>Hotel Clerk</td>\n",
       "      <td>1913-07-07</td>\n",
       "      <td>M</td>\n",
       "      <td>NaN</td>\n",
       "      <td>NaN</td>\n",
       "      <td>Fred F. Sears</td>\n",
       "      <td>35.0</td>\n",
       "      <td>/m/0n5bdwv</td>\n",
       "      <td>/m/0n5bdwy</td>\n",
       "      <td>/m/0ftl8s</td>\n",
       "    </tr>\n",
       "    <tr>\n",
       "      <th>170908</th>\n",
       "      <td>13780382</td>\n",
       "      <td>/m/03cj2bs</td>\n",
       "      <td>2007.0</td>\n",
       "      <td>NaN</td>\n",
       "      <td>1977-06-14</td>\n",
       "      <td>F</td>\n",
       "      <td>NaN</td>\n",
       "      <td>NaN</td>\n",
       "      <td>Francesca Guillen</td>\n",
       "      <td>29.0</td>\n",
       "      <td>/m/0gdl4pd</td>\n",
       "      <td>NaN</td>\n",
       "      <td>/m/0gdl4pg</td>\n",
       "    </tr>\n",
       "  </tbody>\n",
       "</table>\n",
       "</div>"
      ],
      "text/plain": [
       "        Wikipedia movie ID Freebase movie ID  Movie release date  \\\n",
       "38016              9628464        /m/02pmcp1              1994.0   \n",
       "14811             20066135        /m/04yd_w6              1949.0   \n",
       "170908            13780382        /m/03cj2bs              2007.0   \n",
       "\n",
       "       Character name Actor date of birth Actor gender  \\\n",
       "38016             NaN          1953-06-02            M   \n",
       "14811     Hotel Clerk          1913-07-07            M   \n",
       "170908            NaN          1977-06-14            F   \n",
       "\n",
       "        Actor height (in meters) Actor ethnicity (Freebase ID)  \\\n",
       "38016                       1.67                     /m/06gbnc   \n",
       "14811                        NaN                           NaN   \n",
       "170908                       NaN                           NaN   \n",
       "\n",
       "               Actor name  Actor age at movie release  \\\n",
       "38016         Keith Allen                        41.0   \n",
       "14811       Fred F. Sears                        35.0   \n",
       "170908  Francesca Guillen                        29.0   \n",
       "\n",
       "       Freebase character/actor map ID Freebase character ID Freebase actor ID  \n",
       "38016                       /m/0cg4yyf                   NaN         /m/01bbwp  \n",
       "14811                       /m/0n5bdwv            /m/0n5bdwy         /m/0ftl8s  \n",
       "170908                      /m/0gdl4pd                   NaN        /m/0gdl4pg  "
      ]
     },
     "execution_count": 40,
     "metadata": {},
     "output_type": "execute_result"
    }
   ],
   "source": [
    "characters.sample(3)"
   ]
  },
  {
   "cell_type": "code",
   "execution_count": 41,
   "id": "e028362c",
   "metadata": {},
   "outputs": [
    {
     "name": "stdout",
     "output_type": "stream",
     "text": [
      "There are 450669 entries in the characters dataset\n"
     ]
    }
   ],
   "source": [
    "print('There are {} entries in the characters dataset'.format(len(characters)))"
   ]
  },
  {
   "cell_type": "code",
   "execution_count": 42,
   "id": "6fd81472",
   "metadata": {},
   "outputs": [
    {
     "name": "stdout",
     "output_type": "stream",
     "text": [
      "100.0 % of characters have an associated Wikipedia movie ID\n",
      "100.0 % of characters have an associated Freebase movie ID\n",
      "97.78 % of characters have an associated Movie release date\n",
      "42.78 % of characters have an associated Character name\n",
      "76.45 % of characters have an associated Actor date of birth\n",
      "89.88 % of characters have an associated Actor gender\n",
      "34.35 % of characters have an associated Actor height (in meters)\n",
      "23.53 % of characters have an associated Actor ethnicity (Freebase ID)\n",
      "99.73 % of characters have an associated Actor name\n",
      "64.92 % of characters have an associated Actor age at movie release\n",
      "100.0 % of characters have an associated Freebase character/actor map ID\n",
      "42.78 % of characters have an associated Freebase character ID\n",
      "99.82 % of characters have an associated Freebase actor ID\n"
     ]
    }
   ],
   "source": [
    "for name, values in characters.items():\n",
    "    print ('{:.4} % of characters have an associated {}'.format(100 * len(values.loc[values.notnull()])/len(values), name))"
   ]
  },
  {
   "cell_type": "markdown",
   "id": "820d8e4c",
   "metadata": {},
   "source": [
    "### Age at movie release analysis"
   ]
  },
  {
   "cell_type": "code",
   "execution_count": 50,
   "id": "ab7464fb",
   "metadata": {},
   "outputs": [],
   "source": [
    "#we see lots of NA ages at release... lets drop those\n",
    "char_filt_age = characters[characters['Actor age at movie release'].notnull()]"
   ]
  },
  {
   "cell_type": "code",
   "execution_count": 51,
   "id": "ba208c3f",
   "metadata": {},
   "outputs": [
    {
     "name": "stdout",
     "output_type": "stream",
     "text": [
      "The number of characters with a negative age number is:  381\n"
     ]
    }
   ],
   "source": [
    "char_filt_age_negage = char_filt_age.loc[char_filt_age['Actor age at movie release']<0]\n",
    "print('The number of characters with a negative age number is: ', len(char_filt_age_negage))"
   ]
  },
  {
   "cell_type": "markdown",
   "id": "f015d769",
   "metadata": {},
   "source": [
    "**Note:** By taking the difference between the actor date of birth and movie release date we realize that the actor age is correct in magnitude but not in sign. Below, we correct the column by taking its absolute value."
   ]
  },
  {
   "cell_type": "code",
   "execution_count": 52,
   "id": "8b9f6aa7",
   "metadata": {},
   "outputs": [],
   "source": [
    "char_filt_age.loc[char_filt_age['Actor age at movie release'] < 0, \n",
    "                  'Actor age at movie release'] = char_filt_age['Actor age at movie release'].abs()"
   ]
  },
  {
   "cell_type": "code",
   "execution_count": 53,
   "id": "5ed5d738",
   "metadata": {},
   "outputs": [
    {
     "name": "stdout",
     "output_type": "stream",
     "text": [
      "Only 64.92 % of charactors have an associated actor age at release\n"
     ]
    }
   ],
   "source": [
    "print('Only {:.4} % of charactors have an associated actor age at release'.format(100 * len(char_filt_age)/len(characters)))"
   ]
  },
  {
   "cell_type": "code",
   "execution_count": 54,
   "id": "8b10991d",
   "metadata": {},
   "outputs": [],
   "source": [
    "char_age_grouped = char_filt_age.groupby([\"Movie release date\", \"Actor gender\"])['Actor age at movie release'].agg(['mean','size']).reset_index()\n"
   ]
  },
  {
   "cell_type": "code",
   "execution_count": 56,
   "id": "353853c7",
   "metadata": {},
   "outputs": [
    {
     "data": {
      "image/png": "[encoded data removed]",
      "text/plain": [
       "<Figure size 601.361x500 with 1 Axes>"
      ]
     },
     "metadata": {},
     "output_type": "display_data"
    }
   ],
   "source": [
    "# Here we break down the analysis by gender, \n",
    "\n",
    "sns.lmplot(x=\"Movie release date\", y='mean',data = char_age_grouped, hue = 'Actor gender', scatter_kws={\"s\":5})\n",
    "plt.xlabel(\"Year\")\n",
    "plt.ylabel(\"Average age of Actors at movie release\")\n",
    "plt.title(\"Average Age of Actors by Gender and Year of Release\")\n",
    "plt.ylim([0,100])\n",
    "plt.xlim([char_age_grouped[\"Movie release date\"].min(),char_age_grouped[\"Movie release date\"].max()]);"
   ]
  },
  {
   "cell_type": "code",
   "execution_count": 57,
   "id": "6e358268",
   "metadata": {},
   "outputs": [
    {
     "name": "stdout",
     "output_type": "stream",
     "text": [
      "The average age for male actors is  40.0 , whereas for actresses it is  33.0\n"
     ]
    }
   ],
   "source": [
    "avg_age_M = round(char_filt_age.loc[char_filt_age['Actor gender'] == 'M']['Actor age at movie release'].mean(),0)\n",
    "avg_age_F = round(char_filt_age.loc[char_filt_age['Actor gender'] == 'F']['Actor age at movie release'].mean(),0)\n",
    "print('The average age for male actors is ', avg_age_M, ', whereas for actresses it is ', avg_age_F)"
   ]
  },
  {
   "cell_type": "markdown",
   "id": "b7fd22fc",
   "metadata": {},
   "source": [
    "In the above figure we are displaying the average age at movie release for female and male actors, as well as the linear regression of the average age evolution over time. The shaded areas represent the 95% confidence interval for the regression.\n",
    "\n",
    "It is interesting to note that males tend to be older than women in cinema over the last hundred years (at least since 1940). This difference observed in the plot is also confirmed by the computed overall average age at realease for both genders (40 for men compared to 33 for women). \n",
    "\n",
    "We can also observe a tendency to employ older actors in movies. One of the hypothesis for this fact is that the age at release data is lacking for older actors at the beginning of the 20th century. Record keeping was not as good as it is now. This could be an explanation for the fact that the data we do have on actors with roles in the early 20th century are all quite young - ie they lived long enough to enter modern database management. "
   ]
  },
  {
   "cell_type": "markdown",
   "id": "5294c00f",
   "metadata": {},
   "source": [
    "### Female/Male actors ratio through time"
   ]
  },
  {
   "cell_type": "code",
   "execution_count": 59,
   "id": "4e2cd76f",
   "metadata": {
    "scrolled": false
   },
   "outputs": [
    {
     "data": {
      "text/html": [
       "<div>\n",
       "<style scoped>\n",
       "    .dataframe tbody tr th:only-of-type {\n",
       "        vertical-align: middle;\n",
       "    }\n",
       "\n",
       "    .dataframe tbody tr th {\n",
       "        vertical-align: top;\n",
       "    }\n",
       "\n",
       "    .dataframe thead th {\n",
       "        text-align: right;\n",
       "    }\n",
       "</style>\n",
       "<table border=\"1\" class=\"dataframe\">\n",
       "  <thead>\n",
       "    <tr style=\"text-align: right;\">\n",
       "      <th></th>\n",
       "      <th>Movie release date</th>\n",
       "      <th>Actor gender</th>\n",
       "      <th>Count</th>\n",
       "      <th>Gender Percentage</th>\n",
       "    </tr>\n",
       "  </thead>\n",
       "  <tbody>\n",
       "    <tr>\n",
       "      <th>0</th>\n",
       "      <td>1888.0</td>\n",
       "      <td>F</td>\n",
       "      <td>2</td>\n",
       "      <td>50.000000</td>\n",
       "    </tr>\n",
       "    <tr>\n",
       "      <th>4</th>\n",
       "      <td>1894.0</td>\n",
       "      <td>F</td>\n",
       "      <td>1</td>\n",
       "      <td>25.000000</td>\n",
       "    </tr>\n",
       "    <tr>\n",
       "      <th>7</th>\n",
       "      <td>1896.0</td>\n",
       "      <td>F</td>\n",
       "      <td>5</td>\n",
       "      <td>55.555556</td>\n",
       "    </tr>\n",
       "    <tr>\n",
       "      <th>9</th>\n",
       "      <td>1897.0</td>\n",
       "      <td>F</td>\n",
       "      <td>2</td>\n",
       "      <td>66.666667</td>\n",
       "    </tr>\n",
       "    <tr>\n",
       "      <th>11</th>\n",
       "      <td>1898.0</td>\n",
       "      <td>F</td>\n",
       "      <td>1</td>\n",
       "      <td>25.000000</td>\n",
       "    </tr>\n",
       "  </tbody>\n",
       "</table>\n",
       "</div>"
      ],
      "text/plain": [
       "    Movie release date Actor gender  Count  Gender Percentage\n",
       "0               1888.0            F      2          50.000000\n",
       "4               1894.0            F      1          25.000000\n",
       "7               1896.0            F      5          55.555556\n",
       "9               1897.0            F      2          66.666667\n",
       "11              1898.0            F      1          25.000000"
      ]
     },
     "execution_count": 59,
     "metadata": {},
     "output_type": "execute_result"
    }
   ],
   "source": [
    "char_gen = pd.DataFrame(characters.groupby(['Movie release date', 'Actor gender'])['Actor gender'].agg('size')).rename(columns={'Actor gender' : 'Count'}).reset_index()\n",
    "char_gen['Gender Percentage'] = char_gen['Count'] / char_gen.groupby('Movie release date')['Count'].transform('sum')*100\n",
    "char_gen = char_gen.loc[char_gen['Actor gender'] == 'F']\n",
    "char_gen.head()"
   ]
  },
  {
   "cell_type": "code",
   "execution_count": 60,
   "id": "7139e5ea",
   "metadata": {
    "scrolled": false
   },
   "outputs": [
    {
     "data": {
      "text/plain": [
       "<matplotlib.legend.Legend at 0x23564e1c610>"
      ]
     },
     "execution_count": 60,
     "metadata": {},
     "output_type": "execute_result"
    },
    {
     "data": {
      "image/png": "[encoded data removed]",
      "text/plain": [
       "<Figure size 640x480 with 1 Axes>"
      ]
     },
     "metadata": {},
     "output_type": "display_data"
    }
   ],
   "source": [
    "ax = sns.lineplot(x='Movie release date', y='Gender Percentage',data = char_gen, legend=True)\n",
    "l1 = ax.lines[0]\n",
    "x1 = l1.get_xydata()[:, 0]\n",
    "y1 = l1.get_xydata()[:, 1]\n",
    "ax.fill_between(x1, y1, 100, color=\"orange\", alpha=0.2, label = 'Males')\n",
    "\n",
    "ax.fill_between(x1, y1, color=\"blue\", alpha=0.2, label = 'Females')\n",
    "plt.xlabel(\"Year\")\n",
    "plt.ylabel(\"Percentage of females/males in movies per year\")\n",
    "plt.title(\"Percentage of female and male characters in movies over time\")\n",
    "plt.ylim([0,100])\n",
    "plt.xlim([char_gen['Movie release date'].min(), char_gen['Movie release date'].max()])\n",
    "plt.legend()\n",
    "\n",
    "#plt.yscale('log')"
   ]
  },
  {
   "cell_type": "markdown",
   "id": "2d4c6d40",
   "metadata": {},
   "source": [
    "From the above figure we observe a more dynamic behavior in the earlier years. This is due to small sample sizes which lead to large spikes in % for small deviations. From the middle of the 20th century, the ratio stabilizes until the very last years (data collection was limited in the 2010's). The most obvious takeaway is that male characters are in general more common than female characters"
   ]
  },
  {
   "cell_type": "markdown",
   "id": "839abee5",
   "metadata": {},
   "source": [
    "### Assessing missing character data"
   ]
  },
  {
   "cell_type": "code",
   "execution_count": 61,
   "id": "8013cc23",
   "metadata": {},
   "outputs": [
    {
     "name": "stdout",
     "output_type": "stream",
     "text": [
      "Missing \"character names\" in character metadata: 257875\n",
      "Missing \"Freebase character\" IDs in character metadata: 257865\n",
      "We can see that the number of missing character names ≈ missing Freebase character IDs\n",
      "There are 10 characters where we have a \"Freebase character ID\" but not \"character names\"\n",
      "Missing Character name AND Freebase character ID: 257865\n",
      "Missing character name but known Freebase character/actor map ID and Freebase actor ID: 257389\n"
     ]
    }
   ],
   "source": [
    "# Checking when either character name or Freebase movie ID are missing:\n",
    "print('Missing \"character names\" in character metadata: %d' %characters['Character name'].isnull().sum())\n",
    "print('Missing \"Freebase character\" IDs in character metadata: %d' %characters['Freebase character ID'].isnull().sum())\n",
    "print('We can see that the number of missing character names ≈ missing Freebase character IDs')\n",
    "print('There are 10 characters where we have a \"Freebase character ID\" but not \"character names\"')\n",
    "# Checking when both \"Character name\" and \"Freebase character ID are missing\":\n",
    "characters.loc[characters['Character name'].isnull() & characters['Freebase movie ID'].isnull()]\n",
    "missing_both_IDs = sum(characters.iloc[:, [3, 11]].isnull().all(1))\n",
    "print('Missing Character name AND Freebase character ID: %d' %missing_both_IDs)\n",
    "# Checking characters for which we don't have that character name buit we have both the Freebase character/actor map ID and Freebase actor ID\n",
    "characters.iloc[:, [3, 11]].isnull().all(1) # 4th column and 11th column\n",
    "poss_recov = sum(characters.iloc[:, [3]].isnull().all(1) & characters.iloc[:, [10, 12]].notnull().all(1))\n",
    "print('Missing character name but known Freebase character/actor map ID and Freebase actor ID: %d' %poss_recov)"
   ]
  },
  {
   "cell_type": "markdown",
   "id": "ad38415e",
   "metadata": {},
   "source": [
    "The previous analysis highlights the possibility of using the available Freebase IDs in order to recover a substantial amount to character names. The Freebase character/actor map will link the Freebase actor ID to the roles that the specific actor will have performed. As a result, we will be able to extract the Freebase character IDs, thus the missing character names. "
   ]
  },
  {
   "cell_type": "code",
   "execution_count": 9,
   "id": "4240bff7",
   "metadata": {},
   "outputs": [
    {
     "name": "stdout",
     "output_type": "stream",
     "text": [
      "The total number of characters that we obtain from the inner merge is: 450669\n"
     ]
    }
   ],
   "source": [
    "# Merging character with movie metadata with an inner join. \n",
    "\n",
    "'''We do an inner join because there are movies in the movie metadata for which we do not \n",
    "have any character information in character metadata and vice versa.\n",
    "For the future analysis we need both information about the characters\n",
    "and movie in which they appear'''\n",
    "\n",
    "df_char_movie = pd.merge(left= characters, right= movies, how='inner', on= ['Wikipedia movie ID', 'Freebase movie ID', 'Movie release date'])\n",
    "print('The total number of characters that we obtain from the inner merge is: %d' %len(df_char_movie))"
   ]
  },
  {
   "cell_type": "code",
   "execution_count": 10,
   "id": "c3671566",
   "metadata": {},
   "outputs": [
    {
     "name": "stdout",
     "output_type": "stream",
     "text": [
      "The resulting number of movies from the merge of characters and movies is: 64330\n"
     ]
    }
   ],
   "source": [
    "movies_with_characters = df_char_movie.groupby(['Wikipedia movie ID']).agg('size')\n",
    "print('The resulting number of movies from the merge of characters and movies is: %d'%len(movies_with_characters))"
   ]
  },
  {
   "cell_type": "code",
   "execution_count": 66,
   "id": "968610e0",
   "metadata": {},
   "outputs": [],
   "source": [
    "# Computing the total number of characters and the number of character names we have in our dataframe\n",
    "char_names_per_movie = df_char_movie.groupby('Wikipedia movie ID')['Character name'].count() # extracts number of characters we have (i.e. not coun ting NaNs)\n",
    "total_characters_per_movie = df_char_movie.groupby(['Wikipedia movie ID'])['Character name'].agg(['size'])"
   ]
  },
  {
   "cell_type": "code",
   "execution_count": 67,
   "id": "f771ef2a",
   "metadata": {},
   "outputs": [
    {
     "data": {
      "text/html": [
       "<div>\n",
       "<style scoped>\n",
       "    .dataframe tbody tr th:only-of-type {\n",
       "        vertical-align: middle;\n",
       "    }\n",
       "\n",
       "    .dataframe tbody tr th {\n",
       "        vertical-align: top;\n",
       "    }\n",
       "\n",
       "    .dataframe thead th {\n",
       "        text-align: right;\n",
       "    }\n",
       "</style>\n",
       "<table border=\"1\" class=\"dataframe\">\n",
       "  <thead>\n",
       "    <tr style=\"text-align: right;\">\n",
       "      <th></th>\n",
       "      <th>total_n°_characters (incl. NaN)</th>\n",
       "      <th>character_names (excl. NaN)</th>\n",
       "      <th>n°_missing_characters</th>\n",
       "      <th>percentage_missing</th>\n",
       "      <th>percentage_available</th>\n",
       "    </tr>\n",
       "    <tr>\n",
       "      <th>Wikipedia movie ID</th>\n",
       "      <th></th>\n",
       "      <th></th>\n",
       "      <th></th>\n",
       "      <th></th>\n",
       "      <th></th>\n",
       "    </tr>\n",
       "  </thead>\n",
       "  <tbody>\n",
       "    <tr>\n",
       "      <th>330</th>\n",
       "      <td>4</td>\n",
       "      <td>0</td>\n",
       "      <td>4</td>\n",
       "      <td>100.0</td>\n",
       "      <td>0.0</td>\n",
       "    </tr>\n",
       "    <tr>\n",
       "      <th>3217</th>\n",
       "      <td>14</td>\n",
       "      <td>14</td>\n",
       "      <td>0</td>\n",
       "      <td>0.0</td>\n",
       "      <td>100.0</td>\n",
       "    </tr>\n",
       "    <tr>\n",
       "      <th>3333</th>\n",
       "      <td>14</td>\n",
       "      <td>0</td>\n",
       "      <td>14</td>\n",
       "      <td>100.0</td>\n",
       "      <td>0.0</td>\n",
       "    </tr>\n",
       "    <tr>\n",
       "      <th>3746</th>\n",
       "      <td>15</td>\n",
       "      <td>15</td>\n",
       "      <td>0</td>\n",
       "      <td>0.0</td>\n",
       "      <td>100.0</td>\n",
       "    </tr>\n",
       "    <tr>\n",
       "      <th>3837</th>\n",
       "      <td>20</td>\n",
       "      <td>16</td>\n",
       "      <td>4</td>\n",
       "      <td>20.0</td>\n",
       "      <td>80.0</td>\n",
       "    </tr>\n",
       "  </tbody>\n",
       "</table>\n",
       "</div>"
      ],
      "text/plain": [
       "                    total_n°_characters (incl. NaN)  \\\n",
       "Wikipedia movie ID                                    \n",
       "330                                               4   \n",
       "3217                                             14   \n",
       "3333                                             14   \n",
       "3746                                             15   \n",
       "3837                                             20   \n",
       "\n",
       "                    character_names (excl. NaN)  n°_missing_characters  \\\n",
       "Wikipedia movie ID                                                       \n",
       "330                                           0                      4   \n",
       "3217                                         14                      0   \n",
       "3333                                          0                     14   \n",
       "3746                                         15                      0   \n",
       "3837                                         16                      4   \n",
       "\n",
       "                    percentage_missing  percentage_available  \n",
       "Wikipedia movie ID                                            \n",
       "330                              100.0                   0.0  \n",
       "3217                               0.0                 100.0  \n",
       "3333                             100.0                   0.0  \n",
       "3746                               0.0                 100.0  \n",
       "3837                              20.0                  80.0  "
      ]
     },
     "execution_count": 67,
     "metadata": {},
     "output_type": "execute_result"
    }
   ],
   "source": [
    "df_character_missing_stats = pd.merge(total_characters_per_movie, char_names_per_movie, on='Wikipedia movie ID')\n",
    "df_character_missing_stats['n°_missing_characters'] = df_character_missing_stats['size'] - df_character_missing_stats['Character name']\n",
    "df_character_missing_stats['percentage_missing'] = round(100 * df_character_missing_stats['n°_missing_characters'] / df_character_missing_stats['size'], 2) # computing percentages of missing character names\n",
    "df_character_missing_stats['percentage_available'] = 100 - df_character_missing_stats['percentage_missing']\n",
    "df_character_missing_stats = df_character_missing_stats.rename(columns={'size': 'total_n°_characters (incl. NaN)'})\n",
    "df_character_missing_stats = df_character_missing_stats.rename(columns={'Character name': 'character_names (excl. NaN)'})\n",
    "df_character_missing_stats.head()"
   ]
  },
  {
   "cell_type": "markdown",
   "id": "ba0d5d85",
   "metadata": {},
   "source": [
    "In the dataframe above we obtain:\n",
    "- the total amount of characters in a specific movie\n",
    "- the number of character names for a specific movie\n",
    "- the percentage of the character names that are missing per movie\n",
    "- the percentage of the character names that are available per movie"
   ]
  },
  {
   "cell_type": "code",
   "execution_count": 68,
   "id": "8a9b49b1",
   "metadata": {},
   "outputs": [
    {
     "data": {
      "image/png": "[encoded data removed]",
      "text/plain": [
       "<Figure size 640x480 with 1 Axes>"
      ]
     },
     "metadata": {},
     "output_type": "display_data"
    }
   ],
   "source": [
    "df_character_missing_stats['percentage_available'].hist(bins=10, grid=False)\n",
    "plt.xticks(np.arange(0, 110, step=10))\n",
    "plt.ylabel('N° movies')\n",
    "plt.xlabel('Percentage of available character names in [%]')\n",
    "plt.title('N° movies according to percentage of known character names')\n",
    "plt.show()"
   ]
  },
  {
   "cell_type": "markdown",
   "id": "e1a71cd8",
   "metadata": {},
   "source": [
    "We created the above figure to better visualize the data disctribution for available character names in movies. From the 81741 original movies, there are roughly 39 000 movies for which we have less than 10% of the character names."
   ]
  },
  {
   "cell_type": "code",
   "execution_count": 69,
   "id": "7b9fce91",
   "metadata": {},
   "outputs": [
    {
     "name": "stdout",
     "output_type": "stream",
     "text": [
      "The total number of movies where we have at least one character name is: 32571\n",
      "The percentage of movies for which we have at least one character name is: 50 %\n"
     ]
    }
   ],
   "source": [
    "# Let's calculate the percentage of movies for which we have at least 1 character name\n",
    "# Assuming that the character name that would be available is the one of the main character.\n",
    "\n",
    "more_1_char = df_character_missing_stats['character_names (excl. NaN)'][df_character_missing_stats['character_names (excl. NaN)'] >= 1].count()\n",
    "perc_1_char = 100*more_1_char/64329\n",
    "\n",
    "print('The total number of movies where we have at least one character name is: %d' %more_1_char)\n",
    "print('The percentage of movies for which we have at least one character name is: %d' %perc_1_char, '%')"
   ]
  },
  {
   "cell_type": "markdown",
   "id": "02fba723",
   "metadata": {},
   "source": [
    "We will assume for the rest of our analysis that having only one character name is enough, and that it will probably be the main character, hence appear in the plot."
   ]
  },
  {
   "cell_type": "markdown",
   "id": "1a7c9c8e",
   "metadata": {},
   "source": [
    "# 3. CoreNLP analysis"
   ]
  },
  {
   "cell_type": "markdown",
   "id": "195a32d2",
   "metadata": {},
   "source": [
    "Now we want to proceed to the analysis of the plots using the CoreNLP model. For that we first compare the plot information with the character and movie information, to not analyse plots we can not link to other data. The final dataframe contains only the Wikipedia Modie ID and Plot Summaries which are related to movie and character data."
   ]
  },
  {
   "cell_type": "code",
   "execution_count": 70,
   "id": "b4aeac92",
   "metadata": {},
   "outputs": [],
   "source": [
    "df_char_movie_plot = pd.merge(left= df_char_movie, right= df_plot_summaries, how='inner', on= ['Wikipedia movie ID'])\n",
    "df_plots_filt = df_char_movie_plot[['Wikipedia movie ID','Plot Summary']].drop_duplicates().reset_index()\n",
    "df_plots_filt = df_plots_filt.drop(columns = ['index'])"
   ]
  },
  {
   "cell_type": "markdown",
   "id": "ebae1461",
   "metadata": {},
   "source": [
    "The second step is to download the stanza NLP English model and load the NLP pipeline, importing the following processors for our analysis:\n",
    "\n",
    "- tokenize : for sentence segmentation and tockenizes the text.\n",
    "- pos : labels the tockens (e.g. NOUN)\n",
    "- lemma : gives the lemma for each word (e.g. said --> say)\n",
    "- depparse : performs syntactic dependency parsing in the sentences and outputs the relation between tockens.\n",
    "- ner : recognizes named entities (from proper name it gives \"Location\", \"Organization\", \"Person\".\n",
    "\n",
    "The analysis goes as follows: \n",
    "\n",
    "    1- For each plot we use the ner processor's output to get the \"PERSONS\" in the text and we take only the first name'\n",
    "    2- We then find attributes recurvively for the given name, by first checking the words in the sentence which are not roots (main verb), and then checking all adjectives and conjunctions related to those words. This gives us as output a dataframe with the character name and its associated attributes. \n",
    "    Attributes are adjectives and common noun words that relate to the mention as adjectival modifiers, noun-noun compounds, appositives, or copulas (nsubj or appos governors, or nsubj, appos, amod, nn dependents of an entity mention). \"These three roles capture three different ways in which character personas are revealed: the actions they take on others, the actions done to them, and the attributes by which they are described.\" [1]\n",
    "    3- The last step is finding agent and patient verbs using the deprel output of the depparse processor. Agent verbs are verbs for which the entity is an agent argument (nsubj or agent). Patient verbs are verbs for which the entity is the patient, theme or other argument (dobj, nsubjpass, iobj, or any prepositional argument prep *).\n",
    "\n",
    "    \n",
    "The result of this analysis is a dataframe containing movie IDs, character's first name, attributes, agent verbs and patient verbs."
   ]
  },
  {
   "cell_type": "code",
   "execution_count": 71,
   "id": "a07cff7a",
   "metadata": {},
   "outputs": [
    {
     "data": {
      "application/vnd.jupyter.widget-view+json": {
       "model_id": "313b22497fd44262856160bec823d36f",
       "version_major": 2,
       "version_minor": 0
      },
      "text/plain": [
       "Downloading https://raw.githubusercontent.com/stanfordnlp/stanza-resources/main/resources_1.4.1.json:   0%|   …"
      ]
     },
     "metadata": {},
     "output_type": "display_data"
    },
    {
     "name": "stderr",
     "output_type": "stream",
     "text": [
      "2022-11-18 20:28:53 INFO: Downloading default packages for language: en (English) ...\n",
      "2022-11-18 20:28:55 INFO: File exists: C:\\Users\\nerea\\stanza_resources\\en\\default.zip\n",
      "2022-11-18 20:28:59 INFO: Finished downloading models and saved to C:\\Users\\nerea\\stanza_resources.\n"
     ]
    }
   ],
   "source": [
    "stanza.download('en') # download English model"
   ]
  },
  {
   "cell_type": "code",
   "execution_count": 72,
   "id": "7690da16",
   "metadata": {},
   "outputs": [
    {
     "name": "stderr",
     "output_type": "stream",
     "text": [
      "2022-11-18 20:28:59 INFO: Checking for updates to resources.json in case models have been updated.  Note: this behavior can be turned off with download_method=None or download_method=DownloadMethod.REUSE_RESOURCES\n"
     ]
    },
    {
     "data": {
      "application/vnd.jupyter.widget-view+json": {
       "model_id": "e46f6c94941e488c9f88803dd121705a",
       "version_major": 2,
       "version_minor": 0
      },
      "text/plain": [
       "Downloading https://raw.githubusercontent.com/stanfordnlp/stanza-resources/main/resources_1.4.1.json:   0%|   …"
      ]
     },
     "metadata": {},
     "output_type": "display_data"
    },
    {
     "name": "stderr",
     "output_type": "stream",
     "text": [
      "2022-11-18 20:29:01 INFO: Loading these models for language: en (English):\n",
      "=========================\n",
      "| Processor | Package   |\n",
      "-------------------------\n",
      "| tokenize  | combined  |\n",
      "| pos       | combined  |\n",
      "| lemma     | combined  |\n",
      "| depparse  | combined  |\n",
      "| ner       | ontonotes |\n",
      "=========================\n",
      "\n",
      "2022-11-18 20:29:01 INFO: Use device: cpu\n",
      "2022-11-18 20:29:01 INFO: Loading: tokenize\n",
      "2022-11-18 20:29:01 INFO: Loading: pos\n",
      "2022-11-18 20:29:01 INFO: Loading: lemma\n",
      "2022-11-18 20:29:01 INFO: Loading: depparse\n",
      "2022-11-18 20:29:01 INFO: Loading: ner\n",
      "2022-11-18 20:29:02 INFO: Done loading processors!\n"
     ]
    }
   ],
   "source": [
    "nlp = stanza.Pipeline(lang='en', processors='tokenize, pos, lemma, depparse, ner')"
   ]
  },
  {
   "cell_type": "markdown",
   "id": "55186727",
   "metadata": {},
   "source": [
    "### **Note 1:** The two following cells should not be ran locally, because of the computational cost. \n",
    "Instead, we used Google Colab with GPU option to run the NLP analysis and create the resulting dataset. Here we keep it for a good understanding of the workflow. The result of the analysis is in the Data folder, and we can import it directly from there.\n",
    "\n",
    "**Note 2:**\n",
    "The `Analyse_Plots` function is in a *separated python file*, to avoid any information not critical to the understanding of our analysis. It is then imported from `CoreNLPanalysis.py`."
   ]
  },
  {
   "cell_type": "code",
   "execution_count": null,
   "id": "06b8235e",
   "metadata": {},
   "outputs": [],
   "source": [
    "df_NLP = Analyse_Plots(df_plots_filt, nlp)  "
   ]
  },
  {
   "cell_type": "code",
   "execution_count": null,
   "id": "bce7c41f",
   "metadata": {},
   "outputs": [],
   "source": [
    "df_NLP.to_csv(data_folder + \"Plot_NLP_Analysis.csv\", sep='\\t', header=None)"
   ]
  },
  {
   "cell_type": "code",
   "execution_count": 73,
   "id": "d26ffd27",
   "metadata": {},
   "outputs": [],
   "source": [
    "# Loading the data obtained from the NLP pipeline:\n",
    "clusters_df = pd.read_csv(data_folder + \"Plot_NLP_Analysis.csv\", sep='\\t', header = None)\n",
    "clusters_df = clusters_df.drop(columns=0)\n",
    "clusters_df.columns = ('Wikipedia movie ID', 'Character partial name', 'Agent Verbs', 'Patient Verbs', 'Attributes')"
   ]
  },
  {
   "cell_type": "code",
   "execution_count": 74,
   "id": "29af5bea",
   "metadata": {},
   "outputs": [
    {
     "data": {
      "text/html": [
       "<div>\n",
       "<style scoped>\n",
       "    .dataframe tbody tr th:only-of-type {\n",
       "        vertical-align: middle;\n",
       "    }\n",
       "\n",
       "    .dataframe tbody tr th {\n",
       "        vertical-align: top;\n",
       "    }\n",
       "\n",
       "    .dataframe thead th {\n",
       "        text-align: right;\n",
       "    }\n",
       "</style>\n",
       "<table border=\"1\" class=\"dataframe\">\n",
       "  <thead>\n",
       "    <tr style=\"text-align: right;\">\n",
       "      <th></th>\n",
       "      <th>Wikipedia movie ID</th>\n",
       "      <th>Character partial name</th>\n",
       "      <th>Agent Verbs</th>\n",
       "      <th>Patient Verbs</th>\n",
       "      <th>Attributes</th>\n",
       "    </tr>\n",
       "  </thead>\n",
       "  <tbody>\n",
       "    <tr>\n",
       "      <th>0</th>\n",
       "      <td>975900</td>\n",
       "      <td>Melanie</td>\n",
       "      <td>0.0</td>\n",
       "      <td>0.0</td>\n",
       "      <td>officer police</td>\n",
       "    </tr>\n",
       "    <tr>\n",
       "      <th>1</th>\n",
       "      <td>975900</td>\n",
       "      <td>Helena</td>\n",
       "      <td>['murdered', 'decides']</td>\n",
       "      <td>0.0</td>\n",
       "      <td>leader team</td>\n",
       "    </tr>\n",
       "    <tr>\n",
       "      <th>2</th>\n",
       "      <td>975900</td>\n",
       "      <td>Ballard</td>\n",
       "      <td>['finds', 'fight', 'recuperates']</td>\n",
       "      <td>['wiped']</td>\n",
       "      <td>interest unreciprocated crew</td>\n",
       "    </tr>\n",
       "    <tr>\n",
       "      <th>3</th>\n",
       "      <td>2238856</td>\n",
       "      <td>Pam</td>\n",
       "      <td>0.0</td>\n",
       "      <td>0.0</td>\n",
       "      <td>wife</td>\n",
       "    </tr>\n",
       "    <tr>\n",
       "      <th>4</th>\n",
       "      <td>2238856</td>\n",
       "      <td>Peter</td>\n",
       "      <td>['developing']</td>\n",
       "      <td>0.0</td>\n",
       "      <td>children</td>\n",
       "    </tr>\n",
       "    <tr>\n",
       "      <th>...</th>\n",
       "      <td>...</td>\n",
       "      <td>...</td>\n",
       "      <td>...</td>\n",
       "      <td>...</td>\n",
       "      <td>...</td>\n",
       "    </tr>\n",
       "    <tr>\n",
       "      <th>142265</th>\n",
       "      <td>31627556</td>\n",
       "      <td>Robin</td>\n",
       "      <td>0.0</td>\n",
       "      <td>0.0</td>\n",
       "      <td>friends</td>\n",
       "    </tr>\n",
       "    <tr>\n",
       "      <th>142266</th>\n",
       "      <td>913762</td>\n",
       "      <td>Victor</td>\n",
       "      <td>0.0</td>\n",
       "      <td>0.0</td>\n",
       "      <td>p.</td>\n",
       "    </tr>\n",
       "    <tr>\n",
       "      <th>142267</th>\n",
       "      <td>913762</td>\n",
       "      <td>Hibiki</td>\n",
       "      <td>['proceeds', 'attempt']</td>\n",
       "      <td>0.0</td>\n",
       "      <td>reporter</td>\n",
       "    </tr>\n",
       "    <tr>\n",
       "      <th>142268</th>\n",
       "      <td>913762</td>\n",
       "      <td>Marduk</td>\n",
       "      <td>['employ', 'considers']</td>\n",
       "      <td>0.0</td>\n",
       "      <td>rest leader</td>\n",
       "    </tr>\n",
       "    <tr>\n",
       "      <th>142269</th>\n",
       "      <td>913762</td>\n",
       "      <td>Silvie</td>\n",
       "      <td>0.0</td>\n",
       "      <td>0.0</td>\n",
       "      <td>pilot ace fighter</td>\n",
       "    </tr>\n",
       "  </tbody>\n",
       "</table>\n",
       "<p>142270 rows × 5 columns</p>\n",
       "</div>"
      ],
      "text/plain": [
       "        Wikipedia movie ID Character partial name  \\\n",
       "0                   975900                Melanie   \n",
       "1                   975900                 Helena   \n",
       "2                   975900                Ballard   \n",
       "3                  2238856                    Pam   \n",
       "4                  2238856                  Peter   \n",
       "...                    ...                    ...   \n",
       "142265            31627556                  Robin   \n",
       "142266              913762                 Victor   \n",
       "142267              913762                 Hibiki   \n",
       "142268              913762                 Marduk   \n",
       "142269              913762                 Silvie   \n",
       "\n",
       "                              Agent Verbs Patient Verbs  \\\n",
       "0                                     0.0           0.0   \n",
       "1                 ['murdered', 'decides']           0.0   \n",
       "2       ['finds', 'fight', 'recuperates']     ['wiped']   \n",
       "3                                     0.0           0.0   \n",
       "4                          ['developing']           0.0   \n",
       "...                                   ...           ...   \n",
       "142265                                0.0           0.0   \n",
       "142266                                0.0           0.0   \n",
       "142267            ['proceeds', 'attempt']           0.0   \n",
       "142268            ['employ', 'considers']           0.0   \n",
       "142269                                0.0           0.0   \n",
       "\n",
       "                          Attributes  \n",
       "0                     officer police  \n",
       "1                        leader team  \n",
       "2       interest unreciprocated crew  \n",
       "3                               wife  \n",
       "4                           children  \n",
       "...                              ...  \n",
       "142265                       friends  \n",
       "142266                            p.  \n",
       "142267                      reporter  \n",
       "142268                   rest leader  \n",
       "142269             pilot ace fighter  \n",
       "\n",
       "[142270 rows x 5 columns]"
      ]
     },
     "execution_count": 74,
     "metadata": {},
     "output_type": "execute_result"
    }
   ],
   "source": [
    "clusters_df"
   ]
  },
  {
   "cell_type": "markdown",
   "id": "559afb51",
   "metadata": {},
   "source": [
    "Before continuing our analysis, we need to get the complete names of the characters, in order to merge the CoreNLP result with the dataset containing movie and character data. For this, we first add a column with all complete character names in the dataset for each movie, and then we merge this data with the result of the NLP."
   ]
  },
  {
   "cell_type": "code",
   "execution_count": 75,
   "id": "4c6b2569",
   "metadata": {},
   "outputs": [],
   "source": [
    "df_char_movie_names = df_char_movie[['Wikipedia movie ID','Character name']].dropna()\n",
    "df_char_movie_names['All_names'] = df_char_movie_names.groupby(['Wikipedia movie ID'], \n",
    "            as_index = True)['Character name'].transform(lambda x: ','.join(x)) # creating column with all names by movie ID\n",
    "df_char_movie_names = df_char_movie_names[['Wikipedia movie ID', 'All_names']].drop_duplicates()\n",
    "df_char_movie_names['All_names'] = [x.strip('()').split(',') for x in df_char_movie_names['All_names']] \n",
    "#converting the values in this column into a list, as we need a list as input for following functions"
   ]
  },
  {
   "cell_type": "code",
   "execution_count": 76,
   "id": "2e3eb6bb",
   "metadata": {},
   "outputs": [
    {
     "data": {
      "text/html": [
       "<div>\n",
       "<style scoped>\n",
       "    .dataframe tbody tr th:only-of-type {\n",
       "        vertical-align: middle;\n",
       "    }\n",
       "\n",
       "    .dataframe tbody tr th {\n",
       "        vertical-align: top;\n",
       "    }\n",
       "\n",
       "    .dataframe thead th {\n",
       "        text-align: right;\n",
       "    }\n",
       "</style>\n",
       "<table border=\"1\" class=\"dataframe\">\n",
       "  <thead>\n",
       "    <tr style=\"text-align: right;\">\n",
       "      <th></th>\n",
       "      <th>Wikipedia movie ID</th>\n",
       "      <th>Character partial name</th>\n",
       "      <th>Agent Verbs</th>\n",
       "      <th>Patient Verbs</th>\n",
       "      <th>Attributes</th>\n",
       "      <th>All_names</th>\n",
       "    </tr>\n",
       "  </thead>\n",
       "  <tbody>\n",
       "    <tr>\n",
       "      <th>0</th>\n",
       "      <td>975900</td>\n",
       "      <td>Melanie</td>\n",
       "      <td>0.0</td>\n",
       "      <td>0.0</td>\n",
       "      <td>officer police</td>\n",
       "      <td>[Akooshay, Lieutenant Melanie Ballard, Desolat...</td>\n",
       "    </tr>\n",
       "    <tr>\n",
       "      <th>1</th>\n",
       "      <td>975900</td>\n",
       "      <td>Helena</td>\n",
       "      <td>['murdered', 'decides']</td>\n",
       "      <td>0.0</td>\n",
       "      <td>leader team</td>\n",
       "      <td>[Akooshay, Lieutenant Melanie Ballard, Desolat...</td>\n",
       "    </tr>\n",
       "    <tr>\n",
       "      <th>2</th>\n",
       "      <td>975900</td>\n",
       "      <td>Ballard</td>\n",
       "      <td>['finds', 'fight', 'recuperates']</td>\n",
       "      <td>['wiped']</td>\n",
       "      <td>interest unreciprocated crew</td>\n",
       "      <td>[Akooshay, Lieutenant Melanie Ballard, Desolat...</td>\n",
       "    </tr>\n",
       "  </tbody>\n",
       "</table>\n",
       "</div>"
      ],
      "text/plain": [
       "   Wikipedia movie ID Character partial name  \\\n",
       "0              975900                Melanie   \n",
       "1              975900                 Helena   \n",
       "2              975900                Ballard   \n",
       "\n",
       "                         Agent Verbs Patient Verbs  \\\n",
       "0                                0.0           0.0   \n",
       "1            ['murdered', 'decides']           0.0   \n",
       "2  ['finds', 'fight', 'recuperates']     ['wiped']   \n",
       "\n",
       "                     Attributes  \\\n",
       "0                officer police   \n",
       "1                   leader team   \n",
       "2  interest unreciprocated crew   \n",
       "\n",
       "                                           All_names  \n",
       "0  [Akooshay, Lieutenant Melanie Ballard, Desolat...  \n",
       "1  [Akooshay, Lieutenant Melanie Ballard, Desolat...  \n",
       "2  [Akooshay, Lieutenant Melanie Ballard, Desolat...  "
      ]
     },
     "execution_count": 76,
     "metadata": {},
     "output_type": "execute_result"
    }
   ],
   "source": [
    "clusters_df = clusters_df.merge(df_char_movie_names, how = 'inner', on = 'Wikipedia movie ID')\n",
    "clusters_df.head(3)"
   ]
  },
  {
   "cell_type": "markdown",
   "id": "253a0e35",
   "metadata": {},
   "source": [
    "### **Note:** Same as previously, we will not run those 5 following cells. \n",
    "They are here because they are useful to understand where our data comes from. We will continue the analysis by importing the resulting dataset."
   ]
  },
  {
   "cell_type": "code",
   "execution_count": null,
   "id": "586f491d",
   "metadata": {},
   "outputs": [],
   "source": [
    "# To get the full name we use the process.extractOne function, \n",
    "#which returns the higher correlations between a string and all other strings in a list. \n",
    "# Hence, by passing the partial name from the NLP analysis and comparing to all the complete character names, \n",
    "# we can get the complete name for each analysed character.\n",
    "def matching(col1, col2):\n",
    "    if process.extractOne(col1, list(col2))[1]>80: #threshold value of 80 found empirically\n",
    "        res = process.extractOne(col1, list(col2))[0]    \n",
    "    else:\n",
    "        res = 'Not found'\n",
    "    return res\n",
    "\n",
    "clusters_df['Full_name'] = clusters_df.apply(lambda x: matching(x['Character partial name'],\n",
    "                                                                            x['All_names']), axis=1)\n",
    "clusters_df.tail(50)"
   ]
  },
  {
   "cell_type": "code",
   "execution_count": null,
   "id": "6fc87dcf",
   "metadata": {},
   "outputs": [],
   "source": [
    "char_df = clusters_df.loc[clusters_df['Full_name'] != 'Not found'] #when the name is not found we remove the rows"
   ]
  },
  {
   "cell_type": "code",
   "execution_count": null,
   "id": "4d6d9172",
   "metadata": {},
   "outputs": [],
   "source": [
    "# Here we replace 0.0 by empty strings, to not mix strings and numbers\n",
    "categories = ['Agent Verbs', 'Patient Verbs', 'Attributes']\n",
    "\n",
    "for i,cat in enumerate(categories):\n",
    "    rem = char_df[cat] == '0.0'\n",
    "    char_df.loc[rem, cat] = char_df.loc[rem, cat].replace('0.0', '')\n",
    "char_df['All_Agent_Verbs'] = char_df.groupby(['Full_name'])['Agent Verbs'].transform(lambda x: ','.join(x))\n",
    "char_df['All_Patient_Verbs'] = char_df.groupby(['Full_name'])['Patient Verbs'].transform(lambda x: ','.join(x))\n",
    "char_df['All_Attributes'] = char_df.groupby(['Full_name'])['Attributes'].transform(lambda x: ','.join(x))"
   ]
  },
  {
   "cell_type": "code",
   "execution_count": null,
   "id": "858f76b4",
   "metadata": {},
   "outputs": [],
   "source": [
    "char_df = char_df[['Wikipedia movie ID', 'Full_name', 'All_Agent_Verbs', 'All_Patient_Verbs', 'All_Attributes']]"
   ]
  },
  {
   "cell_type": "code",
   "execution_count": null,
   "id": "9622d57c",
   "metadata": {},
   "outputs": [],
   "source": [
    "char_df.to_csv(data_folder + \"Characters_Matched_DF_Clean.csv\", sep='\\t', header=None)"
   ]
  },
  {
   "cell_type": "markdown",
   "id": "4a11f006",
   "metadata": {},
   "source": [
    "### Case study example for NLP analysis result for one movie : \"Bhagwan Dada\", movie ID 10644072 \n"
   ]
  },
  {
   "cell_type": "code",
   "execution_count": 77,
   "id": "70a02a3c",
   "metadata": {},
   "outputs": [
    {
     "data": {
      "text/plain": [
       "'A villager new to the big city – Bhagwaan  – turns to crime to avoid starvation. He is drawn into the gang of slum crime lord ‘dada’ Shambu  where he falls into every crime but one: violence against women. When an impoverished but honourable young widow hangs herself after being raped by Shambu Dada, the cries of her orphaned baby awaken Bhagwaan’s soul. He rebels against his former master. Bhagwaan vows to atone for his formerly evil life, and adopts the orphaned baby as his own son. The innocent young boy becomes Bhagwaan’s source of personal redemption and the inspiration for all that he does. 12 years later the man now lovingly hailed as “Bhagwaan Dada” has transformed the former crime-ridden slum into a safe and happy neighbourhood - Shantinagar - where his adopted son Govinda  has become the pride and joy of the whole community. Despite his own dark past, this loving father has worked hard to raise the boy as a good person with sound moral values. At this time, Bhagwaan chances to rescue another naïve young man new to the big city – Swaroop  – when Shambu Dada’s gang steal all Swaroop’s money. Impressed with Swaroop’s education as well as the similarity of situation to his own arrival in the city years before, Bhagwaan takes the “innocent and simple” villager under his protective wing. He arranges a good job, even brings Swaroop home to live with himself and his son, young Govinda. Swaroop and Bhagwaan claim each other as ‘brothers’.'"
      ]
     },
     "execution_count": 77,
     "metadata": {},
     "output_type": "execute_result"
    }
   ],
   "source": [
    "#Let's first extract the beginning of the plot summary of Bhagwan Dada, movie ID 10644072.\n",
    "\n",
    "text_extract_10644072 = '''A villager new to the big city – Bhagwaan  – turns to crime to avoid starvation. He is drawn into the gang of slum crime lord ‘dada’ Shambu  where he falls into every crime but one: violence against women. When an impoverished but honourable young widow hangs herself after being raped by Shambu Dada, the cries of her orphaned baby awaken Bhagwaan’s soul. He rebels against his former master. Bhagwaan vows to atone for his formerly evil life, and adopts the orphaned baby as his own son. The innocent young boy becomes Bhagwaan’s source of personal redemption and the inspiration for all that he does. 12 years later the man now lovingly hailed as “Bhagwaan Dada” has transformed the former crime-ridden slum into a safe and happy neighbourhood - Shantinagar - where his adopted son Govinda  has become the pride and joy of the whole community. Despite his own dark past, this loving father has worked hard to raise the boy as a good person with sound moral values. At this time, Bhagwaan chances to rescue another naïve young man new to the big city – Swaroop  – when Shambu Dada’s gang steal all Swaroop’s money. Impressed with Swaroop’s education as well as the similarity of situation to his own arrival in the city years before, Bhagwaan takes the “innocent and simple” villager under his protective wing. He arranges a good job, even brings Swaroop home to live with himself and his son, young Govinda. Swaroop and Bhagwaan claim each other as ‘brothers’.'''\n",
    "text_extract_10644072"
   ]
  },
  {
   "cell_type": "code",
   "execution_count": 78,
   "id": "e656c89a",
   "metadata": {},
   "outputs": [],
   "source": [
    "# Then, we run the pipeline over the plot summary which will run annotation over each sentence of the plot:\n",
    "doc_10644072 = nlp(text_extract_10644072)"
   ]
  },
  {
   "cell_type": "code",
   "execution_count": 79,
   "id": "475fe96a",
   "metadata": {
    "scrolled": false
   },
   "outputs": [
    {
     "name": "stdout",
     "output_type": "stream",
     "text": [
      "id: 1\tword: A\thead id: 2\thead: villager\tdeprel: det\n",
      "id: 2\tword: villager\thead id: 11\thead: turns\tdeprel: nsubj\n",
      "id: 3\tword: new\thead id: 2\thead: villager\tdeprel: amod\n",
      "id: 4\tword: to\thead id: 7\thead: city\tdeprel: case\n",
      "id: 5\tword: the\thead id: 7\thead: city\tdeprel: det\n",
      "id: 6\tword: big\thead id: 7\thead: city\tdeprel: amod\n",
      "id: 7\tword: city\thead id: 3\thead: new\tdeprel: obl\n",
      "id: 8\tword: –\thead id: 9\thead: Bhagwaan\tdeprel: punct\n",
      "id: 9\tword: Bhagwaan\thead id: 11\thead: turns\tdeprel: nsubj\n",
      "id: 10\tword: –\thead id: 9\thead: Bhagwaan\tdeprel: punct\n",
      "id: 11\tword: turns\thead id: 0\thead: root\tdeprel: root\n",
      "id: 12\tword: to\thead id: 13\thead: crime\tdeprel: case\n",
      "id: 13\tword: crime\thead id: 11\thead: turns\tdeprel: obl\n",
      "id: 14\tword: to\thead id: 15\thead: avoid\tdeprel: mark\n",
      "id: 15\tword: avoid\thead id: 11\thead: turns\tdeprel: advcl\n",
      "id: 16\tword: starvation\thead id: 15\thead: avoid\tdeprel: obj\n",
      "id: 17\tword: .\thead id: 11\thead: turns\tdeprel: punct\n"
     ]
    }
   ],
   "source": [
    "#Then, we can have a look at the dependencies of the words between each other for the first sentence:\n",
    "sentence = '''A villager new to the big city – Bhagwaan  – turns to crime to avoid starvation.'''\n",
    "doc_s = nlp(sentence)\n",
    "print(*[f'id: {word.id}\\tword: {word.text}\\thead id: {word.head}\\thead: {sent.words[word.head-1].text if word.head > 0 else \"root\"}\\tdeprel: {word.deprel}' for sent in doc_s.sentences for word in sent.words], sep='\\n')"
   ]
  },
  {
   "cell_type": "markdown",
   "id": "e9b05235",
   "metadata": {},
   "source": [
    "As we can see, the result show each tokenized word of the sentence, their id, their dependency relationship with other words and their ids in the same sentence. The deprel type relies on the Stanford typed dependencies representation \"which was designed to provide a simple description of the grammatical relationships in a sentence\" (Marneffe and Manning, 2008)."
   ]
  },
  {
   "cell_type": "code",
   "execution_count": 80,
   "id": "f2fa6395",
   "metadata": {
    "scrolled": false
   },
   "outputs": [
    {
     "name": "stdout",
     "output_type": "stream",
     "text": [
      "A          DET   <══════════╗     det\n",
      "villager   NOUN  ═════════╗═╝<╗   nsubj\n",
      "new        ADJ   ═══════╗<╝   ║   amod\n",
      "to         ADP   <════╗ ║     ║   case\n",
      "the        DET   <══╗ ║ ║     ║   det\n",
      "big        ADJ   <╗ ║ ║ ║     ║   amod\n",
      "city       NOUN  ═╝═╝═╝<╝     ║   obl\n",
      "–          PUNCT <╗           ║   punct\n",
      "Bhagwaan   PROPN ═╝═╗<══╗     ║   nsubj\n",
      "–          PUNCT <══╝   ║     ║   punct\n",
      "turns      VERB  ═══╗═╗═╝═════╝═╗ root\n",
      "to         ADP   <╗ ║ ║         ║ case\n",
      "crime      NOUN  ═╝<╝ ║         ║ obl\n",
      "to         PART  <══╗ ║         ║ mark\n",
      "avoid      VERB  ═╗═╝<╝         ║ advcl\n",
      "starvation NOUN  <╝             ║ obj\n",
      ".          PUNCT <══════════════╝ punct\n"
     ]
    }
   ],
   "source": [
    "#We can visualize the results of these annotations with the first sentences of the plot summary with the deplacy library:\n",
    "deplacy.render(doc_s)\n",
    "#Here, it also shows the position (pos) of the word, meaning the type of word it is:"
   ]
  },
  {
   "cell_type": "code",
   "execution_count": 81,
   "id": "7ee8591b",
   "metadata": {},
   "outputs": [
    {
     "data": {
      "text/html": [
       "\n",
       "        <iframe\n",
       "            width=\"100%\"\n",
       "            height=\"400\"\n",
       "            src=\"https://koichiyasuoka.github.io/deplacy/deplacy/editor.html#1%09A%09a%09DET%09DT%09Definite%3DInd%7CPronType%3DArt%092%09det%09_%09start_char%3D0%7Cend_char%3D1%7Cner%3DO%0A2%09villager%09villager%09NOUN%09NN%09Number%3DSing%0911%09nsubj%09_%09start_char%3D2%7Cend_char%3D10%7Cner%3DO%0A3%09new%09new%09ADJ%09JJ%09Degree%3DPos%092%09amod%09_%09start_char%3D11%7Cend_char%3D14%7Cner%3DO%0A4%09to%09to%09ADP%09IN%09_%097%09case%09_%09start_char%3D15%7Cend_char%3D17%7Cner%3DO%0A5%09the%09the%09DET%09DT%09Definite%3DDef%7CPronType%3DArt%097%09det%09_%09start_char%3D18%7Cend_char%3D21%7Cner%3DO%0A6%09big%09big%09ADJ%09JJ%09Degree%3DPos%097%09amod%09_%09start_char%3D22%7Cend_char%3D25%7Cner%3DO%0A7%09city%09city%09NOUN%09NN%09Number%3DSing%093%09obl%09_%09start_char%3D26%7Cend_char%3D30%7Cner%3DO%0A8%09%E2%80%93%09-%09PUNCT%09%3A%09_%099%09punct%09_%09start_char%3D31%7Cend_char%3D32%7Cner%3DO%0A9%09Bhagwaan%09Bhagwaan%09PROPN%09NNP%09Number%3DSing%0911%09nsubj%09_%09start_char%3D33%7Cend_char%3D41%7Cner%3DS-GPE%0A10%09%E2%80%93%09-%09PUNCT%09%3A%09_%099%09punct%09_%09start_char%3D43%7Cend_char%3D44%7Cner%3DO%0A11%09turns%09turn%09VERB%09VBZ%09Mood%3DInd%7CNumber%3DSing%7CPerson%3D3%7CTense%3DPres%7CVerbForm%3DFin%090%09root%09_%09start_char%3D45%7Cend_char%3D50%7Cner%3DO%0A12%09to%09to%09ADP%09IN%09_%0913%09case%09_%09start_char%3D51%7Cend_char%3D53%7Cner%3DO%0A13%09crime%09crime%09NOUN%09NN%09Number%3DSing%0911%09obl%09_%09start_char%3D54%7Cend_char%3D59%7Cner%3DO%0A14%09to%09to%09PART%09TO%09_%0915%09mark%09_%09start_char%3D60%7Cend_char%3D62%7Cner%3DO%0A15%09avoid%09avoid%09VERB%09VB%09VerbForm%3DInf%0911%09advcl%09_%09start_char%3D63%7Cend_char%3D68%7Cner%3DO%0A16%09starvation%09starvation%09NOUN%09NN%09Number%3DSing%0915%09obj%09_%09start_char%3D69%7Cend_char%3D79%7Cner%3DO%0A17%09.%09.%09PUNCT%09.%09_%0911%09punct%09_%09start_char%3D79%7Cend_char%3D80%7Cner%3DO%0A%0A\"\n",
       "            frameborder=\"0\"\n",
       "            allowfullscreen\n",
       "            \n",
       "        ></iframe>\n",
       "        "
      ],
      "text/plain": [
       "<IPython.lib.display.IFrame at 0x23555afed60>"
      ]
     },
     "metadata": {},
     "output_type": "display_data"
    }
   ],
   "source": [
    "#Another type of visualization, maybe more visual, with port=None to be visualized directly within the notebook is the following:\n",
    "deplacy.serve(doc_s, port=None, RtoL=False)"
   ]
  },
  {
   "cell_type": "code",
   "execution_count": 83,
   "id": "923ea3f2",
   "metadata": {},
   "outputs": [],
   "source": [
    "#Then, we select the plot summary within all the plots, to demonstrate a typical output we get from our pipeline:\n",
    "plot_10644072 = df_plots_filt[df_plots_filt['Wikipedia movie ID']==10644072].reset_index()"
   ]
  },
  {
   "cell_type": "code",
   "execution_count": 84,
   "id": "3a41aad7",
   "metadata": {},
   "outputs": [
    {
     "name": "stdout",
     "output_type": "stream",
     "text": [
      "Plot analysed  0  out of  1\n"
     ]
    },
    {
     "data": {
      "text/html": [
       "<div>\n",
       "<style scoped>\n",
       "    .dataframe tbody tr th:only-of-type {\n",
       "        vertical-align: middle;\n",
       "    }\n",
       "\n",
       "    .dataframe tbody tr th {\n",
       "        vertical-align: top;\n",
       "    }\n",
       "\n",
       "    .dataframe thead th {\n",
       "        text-align: right;\n",
       "    }\n",
       "</style>\n",
       "<table border=\"1\" class=\"dataframe\">\n",
       "  <thead>\n",
       "    <tr style=\"text-align: right;\">\n",
       "      <th></th>\n",
       "      <th>Wikipedia movie ID</th>\n",
       "      <th>Character_Name</th>\n",
       "      <th>Agent Verbs</th>\n",
       "      <th>Patient Verbs</th>\n",
       "      <th>Attributes</th>\n",
       "    </tr>\n",
       "  </thead>\n",
       "  <tbody>\n",
       "    <tr>\n",
       "      <th>0</th>\n",
       "      <td>10644072</td>\n",
       "      <td>Bhagwaan</td>\n",
       "      <td>[turns, falls, vows, does, chances, takes, doe...</td>\n",
       "      <td>[spills, killed, injured]</td>\n",
       "      <td>soul source inspiration home revenge territory...</td>\n",
       "    </tr>\n",
       "    <tr>\n",
       "      <th>1</th>\n",
       "      <td>10644072</td>\n",
       "      <td>Govinda</td>\n",
       "      <td>[become, mistakes, remaining, invites, late, p...</td>\n",
       "      <td>0.0</td>\n",
       "      <td>son son young young brave little legs murder w...</td>\n",
       "    </tr>\n",
       "    <tr>\n",
       "      <th>2</th>\n",
       "      <td>10644072</td>\n",
       "      <td>Swaroop</td>\n",
       "      <td>[falls, does, claim, hears, soul, hides, loves...</td>\n",
       "      <td>[hears, returned, injured]</td>\n",
       "      <td>city money education city soul wife ecstatic m...</td>\n",
       "    </tr>\n",
       "    <tr>\n",
       "      <th>3</th>\n",
       "      <td>10644072</td>\n",
       "      <td>Shambu</td>\n",
       "      <td>[steal, lusts, sworn, dumps, escaped, vows, la...</td>\n",
       "      <td>[convicted]</td>\n",
       "      <td>gang assault gang men activities crime empire ...</td>\n",
       "    </tr>\n",
       "    <tr>\n",
       "      <th>4</th>\n",
       "      <td>10644072</td>\n",
       "      <td>Bijli</td>\n",
       "      <td>[insists, streetwalker, spills, worker, manage...</td>\n",
       "      <td>0.0</td>\n",
       "      <td>streetwalker worker sex fraud attraction behav...</td>\n",
       "    </tr>\n",
       "    <tr>\n",
       "      <th>5</th>\n",
       "      <td>10644072</td>\n",
       "      <td>Madhu</td>\n",
       "      <td>[reciprocates, comes, help]</td>\n",
       "      <td>0.0</td>\n",
       "      <td>reporter newspaper crime exhausted</td>\n",
       "    </tr>\n",
       "    <tr>\n",
       "      <th>6</th>\n",
       "      <td>10644072</td>\n",
       "      <td>Geeta</td>\n",
       "      <td>[discover, goes, realise]</td>\n",
       "      <td>[interrupted]</td>\n",
       "      <td>sister wedding</td>\n",
       "    </tr>\n",
       "  </tbody>\n",
       "</table>\n",
       "</div>"
      ],
      "text/plain": [
       "   Wikipedia movie ID Character_Name  \\\n",
       "0            10644072       Bhagwaan   \n",
       "1            10644072        Govinda   \n",
       "2            10644072        Swaroop   \n",
       "3            10644072         Shambu   \n",
       "4            10644072          Bijli   \n",
       "5            10644072          Madhu   \n",
       "6            10644072          Geeta   \n",
       "\n",
       "                                         Agent Verbs  \\\n",
       "0  [turns, falls, vows, does, chances, takes, doe...   \n",
       "1  [become, mistakes, remaining, invites, late, p...   \n",
       "2  [falls, does, claim, hears, soul, hides, loves...   \n",
       "3  [steal, lusts, sworn, dumps, escaped, vows, la...   \n",
       "4  [insists, streetwalker, spills, worker, manage...   \n",
       "5                        [reciprocates, comes, help]   \n",
       "6                          [discover, goes, realise]   \n",
       "\n",
       "                Patient Verbs  \\\n",
       "0   [spills, killed, injured]   \n",
       "1                         0.0   \n",
       "2  [hears, returned, injured]   \n",
       "3                 [convicted]   \n",
       "4                         0.0   \n",
       "5                         0.0   \n",
       "6               [interrupted]   \n",
       "\n",
       "                                          Attributes  \n",
       "0  soul source inspiration home revenge territory...  \n",
       "1  son son young young brave little legs murder w...  \n",
       "2  city money education city soul wife ecstatic m...  \n",
       "3  gang assault gang men activities crime empire ...  \n",
       "4  streetwalker worker sex fraud attraction behav...  \n",
       "5                 reporter newspaper crime exhausted  \n",
       "6                                     sister wedding  "
      ]
     },
     "execution_count": 84,
     "metadata": {},
     "output_type": "execute_result"
    }
   ],
   "source": [
    "# This may take a lot of time to run (4 hours or more without google colab GPU) if you don't select a subset of plot summaries:\n",
    "# Here, we select the movie ID of our example and it returns us a dataframe with all the characters (entities) found in the plot summary\n",
    "# with their corresponding agent verbs, patient verbs and attributes:\n",
    "df_NLP = Analyse_Plots(plot_10644072, nlp)  \n",
    "df_NLP"
   ]
  },
  {
   "cell_type": "code",
   "execution_count": 85,
   "id": "9d145412",
   "metadata": {},
   "outputs": [
    {
     "name": "stdout",
     "output_type": "stream",
     "text": [
      "Shambu 's attributes in the movie plot correspond to : ['gang assault gang men activities crime empire reformation evil escape fugitive gang boots nail dying']\n",
      "Shambu 's agent verbs, meaning verbs for which he's taking the action in the movie plot correspond to : [list(['steal', 'lusts', 'sworn', 'dumps', 'escaped', 'vows', 'late', 'intended', 'vented', 'confronts', 'manages'])]\n",
      "Shambu 's patient verbs, meaning verbs for which he is the action's subject in the movie plot correspond to : [list(['convicted'])]\n",
      "    \n",
      "Bhagwaan 's attributes in the movie plot correspond to : ['soul source inspiration home revenge territory reformation savvy street invitation jubilant interested end chest legacy']\n",
      "Bhagwaan 's agent verbs, meaning verbs for which he's taking the action in the movie plot correspond to : [list(['turns', 'falls', 'vows', 'does', 'chances', 'takes', 'does', 'rescue', 'invites', 'realise', 'believes', 'discovers', 'helps', 'invites', 'loves', 'confronts', 'strikes', 'wants', 'late', 'comb', 'begs', 'Bhagwaan', 'becomes', 'finds', 'succeeded', 'burns', 'vows', 'rushes', 'overwhelms', 'dons', 'thinks', 'returns', 'does', 'responds', 'way'])]\n",
      "Bhagwaan 's patient verbs, meaning verbs for which he is the action's subject in the movie plot correspond to : [list(['spills', 'killed', 'injured'])]\n",
      "    \n",
      "Bijli 's attributes in the movie plot correspond to : ['streetwalker worker sex fraud attraction behaviour story']\n",
      "Bijli 's agent verbs, meaning verbs for which he's taking the action in the movie plot correspond to : [list(['insists', 'streetwalker', 'spills', 'worker', 'manages', 'working', 'confesses', 'gone'])]\n",
      "Bijli 's patient verbs, meaning verbs for which he is the action's subject in the movie plot correspond to : [0.0]\n",
      "    \n",
      "Madhu 's attributes in the movie plot correspond to : ['reporter newspaper crime exhausted']\n",
      "Madhu 's agent verbs, meaning verbs for which he's taking the action in the movie plot correspond to : [list(['reciprocates', 'comes', 'help'])]\n",
      "Madhu 's patient verbs, meaning verbs for which he is the action's subject in the movie plot correspond to : [0.0]\n",
      "    \n"
     ]
    }
   ],
   "source": [
    "pd.set_option('display.max_colwidth', None)\n",
    "for elem in ['Shambu', 'Bhagwaan', 'Bijli','Madhu']:\n",
    "    print(elem,'\\'s attributes in the movie plot correspond to :', df_NLP.loc[df_NLP['Character_Name']==elem]['Attributes'].values)\n",
    "    print(elem,'\\'s agent verbs, meaning verbs for which he\\'s taking the action in the movie plot correspond to :', df_NLP.loc[df_NLP['Character_Name']==elem]['Agent Verbs'].values)\n",
    "    print(elem,'\\'s patient verbs, meaning verbs for which he is the action\\'s subject in the movie plot correspond to :', df_NLP.loc[df_NLP['Character_Name']==elem]['Patient Verbs'].values)\n",
    "    print('    ')"
   ]
  },
  {
   "cell_type": "markdown",
   "id": "187a43a8",
   "metadata": {},
   "source": [
    "**Discussion:** Here, we can see that it depicts a quite satisfying big picture of the character, where we can later analyse the lexical field of the words employed in the plot summary to define the archetype of this character. We can clearly retain from our analysis that Shambu holds a negative and violent description of himself depicted as a fugitive and evil master of a gang. Bhagwaan, on the contrary, is correctly defined in the opposite way in our analysis by his 'soul' and thirst of revenge against his former master. Of course, only the archetype can be deduced from our list of attributes and verbs and not the meaning and relation between the characters, but this will help us to do comparison between character's genders later in the analysis. Indeed, Bijili and Madhu, both feminine characters, have much less verbs and attributes compared to previous masculine characters and their corresponding verbs are more on the 'victim' side: manages, confesses, help, as well as their attributes: sex worker, attraction, streetwalker etc. Of course, this concerns only one movie and cannot be generalized yet but we are confident about our NLP results. "
   ]
  },
  {
   "cell_type": "markdown",
   "id": "9981a69f",
   "metadata": {},
   "source": [
    "## 4. Lexical analysis"
   ]
  },
  {
   "cell_type": "markdown",
   "id": "e33ee4e6",
   "metadata": {},
   "source": [
    "This part of our study checks which are the most common verbs and attributes for the two genders, and what are they associated with. We will first have a lexical analysis, then a sentiment analysis using Empath project."
   ]
  },
  {
   "cell_type": "markdown",
   "id": "3d483290",
   "metadata": {},
   "source": [
    "#### Columns kept:\n",
    "In this section, we extract the following columns for each character:\n",
    "We keep only these features for the preliminary sentiment analysis: \n",
    "- `Wikipedia movie ID`: ID of the movie from wikidata\n",
    "- `Character name`: character name associated with verbs and attributes\n",
    "- `Actor gender`\n",
    "- `Agent Verbs`\n",
    "- `Patient Verbs`\n",
    "- `Attributes`\n",
    "\n",
    "However, for later analysis, we would want to add other interesting features such as:\n",
    "- `Movie release date`: the release date of the movie the character is from\n",
    "- `nbr_words`: median of number of words in the plot summary corresponding to the movie ID\n",
    "- `nbr_characters`: median of number of characters present in the movie (that we have in the final data!)\n",
    "- `Movie Genres`: genres of the associated movie (e.g. Romance, Comedy etc)\n",
    "- `Movie Countries`: country where the movie was released\n",
    "- `Movie Languages`: language(s) of the movie\n",
    "- `Actor ethnicity`\n",
    "- `Actor age at movie release`"
   ]
  },
  {
   "cell_type": "code",
   "execution_count": 51,
   "id": "97180881",
   "metadata": {},
   "outputs": [],
   "source": [
    "CMdf = pd.read_csv(data_folder + 'Characters_Matched_DF_Clean_181122.csv', sep='\\t',index_col = 0) \n",
    "#Dataset created with the complete names of characters\n",
    "CMdf.columns = ['Wikipedia movie ID', 'Character name', 'Agent Verbs', 'Patient Verbs', 'Attributes']\n",
    "CMdf.reset_index(inplace = True,drop=True)\n",
    "CMdf.drop_duplicates(inplace = True)"
   ]
  },
  {
   "cell_type": "code",
   "execution_count": 52,
   "id": "6f32fd18",
   "metadata": {},
   "outputs": [],
   "source": [
    "CMdf = pd.merge(left= CMdf, right=df_char_movie, how='inner', on= ['Wikipedia movie ID', 'Character name'])"
   ]
  },
  {
   "cell_type": "code",
   "execution_count": 93,
   "id": "79371250",
   "metadata": {},
   "outputs": [],
   "source": [
    "CMdf_c = CMdf[['Wikipedia movie ID','Character name','Actor gender','Agent Verbs','Patient Verbs','Attributes']]"
   ]
  },
  {
   "cell_type": "code",
   "execution_count": 94,
   "id": "7fe6a243",
   "metadata": {},
   "outputs": [],
   "source": [
    "#our lexicon.analyze requires a string of words with a space between them. \n",
    "# to transform current AV,PV, Attributes into required format: \n",
    "\n",
    "cols = ['Agent Verbs', 'Patient Verbs', 'Attributes']\n",
    "\n",
    "for i in cols:\n",
    "    CMdf_c[i] = CMdf_c[i].str.replace(',' ,' ')\n",
    "    CMdf_c[i] = CMdf_c[i].str.replace('[' ,'')\n",
    "    CMdf_c[i] = CMdf_c[i].str.replace(']' ,'')\n",
    "    CMdf_c[i] = CMdf_c[i].str.replace(\"'\" ,'')"
   ]
  },
  {
   "cell_type": "code",
   "execution_count": 96,
   "id": "ae81b72c",
   "metadata": {
    "scrolled": true
   },
   "outputs": [
    {
     "data": {
      "text/html": [
       "<div>\n",
       "<style scoped>\n",
       "    .dataframe tbody tr th:only-of-type {\n",
       "        vertical-align: middle;\n",
       "    }\n",
       "\n",
       "    .dataframe tbody tr th {\n",
       "        vertical-align: top;\n",
       "    }\n",
       "\n",
       "    .dataframe thead th {\n",
       "        text-align: right;\n",
       "    }\n",
       "</style>\n",
       "<table border=\"1\" class=\"dataframe\">\n",
       "  <thead>\n",
       "    <tr style=\"text-align: right;\">\n",
       "      <th></th>\n",
       "      <th>Wikipedia movie ID</th>\n",
       "      <th>Character name</th>\n",
       "      <th>Actor gender</th>\n",
       "      <th>Agent Verbs</th>\n",
       "      <th>Patient Verbs</th>\n",
       "      <th>Attributes</th>\n",
       "    </tr>\n",
       "  </thead>\n",
       "  <tbody>\n",
       "    <tr>\n",
       "      <th>0</th>\n",
       "      <td>975900</td>\n",
       "      <td>Commander Helena Braddock</td>\n",
       "      <td>F</td>\n",
       "      <td>murdered  decides</td>\n",
       "      <td>NaN</td>\n",
       "      <td>leader team</td>\n",
       "    </tr>\n",
       "    <tr>\n",
       "      <th>1</th>\n",
       "      <td>975900</td>\n",
       "      <td>Lieutenant Melanie Ballard</td>\n",
       "      <td>F</td>\n",
       "      <td>finds  fight  recuperates</td>\n",
       "      <td>wiped</td>\n",
       "      <td>officer police interest unreciprocated crew</td>\n",
       "    </tr>\n",
       "    <tr>\n",
       "      <th>2</th>\n",
       "      <td>2238856</td>\n",
       "      <td>Pam</td>\n",
       "      <td>M</td>\n",
       "      <td>looks  realize offers  asks flies  Pam  shows  waits  enters  Pam</td>\n",
       "      <td>involved  told impressed</td>\n",
       "      <td>wife sister daughter husband wife intoxicated death friends alive</td>\n",
       "    </tr>\n",
       "  </tbody>\n",
       "</table>\n",
       "</div>"
      ],
      "text/plain": [
       "   Wikipedia movie ID              Character name Actor gender  \\\n",
       "0              975900   Commander Helena Braddock            F   \n",
       "1              975900  Lieutenant Melanie Ballard            F   \n",
       "2             2238856                         Pam            M   \n",
       "\n",
       "                                                          Agent Verbs  \\\n",
       "0                                                   murdered  decides   \n",
       "1                                           finds  fight  recuperates   \n",
       "2   looks  realize offers  asks flies  Pam  shows  waits  enters  Pam   \n",
       "\n",
       "                Patient Verbs  \\\n",
       "0                         NaN   \n",
       "1                       wiped   \n",
       "2   involved  told impressed    \n",
       "\n",
       "                                                          Attributes  \n",
       "0                                                        leader team  \n",
       "1                        officer police interest unreciprocated crew  \n",
       "2  wife sister daughter husband wife intoxicated death friends alive  "
      ]
     },
     "execution_count": 96,
     "metadata": {},
     "output_type": "execute_result"
    }
   ],
   "source": [
    "CMdf_c.head(3)"
   ]
  },
  {
   "cell_type": "code",
   "execution_count": 97,
   "id": "90559a8f",
   "metadata": {},
   "outputs": [],
   "source": [
    "# Grouping of the data by gender\n",
    "# then we randomly mis data to create several subsets for male and female\n",
    "# each subset will be a sample for the PCA analysis\n",
    "women = CMdf_c.loc[CMdf_c['Actor gender'] == 'F']\n",
    "men = CMdf_c.loc[CMdf_c['Actor gender'] == 'M']"
   ]
  },
  {
   "cell_type": "code",
   "execution_count": 98,
   "id": "45bd5485",
   "metadata": {},
   "outputs": [],
   "source": [
    "#To act on strings, we fill the NaN values by empty strings:\n",
    "women.fillna('', inplace=True)\n",
    "men.fillna('', inplace=True)"
   ]
  },
  {
   "cell_type": "code",
   "execution_count": 99,
   "id": "87eab649",
   "metadata": {},
   "outputs": [],
   "source": [
    "#We change the data type of words columns by strings:\n",
    "for elem in ['Agent Verbs', 'Patient Verbs', 'Attributes']:\n",
    "\n",
    "    women[elem] = women[elem].astype(\"string\")\n",
    "    men[elem] = men[elem].astype(\"string\")"
   ]
  },
  {
   "cell_type": "code",
   "execution_count": 100,
   "id": "8e161012",
   "metadata": {},
   "outputs": [
    {
     "name": "stdout",
     "output_type": "stream",
     "text": [
      "The cleaned and processed lexical information contains 28524 male movie characters and 16888 female movie characters\n"
     ]
    }
   ],
   "source": [
    "print('The cleaned and processed lexical information contains {} male movie characters and {} female movie characters'.format(len(men),len(women)))"
   ]
  },
  {
   "cell_type": "markdown",
   "id": "55db5900",
   "metadata": {},
   "source": [
    "#### Top10 words"
   ]
  },
  {
   "cell_type": "markdown",
   "id": "623304d2",
   "metadata": {},
   "source": [
    "First, we count the agent and patient verbs and attributes count for each gender. This is only to have an idea of what is happening inside each category, not to compare between genders, as it has not been normalized."
   ]
  },
  {
   "cell_type": "code",
   "execution_count": 101,
   "id": "aabefff5",
   "metadata": {},
   "outputs": [
    {
     "data": {
      "text/html": [
       "<div>\n",
       "<style scoped>\n",
       "    .dataframe tbody tr th:only-of-type {\n",
       "        vertical-align: middle;\n",
       "    }\n",
       "\n",
       "    .dataframe tbody tr th {\n",
       "        vertical-align: top;\n",
       "    }\n",
       "\n",
       "    .dataframe thead th {\n",
       "        text-align: right;\n",
       "    }\n",
       "</style>\n",
       "<table border=\"1\" class=\"dataframe\">\n",
       "  <thead>\n",
       "    <tr style=\"text-align: right;\">\n",
       "      <th></th>\n",
       "      <th>agent_verb</th>\n",
       "      <th>verb_count</th>\n",
       "    </tr>\n",
       "  </thead>\n",
       "  <tbody>\n",
       "    <tr>\n",
       "      <th>0</th>\n",
       "      <td>has</td>\n",
       "      <td>10553</td>\n",
       "    </tr>\n",
       "    <tr>\n",
       "      <th>1</th>\n",
       "      <td>tells</td>\n",
       "      <td>10439</td>\n",
       "    </tr>\n",
       "    <tr>\n",
       "      <th>2</th>\n",
       "      <td>tries</td>\n",
       "      <td>8716</td>\n",
       "    </tr>\n",
       "    <tr>\n",
       "      <th>3</th>\n",
       "      <td>finds</td>\n",
       "      <td>8673</td>\n",
       "    </tr>\n",
       "    <tr>\n",
       "      <th>4</th>\n",
       "      <td>goes</td>\n",
       "      <td>8204</td>\n",
       "    </tr>\n",
       "    <tr>\n",
       "      <th>5</th>\n",
       "      <td>takes</td>\n",
       "      <td>7038</td>\n",
       "    </tr>\n",
       "    <tr>\n",
       "      <th>6</th>\n",
       "      <td>decides</td>\n",
       "      <td>6226</td>\n",
       "    </tr>\n",
       "    <tr>\n",
       "      <th>7</th>\n",
       "      <td>gets</td>\n",
       "      <td>5885</td>\n",
       "    </tr>\n",
       "    <tr>\n",
       "      <th>8</th>\n",
       "      <td>asks</td>\n",
       "      <td>5645</td>\n",
       "    </tr>\n",
       "    <tr>\n",
       "      <th>9</th>\n",
       "      <td>comes</td>\n",
       "      <td>5624</td>\n",
       "    </tr>\n",
       "  </tbody>\n",
       "</table>\n",
       "</div>"
      ],
      "text/plain": [
       "  agent_verb  verb_count\n",
       "0        has       10553\n",
       "1      tells       10439\n",
       "2      tries        8716\n",
       "3      finds        8673\n",
       "4       goes        8204\n",
       "5      takes        7038\n",
       "6    decides        6226\n",
       "7       gets        5885\n",
       "8       asks        5645\n",
       "9      comes        5624"
      ]
     },
     "execution_count": 101,
     "metadata": {},
     "output_type": "execute_result"
    }
   ],
   "source": [
    "men_agent_verbs = men['Agent Verbs'].str.split(expand=True).stack().value_counts().to_frame()\n",
    "men_agent_verbs = men_agent_verbs.reset_index(level=0)\n",
    "men_agent_verbs.set_axis(['agent_verb','verb_count'], axis='columns', inplace=True)\n",
    "men_agent_verbs.head(10)"
   ]
  },
  {
   "cell_type": "code",
   "execution_count": 102,
   "id": "59ea7418",
   "metadata": {},
   "outputs": [
    {
     "data": {
      "text/html": [
       "<div>\n",
       "<style scoped>\n",
       "    .dataframe tbody tr th:only-of-type {\n",
       "        vertical-align: middle;\n",
       "    }\n",
       "\n",
       "    .dataframe tbody tr th {\n",
       "        vertical-align: top;\n",
       "    }\n",
       "\n",
       "    .dataframe thead th {\n",
       "        text-align: right;\n",
       "    }\n",
       "</style>\n",
       "<table border=\"1\" class=\"dataframe\">\n",
       "  <thead>\n",
       "    <tr style=\"text-align: right;\">\n",
       "      <th></th>\n",
       "      <th>agent_verb</th>\n",
       "      <th>verb_count</th>\n",
       "    </tr>\n",
       "  </thead>\n",
       "  <tbody>\n",
       "    <tr>\n",
       "      <th>0</th>\n",
       "      <td>tells</td>\n",
       "      <td>6750</td>\n",
       "    </tr>\n",
       "    <tr>\n",
       "      <th>1</th>\n",
       "      <td>finds</td>\n",
       "      <td>5425</td>\n",
       "    </tr>\n",
       "    <tr>\n",
       "      <th>2</th>\n",
       "      <td>has</td>\n",
       "      <td>5156</td>\n",
       "    </tr>\n",
       "    <tr>\n",
       "      <th>3</th>\n",
       "      <td>goes</td>\n",
       "      <td>4320</td>\n",
       "    </tr>\n",
       "    <tr>\n",
       "      <th>4</th>\n",
       "      <td>comes</td>\n",
       "      <td>3193</td>\n",
       "    </tr>\n",
       "    <tr>\n",
       "      <th>5</th>\n",
       "      <td>meets</td>\n",
       "      <td>3089</td>\n",
       "    </tr>\n",
       "    <tr>\n",
       "      <th>6</th>\n",
       "      <td>asks</td>\n",
       "      <td>3077</td>\n",
       "    </tr>\n",
       "    <tr>\n",
       "      <th>7</th>\n",
       "      <td>tries</td>\n",
       "      <td>3049</td>\n",
       "    </tr>\n",
       "    <tr>\n",
       "      <th>8</th>\n",
       "      <td>leaves</td>\n",
       "      <td>3015</td>\n",
       "    </tr>\n",
       "    <tr>\n",
       "      <th>9</th>\n",
       "      <td>becomes</td>\n",
       "      <td>2882</td>\n",
       "    </tr>\n",
       "  </tbody>\n",
       "</table>\n",
       "</div>"
      ],
      "text/plain": [
       "  agent_verb  verb_count\n",
       "0      tells        6750\n",
       "1      finds        5425\n",
       "2        has        5156\n",
       "3       goes        4320\n",
       "4      comes        3193\n",
       "5      meets        3089\n",
       "6       asks        3077\n",
       "7      tries        3049\n",
       "8     leaves        3015\n",
       "9    becomes        2882"
      ]
     },
     "execution_count": 102,
     "metadata": {},
     "output_type": "execute_result"
    }
   ],
   "source": [
    "women_agent_verbs = women['Agent Verbs'].str.split(expand=True).stack().value_counts().to_frame()\n",
    "women_agent_verbs = women_agent_verbs.reset_index(level=0)\n",
    "women_agent_verbs.set_axis(['agent_verb','verb_count'], axis='columns', inplace=True)\n",
    "women_agent_verbs.head(10)"
   ]
  },
  {
   "cell_type": "code",
   "execution_count": 104,
   "id": "1fe398f0",
   "metadata": {},
   "outputs": [
    {
     "data": {
      "text/html": [
       "<div>\n",
       "<style scoped>\n",
       "    .dataframe tbody tr th:only-of-type {\n",
       "        vertical-align: middle;\n",
       "    }\n",
       "\n",
       "    .dataframe tbody tr th {\n",
       "        vertical-align: top;\n",
       "    }\n",
       "\n",
       "    .dataframe thead th {\n",
       "        text-align: right;\n",
       "    }\n",
       "</style>\n",
       "<table border=\"1\" class=\"dataframe\">\n",
       "  <thead>\n",
       "    <tr style=\"text-align: right;\">\n",
       "      <th></th>\n",
       "      <th>patient_verb</th>\n",
       "      <th>verb_count</th>\n",
       "    </tr>\n",
       "  </thead>\n",
       "  <tbody>\n",
       "    <tr>\n",
       "      <th>0</th>\n",
       "      <td>tells</td>\n",
       "      <td>2535</td>\n",
       "    </tr>\n",
       "    <tr>\n",
       "      <th>1</th>\n",
       "      <td>killed</td>\n",
       "      <td>2092</td>\n",
       "    </tr>\n",
       "    <tr>\n",
       "      <th>2</th>\n",
       "      <td>gives</td>\n",
       "      <td>1499</td>\n",
       "    </tr>\n",
       "    <tr>\n",
       "      <th>3</th>\n",
       "      <td>forced</td>\n",
       "      <td>1448</td>\n",
       "    </tr>\n",
       "    <tr>\n",
       "      <th>4</th>\n",
       "      <td>shown</td>\n",
       "      <td>1168</td>\n",
       "    </tr>\n",
       "    <tr>\n",
       "      <th>5</th>\n",
       "      <td>taken</td>\n",
       "      <td>1136</td>\n",
       "    </tr>\n",
       "    <tr>\n",
       "      <th>6</th>\n",
       "      <td>arrested</td>\n",
       "      <td>1014</td>\n",
       "    </tr>\n",
       "    <tr>\n",
       "      <th>7</th>\n",
       "      <td>married</td>\n",
       "      <td>964</td>\n",
       "    </tr>\n",
       "    <tr>\n",
       "      <th>8</th>\n",
       "      <td>captured</td>\n",
       "      <td>941</td>\n",
       "    </tr>\n",
       "    <tr>\n",
       "      <th>9</th>\n",
       "      <td>seen</td>\n",
       "      <td>933</td>\n",
       "    </tr>\n",
       "  </tbody>\n",
       "</table>\n",
       "</div>"
      ],
      "text/plain": [
       "  patient_verb  verb_count\n",
       "0        tells        2535\n",
       "1       killed        2092\n",
       "2        gives        1499\n",
       "3       forced        1448\n",
       "4        shown        1168\n",
       "5        taken        1136\n",
       "6     arrested        1014\n",
       "7      married         964\n",
       "8     captured         941\n",
       "9         seen         933"
      ]
     },
     "execution_count": 104,
     "metadata": {},
     "output_type": "execute_result"
    }
   ],
   "source": [
    "men_patient_verbs = men['Patient Verbs'].str.split(expand=True).stack().value_counts().to_frame()\n",
    "men_patient_verbs = men_patient_verbs.reset_index(level=0)\n",
    "men_patient_verbs.set_axis(['patient_verb','verb_count'], axis='columns', inplace=True)\n",
    "men_patient_verbs.head(10)"
   ]
  },
  {
   "cell_type": "code",
   "execution_count": 105,
   "id": "c2d10c7e",
   "metadata": {},
   "outputs": [
    {
     "data": {
      "text/html": [
       "<div>\n",
       "<style scoped>\n",
       "    .dataframe tbody tr th:only-of-type {\n",
       "        vertical-align: middle;\n",
       "    }\n",
       "\n",
       "    .dataframe tbody tr th {\n",
       "        vertical-align: top;\n",
       "    }\n",
       "\n",
       "    .dataframe thead th {\n",
       "        text-align: right;\n",
       "    }\n",
       "</style>\n",
       "<table border=\"1\" class=\"dataframe\">\n",
       "  <thead>\n",
       "    <tr style=\"text-align: right;\">\n",
       "      <th></th>\n",
       "      <th>patient_verb</th>\n",
       "      <th>verb_count</th>\n",
       "    </tr>\n",
       "  </thead>\n",
       "  <tbody>\n",
       "    <tr>\n",
       "      <th>0</th>\n",
       "      <td>tells</td>\n",
       "      <td>1997</td>\n",
       "    </tr>\n",
       "    <tr>\n",
       "      <th>1</th>\n",
       "      <td>killed</td>\n",
       "      <td>1165</td>\n",
       "    </tr>\n",
       "    <tr>\n",
       "      <th>2</th>\n",
       "      <td>gives</td>\n",
       "      <td>1081</td>\n",
       "    </tr>\n",
       "    <tr>\n",
       "      <th>3</th>\n",
       "      <td>taken</td>\n",
       "      <td>771</td>\n",
       "    </tr>\n",
       "    <tr>\n",
       "      <th>4</th>\n",
       "      <td>married</td>\n",
       "      <td>740</td>\n",
       "    </tr>\n",
       "    <tr>\n",
       "      <th>5</th>\n",
       "      <td>forced</td>\n",
       "      <td>674</td>\n",
       "    </tr>\n",
       "    <tr>\n",
       "      <th>6</th>\n",
       "      <td>tell</td>\n",
       "      <td>569</td>\n",
       "    </tr>\n",
       "    <tr>\n",
       "      <th>7</th>\n",
       "      <td>revealed</td>\n",
       "      <td>567</td>\n",
       "    </tr>\n",
       "    <tr>\n",
       "      <th>8</th>\n",
       "      <td>found</td>\n",
       "      <td>520</td>\n",
       "    </tr>\n",
       "    <tr>\n",
       "      <th>9</th>\n",
       "      <td>attacked</td>\n",
       "      <td>514</td>\n",
       "    </tr>\n",
       "  </tbody>\n",
       "</table>\n",
       "</div>"
      ],
      "text/plain": [
       "  patient_verb  verb_count\n",
       "0        tells        1997\n",
       "1       killed        1165\n",
       "2        gives        1081\n",
       "3        taken         771\n",
       "4      married         740\n",
       "5       forced         674\n",
       "6         tell         569\n",
       "7     revealed         567\n",
       "8        found         520\n",
       "9     attacked         514"
      ]
     },
     "execution_count": 105,
     "metadata": {},
     "output_type": "execute_result"
    }
   ],
   "source": [
    "women_patient_verbs = women['Patient Verbs'].str.split(expand=True).stack().value_counts().to_frame()\n",
    "women_patient_verbs = women_patient_verbs.reset_index(level=0)\n",
    "women_patient_verbs.set_axis(['patient_verb','verb_count'], axis='columns', inplace=True)\n",
    "women_patient_verbs.head(10)"
   ]
  },
  {
   "cell_type": "code",
   "execution_count": 106,
   "id": "d6ad6e27",
   "metadata": {},
   "outputs": [
    {
     "data": {
      "text/html": [
       "<div>\n",
       "<style scoped>\n",
       "    .dataframe tbody tr th:only-of-type {\n",
       "        vertical-align: middle;\n",
       "    }\n",
       "\n",
       "    .dataframe tbody tr th {\n",
       "        vertical-align: top;\n",
       "    }\n",
       "\n",
       "    .dataframe thead th {\n",
       "        text-align: right;\n",
       "    }\n",
       "</style>\n",
       "<table border=\"1\" class=\"dataframe\">\n",
       "  <thead>\n",
       "    <tr style=\"text-align: right;\">\n",
       "      <th></th>\n",
       "      <th>attributes</th>\n",
       "      <th>attribute_count</th>\n",
       "    </tr>\n",
       "  </thead>\n",
       "  <tbody>\n",
       "    <tr>\n",
       "      <th>0</th>\n",
       "      <td>friend</td>\n",
       "      <td>7785</td>\n",
       "    </tr>\n",
       "    <tr>\n",
       "      <th>1</th>\n",
       "      <td>father</td>\n",
       "      <td>5440</td>\n",
       "    </tr>\n",
       "    <tr>\n",
       "      <th>2</th>\n",
       "      <td>son</td>\n",
       "      <td>5394</td>\n",
       "    </tr>\n",
       "    <tr>\n",
       "      <th>3</th>\n",
       "      <td>brother</td>\n",
       "      <td>5393</td>\n",
       "    </tr>\n",
       "    <tr>\n",
       "      <th>4</th>\n",
       "      <td>friends</td>\n",
       "      <td>3719</td>\n",
       "    </tr>\n",
       "    <tr>\n",
       "      <th>5</th>\n",
       "      <td>mother</td>\n",
       "      <td>3112</td>\n",
       "    </tr>\n",
       "    <tr>\n",
       "      <th>6</th>\n",
       "      <td>house</td>\n",
       "      <td>3011</td>\n",
       "    </tr>\n",
       "    <tr>\n",
       "      <th>7</th>\n",
       "      <td>wife</td>\n",
       "      <td>2929</td>\n",
       "    </tr>\n",
       "    <tr>\n",
       "      <th>8</th>\n",
       "      <td>love</td>\n",
       "      <td>2790</td>\n",
       "    </tr>\n",
       "    <tr>\n",
       "      <th>9</th>\n",
       "      <td>boyfriend</td>\n",
       "      <td>2724</td>\n",
       "    </tr>\n",
       "  </tbody>\n",
       "</table>\n",
       "</div>"
      ],
      "text/plain": [
       "  attributes  attribute_count\n",
       "0     friend             7785\n",
       "1     father             5440\n",
       "2        son             5394\n",
       "3    brother             5393\n",
       "4    friends             3719\n",
       "5     mother             3112\n",
       "6      house             3011\n",
       "7       wife             2929\n",
       "8       love             2790\n",
       "9  boyfriend             2724"
      ]
     },
     "execution_count": 106,
     "metadata": {},
     "output_type": "execute_result"
    }
   ],
   "source": [
    "men_attributes = men['Attributes'].str.split(expand=True).stack().value_counts().to_frame()\n",
    "men_attributes = men_attributes.reset_index(level=0)\n",
    "men_attributes.set_axis(['attributes','attribute_count'], axis='columns', inplace=True)\n",
    "men_attributes.head(10)"
   ]
  },
  {
   "cell_type": "code",
   "execution_count": 107,
   "id": "39ad84ed",
   "metadata": {},
   "outputs": [
    {
     "data": {
      "text/html": [
       "<div>\n",
       "<style scoped>\n",
       "    .dataframe tbody tr th:only-of-type {\n",
       "        vertical-align: middle;\n",
       "    }\n",
       "\n",
       "    .dataframe tbody tr th {\n",
       "        vertical-align: top;\n",
       "    }\n",
       "\n",
       "    .dataframe thead th {\n",
       "        text-align: right;\n",
       "    }\n",
       "</style>\n",
       "<table border=\"1\" class=\"dataframe\">\n",
       "  <thead>\n",
       "    <tr style=\"text-align: right;\">\n",
       "      <th></th>\n",
       "      <th>attributes</th>\n",
       "      <th>attribute_count</th>\n",
       "    </tr>\n",
       "  </thead>\n",
       "  <tbody>\n",
       "    <tr>\n",
       "      <th>0</th>\n",
       "      <td>mother</td>\n",
       "      <td>5145</td>\n",
       "    </tr>\n",
       "    <tr>\n",
       "      <th>1</th>\n",
       "      <td>daughter</td>\n",
       "      <td>4821</td>\n",
       "    </tr>\n",
       "    <tr>\n",
       "      <th>2</th>\n",
       "      <td>friend</td>\n",
       "      <td>4767</td>\n",
       "    </tr>\n",
       "    <tr>\n",
       "      <th>3</th>\n",
       "      <td>wife</td>\n",
       "      <td>4364</td>\n",
       "    </tr>\n",
       "    <tr>\n",
       "      <th>4</th>\n",
       "      <td>sister</td>\n",
       "      <td>3838</td>\n",
       "    </tr>\n",
       "    <tr>\n",
       "      <th>5</th>\n",
       "      <td>father</td>\n",
       "      <td>3798</td>\n",
       "    </tr>\n",
       "    <tr>\n",
       "      <th>6</th>\n",
       "      <td>girlfriend</td>\n",
       "      <td>3569</td>\n",
       "    </tr>\n",
       "    <tr>\n",
       "      <th>7</th>\n",
       "      <td>love</td>\n",
       "      <td>3243</td>\n",
       "    </tr>\n",
       "    <tr>\n",
       "      <th>8</th>\n",
       "      <td>house</td>\n",
       "      <td>2332</td>\n",
       "    </tr>\n",
       "    <tr>\n",
       "      <th>9</th>\n",
       "      <td>girl</td>\n",
       "      <td>1950</td>\n",
       "    </tr>\n",
       "  </tbody>\n",
       "</table>\n",
       "</div>"
      ],
      "text/plain": [
       "   attributes  attribute_count\n",
       "0      mother             5145\n",
       "1    daughter             4821\n",
       "2      friend             4767\n",
       "3        wife             4364\n",
       "4      sister             3838\n",
       "5      father             3798\n",
       "6  girlfriend             3569\n",
       "7        love             3243\n",
       "8       house             2332\n",
       "9        girl             1950"
      ]
     },
     "execution_count": 107,
     "metadata": {},
     "output_type": "execute_result"
    }
   ],
   "source": [
    "women_attributes = women['Attributes'].str.split(expand=True).stack().value_counts()\n",
    "women_attributes = women_attributes.reset_index(level=0)\n",
    "women_attributes.set_axis(['attributes','attribute_count'], axis='columns', inplace=True)\n",
    "women_attributes.head(10)"
   ]
  },
  {
   "cell_type": "markdown",
   "id": "5243a965",
   "metadata": {},
   "source": [
    "Here we proceed to a comparison, where normalization has been applied."
   ]
  },
  {
   "cell_type": "code",
   "execution_count": 108,
   "id": "b2dc0db9",
   "metadata": {},
   "outputs": [
    {
     "data": {
      "text/html": [
       "<div>\n",
       "<style scoped>\n",
       "    .dataframe tbody tr th:only-of-type {\n",
       "        vertical-align: middle;\n",
       "    }\n",
       "\n",
       "    .dataframe tbody tr th {\n",
       "        vertical-align: top;\n",
       "    }\n",
       "\n",
       "    .dataframe thead th {\n",
       "        text-align: right;\n",
       "    }\n",
       "</style>\n",
       "<table border=\"1\" class=\"dataframe\">\n",
       "  <thead>\n",
       "    <tr style=\"text-align: right;\">\n",
       "      <th></th>\n",
       "      <th>agent_verb</th>\n",
       "      <th>verb_count_men</th>\n",
       "      <th>verb_count_women</th>\n",
       "    </tr>\n",
       "  </thead>\n",
       "  <tbody>\n",
       "    <tr>\n",
       "      <th>0</th>\n",
       "      <td>has</td>\n",
       "      <td>16.631417</td>\n",
       "      <td>16.001788</td>\n",
       "    </tr>\n",
       "    <tr>\n",
       "      <th>1</th>\n",
       "      <td>tells</td>\n",
       "      <td>16.451754</td>\n",
       "      <td>20.94881</td>\n",
       "    </tr>\n",
       "    <tr>\n",
       "      <th>2</th>\n",
       "      <td>tries</td>\n",
       "      <td>13.736324</td>\n",
       "      <td>9.462655</td>\n",
       "    </tr>\n",
       "    <tr>\n",
       "      <th>3</th>\n",
       "      <td>finds</td>\n",
       "      <td>13.668557</td>\n",
       "      <td>16.836637</td>\n",
       "    </tr>\n",
       "    <tr>\n",
       "      <th>4</th>\n",
       "      <td>goes</td>\n",
       "      <td>12.929418</td>\n",
       "      <td>13.407239</td>\n",
       "    </tr>\n",
       "    <tr>\n",
       "      <th>5</th>\n",
       "      <td>takes</td>\n",
       "      <td>11.091814</td>\n",
       "      <td>7.886063</td>\n",
       "    </tr>\n",
       "  </tbody>\n",
       "</table>\n",
       "</div>"
      ],
      "text/plain": [
       "  agent_verb  verb_count_men  verb_count_women\n",
       "0        has       16.631417         16.001788\n",
       "1      tells       16.451754          20.94881\n",
       "2      tries       13.736324          9.462655\n",
       "3      finds       13.668557         16.836637\n",
       "4       goes       12.929418         13.407239\n",
       "5      takes       11.091814          7.886063"
      ]
     },
     "execution_count": 108,
     "metadata": {},
     "output_type": "execute_result"
    }
   ],
   "source": [
    "# This dataframe shows the top agent verbs for men and women above a certain threshold (for either of the genders)\n",
    "# The values have been normalised by the total number of words for each gender.\n",
    "\n",
    "common_agent_verbs = pd.merge(left= men_agent_verbs, right=women_agent_verbs, how='inner', on= ['agent_verb'])\n",
    "common_agent_verbs.set_axis(['agent_verb','verb_count_men', 'verb_count_women'], axis='columns', inplace=True)\n",
    "\n",
    "total_verbs_men = sum(common_agent_verbs['verb_count_men'])\n",
    "total_verbs_women = sum(common_agent_verbs['verb_count_women'])\n",
    "\n",
    "common_agent_verbs['verb_count_men'] = 1000*common_agent_verbs['verb_count_men']/total_verbs_men\n",
    "common_agent_verbs['verb_count_women'] = 1000*common_agent_verbs['verb_count_women']/total_verbs_women\n",
    "\n",
    "common_agent_verbs = common_agent_verbs.loc[(common_agent_verbs['verb_count_men']>=10) | (common_agent_verbs['verb_count_women']>=10)]\n",
    "\n",
    "common_agent_verbs"
   ]
  },
  {
   "cell_type": "markdown",
   "id": "96a85584",
   "metadata": {},
   "source": [
    "The agent verbs in the top10 are not really interesting as they are simple verbs used for usual actions. Furthermore, the count does not differ a lot between women and men. However, we could look into other often occurring verbs."
   ]
  },
  {
   "cell_type": "code",
   "execution_count": 109,
   "id": "0c4befcd",
   "metadata": {},
   "outputs": [
    {
     "data": {
      "text/html": [
       "<div>\n",
       "<style scoped>\n",
       "    .dataframe tbody tr th:only-of-type {\n",
       "        vertical-align: middle;\n",
       "    }\n",
       "\n",
       "    .dataframe tbody tr th {\n",
       "        vertical-align: top;\n",
       "    }\n",
       "\n",
       "    .dataframe thead th {\n",
       "        text-align: right;\n",
       "    }\n",
       "</style>\n",
       "<table border=\"1\" class=\"dataframe\">\n",
       "  <thead>\n",
       "    <tr style=\"text-align: right;\">\n",
       "      <th></th>\n",
       "      <th>patient_verb</th>\n",
       "      <th>verb_count_men</th>\n",
       "      <th>verb_count_women</th>\n",
       "    </tr>\n",
       "  </thead>\n",
       "  <tbody>\n",
       "    <tr>\n",
       "      <th>0</th>\n",
       "      <td>tells</td>\n",
       "      <td>38.97182</td>\n",
       "      <td>55.682579</td>\n",
       "    </tr>\n",
       "    <tr>\n",
       "      <th>1</th>\n",
       "      <td>killed</td>\n",
       "      <td>32.16136</td>\n",
       "      <td>32.483828</td>\n",
       "    </tr>\n",
       "    <tr>\n",
       "      <th>2</th>\n",
       "      <td>gives</td>\n",
       "      <td>23.044875</td>\n",
       "      <td>30.141646</td>\n",
       "    </tr>\n",
       "    <tr>\n",
       "      <th>3</th>\n",
       "      <td>forced</td>\n",
       "      <td>22.260827</td>\n",
       "      <td>18.793219</td>\n",
       "    </tr>\n",
       "    <tr>\n",
       "      <th>4</th>\n",
       "      <td>shown</td>\n",
       "      <td>17.956247</td>\n",
       "      <td>13.16083</td>\n",
       "    </tr>\n",
       "    <tr>\n",
       "      <th>5</th>\n",
       "      <td>taken</td>\n",
       "      <td>17.464295</td>\n",
       "      <td>21.497881</td>\n",
       "    </tr>\n",
       "    <tr>\n",
       "      <th>6</th>\n",
       "      <td>arrested</td>\n",
       "      <td>15.588728</td>\n",
       "      <td>8.727415</td>\n",
       "    </tr>\n",
       "    <tr>\n",
       "      <th>7</th>\n",
       "      <td>married</td>\n",
       "      <td>14.820053</td>\n",
       "      <td>20.633504</td>\n",
       "    </tr>\n",
       "    <tr>\n",
       "      <th>8</th>\n",
       "      <td>captured</td>\n",
       "      <td>14.466463</td>\n",
       "      <td>9.145661</td>\n",
       "    </tr>\n",
       "    <tr>\n",
       "      <th>9</th>\n",
       "      <td>seen</td>\n",
       "      <td>14.343475</td>\n",
       "      <td>13.021414</td>\n",
       "    </tr>\n",
       "    <tr>\n",
       "      <th>10</th>\n",
       "      <td>sent</td>\n",
       "      <td>13.774655</td>\n",
       "      <td>8.141869</td>\n",
       "    </tr>\n",
       "    <tr>\n",
       "      <th>11</th>\n",
       "      <td>shot</td>\n",
       "      <td>13.590173</td>\n",
       "      <td>6.775597</td>\n",
       "    </tr>\n",
       "    <tr>\n",
       "      <th>12</th>\n",
       "      <td>told</td>\n",
       "      <td>12.882992</td>\n",
       "      <td>8.699532</td>\n",
       "    </tr>\n",
       "    <tr>\n",
       "      <th>13</th>\n",
       "      <td>revealed</td>\n",
       "      <td>12.375667</td>\n",
       "      <td>15.809726</td>\n",
       "    </tr>\n",
       "    <tr>\n",
       "      <th>14</th>\n",
       "      <td>released</td>\n",
       "      <td>12.191185</td>\n",
       "      <td>7.026545</td>\n",
       "    </tr>\n",
       "    <tr>\n",
       "      <th>15</th>\n",
       "      <td>caught</td>\n",
       "      <td>11.007425</td>\n",
       "      <td>9.814856</td>\n",
       "    </tr>\n",
       "    <tr>\n",
       "      <th>16</th>\n",
       "      <td>attacked</td>\n",
       "      <td>10.746076</td>\n",
       "      <td>14.331921</td>\n",
       "    </tr>\n",
       "    <tr>\n",
       "      <th>17</th>\n",
       "      <td>give</td>\n",
       "      <td>10.715329</td>\n",
       "      <td>13.07718</td>\n",
       "    </tr>\n",
       "    <tr>\n",
       "      <th>18</th>\n",
       "      <td>given</td>\n",
       "      <td>10.469353</td>\n",
       "      <td>12.965648</td>\n",
       "    </tr>\n",
       "    <tr>\n",
       "      <th>19</th>\n",
       "      <td>found</td>\n",
       "      <td>10.254124</td>\n",
       "      <td>14.499219</td>\n",
       "    </tr>\n",
       "    <tr>\n",
       "      <th>20</th>\n",
       "      <td>involved</td>\n",
       "      <td>10.023521</td>\n",
       "      <td>6.691947</td>\n",
       "    </tr>\n",
       "    <tr>\n",
       "      <th>21</th>\n",
       "      <td>left</td>\n",
       "      <td>9.070365</td>\n",
       "      <td>12.157038</td>\n",
       "    </tr>\n",
       "    <tr>\n",
       "      <th>23</th>\n",
       "      <td>giving</td>\n",
       "      <td>7.702123</td>\n",
       "      <td>11.041713</td>\n",
       "    </tr>\n",
       "    <tr>\n",
       "      <th>24</th>\n",
       "      <td>tell</td>\n",
       "      <td>7.363906</td>\n",
       "      <td>15.865492</td>\n",
       "    </tr>\n",
       "    <tr>\n",
       "      <th>40</th>\n",
       "      <td>telling</td>\n",
       "      <td>4.873399</td>\n",
       "      <td>11.710908</td>\n",
       "    </tr>\n",
       "    <tr>\n",
       "      <th>42</th>\n",
       "      <td>kidnapped</td>\n",
       "      <td>4.750411</td>\n",
       "      <td>11.850323</td>\n",
       "    </tr>\n",
       "  </tbody>\n",
       "</table>\n",
       "</div>"
      ],
      "text/plain": [
       "   patient_verb  verb_count_men  verb_count_women\n",
       "0         tells        38.97182         55.682579\n",
       "1        killed        32.16136         32.483828\n",
       "2         gives       23.044875         30.141646\n",
       "3        forced       22.260827         18.793219\n",
       "4         shown       17.956247          13.16083\n",
       "5         taken       17.464295         21.497881\n",
       "6      arrested       15.588728          8.727415\n",
       "7       married       14.820053         20.633504\n",
       "8      captured       14.466463          9.145661\n",
       "9          seen       14.343475         13.021414\n",
       "10         sent       13.774655          8.141869\n",
       "11         shot       13.590173          6.775597\n",
       "12         told       12.882992          8.699532\n",
       "13     revealed       12.375667         15.809726\n",
       "14     released       12.191185          7.026545\n",
       "15       caught       11.007425          9.814856\n",
       "16     attacked       10.746076         14.331921\n",
       "17         give       10.715329          13.07718\n",
       "18        given       10.469353         12.965648\n",
       "19        found       10.254124         14.499219\n",
       "20     involved       10.023521          6.691947\n",
       "21         left        9.070365         12.157038\n",
       "23       giving        7.702123         11.041713\n",
       "24         tell        7.363906         15.865492\n",
       "40      telling        4.873399         11.710908\n",
       "42    kidnapped        4.750411         11.850323"
      ]
     },
     "execution_count": 109,
     "metadata": {},
     "output_type": "execute_result"
    }
   ],
   "source": [
    "# This dataframe shows the top patient verbs for men and women above a certain threshold (for either of the genders)\n",
    "# The values have been normalised by the total number of words for each gender.\n",
    "\n",
    "common_patient_verbs = pd.merge(left= men_patient_verbs, right=women_patient_verbs, how='inner', on= ['patient_verb'])\n",
    "common_patient_verbs.set_axis(['patient_verb','verb_count_men', 'verb_count_women'], axis='columns', inplace=True)\n",
    "\n",
    "total_patient_verbs_men = sum(common_patient_verbs['verb_count_men'])\n",
    "total_patient_verbs_women = sum(common_patient_verbs['verb_count_women'])\n",
    "\n",
    "common_patient_verbs['verb_count_men'] = 1000*common_patient_verbs['verb_count_men']/total_patient_verbs_men\n",
    "common_patient_verbs['verb_count_women'] = 1000*common_patient_verbs['verb_count_women']/total_patient_verbs_women\n",
    "\n",
    "common_patient_verbs = common_patient_verbs.loc[(common_patient_verbs['verb_count_men']>=10) | (common_patient_verbs['verb_count_women']>=10)]\n",
    "\n",
    "common_patient_verbs"
   ]
  },
  {
   "cell_type": "markdown",
   "id": "4d59de55",
   "metadata": {},
   "source": [
    "The patient verbs however are far more interesting. For instance we can see that female characters are more found, attacked, married and kidnapped than male characters."
   ]
  },
  {
   "cell_type": "code",
   "execution_count": 111,
   "id": "81781090",
   "metadata": {
    "scrolled": true
   },
   "outputs": [
    {
     "data": {
      "text/html": [
       "<div>\n",
       "<style scoped>\n",
       "    .dataframe tbody tr th:only-of-type {\n",
       "        vertical-align: middle;\n",
       "    }\n",
       "\n",
       "    .dataframe tbody tr th {\n",
       "        vertical-align: top;\n",
       "    }\n",
       "\n",
       "    .dataframe thead th {\n",
       "        text-align: right;\n",
       "    }\n",
       "</style>\n",
       "<table border=\"1\" class=\"dataframe\">\n",
       "  <thead>\n",
       "    <tr style=\"text-align: right;\">\n",
       "      <th></th>\n",
       "      <th>attributes</th>\n",
       "      <th>attribute_count_men</th>\n",
       "      <th>attribute_count_women</th>\n",
       "    </tr>\n",
       "  </thead>\n",
       "  <tbody>\n",
       "    <tr>\n",
       "      <th>0</th>\n",
       "      <td>friend</td>\n",
       "      <td>26.088006</td>\n",
       "      <td>25.170151</td>\n",
       "    </tr>\n",
       "    <tr>\n",
       "      <th>1</th>\n",
       "      <td>father</td>\n",
       "      <td>18.229769</td>\n",
       "      <td>20.053751</td>\n",
       "    </tr>\n",
       "    <tr>\n",
       "      <th>2</th>\n",
       "      <td>son</td>\n",
       "      <td>18.07562</td>\n",
       "      <td>6.821866</td>\n",
       "    </tr>\n",
       "    <tr>\n",
       "      <th>3</th>\n",
       "      <td>brother</td>\n",
       "      <td>18.072269</td>\n",
       "      <td>8.194687</td>\n",
       "    </tr>\n",
       "    <tr>\n",
       "      <th>4</th>\n",
       "      <td>friends</td>\n",
       "      <td>12.462594</td>\n",
       "      <td>9.842073</td>\n",
       "    </tr>\n",
       "    <tr>\n",
       "      <th>5</th>\n",
       "      <td>mother</td>\n",
       "      <td>10.4285</td>\n",
       "      <td>27.166022</td>\n",
       "    </tr>\n",
       "    <tr>\n",
       "      <th>6</th>\n",
       "      <td>house</td>\n",
       "      <td>10.090043</td>\n",
       "      <td>12.313151</td>\n",
       "    </tr>\n",
       "    <tr>\n",
       "      <th>7</th>\n",
       "      <td>wife</td>\n",
       "      <td>9.815256</td>\n",
       "      <td>23.042278</td>\n",
       "    </tr>\n",
       "    <tr>\n",
       "      <th>8</th>\n",
       "      <td>love</td>\n",
       "      <td>9.349459</td>\n",
       "      <td>17.123306</td>\n",
       "    </tr>\n",
       "    <tr>\n",
       "      <th>13</th>\n",
       "      <td>girlfriend</td>\n",
       "      <td>6.501057</td>\n",
       "      <td>18.844612</td>\n",
       "    </tr>\n",
       "    <tr>\n",
       "      <th>18</th>\n",
       "      <td>sister</td>\n",
       "      <td>5.696803</td>\n",
       "      <td>20.264955</td>\n",
       "    </tr>\n",
       "    <tr>\n",
       "      <th>19</th>\n",
       "      <td>daughter</td>\n",
       "      <td>5.633133</td>\n",
       "      <td>25.455275</td>\n",
       "    </tr>\n",
       "    <tr>\n",
       "      <th>153</th>\n",
       "      <td>girl</td>\n",
       "      <td>0.94835</td>\n",
       "      <td>10.29616</td>\n",
       "    </tr>\n",
       "  </tbody>\n",
       "</table>\n",
       "</div>"
      ],
      "text/plain": [
       "     attributes  attribute_count_men  attribute_count_women\n",
       "0        friend            26.088006              25.170151\n",
       "1        father            18.229769              20.053751\n",
       "2           son             18.07562               6.821866\n",
       "3       brother            18.072269               8.194687\n",
       "4       friends            12.462594               9.842073\n",
       "5        mother              10.4285              27.166022\n",
       "6         house            10.090043              12.313151\n",
       "7          wife             9.815256              23.042278\n",
       "8          love             9.349459              17.123306\n",
       "13   girlfriend             6.501057              18.844612\n",
       "18       sister             5.696803              20.264955\n",
       "19     daughter             5.633133              25.455275\n",
       "153        girl              0.94835               10.29616"
      ]
     },
     "execution_count": 111,
     "metadata": {},
     "output_type": "execute_result"
    }
   ],
   "source": [
    "# This dataframe shows the top attributes for men and women above a certain threshold (for either of the genders)\n",
    "# The values have been normalised by the total number of words for each gender.\n",
    "\n",
    "common_attributes = pd.merge(left= men_attributes, right=women_attributes, how='inner', on= ['attributes'])\n",
    "common_attributes.set_axis(['attributes','attribute_count_men', 'attribute_count_women'], axis='columns', inplace=True)\n",
    "\n",
    "total_attributes_men = sum(common_attributes['attribute_count_men'])\n",
    "total_attributes_women = sum(common_attributes['attribute_count_women'])\n",
    "\n",
    "common_attributes['attribute_count_men'] = 1000*common_attributes['attribute_count_men']/total_attributes_men\n",
    "common_attributes['attribute_count_women'] = 1000*common_attributes['attribute_count_women']/total_attributes_women\n",
    "\n",
    "common_attributes = common_attributes.loc[(common_attributes['attribute_count_men']>=10) | (common_attributes['attribute_count_women']>=10)]\n",
    "\n",
    "common_attributes.head(15)"
   ]
  },
  {
   "cell_type": "markdown",
   "id": "3b832b2c",
   "metadata": {},
   "source": [
    "The attributes appearing the most are not really interesting for our analysis because it concerns mostly family members or relationship between people, and it does not tell much about the archetype of the person. However, we can see that \"father\" is more often related to a women than \"girlfriend\", \"girl\", \"daughter\" or even \"mother\" for a man. We cannot draw conclusions from this, but we could suppose that a woman is more often defined by or related to masculine relatives than a man is to feminine relatives."
   ]
  },
  {
   "cell_type": "markdown",
   "id": "fb02ff0f",
   "metadata": {},
   "source": [
    "## 5. PCA and feature selection"
   ]
  },
  {
   "cell_type": "markdown",
   "id": "5a8eb5c2",
   "metadata": {},
   "source": [
    "Now that we have the words associated to each character and that we can divide them by gender, we want to proceed to the sentiment analysis. In the Empath library, there are many categories we could use to see how they differ for men and women, and hence to which categories are genders more associated. \n",
    "\n",
    "Before this, it is important that we select the most relevant categories, which we will do thanks to PCA. \n",
    "\n",
    "We will also include in the PCA other features that we believe can be relevant. \n",
    "\n",
    "The feature extraction is explained below."
   ]
  },
  {
   "cell_type": "markdown",
   "id": "6d6d8d5c",
   "metadata": {},
   "source": [
    "### Feature extraction:\n",
    "-  `scores` returned by the `analyze` function of the `Empath library` for different lexical categories. We choose these categories to cover a wide range of lexical fields for the purpose of our data analysis and obtain a score for each one of them. The whole list of categories of this library can be found following this link: https://github.com/Ejhfast/empath-client/blob/master/empath/data/categories.tsv.\n",
    "- `Mean number of words`, that we compute by counting the mean number of different words in the attributes, agent and patient verbs for women and men.\n",
    "\n",
    "We also looked at top10 words but we did not yet include them in our PCA analysis:\n",
    "- `Top10Words`: presence or absence of verbs or attributes in the top 10 words occurring the most (make categories of them ? such as top10 violence, top10 sex etc)\n",
    "\n",
    "As using single characters as samples for the PCA would not lead to robust sentiment analysis (only few words per sample), we first cluster randomly female and male characters in small groups of 500, and perform the Empath analysis and mean word counting on those clusters to extract the PCA input data.\n"
   ]
  },
  {
   "cell_type": "code",
   "execution_count": 112,
   "id": "4c179bcf",
   "metadata": {},
   "outputs": [],
   "source": [
    "female_chars = women.sample(frac = 1, random_state = 1).reset_index()\n",
    "male_chars = men.sample(frac = 1, random_state = 1).reset_index()\n",
    "idx_f = np.arange(0, len(female_chars),500)\n",
    "samples_f = dict()\n",
    "for i in range(len(idx_f)-1):\n",
    "    samples_f['df_f_'+str(i)] = female_chars.iloc[idx_f[i]:idx_f[i+1],:]\n",
    "idx_m = np.arange(0, len(male_chars),500)\n",
    "samples_m = dict()\n",
    "for i in range(len(idx_m)-1):\n",
    "    samples_m['df_m_'+str(i)] = male_chars.iloc[idx_m[i]:idx_m[i+1],:]"
   ]
  },
  {
   "cell_type": "code",
   "execution_count": 113,
   "id": "5412e764",
   "metadata": {},
   "outputs": [],
   "source": [
    "def voc(x):\n",
    "    if len(x)==0:\n",
    "        res = 0\n",
    "    else:\n",
    "        res = len(x.split())\n",
    "    return res"
   ]
  },
  {
   "cell_type": "markdown",
   "id": "2e9eb89c",
   "metadata": {},
   "source": [
    "Compute mean number of words feature for clusters of male/female:"
   ]
  },
  {
   "cell_type": "code",
   "execution_count": 114,
   "id": "8170c14e",
   "metadata": {},
   "outputs": [],
   "source": [
    "mean_num_av_f = []\n",
    "mean_num_pv_f = []\n",
    "mean_num_att_f = []\n",
    "\n",
    "for i in samples_f.keys():\n",
    "    times_av = samples_f[i]['Agent Verbs'].apply(lambda x: pd.Series({'sum': voc(x)}))\n",
    "    mean_num_av_f.append(times_av['sum'].mean())\n",
    "    times_pv = samples_f[i]['Patient Verbs'].apply(lambda x: pd.Series({'sum': voc(x)}))\n",
    "    mean_num_pv_f.append(times_pv['sum'].mean())\n",
    "    times_att = samples_f[i]['Attributes'].apply(lambda x: pd.Series({'sum': voc(x)}))\n",
    "    mean_num_att_f.append(times_att['sum'].mean())\n"
   ]
  },
  {
   "cell_type": "code",
   "execution_count": 115,
   "id": "835cf51a",
   "metadata": {},
   "outputs": [],
   "source": [
    "mean_num_av_m = []\n",
    "mean_num_pv_m = []\n",
    "mean_num_att_m = []\n",
    "\n",
    "for i in samples_m.keys():\n",
    "    times_av = samples_m[i]['Agent Verbs'].apply(lambda x: pd.Series({'sum': voc(x)}))\n",
    "    mean_num_av_m.append(times_av['sum'].mean())\n",
    "    times_pv = samples_m[i]['Patient Verbs'].apply(lambda x: pd.Series({'sum': voc(x)}))\n",
    "    mean_num_pv_m.append(times_pv['sum'].mean())\n",
    "    times_att = samples_m[i]['Attributes'].apply(lambda x: pd.Series({'sum': voc(x)}))\n",
    "    mean_num_att_m.append(times_att['sum'].mean())"
   ]
  },
  {
   "cell_type": "markdown",
   "id": "9f2323c8",
   "metadata": {},
   "source": [
    "Selecting relevant categories covering a wide range of lexical fields for our analysis:"
   ]
  },
  {
   "cell_type": "code",
   "execution_count": 116,
   "id": "95ee7989",
   "metadata": {},
   "outputs": [],
   "source": [
    "categories = ['help','money','wedding','domestic_work','hate','cheerfulness','aggression','occupation','envy','anticipation','family','crime','attractive','masculine','prison'\n",
    ",'pride','dispute','nervousness','weakness','government','horror','swearing_terms','suffering','wealthy','royalty','magic','school','beach','banking','social_media'\n",
    ",'exercise','night','kill','blue_collar_job','art','ridicule','play','computer','optimism','stealing','home','sexual','fear','irritability','superhero'\n",
    ",'business','driving','childish','cooking','exasperation','religion','surprise','reading','worship','leader','independence','movement','body','zest','confusion','sports','death','healing','legend','heroic','celebration'\n",
    ",'violence','dominant_hierarchical','military','neglect','exotic','love','communication','hearing','order','sympathy','anonymity','trust','ancient','deception'\n",
    ",'fight','dominant_personality','politeness','farming','meeting','war','speaking','listen','shopping','disgust','tool','gain','injury','rage','science','work','appearance','valuable','warmth','youth','sadness','fun','emotional','joy','affection','fashion','ugliness'\n",
    "'lust','shame','torment','economics','anger','politics','strength','breaking','shape_and_size','power','white_collar_job','terrorism','party','disappointment','poor','pain','beauty','timidity','philosophy','negotiate','negative_emotion','cleaning','competing','law','friends','achievement','alcohol'\n",
    ",'feminine','weapon','children','monster','giving','contentment','positive_emotion','writing','rural']"
   ]
  },
  {
   "cell_type": "markdown",
   "id": "27f596ba",
   "metadata": {},
   "source": [
    "Joining all the words (patient, agent verbs and attributes) for lexical analysis (independent of type of word):"
   ]
  },
  {
   "cell_type": "code",
   "execution_count": 117,
   "id": "e7c17947",
   "metadata": {},
   "outputs": [],
   "source": [
    "cols = ['Agent Verbs', 'Patient Verbs', 'Attributes']\n",
    "samples = [samples_f, samples_m]\n",
    "for df in samples:\n",
    "    for key in df.keys():\n",
    "        df[key]['Descriptors'] = df[key][cols].apply(lambda row: ' '.join(row.values.astype(str)), axis=1)"
   ]
  },
  {
   "cell_type": "markdown",
   "id": "594efff1",
   "metadata": {},
   "source": [
    "Score feature computation for clusters of male/female:"
   ]
  },
  {
   "cell_type": "code",
   "execution_count": 118,
   "id": "2b965497",
   "metadata": {},
   "outputs": [],
   "source": [
    "sent_analysis_f = {}\n",
    "sent_analysis_m= {}\n",
    "\n",
    "for i, key in enumerate(samples_f.keys()):\n",
    "    sent_analysis_f['df_f_'+str(i)] = pd.DataFrame([lexicon.analyze(samples_f[key]['Descriptors'].str.cat(sep = ' '), categories = categories)])\n",
    "    \n",
    "for i, key in enumerate(samples_m.keys()):\n",
    "    sent_analysis_m['df_m_'+str(i)] = pd.DataFrame([lexicon.analyze(samples_m[key]['Descriptors'].str.cat(sep = ' '), categories = categories)])"
   ]
  },
  {
   "cell_type": "code",
   "execution_count": 119,
   "id": "4be964bc",
   "metadata": {},
   "outputs": [],
   "source": [
    "feats_fem = pd.concat(sent_analysis_f.values(), ignore_index=True)\n",
    "feats_male = pd.concat(sent_analysis_m.values(), ignore_index=True)"
   ]
  },
  {
   "cell_type": "code",
   "execution_count": 120,
   "id": "8989319a",
   "metadata": {},
   "outputs": [],
   "source": [
    "feats_fem['Total words'] = feats_fem.sum(axis=1)\n",
    "for col in feats_fem.columns:\n",
    "    feats_fem[col] = feats_fem[col]/feats_fem['Total words']\n",
    "\n",
    "feats_male['Total words'] = feats_male.sum(axis=1)\n",
    "for col in feats_male.columns:\n",
    "    feats_male[col] = feats_male[col]/feats_male['Total words']\n",
    "    \n",
    "feats_fem = feats_fem.drop(columns = ['Total words'])\n",
    "feats_male = feats_male.drop(columns = ['Total words'])"
   ]
  },
  {
   "cell_type": "code",
   "execution_count": 121,
   "id": "766b5b30",
   "metadata": {},
   "outputs": [],
   "source": [
    "feats_fem['mean_num_av'] = mean_num_av_f\n",
    "feats_fem['mean_num_pv'] = mean_num_pv_f\n",
    "feats_fem['mean_num_att'] = mean_num_att_f\n",
    "feats_fem['gender'] = 0\n",
    "feats_male['mean_num_av'] = mean_num_av_m\n",
    "feats_male['mean_num_pv'] = mean_num_pv_m\n",
    "feats_male['mean_num_att'] = mean_num_att_m\n",
    "feats_male['gender'] = 1"
   ]
  },
  {
   "cell_type": "markdown",
   "id": "a2c9d403",
   "metadata": {},
   "source": [
    "Preparing the dataframe for the PCA with all features by gender:"
   ]
  },
  {
   "cell_type": "code",
   "execution_count": 122,
   "id": "d2e56bb7",
   "metadata": {},
   "outputs": [],
   "source": [
    "data = pd.concat([feats_fem, feats_male], axis = 0)\n",
    "X = data.drop(columns = 'gender')\n",
    "y = data['gender']"
   ]
  },
  {
   "cell_type": "markdown",
   "id": "318abc87",
   "metadata": {},
   "source": [
    "Our clustering method yielded to 33 female and 57 male samples. Before performing PCA analysis, the features are standardized."
   ]
  },
  {
   "cell_type": "markdown",
   "id": "c3a74043",
   "metadata": {},
   "source": [
    "Now that we have extracted our features of interest for each cluster of male and female character, we apply the dimensionality reduction method in order to summarize the numerous features we have and visualize our data into this reduced space. We chose to go for the principal component analysis (PCA) because it allows to decorrelate the features, maximize the variance of the data in the new space while still providing interpretable results as the components are linear combinations of the original features.\n",
    "\n",
    "It's important to normalize (zero mean and unit variance) the features before running the PCA with standard scaler to compare all the features homogeneously. "
   ]
  },
  {
   "cell_type": "code",
   "execution_count": 129,
   "id": "2d587647",
   "metadata": {},
   "outputs": [
    {
     "name": "stdout",
     "output_type": "stream",
     "text": [
      "Component 1 explains 40.336254186758765 % of the variance in our data\n",
      "Component 2 explains 4.012729861646827 % of the variance in our data\n",
      "Component 3 explains 3.5274946519658408 % of the variance in our data\n"
     ]
    }
   ],
   "source": [
    "scaler = StandardScaler()\n",
    "scaled_df = pd.DataFrame(scaler.fit_transform(X), columns = X.columns).copy()\n",
    "\n",
    "%matplotlib inline\n",
    "\n",
    "pca_screeplot = PCA(n_components=3)\n",
    "pca_screeplot.fit_transform(scaled_df)\n",
    "pca = PCA().fit(scaled_df)\n",
    "\n",
    "# Percentage variance explaines\n",
    "ratio = pca_screeplot.explained_variance_ratio_\n",
    "print ('Component 1 explains',ratio[0]*100,'% of the variance in our data' )\n",
    "print ('Component 2 explains',ratio[1]*100,'% of the variance in our data' )\n",
    "print ('Component 3 explains',ratio[2]*100,'% of the variance in our data' )\n"
   ]
  },
  {
   "cell_type": "markdown",
   "id": "ad19d8fc",
   "metadata": {},
   "source": [
    "By choosing 3 components, we lose more than 50% of the information so maybe our features are not all relevant or they are higly correlated, and we may miss some features. Also, our analysis may lack some elements but we will probably expand it in the future. However, the first principal component explains 40.33% of the information which we hope will be able to discriminate our clusters."
   ]
  },
  {
   "cell_type": "markdown",
   "id": "5be97818",
   "metadata": {},
   "source": [
    "As the first component is the only one containing more than 5% or the variance in data, we do not need more than 2 components for our analysis. Let's visualize which features are correlated with the principal components:"
   ]
  },
  {
   "cell_type": "code",
   "execution_count": 134,
   "id": "f1b19a9f",
   "metadata": {},
   "outputs": [
    {
     "data": {
      "image/png": "[encoded data removed]",
      "text/plain": [
       "<Figure size 3000x1000 with 2 Axes>"
      ]
     },
     "metadata": {},
     "output_type": "display_data"
    }
   ],
   "source": [
    "plt.figure(figsize=(30,10))\n",
    "\n",
    "PCA2d = PCA(n_components=2)\n",
    "PCA2d.fit_transform(scaled_df)\n",
    "pca = PCA().fit(scaled_df)\n",
    "\n",
    "map_ = pd.DataFrame(PCA2d.components_,columns=scaled_df.columns)\n",
    "sns.heatmap(map_, cmap = \"RdBu\", xticklabels=True, yticklabels=True)\n",
    "plt.title(\"Features importance in gendered movie character clusters\", fontsize= 30)\n",
    "plt.yticks([0,1],['Component 1','Component 2'], fontsize=10)\n",
    "plt.xlabel('Features', fontsize= 20)\n",
    "plt.savefig(output_folder+ \"Features_importance_PCA.png\")\n",
    "plt.show()"
   ]
  },
  {
   "cell_type": "markdown",
   "id": "3cfc0fcf",
   "metadata": {},
   "source": [
    "We can see that the first component is more or less positively or negatively correlated with all of our lexical fields features but some categories are not correlated at all, which can help us to select the most relevant categories for our analysis (see later). Interestingly, component 2 seems to be correlated negatively or positively with a lot of emotions topics (contentment, anger, joy, irritability, disappointment, zest, exasperation...).\n",
    "As a note, we will then be able to merge into two categories positive and negative emotion (they are also one category) to have less features and more results."
   ]
  },
  {
   "cell_type": "code",
   "execution_count": 139,
   "id": "1e99f1c1",
   "metadata": {},
   "outputs": [
    {
     "data": {
      "image/png": "[encoded data removed]",
      "text/plain": [
       "<Figure size 800x500 with 1 Axes>"
      ]
     },
     "metadata": {},
     "output_type": "display_data"
    }
   ],
   "source": [
    "#Visualize results 2D PCA\n",
    "\n",
    "PCA_2d = PCA(n_components=2)\n",
    "PCs_2 = PCA_2d.fit_transform(scaled_df)\n",
    "res_PCA_2d = pd.DataFrame(data = PCs_2, columns = ['Principal component 1', 'Principal component 2'])\n",
    "\n",
    "plt.figure(figsize=(8,5))\n",
    "plt.xlabel('Principal Component 1',fontsize = 10)  \n",
    "plt.ylabel('Principal Component 2',fontsize = 10)  \n",
    "plt.title(\"PCA with 2 components on gendered movie character clusters\",fontsize=15) \n",
    "\n",
    "\n",
    "plot = plt.scatter(res_PCA_2d.loc[:,'Principal component 1'], res_PCA_2d.loc[:,'Principal component 2'], c = y)\n",
    "labels =[]\n",
    "plt.legend(handles=plot.legend_elements()[0], labels=['female', 'male'])\n",
    "\n",
    "plt.grid()\n",
    "plt.savefig(output_folder+ \"PCA_visualization.png\")\n",
    "plt.show()"
   ]
  },
  {
   "cell_type": "markdown",
   "id": "9fb1a654",
   "metadata": {},
   "source": [
    "From the results of our PCA, principal component 1 (PC1) can be used to differentiate male and female characters through the extracted features. From here we can recover the features more correlated to PC1 and use them for sentiment analysis.\n",
    "\n",
    "\n",
    "Relevant correlated features with PC1:"
   ]
  },
  {
   "cell_type": "code",
   "execution_count": 147,
   "id": "c8f08a01",
   "metadata": {},
   "outputs": [
    {
     "data": {
      "text/html": [
       "<div>\n",
       "<style scoped>\n",
       "    .dataframe tbody tr th:only-of-type {\n",
       "        vertical-align: middle;\n",
       "    }\n",
       "\n",
       "    .dataframe tbody tr th {\n",
       "        vertical-align: top;\n",
       "    }\n",
       "\n",
       "    .dataframe thead th {\n",
       "        text-align: right;\n",
       "    }\n",
       "</style>\n",
       "<table border=\"1\" class=\"dataframe\">\n",
       "  <thead>\n",
       "    <tr style=\"text-align: right;\">\n",
       "      <th></th>\n",
       "      <th>PC1</th>\n",
       "    </tr>\n",
       "  </thead>\n",
       "  <tbody>\n",
       "    <tr>\n",
       "      <th>feminine</th>\n",
       "      <td>0.987564</td>\n",
       "    </tr>\n",
       "    <tr>\n",
       "      <th>children</th>\n",
       "      <td>0.986294</td>\n",
       "    </tr>\n",
       "    <tr>\n",
       "      <th>family</th>\n",
       "      <td>0.985638</td>\n",
       "    </tr>\n",
       "    <tr>\n",
       "      <th>home</th>\n",
       "      <td>0.974986</td>\n",
       "    </tr>\n",
       "    <tr>\n",
       "      <th>royalty</th>\n",
       "      <td>0.974038</td>\n",
       "    </tr>\n",
       "    <tr>\n",
       "      <th>crime</th>\n",
       "      <td>0.958345</td>\n",
       "    </tr>\n",
       "    <tr>\n",
       "      <th>fight</th>\n",
       "      <td>0.955199</td>\n",
       "    </tr>\n",
       "    <tr>\n",
       "      <th>war</th>\n",
       "      <td>0.953262</td>\n",
       "    </tr>\n",
       "    <tr>\n",
       "      <th>friends</th>\n",
       "      <td>0.951839</td>\n",
       "    </tr>\n",
       "    <tr>\n",
       "      <th>weapon</th>\n",
       "      <td>0.949402</td>\n",
       "    </tr>\n",
       "    <tr>\n",
       "      <th>masculine</th>\n",
       "      <td>0.943031</td>\n",
       "    </tr>\n",
       "    <tr>\n",
       "      <th>beauty</th>\n",
       "      <td>0.941853</td>\n",
       "    </tr>\n",
       "    <tr>\n",
       "      <th>military</th>\n",
       "      <td>0.936902</td>\n",
       "    </tr>\n",
       "    <tr>\n",
       "      <th>love</th>\n",
       "      <td>0.936174</td>\n",
       "    </tr>\n",
       "    <tr>\n",
       "      <th>appearance</th>\n",
       "      <td>0.935398</td>\n",
       "    </tr>\n",
       "    <tr>\n",
       "      <th>childish</th>\n",
       "      <td>0.933057</td>\n",
       "    </tr>\n",
       "    <tr>\n",
       "      <th>prison</th>\n",
       "      <td>0.927401</td>\n",
       "    </tr>\n",
       "    <tr>\n",
       "      <th>wedding</th>\n",
       "      <td>0.919161</td>\n",
       "    </tr>\n",
       "    <tr>\n",
       "      <th>stealing</th>\n",
       "      <td>0.917302</td>\n",
       "    </tr>\n",
       "    <tr>\n",
       "      <th>kill</th>\n",
       "      <td>0.914398</td>\n",
       "    </tr>\n",
       "    <tr>\n",
       "      <th>business</th>\n",
       "      <td>0.913949</td>\n",
       "    </tr>\n",
       "    <tr>\n",
       "      <th>attractive</th>\n",
       "      <td>0.911608</td>\n",
       "    </tr>\n",
       "    <tr>\n",
       "      <th>power</th>\n",
       "      <td>0.908026</td>\n",
       "    </tr>\n",
       "    <tr>\n",
       "      <th>affection</th>\n",
       "      <td>0.907215</td>\n",
       "    </tr>\n",
       "    <tr>\n",
       "      <th>driving</th>\n",
       "      <td>0.905636</td>\n",
       "    </tr>\n",
       "    <tr>\n",
       "      <th>play</th>\n",
       "      <td>0.897912</td>\n",
       "    </tr>\n",
       "    <tr>\n",
       "      <th>violence</th>\n",
       "      <td>0.893195</td>\n",
       "    </tr>\n",
       "    <tr>\n",
       "      <th>sexual</th>\n",
       "      <td>0.890231</td>\n",
       "    </tr>\n",
       "    <tr>\n",
       "      <th>leader</th>\n",
       "      <td>0.881770</td>\n",
       "    </tr>\n",
       "    <tr>\n",
       "      <th>competing</th>\n",
       "      <td>0.879053</td>\n",
       "    </tr>\n",
       "    <tr>\n",
       "      <th>terrorism</th>\n",
       "      <td>0.865760</td>\n",
       "    </tr>\n",
       "    <tr>\n",
       "      <th>negotiate</th>\n",
       "      <td>0.862861</td>\n",
       "    </tr>\n",
       "    <tr>\n",
       "      <th>aggression</th>\n",
       "      <td>0.861793</td>\n",
       "    </tr>\n",
       "    <tr>\n",
       "      <th>sports</th>\n",
       "      <td>0.856368</td>\n",
       "    </tr>\n",
       "    <tr>\n",
       "      <th>money</th>\n",
       "      <td>0.844099</td>\n",
       "    </tr>\n",
       "    <tr>\n",
       "      <th>death</th>\n",
       "      <td>0.831780</td>\n",
       "    </tr>\n",
       "    <tr>\n",
       "      <th>weakness</th>\n",
       "      <td>0.824749</td>\n",
       "    </tr>\n",
       "    <tr>\n",
       "      <th>beach</th>\n",
       "      <td>0.814444</td>\n",
       "    </tr>\n",
       "    <tr>\n",
       "      <th>social_media</th>\n",
       "      <td>0.805916</td>\n",
       "    </tr>\n",
       "  </tbody>\n",
       "</table>\n",
       "</div>"
      ],
      "text/plain": [
       "                   PC1\n",
       "feminine      0.987564\n",
       "children      0.986294\n",
       "family        0.985638\n",
       "home          0.974986\n",
       "royalty       0.974038\n",
       "crime         0.958345\n",
       "fight         0.955199\n",
       "war           0.953262\n",
       "friends       0.951839\n",
       "weapon        0.949402\n",
       "masculine     0.943031\n",
       "beauty        0.941853\n",
       "military      0.936902\n",
       "love          0.936174\n",
       "appearance    0.935398\n",
       "childish      0.933057\n",
       "prison        0.927401\n",
       "wedding       0.919161\n",
       "stealing      0.917302\n",
       "kill          0.914398\n",
       "business      0.913949\n",
       "attractive    0.911608\n",
       "power         0.908026\n",
       "affection     0.907215\n",
       "driving       0.905636\n",
       "play          0.897912\n",
       "violence      0.893195\n",
       "sexual        0.890231\n",
       "leader        0.881770\n",
       "competing     0.879053\n",
       "terrorism     0.865760\n",
       "negotiate     0.862861\n",
       "aggression    0.861793\n",
       "sports        0.856368\n",
       "money         0.844099\n",
       "death         0.831780\n",
       "weakness      0.824749\n",
       "beach         0.814444\n",
       "social_media  0.805916"
      ]
     },
     "execution_count": 147,
     "metadata": {},
     "output_type": "execute_result"
    }
   ],
   "source": [
    "loadings = PCA_2d.components_.T * np.sqrt(PCA_2d.explained_variance_)\n",
    "loading_matrix = pd.DataFrame(abs(loadings), columns=['PC1', 'PC2'], index=X.columns)\n",
    "loading_matrix = loading_matrix.sort_values('PC1', ascending = False)\n",
    "loading_matrix = loading_matrix.loc[loading_matrix['PC1']>0.8]\n",
    "loading_matrix.drop(columns = ['PC2'], axis = 1)"
   ]
  },
  {
   "cell_type": "code",
   "execution_count": 70,
   "id": "6b0e138f",
   "metadata": {},
   "outputs": [],
   "source": [
    "selected_categories = ['feminine','children','family','home','royalty','crime','fight','war','friends',\n",
    "                        'weapon','masculine','beauty','military','love','appearance','childish','prison',\n",
    "                       'wedding','stealing','kill','business','attractive','power','affection',\n",
    "                       'driving','play','violence','sexual','leader','competing','terrorism','negotiate',\n",
    "                       'aggression','sports','money', 'death','weakness','beach','social_media']"
   ]
  },
  {
   "cell_type": "markdown",
   "id": "fc76ccce",
   "metadata": {},
   "source": [
    "## 6. Sentiment Analysis"
   ]
  },
  {
   "cell_type": "markdown",
   "id": "b031e102",
   "metadata": {},
   "source": [
    "Score feature computation with selected categories from empath on women and men:"
   ]
  },
  {
   "cell_type": "code",
   "execution_count": 149,
   "id": "36b79a08",
   "metadata": {},
   "outputs": [],
   "source": [
    "women_lex_av = pd.DataFrame([lexicon.analyze(women['Agent Verbs'].str.cat(sep = ' '), categories = selected_categories)])\n",
    "women_lex_pv = pd.DataFrame([lexicon.analyze(women['Patient Verbs'].str.cat(sep = ' '), categories = selected_categories)])\n",
    "women_lex_att = pd.DataFrame([lexicon.analyze(women['Attributes'].str.cat(sep = ' '), categories = selected_categories)])"
   ]
  },
  {
   "cell_type": "code",
   "execution_count": 150,
   "id": "695162c1",
   "metadata": {},
   "outputs": [],
   "source": [
    "men_lex_av = pd.DataFrame([lexicon.analyze(men['Agent Verbs'].str.cat(sep = ' '), categories = selected_categories)])\n",
    "men_lex_pv = pd.DataFrame([lexicon.analyze(men['Patient Verbs'].str.cat(sep = ' '), categories = selected_categories)])\n",
    "men_lex_att = pd.DataFrame([lexicon.analyze(men['Attributes'].str.cat(sep = ' '), categories = selected_categories)])"
   ]
  },
  {
   "cell_type": "code",
   "execution_count": 153,
   "id": "952db8c4",
   "metadata": {},
   "outputs": [],
   "source": [
    "gendered_lex = pd.concat([women_lex_av, women_lex_pv, women_lex_att, men_lex_av, men_lex_pv, men_lex_att], ignore_index=True)\n",
    "gendered_lex.rename(index={0:\"Agent Verb [F]\", 1:\"Patient Verb [F]\", 2: \"Attribute [F]\" ,3:\"Agent Verb [M]\", 4:\"Patient Verb [M]\", 5: \"Attribute [M]\"}, inplace = True)"
   ]
  },
  {
   "cell_type": "code",
   "execution_count": 154,
   "id": "765ce2fb",
   "metadata": {},
   "outputs": [],
   "source": [
    "gendered_lex['Total words'] = gendered_lex.sum(axis=1)"
   ]
  },
  {
   "cell_type": "code",
   "execution_count": 159,
   "id": "2cc059ba",
   "metadata": {},
   "outputs": [],
   "source": [
    "gendered_lex['Total words'] = gendered_lex.sum(axis=1)\n",
    "gendered_lex\n",
    "for col in gendered_lex.columns:\n",
    "    gendered_lex[col] = gendered_lex[col]/gendered_lex['Total words']*10\n"
   ]
  },
  {
   "cell_type": "code",
   "execution_count": 160,
   "id": "f0c48fb9",
   "metadata": {
    "scrolled": false
   },
   "outputs": [
    {
     "data": {
      "text/html": [
       "<div>\n",
       "<style scoped>\n",
       "    .dataframe tbody tr th:only-of-type {\n",
       "        vertical-align: middle;\n",
       "    }\n",
       "\n",
       "    .dataframe tbody tr th {\n",
       "        vertical-align: top;\n",
       "    }\n",
       "\n",
       "    .dataframe thead th {\n",
       "        text-align: right;\n",
       "    }\n",
       "</style>\n",
       "<table border=\"1\" class=\"dataframe\">\n",
       "  <thead>\n",
       "    <tr style=\"text-align: right;\">\n",
       "      <th></th>\n",
       "      <th>feminine</th>\n",
       "      <th>children</th>\n",
       "      <th>family</th>\n",
       "      <th>home</th>\n",
       "      <th>royalty</th>\n",
       "      <th>crime</th>\n",
       "      <th>fight</th>\n",
       "      <th>war</th>\n",
       "      <th>friends</th>\n",
       "      <th>weapon</th>\n",
       "      <th>...</th>\n",
       "      <th>terrorism</th>\n",
       "      <th>negotiate</th>\n",
       "      <th>aggression</th>\n",
       "      <th>sports</th>\n",
       "      <th>money</th>\n",
       "      <th>death</th>\n",
       "      <th>weakness</th>\n",
       "      <th>beach</th>\n",
       "      <th>social_media</th>\n",
       "      <th>Total words</th>\n",
       "    </tr>\n",
       "  </thead>\n",
       "  <tbody>\n",
       "    <tr>\n",
       "      <th>Agent Verb [F]</th>\n",
       "      <td>0.075082</td>\n",
       "      <td>0.257673</td>\n",
       "      <td>0.212615</td>\n",
       "      <td>0.099544</td>\n",
       "      <td>0.042325</td>\n",
       "      <td>0.058114</td>\n",
       "      <td>0.083047</td>\n",
       "      <td>0.043126</td>\n",
       "      <td>0.160392</td>\n",
       "      <td>0.027384</td>\n",
       "      <td>...</td>\n",
       "      <td>0.006976</td>\n",
       "      <td>0.005892</td>\n",
       "      <td>0.059340</td>\n",
       "      <td>0.033464</td>\n",
       "      <td>0.031862</td>\n",
       "      <td>0.105577</td>\n",
       "      <td>0.010369</td>\n",
       "      <td>0.007117</td>\n",
       "      <td>0.064242</td>\n",
       "      <td>10.0</td>\n",
       "    </tr>\n",
       "    <tr>\n",
       "      <th>Patient Verb [F]</th>\n",
       "      <td>0.030631</td>\n",
       "      <td>0.338739</td>\n",
       "      <td>0.352252</td>\n",
       "      <td>0.000000</td>\n",
       "      <td>0.017568</td>\n",
       "      <td>0.000450</td>\n",
       "      <td>0.000901</td>\n",
       "      <td>0.001802</td>\n",
       "      <td>0.000450</td>\n",
       "      <td>0.121171</td>\n",
       "      <td>...</td>\n",
       "      <td>0.000000</td>\n",
       "      <td>0.000000</td>\n",
       "      <td>0.034685</td>\n",
       "      <td>0.000000</td>\n",
       "      <td>0.050450</td>\n",
       "      <td>0.095045</td>\n",
       "      <td>0.143243</td>\n",
       "      <td>0.000000</td>\n",
       "      <td>0.041892</td>\n",
       "      <td>10.0</td>\n",
       "    </tr>\n",
       "    <tr>\n",
       "      <th>Attribute [F]</th>\n",
       "      <td>0.055456</td>\n",
       "      <td>0.380832</td>\n",
       "      <td>0.424290</td>\n",
       "      <td>0.256392</td>\n",
       "      <td>0.063185</td>\n",
       "      <td>0.028972</td>\n",
       "      <td>0.012329</td>\n",
       "      <td>0.014121</td>\n",
       "      <td>0.311894</td>\n",
       "      <td>0.008379</td>\n",
       "      <td>...</td>\n",
       "      <td>0.004909</td>\n",
       "      <td>0.001210</td>\n",
       "      <td>0.018231</td>\n",
       "      <td>0.019715</td>\n",
       "      <td>0.007226</td>\n",
       "      <td>0.128321</td>\n",
       "      <td>0.003584</td>\n",
       "      <td>0.003767</td>\n",
       "      <td>0.029851</td>\n",
       "      <td>10.0</td>\n",
       "    </tr>\n",
       "    <tr>\n",
       "      <th>Agent Verb [M]</th>\n",
       "      <td>0.014385</td>\n",
       "      <td>0.144355</td>\n",
       "      <td>0.156872</td>\n",
       "      <td>0.068963</td>\n",
       "      <td>0.012129</td>\n",
       "      <td>0.114591</td>\n",
       "      <td>0.133366</td>\n",
       "      <td>0.089631</td>\n",
       "      <td>0.107629</td>\n",
       "      <td>0.060352</td>\n",
       "      <td>...</td>\n",
       "      <td>0.012541</td>\n",
       "      <td>0.007617</td>\n",
       "      <td>0.081529</td>\n",
       "      <td>0.046501</td>\n",
       "      <td>0.033014</td>\n",
       "      <td>0.117187</td>\n",
       "      <td>0.009436</td>\n",
       "      <td>0.015064</td>\n",
       "      <td>0.075392</td>\n",
       "      <td>10.0</td>\n",
       "    </tr>\n",
       "    <tr>\n",
       "      <th>Patient Verb [M]</th>\n",
       "      <td>0.021934</td>\n",
       "      <td>0.241745</td>\n",
       "      <td>0.248113</td>\n",
       "      <td>0.005425</td>\n",
       "      <td>0.005896</td>\n",
       "      <td>0.000943</td>\n",
       "      <td>0.003302</td>\n",
       "      <td>0.000943</td>\n",
       "      <td>0.000472</td>\n",
       "      <td>0.226415</td>\n",
       "      <td>...</td>\n",
       "      <td>0.000000</td>\n",
       "      <td>0.007075</td>\n",
       "      <td>0.047877</td>\n",
       "      <td>0.000000</td>\n",
       "      <td>0.058255</td>\n",
       "      <td>0.059198</td>\n",
       "      <td>0.334434</td>\n",
       "      <td>0.000000</td>\n",
       "      <td>0.012736</td>\n",
       "      <td>10.0</td>\n",
       "    </tr>\n",
       "    <tr>\n",
       "      <th>Attribute [M]</th>\n",
       "      <td>0.009758</td>\n",
       "      <td>0.309381</td>\n",
       "      <td>0.348852</td>\n",
       "      <td>0.188414</td>\n",
       "      <td>0.029223</td>\n",
       "      <td>0.057646</td>\n",
       "      <td>0.027641</td>\n",
       "      <td>0.032034</td>\n",
       "      <td>0.281878</td>\n",
       "      <td>0.027435</td>\n",
       "      <td>...</td>\n",
       "      <td>0.011839</td>\n",
       "      <td>0.006732</td>\n",
       "      <td>0.029300</td>\n",
       "      <td>0.033350</td>\n",
       "      <td>0.019448</td>\n",
       "      <td>0.178115</td>\n",
       "      <td>0.004153</td>\n",
       "      <td>0.010136</td>\n",
       "      <td>0.044956</td>\n",
       "      <td>10.0</td>\n",
       "    </tr>\n",
       "  </tbody>\n",
       "</table>\n",
       "<p>6 rows × 40 columns</p>\n",
       "</div>"
      ],
      "text/plain": [
       "                  feminine  children    family      home   royalty     crime  \\\n",
       "Agent Verb [F]    0.075082  0.257673  0.212615  0.099544  0.042325  0.058114   \n",
       "Patient Verb [F]  0.030631  0.338739  0.352252  0.000000  0.017568  0.000450   \n",
       "Attribute [F]     0.055456  0.380832  0.424290  0.256392  0.063185  0.028972   \n",
       "Agent Verb [M]    0.014385  0.144355  0.156872  0.068963  0.012129  0.114591   \n",
       "Patient Verb [M]  0.021934  0.241745  0.248113  0.005425  0.005896  0.000943   \n",
       "Attribute [M]     0.009758  0.309381  0.348852  0.188414  0.029223  0.057646   \n",
       "\n",
       "                     fight       war   friends    weapon  ...  terrorism  \\\n",
       "Agent Verb [F]    0.083047  0.043126  0.160392  0.027384  ...   0.006976   \n",
       "Patient Verb [F]  0.000901  0.001802  0.000450  0.121171  ...   0.000000   \n",
       "Attribute [F]     0.012329  0.014121  0.311894  0.008379  ...   0.004909   \n",
       "Agent Verb [M]    0.133366  0.089631  0.107629  0.060352  ...   0.012541   \n",
       "Patient Verb [M]  0.003302  0.000943  0.000472  0.226415  ...   0.000000   \n",
       "Attribute [M]     0.027641  0.032034  0.281878  0.027435  ...   0.011839   \n",
       "\n",
       "                  negotiate  aggression    sports     money     death  \\\n",
       "Agent Verb [F]     0.005892    0.059340  0.033464  0.031862  0.105577   \n",
       "Patient Verb [F]   0.000000    0.034685  0.000000  0.050450  0.095045   \n",
       "Attribute [F]      0.001210    0.018231  0.019715  0.007226  0.128321   \n",
       "Agent Verb [M]     0.007617    0.081529  0.046501  0.033014  0.117187   \n",
       "Patient Verb [M]   0.007075    0.047877  0.000000  0.058255  0.059198   \n",
       "Attribute [M]      0.006732    0.029300  0.033350  0.019448  0.178115   \n",
       "\n",
       "                  weakness     beach  social_media  Total words  \n",
       "Agent Verb [F]    0.010369  0.007117      0.064242         10.0  \n",
       "Patient Verb [F]  0.143243  0.000000      0.041892         10.0  \n",
       "Attribute [F]     0.003584  0.003767      0.029851         10.0  \n",
       "Agent Verb [M]    0.009436  0.015064      0.075392         10.0  \n",
       "Patient Verb [M]  0.334434  0.000000      0.012736         10.0  \n",
       "Attribute [M]     0.004153  0.010136      0.044956         10.0  \n",
       "\n",
       "[6 rows x 40 columns]"
      ]
     },
     "execution_count": 160,
     "metadata": {},
     "output_type": "execute_result"
    }
   ],
   "source": [
    "gendered_lex"
   ]
  },
  {
   "cell_type": "markdown",
   "id": "5d69c77e",
   "metadata": {},
   "source": [
    "## Conclusions and future work:\n",
    "\n",
    "From milestone 2 results, we are completely familiar with the datasets and we are confident that our method can be used to evaluate gender representations in movies.\n",
    "\n",
    "From now on, we aim to assess differences between male and female characters using the selected categories and continue the sentiment analysis. One option is to cluster categories to create archetypes and hence understand which are more associated to male and female characters. Moreover, as we wanted to study the evolution of the representations through time and space, we need to add time and countries in our analysis. Also here, we will have to wisely chose time period and world regions to cluster the data in a meaningful way."
   ]
  },
  {
   "cell_type": "markdown",
   "id": "e1062a58",
   "metadata": {},
   "source": [
    "## References:\n",
    "\n",
    "[1] David Bamman, Brendan O'Connor, and Noah A. Smith. 2013. \"Learning Latent Personas of Film Characters\". ACL, Sofia, Bulgaria, August 2013\n",
    "\n",
    "[2] Marie-Catherine de Marneffe and Christopher D. Manning. 2008. \"The Stanford typed dependencies representation.\" In COLING Workshop on Cross-framework and Cross-domain Parser Evaluation.\n",
    "\n",
    "[3] E. Fast, B. Chen, and M. S. Bernstein, “Empath: Understanding topic signals in large-scale text,” Conference on Human Factors in Computing Systems - Proceedings, pp. 4647–4657, 5 2016.\n",
    "\n",
    "[4] Peng Qi, Yuhao Zhang, Yuhui Zhang, Jason Bolton and Christopher D. Manning. 2020. Stanza: A Python Natural Language Processing Toolkit for Many Human Languages. In Association for Computational Linguistics (ACL) System Demonstrations. 2020. [pdf][bib]"
   ]
  },
  {
   "cell_type": "markdown",
   "id": "1a10f81e",
   "metadata": {},
   "source": []
  }
 ],
 "metadata": {
  "kernelspec": {
   "display_name": "Python 3 (ipykernel)",
   "language": "python",
   "name": "python3"
  },
  "language_info": {
   "codemirror_mode": {
    "name": "ipython",
    "version": 3
   },
   "file_extension": ".py",
   "mimetype": "text/x-python",
   "name": "python",
   "nbconvert_exporter": "python",
   "pygments_lexer": "ipython3",
   "version": "3.9.13"
  },
  "vscode": {
   "interpreter": {
    "hash": "8a04086ede2c9fba8dded5ae1d3862c5ce141bc2778c1114f47c151057d7c332"
   }
  }
 },
 "nbformat": 4,
 "nbformat_minor": 5
}
