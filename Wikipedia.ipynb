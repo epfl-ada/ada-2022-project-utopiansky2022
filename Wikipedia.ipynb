{
 "cells": [
  {
   "cell_type": "code",
   "execution_count": null,
   "id": "3af836af",
   "metadata": {},
   "outputs": [
    {
     "ename": "AttributeError",
     "evalue": "module 'pywikibot' has no attribute 'family'",
     "output_type": "error",
     "traceback": [
      "\u001b[0;31m---------------------------------------------------------------------------\u001b[0m\n",
      "\u001b[0;31mAttributeError\u001b[0m                            Traceback (most recent call last)\n",
      "\u001b[1;32m/Users/nikolausraith/Documents/EPFL_Master/MA-3/ADA/ada-2022-project-utopiansky2022/Main.ipynb Cell 1\u001b[0m in \u001b[0;36m<cell line: 4>\u001b[0;34m()\u001b[0m\n",
      "\u001b[1;32m      <a href='vscode-notebook-cell:/Users/nikolausraith/Documents/EPFL_Master/MA-3/ADA/ada-2022-project-utopiansky2022/Main.ipynb#W0sZmlsZQ%3D%3D?line=0'>1</a>\u001b[0m \u001b[39m#!/usr/bin/python3\u001b[39;00m\n",
      "\u001b[1;32m      <a href='vscode-notebook-cell:/Users/nikolausraith/Documents/EPFL_Master/MA-3/ADA/ada-2022-project-utopiansky2022/Main.ipynb#W0sZmlsZQ%3D%3D?line=1'>2</a>\u001b[0m \u001b[39mimport\u001b[39;00m \u001b[39mpywikibot\u001b[39;00m\n",
      "\u001b[0;32m----> <a href='vscode-notebook-cell:/Users/nikolausraith/Documents/EPFL_Master/MA-3/ADA/ada-2022-project-utopiansky2022/Main.ipynb#W0sZmlsZQ%3D%3D?line=3'>4</a>\u001b[0m site \u001b[39m=\u001b[39m pywikibot\u001b[39m.\u001b[39;49mSite(\u001b[39m\"\u001b[39;49m\u001b[39men\u001b[39;49m\u001b[39m\"\u001b[39;49m, \u001b[39m\"\u001b[39;49m\u001b[39mwikipedia\u001b[39;49m\u001b[39m\"\u001b[39;49m)\n",
      "\u001b[1;32m      <a href='vscode-notebook-cell:/Users/nikolausraith/Documents/EPFL_Master/MA-3/ADA/ada-2022-project-utopiansky2022/Main.ipynb#W0sZmlsZQ%3D%3D?line=4'>5</a>\u001b[0m page \u001b[39m=\u001b[39m pywikibot\u001b[39m.\u001b[39mPage(site, \u001b[39m\"\u001b[39m\u001b[39mGhosts of Mars\u001b[39m\u001b[39m\"\u001b[39m)\n",
      "\u001b[1;32m      <a href='vscode-notebook-cell:/Users/nikolausraith/Documents/EPFL_Master/MA-3/ADA/ada-2022-project-utopiansky2022/Main.ipynb#W0sZmlsZQ%3D%3D?line=5'>6</a>\u001b[0m item \u001b[39m=\u001b[39m pywikibot\u001b[39m.\u001b[39mItemPage\u001b[39m.\u001b[39mfromPage(page)\n",
      "\n",
      "File \u001b[0;32m~/opt/anaconda3/envs/ada/lib/python3.8/site-packages/pywikibot/__init__.py:1118\u001b[0m, in \u001b[0;36mSite\u001b[0;34m(code, fam, user, interface, url)\u001b[0m\n",
      "\u001b[1;32m   1116\u001b[0m key \u001b[39m=\u001b[39m \u001b[39m'\u001b[39m\u001b[39m{}\u001b[39;00m\u001b[39m:\u001b[39m\u001b[39m{}\u001b[39;00m\u001b[39m:\u001b[39m\u001b[39m{}\u001b[39;00m\u001b[39m:\u001b[39m\u001b[39m{}\u001b[39;00m\u001b[39m'\u001b[39m\u001b[39m.\u001b[39mformat(interface\u001b[39m.\u001b[39m\u001b[39m__name__\u001b[39m, fam, code, user)\n",
      "\u001b[1;32m   1117\u001b[0m \u001b[39mif\u001b[39;00m key \u001b[39mnot\u001b[39;00m \u001b[39min\u001b[39;00m _sites \u001b[39mor\u001b[39;00m \u001b[39mnot\u001b[39;00m \u001b[39misinstance\u001b[39m(_sites[key], interface):\n",
      "\u001b[0;32m-> 1118\u001b[0m     _sites[key] \u001b[39m=\u001b[39m interface(code\u001b[39m=\u001b[39;49mcode, fam\u001b[39m=\u001b[39;49mfam, user\u001b[39m=\u001b[39;49muser)\n",
      "\u001b[1;32m   1119\u001b[0m     debug(\u001b[39m\"\u001b[39m\u001b[39mInstantiated \u001b[39m\u001b[39m{}\u001b[39;00m\u001b[39m object \u001b[39m\u001b[39m'\u001b[39m\u001b[39m{}\u001b[39;00m\u001b[39m'\u001b[39m\u001b[39m\"\u001b[39m\n",
      "\u001b[1;32m   1120\u001b[0m           \u001b[39m.\u001b[39mformat(interface\u001b[39m.\u001b[39m\u001b[39m__name__\u001b[39m, _sites[key]))\n",
      "\u001b[1;32m   1122\u001b[0m     \u001b[39mif\u001b[39;00m _sites[key]\u001b[39m.\u001b[39mcode \u001b[39m!=\u001b[39m code:\n",
      "\n",
      "File \u001b[0;32m~/opt/anaconda3/envs/ada/lib/python3.8/site-packages/pywikibot/site/_apisite.py:117\u001b[0m, in \u001b[0;36mAPISite.__init__\u001b[0;34m(self, code, fam, user)\u001b[0m\n",
      "\u001b[1;32m    110\u001b[0m \u001b[39mdef\u001b[39;00m \u001b[39m__init__\u001b[39m(\n",
      "\u001b[1;32m    111\u001b[0m     \u001b[39mself\u001b[39m,\n",
      "\u001b[1;32m    112\u001b[0m     code: \u001b[39mstr\u001b[39m,\n",
      "\u001b[1;32m    113\u001b[0m     fam: Union[\u001b[39mstr\u001b[39m, \u001b[39m'\u001b[39m\u001b[39mpywikibot.family.Family\u001b[39m\u001b[39m'\u001b[39m, \u001b[39mNone\u001b[39;00m] \u001b[39m=\u001b[39m \u001b[39mNone\u001b[39;00m,\n",
      "\u001b[1;32m    114\u001b[0m     user: Optional[\u001b[39mstr\u001b[39m] \u001b[39m=\u001b[39m \u001b[39mNone\u001b[39;00m\n",
      "\u001b[1;32m    115\u001b[0m ) \u001b[39m-\u001b[39m\u001b[39m>\u001b[39m \u001b[39mNone\u001b[39;00m:\n",
      "\u001b[1;32m    116\u001b[0m     \u001b[39m\"\"\"Initializer.\"\"\"\u001b[39;00m\n",
      "\u001b[0;32m--> 117\u001b[0m     \u001b[39msuper\u001b[39;49m()\u001b[39m.\u001b[39;49m\u001b[39m__init__\u001b[39;49m(code, fam, user)\n",
      "\u001b[1;32m    118\u001b[0m     \u001b[39mself\u001b[39m\u001b[39m.\u001b[39m_globaluserinfo \u001b[39m=\u001b[39m {}  \u001b[39m# type: Dict[Union[int, str], Any]\u001b[39;00m\n",
      "\u001b[1;32m    119\u001b[0m     \u001b[39mself\u001b[39m\u001b[39m.\u001b[39m_interwikimap \u001b[39m=\u001b[39m _InterwikiMap(\u001b[39mself\u001b[39m)\n",
      "\n",
      "File \u001b[0;32m~/opt/anaconda3/envs/ada/lib/python3.8/site-packages/pywikibot/site/_basesite.py:54\u001b[0m, in \u001b[0;36mBaseSite.__init__\u001b[0;34m(self, code, fam, user)\u001b[0m\n",
      "\u001b[1;32m     51\u001b[0m     pywikibot\u001b[39m.\u001b[39mlog(\u001b[39m'\u001b[39m\u001b[39mBaseSite: code \u001b[39m\u001b[39m\"\u001b[39m\u001b[39m{}\u001b[39;00m\u001b[39m\"\u001b[39m\u001b[39m converted to lowercase\u001b[39m\u001b[39m'\u001b[39m\n",
      "\u001b[1;32m     52\u001b[0m                   \u001b[39m.\u001b[39mformat(code))\n",
      "\u001b[1;32m     53\u001b[0m     code \u001b[39m=\u001b[39m code\u001b[39m.\u001b[39mlower()\n",
      "\u001b[0;32m---> 54\u001b[0m \u001b[39mif\u001b[39;00m \u001b[39mnot\u001b[39;00m \u001b[39mall\u001b[39;49m(x \u001b[39min\u001b[39;49;00m pywikibot\u001b[39m.\u001b[39;49mfamily\u001b[39m.\u001b[39;49mCODE_CHARACTERS \u001b[39mfor\u001b[39;49;00m x \u001b[39min\u001b[39;49;00m code):\n",
      "\u001b[1;32m     55\u001b[0m     pywikibot\u001b[39m.\u001b[39mlog(\u001b[39m'\u001b[39m\u001b[39mBaseSite: code \u001b[39m\u001b[39m\"\u001b[39m\u001b[39m{}\u001b[39;00m\u001b[39m\"\u001b[39m\u001b[39m contains invalid characters\u001b[39m\u001b[39m'\u001b[39m\n",
      "\u001b[1;32m     56\u001b[0m                   \u001b[39m.\u001b[39mformat(code))\n",
      "\u001b[1;32m     57\u001b[0m \u001b[39mself\u001b[39m\u001b[39m.\u001b[39m__code \u001b[39m=\u001b[39m code\n",
      "\n",
      "File \u001b[0;32m~/opt/anaconda3/envs/ada/lib/python3.8/site-packages/pywikibot/site/_basesite.py:54\u001b[0m, in \u001b[0;36m<genexpr>\u001b[0;34m(.0)\u001b[0m\n",
      "\u001b[1;32m     51\u001b[0m     pywikibot\u001b[39m.\u001b[39mlog(\u001b[39m'\u001b[39m\u001b[39mBaseSite: code \u001b[39m\u001b[39m\"\u001b[39m\u001b[39m{}\u001b[39;00m\u001b[39m\"\u001b[39m\u001b[39m converted to lowercase\u001b[39m\u001b[39m'\u001b[39m\n",
      "\u001b[1;32m     52\u001b[0m                   \u001b[39m.\u001b[39mformat(code))\n",
      "\u001b[1;32m     53\u001b[0m     code \u001b[39m=\u001b[39m code\u001b[39m.\u001b[39mlower()\n",
      "\u001b[0;32m---> 54\u001b[0m \u001b[39mif\u001b[39;00m \u001b[39mnot\u001b[39;00m \u001b[39mall\u001b[39m(x \u001b[39min\u001b[39;00m pywikibot\u001b[39m.\u001b[39;49mfamily\u001b[39m.\u001b[39mCODE_CHARACTERS \u001b[39mfor\u001b[39;00m x \u001b[39min\u001b[39;00m code):\n",
      "\u001b[1;32m     55\u001b[0m     pywikibot\u001b[39m.\u001b[39mlog(\u001b[39m'\u001b[39m\u001b[39mBaseSite: code \u001b[39m\u001b[39m\"\u001b[39m\u001b[39m{}\u001b[39;00m\u001b[39m\"\u001b[39m\u001b[39m contains invalid characters\u001b[39m\u001b[39m'\u001b[39m\n",
      "\u001b[1;32m     56\u001b[0m                   \u001b[39m.\u001b[39mformat(code))\n",
      "\u001b[1;32m     57\u001b[0m \u001b[39mself\u001b[39m\u001b[39m.\u001b[39m__code \u001b[39m=\u001b[39m code\n",
      "\n",
      "\u001b[0;31mAttributeError\u001b[0m: module 'pywikibot' has no attribute 'family'"
     ]
    }
   ],
   "source": [
    "#!/usr/bin/python3\n",
    "import pywikibot\n",
    "\n",
    "site = pywikibot.Site(\"en\", \"wikipedia\")\n",
    "page = pywikibot.Page(site, \"Ghosts of Mars\")\n",
    "item = pywikibot.ItemPage.fromPage(page)\n",
    "\n",
    "print(item)"
   ]
  },
  {
   "cell_type": "code",
   "execution_count": null,
   "id": "8bb785d1",
   "metadata": {},
   "outputs": [
    {
     "name": "stdout",
     "output_type": "stream",
     "text": [
      "['DATA_ATTRIBUTES', '__class__', '__delattr__', '__dict__', '__dir__', '__doc__', '__eq__', '__format__', '__ge__', '__getattr__', '__getattribute__', '__gt__', '__hash__', '__init__', '__init_subclass__', '__le__', '__lt__', '__module__', '__ne__', '__new__', '__reduce__', '__reduce_ex__', '__repr__', '__setattr__', '__sizeof__', '__str__', '__subclasshook__', '__weakref__', '_cache_attrs', '_check_bot_may_edit', '_cmpkey', '_content', '_cosmetic_changes_hook', '_defined_by', '_getInternals', '_isredir', '_latest_cached_revision', '_link', '_namespace', '_normalizeData', '_pageid', '_revid', '_revisions', '_save', 'addClaim', 'aliases', 'applicable_protections', 'autoFormat', 'backlinks', 'botMayEdit', 'categories', 'change_category', 'claims', 'clear_cache', 'concept_uri', 'content_model', 'contributors', 'coordinates', 'create_short_link', 'data_item', 'data_repository', 'defaultsort', 'delete', 'depth', 'descriptions', 'editAliases', 'editDescriptions', 'editEntity', 'editLabels', 'editTime', 'embeddedin', 'entity_type', 'exists', 'expand_text', 'extlinks', 'extract', 'fromPage', 'from_entity_uri', 'full_url', 'get', 'getCategoryRedirectTarget', 'getDeletedRevision', 'getID', 'getOldVersion', 'getRedirectTarget', 'getReferences', 'getSitelink', 'getVersionHistoryTable', 'get_data_for_new_entity', 'get_parsed_page', 'has_content', 'has_deleted_revisions', 'has_permission', 'id', 'image_repository', 'imagelinks', 'interwiki', 'isAutoTitle', 'isCategoryRedirect', 'isDisambig', 'isIpEdit', 'isRedirectPage', 'isStaticRedirect', 'isTalkPage', 'is_categorypage', 'is_filepage', 'is_flow_page', 'is_valid_id', 'iterlanglinks', 'iterlinks', 'itertemplates', 'labels', 'langlinks', 'lastNonBotUser', 'latest_revision', 'latest_revision_id', 'linkedPages', 'loadDeletedRevisions', 'markDeletedRevision', 'mergeInto', 'merge_history', 'move', 'moved_target', 'namespace', 'oldest_revision', 'page_image', 'pageid', 'permalink', 'preloadText', 'properties', 'protect', 'protection', 'purge', 'put', 'redirects', 'removeClaims', 'removeSitelink', 'removeSitelinks', 'repo', 'revision_count', 'revisions', 'save', 'section', 'setSitelink', 'setSitelinks', 'set_redirect_target', 'site', 'sitelinks', 'templates', 'text', 'title', 'title_pattern', 'toJSON', 'toggleTalkPage', 'touch', 'undelete', 'userName', 'version', 'watch']\n"
     ]
    }
   ],
   "source": [
    "print(dir(item))"
   ]
  },
  {
   "cell_type": "code",
   "execution_count": null,
   "id": "f43bbe9b",
   "metadata": {},
   "outputs": [
    {
     "name": "stdout",
     "output_type": "stream",
     "text": [
      "True\n"
     ]
    }
   ],
   "source": [
    "print(item.exists())"
   ]
  },
  {
   "cell_type": "code",
   "execution_count": null,
   "id": "2c1e5fb0",
   "metadata": {},
   "outputs": [
    {
     "ename": "NameError",
     "evalue": "name 'item' is not defined",
     "output_type": "error",
     "traceback": [
      "\u001b[0;31m---------------------------------------------------------------------------\u001b[0m\n",
      "\u001b[0;31mNameError\u001b[0m                                 Traceback (most recent call last)\n",
      "\u001b[1;32m/Users/nikolausraith/Documents/EPFL_Master/MA-3/ADA/ada-2022-project-utopiansky2022/Main.ipynb Cell 4\u001b[0m in \u001b[0;36m<cell line: 1>\u001b[0;34m()\u001b[0m\n",
      "\u001b[0;32m----> <a href='vscode-notebook-cell:/Users/nikolausraith/Documents/EPFL_Master/MA-3/ADA/ada-2022-project-utopiansky2022/Main.ipynb#W3sZmlsZQ%3D%3D?line=0'>1</a>\u001b[0m item_dict \u001b[39m=\u001b[39m item\u001b[39m.\u001b[39mget()\n",
      "\u001b[1;32m      <a href='vscode-notebook-cell:/Users/nikolausraith/Documents/EPFL_Master/MA-3/ADA/ada-2022-project-utopiansky2022/Main.ipynb#W3sZmlsZQ%3D%3D?line=1'>2</a>\u001b[0m \u001b[39mprint\u001b[39m(item_dict\u001b[39m.\u001b[39mkeys())\n",
      "\n",
      "\u001b[0;31mNameError\u001b[0m: name 'item' is not defined"
     ]
    }
   ],
   "source": [
    "item_dict = item.get()\n",
    "print(item_dict.keys())"
   ]
  },
  {
   "cell_type": "markdown",
   "id": "4ece634f",
   "metadata": {},
   "source": [
    "The next important method is item.get() which turns the whole item into a dictionary. Add the following lines to the example and run it again."
   ]
  },
  {
   "cell_type": "code",
   "execution_count": null,
   "id": "2c65bc5d",
   "metadata": {},
   "outputs": [
    {
     "ename": "NameError",
     "evalue": "name 'item_dict' is not defined",
     "output_type": "error",
     "traceback": [
      "\u001b[0;31m---------------------------------------------------------------------------\u001b[0m\n",
      "\u001b[0;31mNameError\u001b[0m                                 Traceback (most recent call last)\n",
      "\u001b[1;32m/Users/nikolausraith/Documents/EPFL_Master/MA-3/ADA/ada-2022-project-utopiansky2022/Main.ipynb Cell 7\u001b[0m in \u001b[0;36m<cell line: 1>\u001b[0;34m()\u001b[0m\n",
      "\u001b[0;32m----> <a href='vscode-notebook-cell:/Users/nikolausraith/Documents/EPFL_Master/MA-3/ADA/ada-2022-project-utopiansky2022/Main.ipynb#W6sZmlsZQ%3D%3D?line=0'>1</a>\u001b[0m \u001b[39mprint\u001b[39m(item_dict[\u001b[39m\"\u001b[39m\u001b[39mlabels\u001b[39m\u001b[39m\"\u001b[39m])\n",
      "\n",
      "\u001b[0;31mNameError\u001b[0m: name 'item_dict' is not defined"
     ]
    }
   ],
   "source": [
    "print(item_dict[\"labels\"])"
   ]
  },
  {
   "cell_type": "markdown",
   "id": "ad7aae81",
   "metadata": {},
   "source": [
    "By the curly braces you can tell that you are getting a dictionary, whose keys are the Wikipedia language codes, and whose values are the current label in that language. In addition you can see the big advantage of Python 3: we get all the UTF-8 characters for free and the output is much more readable than for Farsi for example: {..., u'fa': u'\\u062f\\u0627\\u06af\\u0644\\u0627\\u0633 \\u0622\\u062f\\u0627\\u0645\\u0632', ...}."
   ]
  }
 ],
 "metadata": {
  "kernelspec": {
   "display_name": "Python 3.10.3 64-bit",
   "language": "python",
   "name": "python3"
  },
  "language_info": {
   "name": "python",
   "version": "3.10.3"
  },
  "orig_nbformat": 4,
  "vscode": {
   "interpreter": {
    "hash": "aee8b7b246df8f9039afb4144a1f6fd8d2ca17a180786b69acc140d282b71a49"
   }
  }
 },
 "nbformat": 4,
 "nbformat_minor": 2
}
