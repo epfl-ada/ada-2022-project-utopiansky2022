{
 "cells": [
  {
   "cell_type": "code",
   "execution_count": 1,
   "id": "52f629cf",
   "metadata": {},
   "outputs": [],
   "source": [
    "import pandas as pd\n",
    "import numpy as np\n",
    "import matplotlib.pyplot as plt\n",
    "%matplotlib inline\n",
    "import seaborn as sns\n",
    "import math"
   ]
  },
  {
   "cell_type": "code",
   "execution_count": 2,
   "id": "99015aa0",
   "metadata": {
    "scrolled": false
   },
   "outputs": [],
   "source": [
    "movies = pd.read_csv(\"C://Users/artor/Desktop/EPFL/Fall22/ADA/Project/DATA/movie.metadata.csv\")\n",
    "characters = pd.read_csv(\"C://Users/artor/Desktop/EPFL/Fall22/ADA/Project/DATA/character.metadata.csv\")"
   ]
  },
  {
   "cell_type": "markdown",
   "id": "f19fb551",
   "metadata": {},
   "source": [
    "_________________________________________________________________________________________________________________"
   ]
  },
  {
   "cell_type": "markdown",
   "id": "957a7983",
   "metadata": {},
   "source": [
    "# Movies preliminary"
   ]
  },
  {
   "cell_type": "code",
   "execution_count": 3,
   "id": "172895a4",
   "metadata": {
    "scrolled": true
   },
   "outputs": [
    {
     "data": {
      "text/html": [
       "<div>\n",
       "<style scoped>\n",
       "    .dataframe tbody tr th:only-of-type {\n",
       "        vertical-align: middle;\n",
       "    }\n",
       "\n",
       "    .dataframe tbody tr th {\n",
       "        vertical-align: top;\n",
       "    }\n",
       "\n",
       "    .dataframe thead th {\n",
       "        text-align: right;\n",
       "    }\n",
       "</style>\n",
       "<table border=\"1\" class=\"dataframe\">\n",
       "  <thead>\n",
       "    <tr style=\"text-align: right;\">\n",
       "      <th></th>\n",
       "      <th>W_ID</th>\n",
       "      <th>F_ID</th>\n",
       "      <th>MOVIE NAME</th>\n",
       "      <th>RELEASE</th>\n",
       "      <th>REVENUE</th>\n",
       "      <th>RUNTIME</th>\n",
       "      <th>F_ID: LANGUAGE</th>\n",
       "      <th>F_ID: Country</th>\n",
       "      <th>F_ID: Genres</th>\n",
       "    </tr>\n",
       "  </thead>\n",
       "  <tbody>\n",
       "    <tr>\n",
       "      <th>2727</th>\n",
       "      <td>23541198</td>\n",
       "      <td>/m/0b6q30b</td>\n",
       "      <td>Killer Hair</td>\n",
       "      <td>6/21/2009</td>\n",
       "      <td>NaN</td>\n",
       "      <td>90.0</td>\n",
       "      <td>{\"/m/02h40lc\": \"English Language\"}</td>\n",
       "      <td>{\"/m/0d060g\": \"Canada\"}</td>\n",
       "      <td>{\"/m/0lsxr\": \"Crime Fiction\", \"/m/015w9s\": \"Te...</td>\n",
       "    </tr>\n",
       "    <tr>\n",
       "      <th>3513</th>\n",
       "      <td>20555320</td>\n",
       "      <td>/m/051z0qp</td>\n",
       "      <td>Nakhashathangal</td>\n",
       "      <td>NaN</td>\n",
       "      <td>NaN</td>\n",
       "      <td>NaN</td>\n",
       "      <td>{\"/m/0999q\": \"Malayalam Language\"}</td>\n",
       "      <td>{\"/m/03rk0\": \"India\"}</td>\n",
       "      <td>{\"/m/068d7h\": \"Romantic drama\"}</td>\n",
       "    </tr>\n",
       "    <tr>\n",
       "      <th>10591</th>\n",
       "      <td>14689013</td>\n",
       "      <td>/m/03gt545</td>\n",
       "      <td>Parnell</td>\n",
       "      <td>6/4/1937</td>\n",
       "      <td>NaN</td>\n",
       "      <td>118.0</td>\n",
       "      <td>{\"/m/02h40lc\": \"English Language\"}</td>\n",
       "      <td>{\"/m/09c7w0\": \"United States of America\"}</td>\n",
       "      <td>{\"/m/03bxz7\": \"Biographical film\", \"/m/07s9rl0...</td>\n",
       "    </tr>\n",
       "  </tbody>\n",
       "</table>\n",
       "</div>"
      ],
      "text/plain": [
       "           W_ID        F_ID       MOVIE NAME    RELEASE  REVENUE  RUNTIME  \\\n",
       "2727   23541198  /m/0b6q30b      Killer Hair  6/21/2009      NaN     90.0   \n",
       "3513   20555320  /m/051z0qp  Nakhashathangal        NaN      NaN      NaN   \n",
       "10591  14689013  /m/03gt545          Parnell   6/4/1937      NaN    118.0   \n",
       "\n",
       "                           F_ID: LANGUAGE  \\\n",
       "2727   {\"/m/02h40lc\": \"English Language\"}   \n",
       "3513   {\"/m/0999q\": \"Malayalam Language\"}   \n",
       "10591  {\"/m/02h40lc\": \"English Language\"}   \n",
       "\n",
       "                                   F_ID: Country  \\\n",
       "2727                     {\"/m/0d060g\": \"Canada\"}   \n",
       "3513                       {\"/m/03rk0\": \"India\"}   \n",
       "10591  {\"/m/09c7w0\": \"United States of America\"}   \n",
       "\n",
       "                                            F_ID: Genres  \n",
       "2727   {\"/m/0lsxr\": \"Crime Fiction\", \"/m/015w9s\": \"Te...  \n",
       "3513                     {\"/m/068d7h\": \"Romantic drama\"}  \n",
       "10591  {\"/m/03bxz7\": \"Biographical film\", \"/m/07s9rl0...  "
      ]
     },
     "execution_count": 3,
     "metadata": {},
     "output_type": "execute_result"
    }
   ],
   "source": [
    "movies.sample(3)"
   ]
  },
  {
   "cell_type": "code",
   "execution_count": 4,
   "id": "842e79bc",
   "metadata": {
    "scrolled": true
   },
   "outputs": [
    {
     "data": {
      "text/plain": [
       "W_ID                int64\n",
       "F_ID               object\n",
       "MOVIE NAME         object\n",
       "RELEASE            object\n",
       "REVENUE           float64\n",
       "RUNTIME           float64\n",
       "F_ID: LANGUAGE     object\n",
       "F_ID: Country      object\n",
       "F_ID: Genres       object\n",
       "dtype: object"
      ]
     },
     "metadata": {},
     "output_type": "display_data"
    }
   ],
   "source": [
    "display(movies.dtypes)"
   ]
  },
  {
   "cell_type": "code",
   "execution_count": 5,
   "id": "9de7d73a",
   "metadata": {},
   "outputs": [
    {
     "name": "stdout",
     "output_type": "stream",
     "text": [
      "There are 81741 entries in the movies dataset\n"
     ]
    }
   ],
   "source": [
    "print('There are {} entries in the movies dataset'.format(len(movies)))"
   ]
  },
  {
   "cell_type": "code",
   "execution_count": 6,
   "id": "33b9e67d",
   "metadata": {
    "scrolled": true
   },
   "outputs": [
    {
     "name": "stdout",
     "output_type": "stream",
     "text": [
      "100.0 % of movies have an associated Wikipedia Movie ID\n",
      "100.0 % of movies have an associated Freebase movie ID\n",
      "100.0 % of movies have an associated Movie Name\n",
      "100.0 % of movies have an associated language(s)\n",
      "100.0 % of movies have an associated country\n",
      "100.0 % of movies have an associated genre(s)\n",
      "91.56 % of movies have an associated release date\n",
      "74.98 % of movies have an associated runtime\n",
      "10.28 % of movies have an associated revenue\n"
     ]
    }
   ],
   "source": [
    "print('{:.4} % of movies have an associated Wikipedia Movie ID'.format(100 * len(movies[movies['W_ID'].notnull()])/len(movies['W_ID'])))\n",
    "print('{:.4} % of movies have an associated Freebase movie ID'.format(100 * len(movies[movies['F_ID'].notnull()])/len(movies['F_ID'])))\n",
    "print('{:.4} % of movies have an associated Movie Name'.format(100 * len(movies[movies['MOVIE NAME'].notnull()])/len(movies['MOVIE NAME'])))\n",
    "print('{:.4} % of movies have an associated language(s)'.format(100 * len(movies[movies['F_ID: LANGUAGE'].notnull()])/len(movies['F_ID: LANGUAGE'])))\n",
    "print('{:.4} % of movies have an associated country'.format(100 * len(movies[movies['F_ID: Country'].notnull()])/len(movies['F_ID: Country'])))\n",
    "print('{:.4} % of movies have an associated genre(s)'.format(100 * len(movies[movies['F_ID: Genres'].notnull()])/len(movies['F_ID: Genres'])))\n",
    "print('{:.4} % of movies have an associated release date'.format(100 * len(movies[movies['RELEASE'].notnull()])/len(movies['RELEASE'])))\n",
    "print('{:.4} % of movies have an associated runtime'.format(100 * len(movies[movies['RUNTIME'].notnull()])/len(movies['RUNTIME'])))\n",
    "print('{:.4} % of movies have an associated revenue'.format(100 * len(movies[movies['REVENUE'].notnull()])/len(movies['REVENUE'])))\n"
   ]
  },
  {
   "cell_type": "code",
   "execution_count": 7,
   "id": "182f089c",
   "metadata": {},
   "outputs": [
    {
     "name": "stdout",
     "output_type": "stream",
     "text": [
      "100.0 % of movies have an associated W_ID\n",
      "100.0 % of movies have an associated F_ID\n",
      "100.0 % of movies have an associated MOVIE NAME\n",
      "91.56 % of movies have an associated RELEASE\n",
      "10.28 % of movies have an associated REVENUE\n",
      "74.98 % of movies have an associated RUNTIME\n",
      "100.0 % of movies have an associated F_ID: LANGUAGE\n",
      "100.0 % of movies have an associated F_ID: Country\n",
      "100.0 % of movies have an associated F_ID: Genres\n"
     ]
    }
   ],
   "source": [
    "# done more cleanly, but the 'name' are not as readable...\n",
    "\n",
    "for name, values in movies.items():\n",
    "    print ('{:.4} % of movies have an associated {}'.format(100 * len(values.loc[values.notnull()])/len(values), name))"
   ]
  },
  {
   "cell_type": "markdown",
   "id": "4f302b12",
   "metadata": {},
   "source": [
    "many of the date formats are inconsistent. Here we convert it all to just year as this is the temporal resolution in which we are interested"
   ]
  },
  {
   "cell_type": "code",
   "execution_count": 8,
   "id": "f48c49c4",
   "metadata": {},
   "outputs": [],
   "source": [
    "movies['RELEASE'] = pd.to_datetime(movies['RELEASE'], errors = 'coerce')  # change all formats to datetime\n",
    "movies['RELEASE']= movies['RELEASE'].dt.year                              # keep just the year of the datetime "
   ]
  },
  {
   "cell_type": "markdown",
   "id": "288aa5af",
   "metadata": {},
   "source": [
    "### Release Dates"
   ]
  },
  {
   "cell_type": "code",
   "execution_count": 9,
   "id": "8fb01e74",
   "metadata": {
    "scrolled": false
   },
   "outputs": [
    {
     "data": {
      "image/png": "[encoded data removed]",
      "text/plain": [
       "<Figure size 640x480 with 1 Axes>"
      ]
     },
     "metadata": {},
     "output_type": "display_data"
    }
   ],
   "source": [
    "movies['RELEASE'].hist(bins = range(1880,2030,10), grid = True, xlabelsize = 8 ,xrot = 45)\n",
    "plt.xlabel('Year of Release')\n",
    "plt.ylabel('Number of movies')\n",
    "plt.title('Movies released over the Decades');"
   ]
  },
  {
   "cell_type": "markdown",
   "id": "93c170a4",
   "metadata": {},
   "source": [
    "On 16 December 2014, Google announced that it would shut down Freebase over the succeeding six months and help with the move of the data from Freebase to Wikidata. data collection does not go through the entire 2010's decade"
   ]
  },
  {
   "cell_type": "code",
   "execution_count": 10,
   "id": "75f19b4b",
   "metadata": {
    "scrolled": true
   },
   "outputs": [
    {
     "name": "stdout",
     "output_type": "stream",
     "text": [
      "The dataset is comprised of movies with known releases between 1888 and 2016 \n"
     ]
    }
   ],
   "source": [
    "print('The dataset is comprised of movies with known releases between {0:n} and {1:n} '.format(movies['RELEASE'].min(), movies['RELEASE'].max()))"
   ]
  },
  {
   "cell_type": "markdown",
   "id": "648e3d7f",
   "metadata": {},
   "source": [
    "### Revenues"
   ]
  },
  {
   "cell_type": "code",
   "execution_count": 11,
   "id": "3e92eceb",
   "metadata": {
    "scrolled": true
   },
   "outputs": [],
   "source": [
    "rmovies = movies[movies['REVENUE'].notnull()]"
   ]
  },
  {
   "cell_type": "code",
   "execution_count": 12,
   "id": "7b4c7d71",
   "metadata": {
    "scrolled": true
   },
   "outputs": [
    {
     "name": "stdout",
     "output_type": "stream",
     "text": [
      "Only 10.28 % of movies have an associated revenue\n"
     ]
    }
   ],
   "source": [
    "print('Only {:.4} % of movies have an associated revenue'.format(100 * len(rmovies)/len(movies)))"
   ]
  },
  {
   "cell_type": "code",
   "execution_count": 13,
   "id": "aaef15f2",
   "metadata": {},
   "outputs": [],
   "source": [
    "r_by_year = rmovies.groupby(\"RELEASE\")['REVENUE'].agg(['mean','size']).reset_index()"
   ]
  },
  {
   "cell_type": "code",
   "execution_count": 14,
   "id": "07e5a463",
   "metadata": {
    "scrolled": false
   },
   "outputs": [
    {
     "data": {
      "image/png": "[encoded data removed]",
      "text/plain": [
       "<Figure size 640x480 with 1 Axes>"
      ]
     },
     "metadata": {},
     "output_type": "display_data"
    }
   ],
   "source": [
    "r_by_year.plot(kind = 'scatter', x = 'RELEASE', y = 'mean',s = 'size')\n",
    "plt.title('Mean Revenue by Year')\n",
    "plt.ylabel('Mean Revenue')\n",
    "plt.xlabel('Year of Release');"
   ]
  },
  {
   "cell_type": "markdown",
   "id": "2a5fd9c1",
   "metadata": {},
   "source": [
    "we see that the mean revenues increase over time.. It would be interesting to normalize this by inflation or perhaps some share of GDP. We also see that there is much more data present in the later years (dot size scaled by amount of revenues averaged to form datapoint. 1897 - 1 movie revenue, 2008 - 367 movie revenues)"
   ]
  },
  {
   "cell_type": "markdown",
   "id": "7fd4e138",
   "metadata": {},
   "source": [
    "### Country"
   ]
  },
  {
   "cell_type": "code",
   "execution_count": 15,
   "id": "11cf2744",
   "metadata": {},
   "outputs": [],
   "source": [
    "c_movies_filt = pd.DataFrame(movies.groupby([\"RELEASE\",\"F_ID: Country\"]).size()).reset_index()"
   ]
  },
  {
   "cell_type": "code",
   "execution_count": 16,
   "id": "c2ebb159",
   "metadata": {},
   "outputs": [
    {
     "data": {
      "text/plain": [
       "2124"
      ]
     },
     "execution_count": 16,
     "metadata": {},
     "output_type": "execute_result"
    }
   ],
   "source": [
    "movies[\"F_ID: Country\"].nunique()"
   ]
  },
  {
   "cell_type": "code",
   "execution_count": 17,
   "id": "64c2a878",
   "metadata": {},
   "outputs": [
    {
     "data": {
      "text/html": [
       "<div>\n",
       "<style scoped>\n",
       "    .dataframe tbody tr th:only-of-type {\n",
       "        vertical-align: middle;\n",
       "    }\n",
       "\n",
       "    .dataframe tbody tr th {\n",
       "        vertical-align: top;\n",
       "    }\n",
       "\n",
       "    .dataframe thead th {\n",
       "        text-align: right;\n",
       "    }\n",
       "</style>\n",
       "<table border=\"1\" class=\"dataframe\">\n",
       "  <thead>\n",
       "    <tr style=\"text-align: right;\">\n",
       "      <th></th>\n",
       "      <th>Release Date</th>\n",
       "      <th>Country</th>\n",
       "      <th>Count</th>\n",
       "    </tr>\n",
       "  </thead>\n",
       "  <tbody>\n",
       "    <tr>\n",
       "      <th>0</th>\n",
       "      <td>1888.0</td>\n",
       "      <td>{\"/m/07ssc\": \"United Kingdom\"}</td>\n",
       "      <td>1</td>\n",
       "    </tr>\n",
       "    <tr>\n",
       "      <th>1</th>\n",
       "      <td>1889.0</td>\n",
       "      <td>{\"/m/07ssc\": \"United Kingdom\"}</td>\n",
       "      <td>1</td>\n",
       "    </tr>\n",
       "    <tr>\n",
       "      <th>2</th>\n",
       "      <td>1890.0</td>\n",
       "      <td>{\"/m/07ssc\": \"United Kingdom\"}</td>\n",
       "      <td>1</td>\n",
       "    </tr>\n",
       "    <tr>\n",
       "      <th>3</th>\n",
       "      <td>1890.0</td>\n",
       "      <td>{\"/m/09c7w0\": \"United States of America\"}</td>\n",
       "      <td>1</td>\n",
       "    </tr>\n",
       "    <tr>\n",
       "      <th>4</th>\n",
       "      <td>1891.0</td>\n",
       "      <td>{\"/m/09c7w0\": \"United States of America\"}</td>\n",
       "      <td>1</td>\n",
       "    </tr>\n",
       "    <tr>\n",
       "      <th>...</th>\n",
       "      <td>...</td>\n",
       "      <td>...</td>\n",
       "      <td>...</td>\n",
       "    </tr>\n",
       "    <tr>\n",
       "      <th>8939</th>\n",
       "      <td>2014.0</td>\n",
       "      <td>{}</td>\n",
       "      <td>8</td>\n",
       "    </tr>\n",
       "    <tr>\n",
       "      <th>8940</th>\n",
       "      <td>2015.0</td>\n",
       "      <td>{\"/m/09c7w0\": \"United States of America\"}</td>\n",
       "      <td>2</td>\n",
       "    </tr>\n",
       "    <tr>\n",
       "      <th>8941</th>\n",
       "      <td>2015.0</td>\n",
       "      <td>{}</td>\n",
       "      <td>2</td>\n",
       "    </tr>\n",
       "    <tr>\n",
       "      <th>8942</th>\n",
       "      <td>2016.0</td>\n",
       "      <td>{\"/m/09c7w0\": \"United States of America\"}</td>\n",
       "      <td>2</td>\n",
       "    </tr>\n",
       "    <tr>\n",
       "      <th>8943</th>\n",
       "      <td>2016.0</td>\n",
       "      <td>{}</td>\n",
       "      <td>1</td>\n",
       "    </tr>\n",
       "  </tbody>\n",
       "</table>\n",
       "<p>8944 rows × 3 columns</p>\n",
       "</div>"
      ],
      "text/plain": [
       "      Release Date                                    Country  Count\n",
       "0           1888.0             {\"/m/07ssc\": \"United Kingdom\"}      1\n",
       "1           1889.0             {\"/m/07ssc\": \"United Kingdom\"}      1\n",
       "2           1890.0             {\"/m/07ssc\": \"United Kingdom\"}      1\n",
       "3           1890.0  {\"/m/09c7w0\": \"United States of America\"}      1\n",
       "4           1891.0  {\"/m/09c7w0\": \"United States of America\"}      1\n",
       "...            ...                                        ...    ...\n",
       "8939        2014.0                                         {}      8\n",
       "8940        2015.0  {\"/m/09c7w0\": \"United States of America\"}      2\n",
       "8941        2015.0                                         {}      2\n",
       "8942        2016.0  {\"/m/09c7w0\": \"United States of America\"}      2\n",
       "8943        2016.0                                         {}      1\n",
       "\n",
       "[8944 rows x 3 columns]"
      ]
     },
     "execution_count": 17,
     "metadata": {},
     "output_type": "execute_result"
    }
   ],
   "source": [
    "c_movies_filt.set_axis(['Release Date', 'Country', 'Count'], axis='columns', inplace=True)\n",
    "c_movies_filt"
   ]
  },
  {
   "cell_type": "code",
   "execution_count": 18,
   "id": "3b9859c8",
   "metadata": {
    "scrolled": false
   },
   "outputs": [
    {
     "data": {
      "image/png": "[encoded data removed]",
      "text/plain": [
       "<Figure size 640x480 with 1 Axes>"
      ]
     },
     "metadata": {},
     "output_type": "display_data"
    }
   ],
   "source": [
    "sns.lineplot(x='Release Date', y='Count',data = c_movies_filt, hue = 'Country', legend=False)\n",
    "plt.xlabel(\"Year\")\n",
    "plt.ylabel(\"Numer of times country released movie\")\n",
    "plt.title(\"Release frequency by country over time'\")\n",
    "plt.ylim([0,c_movies_filt['Count'].max()+50])\n",
    "plt.xlim([c_movies_filt['Release Date'].min(), c_movies_filt['Release Date'].max()]);\n",
    "#plt.yscale('log')"
   ]
  },
  {
   "cell_type": "markdown",
   "id": "e4dde0b1",
   "metadata": {},
   "source": [
    "group countries by continent? currently there are 2124 unique country ID's... \n",
    "\n",
    "First step is split them from their freebase ID..? then pass in dictionary of continent: list of countries \n",
    "\n",
    "would make graph much more interpretable/ see pycountry-convert on github..."
   ]
  },
  {
   "cell_type": "markdown",
   "id": "3767d559",
   "metadata": {},
   "source": [
    "--------------------------------------------------------------------------------"
   ]
  },
  {
   "cell_type": "markdown",
   "id": "d20be52d",
   "metadata": {},
   "source": [
    "# Characters Preliminary"
   ]
  },
  {
   "cell_type": "code",
   "execution_count": 19,
   "id": "ac08bb1f",
   "metadata": {},
   "outputs": [
    {
     "data": {
      "text/html": [
       "<div>\n",
       "<style scoped>\n",
       "    .dataframe tbody tr th:only-of-type {\n",
       "        vertical-align: middle;\n",
       "    }\n",
       "\n",
       "    .dataframe tbody tr th {\n",
       "        vertical-align: top;\n",
       "    }\n",
       "\n",
       "    .dataframe thead th {\n",
       "        text-align: right;\n",
       "    }\n",
       "</style>\n",
       "<table border=\"1\" class=\"dataframe\">\n",
       "  <thead>\n",
       "    <tr style=\"text-align: right;\">\n",
       "      <th></th>\n",
       "      <th>W_ID</th>\n",
       "      <th>F_ID</th>\n",
       "      <th>Release Date</th>\n",
       "      <th>Char_Name</th>\n",
       "      <th>Actor DOB</th>\n",
       "      <th>Gender</th>\n",
       "      <th>Height (m)</th>\n",
       "      <th>Ethnicity</th>\n",
       "      <th>Actor</th>\n",
       "      <th>Actor age at Release</th>\n",
       "      <th>FB_Charactor/actor map id</th>\n",
       "      <th>FB_char_ID</th>\n",
       "      <th>FB_Actor_ID</th>\n",
       "    </tr>\n",
       "  </thead>\n",
       "  <tbody>\n",
       "    <tr>\n",
       "      <th>339150</th>\n",
       "      <td>17435717</td>\n",
       "      <td>/m/04g294c</td>\n",
       "      <td>2/26/1928</td>\n",
       "      <td>NaN</td>\n",
       "      <td>NaN</td>\n",
       "      <td>F</td>\n",
       "      <td>NaN</td>\n",
       "      <td>NaN</td>\n",
       "      <td>Dorothy Mathews</td>\n",
       "      <td>NaN</td>\n",
       "      <td>/m/05bh24r</td>\n",
       "      <td>NaN</td>\n",
       "      <td>/m/05bh24v</td>\n",
       "    </tr>\n",
       "    <tr>\n",
       "      <th>223904</th>\n",
       "      <td>17288740</td>\n",
       "      <td>/m/043mmgb</td>\n",
       "      <td>3/28/2001</td>\n",
       "      <td>Ramzy</td>\n",
       "      <td>3/10/1972</td>\n",
       "      <td>M</td>\n",
       "      <td>NaN</td>\n",
       "      <td>NaN</td>\n",
       "      <td>Ramzy Bedia</td>\n",
       "      <td>29.0</td>\n",
       "      <td>/m/0n7w66x</td>\n",
       "      <td>/m/0n670jv</td>\n",
       "      <td>/m/0b_hqh4</td>\n",
       "    </tr>\n",
       "    <tr>\n",
       "      <th>350843</th>\n",
       "      <td>35574434</td>\n",
       "      <td>/m/0crww_5</td>\n",
       "      <td>3/14/1999</td>\n",
       "      <td>NaN</td>\n",
       "      <td>12/29/1950</td>\n",
       "      <td>M</td>\n",
       "      <td>1.715</td>\n",
       "      <td>NaN</td>\n",
       "      <td>Jon Polito</td>\n",
       "      <td>48.0</td>\n",
       "      <td>/m/0cs722z</td>\n",
       "      <td>NaN</td>\n",
       "      <td>/m/046chh</td>\n",
       "    </tr>\n",
       "  </tbody>\n",
       "</table>\n",
       "</div>"
      ],
      "text/plain": [
       "            W_ID        F_ID Release Date Char_Name   Actor DOB Gender  \\\n",
       "339150  17435717  /m/04g294c    2/26/1928       NaN         NaN      F   \n",
       "223904  17288740  /m/043mmgb    3/28/2001     Ramzy   3/10/1972      M   \n",
       "350843  35574434  /m/0crww_5    3/14/1999       NaN  12/29/1950      M   \n",
       "\n",
       "        Height (m) Ethnicity            Actor  Actor age at Release  \\\n",
       "339150         NaN       NaN  Dorothy Mathews                   NaN   \n",
       "223904         NaN       NaN      Ramzy Bedia                  29.0   \n",
       "350843       1.715       NaN       Jon Polito                  48.0   \n",
       "\n",
       "       FB_Charactor/actor map id  FB_char_ID FB_Actor_ID  \n",
       "339150                /m/05bh24r         NaN  /m/05bh24v  \n",
       "223904                /m/0n7w66x  /m/0n670jv  /m/0b_hqh4  \n",
       "350843                /m/0cs722z         NaN   /m/046chh  "
      ]
     },
     "execution_count": 19,
     "metadata": {},
     "output_type": "execute_result"
    }
   ],
   "source": [
    "characters.sample(3)"
   ]
  },
  {
   "cell_type": "code",
   "execution_count": 20,
   "id": "703ece47",
   "metadata": {
    "scrolled": true
   },
   "outputs": [
    {
     "data": {
      "text/plain": [
       "W_ID                           int64\n",
       "F_ID                          object\n",
       "Release Date                  object\n",
       "Char_Name                     object\n",
       "Actor DOB                     object\n",
       "Gender                        object\n",
       "Height (m)                   float64\n",
       "Ethnicity                     object\n",
       "Actor                         object\n",
       "Actor age at Release         float64\n",
       "FB_Charactor/actor map id     object\n",
       "FB_char_ID                    object\n",
       "FB_Actor_ID                   object\n",
       "dtype: object"
      ]
     },
     "metadata": {},
     "output_type": "display_data"
    }
   ],
   "source": [
    "display(characters.dtypes)"
   ]
  },
  {
   "cell_type": "code",
   "execution_count": 21,
   "id": "d250470a",
   "metadata": {},
   "outputs": [
    {
     "name": "stdout",
     "output_type": "stream",
     "text": [
      "There are 450669 entries in the characters dataset\n"
     ]
    }
   ],
   "source": [
    "print('There are {} entries in the characters dataset'.format(len(characters)))"
   ]
  },
  {
   "cell_type": "code",
   "execution_count": 22,
   "id": "49370714",
   "metadata": {},
   "outputs": [
    {
     "name": "stdout",
     "output_type": "stream",
     "text": [
      "100.0 % of characters have an associated W_ID\n",
      "100.0 % of characters have an associated F_ID\n",
      "97.78 % of characters have an associated Release Date\n",
      "42.78 % of characters have an associated Char_Name\n",
      "76.45 % of characters have an associated Actor DOB\n",
      "89.88 % of characters have an associated Gender\n",
      "34.35 % of characters have an associated Height (m)\n",
      "23.53 % of characters have an associated Ethnicity\n",
      "99.73 % of characters have an associated Actor\n",
      "64.92 % of characters have an associated Actor age at Release\n",
      "100.0 % of characters have an associated FB_Charactor/actor map id\n",
      "42.78 % of characters have an associated FB_char_ID\n",
      "99.82 % of characters have an associated FB_Actor_ID\n"
     ]
    }
   ],
   "source": [
    "for name, values in characters.items():\n",
    "    print ('{:.4} % of characters have an associated {}'.format(100 * len(values.loc[values.notnull()])/len(values), name))"
   ]
  },
  {
   "cell_type": "code",
   "execution_count": 23,
   "id": "de40518f",
   "metadata": {},
   "outputs": [],
   "source": [
    "characters['Release Date'] = pd.to_datetime(characters['Release Date'], errors = 'coerce') #change all formats to datetime\n",
    "characters['Release Date']=characters['Release Date'].dt.year                              #keep just the year of the datetime"
   ]
  },
  {
   "cell_type": "markdown",
   "id": "e6c51439",
   "metadata": {},
   "source": [
    "### Age analysis"
   ]
  },
  {
   "cell_type": "code",
   "execution_count": 24,
   "id": "8d85ad35",
   "metadata": {},
   "outputs": [],
   "source": [
    "char_a_dropped = characters[characters['Actor age at Release'].notnull()]\n",
    "#we see lots of NA ages at release... lets drop those"
   ]
  },
  {
   "cell_type": "code",
   "execution_count": 25,
   "id": "81b14024",
   "metadata": {
    "scrolled": false
   },
   "outputs": [
    {
     "data": {
      "text/html": [
       "<div>\n",
       "<style scoped>\n",
       "    .dataframe tbody tr th:only-of-type {\n",
       "        vertical-align: middle;\n",
       "    }\n",
       "\n",
       "    .dataframe tbody tr th {\n",
       "        vertical-align: top;\n",
       "    }\n",
       "\n",
       "    .dataframe thead th {\n",
       "        text-align: right;\n",
       "    }\n",
       "</style>\n",
       "<table border=\"1\" class=\"dataframe\">\n",
       "  <thead>\n",
       "    <tr style=\"text-align: right;\">\n",
       "      <th></th>\n",
       "      <th>W_ID</th>\n",
       "      <th>F_ID</th>\n",
       "      <th>Release Date</th>\n",
       "      <th>Char_Name</th>\n",
       "      <th>Actor DOB</th>\n",
       "      <th>Gender</th>\n",
       "      <th>Height (m)</th>\n",
       "      <th>Ethnicity</th>\n",
       "      <th>Actor</th>\n",
       "      <th>Actor age at Release</th>\n",
       "      <th>FB_Charactor/actor map id</th>\n",
       "      <th>FB_char_ID</th>\n",
       "      <th>FB_Actor_ID</th>\n",
       "    </tr>\n",
       "  </thead>\n",
       "  <tbody>\n",
       "    <tr>\n",
       "      <th>767</th>\n",
       "      <td>15007384</td>\n",
       "      <td>/m/03h4h5p</td>\n",
       "      <td>1934.0</td>\n",
       "      <td>NaN</td>\n",
       "      <td>11/7/1963</td>\n",
       "      <td>NaN</td>\n",
       "      <td>NaN</td>\n",
       "      <td>NaN</td>\n",
       "      <td>Franck Dubosc</td>\n",
       "      <td>-29.0</td>\n",
       "      <td>/m/0bwb9k3</td>\n",
       "      <td>NaN</td>\n",
       "      <td>/m/01wlly9</td>\n",
       "    </tr>\n",
       "    <tr>\n",
       "      <th>2286</th>\n",
       "      <td>2553539</td>\n",
       "      <td>/m/07mlsy</td>\n",
       "      <td>1918.0</td>\n",
       "      <td>NaN</td>\n",
       "      <td>3/25/1931</td>\n",
       "      <td>M</td>\n",
       "      <td>NaN</td>\n",
       "      <td>NaN</td>\n",
       "      <td>Tom Wilson</td>\n",
       "      <td>-12.0</td>\n",
       "      <td>/m/0jsqm1</td>\n",
       "      <td>NaN</td>\n",
       "      <td>/m/0382zh</td>\n",
       "    </tr>\n",
       "    <tr>\n",
       "      <th>3892</th>\n",
       "      <td>5917218</td>\n",
       "      <td>/m/0fdf3y</td>\n",
       "      <td>1965.0</td>\n",
       "      <td>NaN</td>\n",
       "      <td>3/3/1983</td>\n",
       "      <td>F</td>\n",
       "      <td>1.75</td>\n",
       "      <td>NaN</td>\n",
       "      <td>Kim Smith</td>\n",
       "      <td>-18.0</td>\n",
       "      <td>/m/04mb5kf</td>\n",
       "      <td>NaN</td>\n",
       "      <td>/m/03pjkv</td>\n",
       "    </tr>\n",
       "    <tr>\n",
       "      <th>6666</th>\n",
       "      <td>73930</td>\n",
       "      <td>/m/0jsjm</td>\n",
       "      <td>1924.0</td>\n",
       "      <td>Robert</td>\n",
       "      <td>11/7/1972</td>\n",
       "      <td>M</td>\n",
       "      <td>1.80</td>\n",
       "      <td>NaN</td>\n",
       "      <td>Jason London</td>\n",
       "      <td>-48.0</td>\n",
       "      <td>/m/01xrptw</td>\n",
       "      <td>/m/02nwfsk</td>\n",
       "      <td>/m/04kdmg</td>\n",
       "    </tr>\n",
       "    <tr>\n",
       "      <th>7188</th>\n",
       "      <td>21242801</td>\n",
       "      <td>/m/05bzjwj</td>\n",
       "      <td>1955.0</td>\n",
       "      <td>NaN</td>\n",
       "      <td>8/1/1973</td>\n",
       "      <td>M</td>\n",
       "      <td>1.79</td>\n",
       "      <td>/m/03ttfc</td>\n",
       "      <td>Eduardo Noriega</td>\n",
       "      <td>-17.0</td>\n",
       "      <td>/m/0cg2f0f</td>\n",
       "      <td>NaN</td>\n",
       "      <td>/m/0bkkw0</td>\n",
       "    </tr>\n",
       "    <tr>\n",
       "      <th>...</th>\n",
       "      <td>...</td>\n",
       "      <td>...</td>\n",
       "      <td>...</td>\n",
       "      <td>...</td>\n",
       "      <td>...</td>\n",
       "      <td>...</td>\n",
       "      <td>...</td>\n",
       "      <td>...</td>\n",
       "      <td>...</td>\n",
       "      <td>...</td>\n",
       "      <td>...</td>\n",
       "      <td>...</td>\n",
       "      <td>...</td>\n",
       "    </tr>\n",
       "    <tr>\n",
       "      <th>446570</th>\n",
       "      <td>3642891</td>\n",
       "      <td>/m/09rsyj</td>\n",
       "      <td>1999.0</td>\n",
       "      <td>Tess</td>\n",
       "      <td>12/24/2936</td>\n",
       "      <td>F</td>\n",
       "      <td>NaN</td>\n",
       "      <td>NaN</td>\n",
       "      <td>J.J. McColl</td>\n",
       "      <td>-937.0</td>\n",
       "      <td>/m/0l2rdfz</td>\n",
       "      <td>/m/0l2rdg1</td>\n",
       "      <td>/m/0l2rdg8</td>\n",
       "    </tr>\n",
       "    <tr>\n",
       "      <th>446581</th>\n",
       "      <td>25868401</td>\n",
       "      <td>/m/09v6ykm</td>\n",
       "      <td>1955.0</td>\n",
       "      <td>NaN</td>\n",
       "      <td>5/31/1967</td>\n",
       "      <td>F</td>\n",
       "      <td>1.67</td>\n",
       "      <td>/m/03ts0c</td>\n",
       "      <td>Sandrine Bonnaire</td>\n",
       "      <td>-12.0</td>\n",
       "      <td>/m/04j05tr</td>\n",
       "      <td>NaN</td>\n",
       "      <td>/m/07wn_5</td>\n",
       "    </tr>\n",
       "    <tr>\n",
       "      <th>446583</th>\n",
       "      <td>8595532</td>\n",
       "      <td>/m/02799cv</td>\n",
       "      <td>1944.0</td>\n",
       "      <td>NaN</td>\n",
       "      <td>5/28/1947</td>\n",
       "      <td>M</td>\n",
       "      <td>NaN</td>\n",
       "      <td>NaN</td>\n",
       "      <td>Kevin O'Shea</td>\n",
       "      <td>-3.0</td>\n",
       "      <td>/m/02vcqnq</td>\n",
       "      <td>NaN</td>\n",
       "      <td>/m/02q384f</td>\n",
       "    </tr>\n",
       "    <tr>\n",
       "      <th>446816</th>\n",
       "      <td>1276915</td>\n",
       "      <td>/m/04pg6m</td>\n",
       "      <td>1941.0</td>\n",
       "      <td>NaN</td>\n",
       "      <td>4/19/1957</td>\n",
       "      <td>M</td>\n",
       "      <td>NaN</td>\n",
       "      <td>NaN</td>\n",
       "      <td>Tony Martin</td>\n",
       "      <td>-15.0</td>\n",
       "      <td>/m/0cg164j</td>\n",
       "      <td>NaN</td>\n",
       "      <td>/m/07q_fg</td>\n",
       "    </tr>\n",
       "    <tr>\n",
       "      <th>447210</th>\n",
       "      <td>23382222</td>\n",
       "      <td>/m/06w1hlj</td>\n",
       "      <td>1932.0</td>\n",
       "      <td>NaN</td>\n",
       "      <td>2/8/1942</td>\n",
       "      <td>M</td>\n",
       "      <td>NaN</td>\n",
       "      <td>/m/041rx</td>\n",
       "      <td>Robert Klein</td>\n",
       "      <td>-9.0</td>\n",
       "      <td>/m/0cg08dz</td>\n",
       "      <td>NaN</td>\n",
       "      <td>/m/02pb53</td>\n",
       "    </tr>\n",
       "  </tbody>\n",
       "</table>\n",
       "<p>381 rows × 13 columns</p>\n",
       "</div>"
      ],
      "text/plain": [
       "            W_ID        F_ID  Release Date Char_Name   Actor DOB Gender  \\\n",
       "767     15007384  /m/03h4h5p        1934.0       NaN   11/7/1963    NaN   \n",
       "2286     2553539   /m/07mlsy        1918.0       NaN   3/25/1931      M   \n",
       "3892     5917218   /m/0fdf3y        1965.0       NaN    3/3/1983      F   \n",
       "6666       73930    /m/0jsjm        1924.0    Robert   11/7/1972      M   \n",
       "7188    21242801  /m/05bzjwj        1955.0       NaN    8/1/1973      M   \n",
       "...          ...         ...           ...       ...         ...    ...   \n",
       "446570   3642891   /m/09rsyj        1999.0      Tess  12/24/2936      F   \n",
       "446581  25868401  /m/09v6ykm        1955.0       NaN   5/31/1967      F   \n",
       "446583   8595532  /m/02799cv        1944.0       NaN   5/28/1947      M   \n",
       "446816   1276915   /m/04pg6m        1941.0       NaN   4/19/1957      M   \n",
       "447210  23382222  /m/06w1hlj        1932.0       NaN    2/8/1942      M   \n",
       "\n",
       "        Height (m)  Ethnicity              Actor  Actor age at Release  \\\n",
       "767            NaN        NaN      Franck Dubosc                 -29.0   \n",
       "2286           NaN        NaN         Tom Wilson                 -12.0   \n",
       "3892          1.75        NaN          Kim Smith                 -18.0   \n",
       "6666          1.80        NaN       Jason London                 -48.0   \n",
       "7188          1.79  /m/03ttfc    Eduardo Noriega                 -17.0   \n",
       "...            ...        ...                ...                   ...   \n",
       "446570         NaN        NaN        J.J. McColl                -937.0   \n",
       "446581        1.67  /m/03ts0c  Sandrine Bonnaire                 -12.0   \n",
       "446583         NaN        NaN       Kevin O'Shea                  -3.0   \n",
       "446816         NaN        NaN        Tony Martin                 -15.0   \n",
       "447210         NaN   /m/041rx       Robert Klein                  -9.0   \n",
       "\n",
       "       FB_Charactor/actor map id  FB_char_ID FB_Actor_ID  \n",
       "767                   /m/0bwb9k3         NaN  /m/01wlly9  \n",
       "2286                   /m/0jsqm1         NaN   /m/0382zh  \n",
       "3892                  /m/04mb5kf         NaN   /m/03pjkv  \n",
       "6666                  /m/01xrptw  /m/02nwfsk   /m/04kdmg  \n",
       "7188                  /m/0cg2f0f         NaN   /m/0bkkw0  \n",
       "...                          ...         ...         ...  \n",
       "446570                /m/0l2rdfz  /m/0l2rdg1  /m/0l2rdg8  \n",
       "446581                /m/04j05tr         NaN   /m/07wn_5  \n",
       "446583                /m/02vcqnq         NaN  /m/02q384f  \n",
       "446816                /m/0cg164j         NaN   /m/07q_fg  \n",
       "447210                /m/0cg08dz         NaN   /m/02pb53  \n",
       "\n",
       "[381 rows x 13 columns]"
      ]
     },
     "execution_count": 25,
     "metadata": {},
     "output_type": "execute_result"
    }
   ],
   "source": [
    "char_a_dropped.loc[char_a_dropped['Actor age at Release']<0]"
   ]
  },
  {
   "cell_type": "markdown",
   "id": "a60b6ea7",
   "metadata": {},
   "source": [
    "in the dataframe above we see 381 instances of negative ages.. Whats going on?\n",
    "By taking the difference between the actor DOB and movie release date we realize that the actor age is correct magnitude wrong sign! below, we correct the column by taking its abs"
   ]
  },
  {
   "cell_type": "code",
   "execution_count": 26,
   "id": "6b7b344f",
   "metadata": {
    "collapsed": true
   },
   "outputs": [
    {
     "name": "stderr",
     "output_type": "stream",
     "text": [
      "C:\\Users\\artor\\AppData\\Local\\Temp\\ipykernel_14008\\1328148632.py:1: SettingWithCopyWarning: \n",
      "A value is trying to be set on a copy of a slice from a DataFrame.\n",
      "Try using .loc[row_indexer,col_indexer] = value instead\n",
      "\n",
      "See the caveats in the documentation: https://pandas.pydata.org/pandas-docs/stable/user_guide/indexing.html#returning-a-view-versus-a-copy\n",
      "  char_a_dropped['Actor age at Release'] = char_a_dropped['Actor age at Release'].abs()\n"
     ]
    }
   ],
   "source": [
    "char_a_dropped['Actor age at Release'] = char_a_dropped['Actor age at Release'].abs()\n",
    "\n",
    "#not sure why i get a warning, but it works..."
   ]
  },
  {
   "cell_type": "code",
   "execution_count": 27,
   "id": "14ee4085",
   "metadata": {},
   "outputs": [
    {
     "data": {
      "text/plain": [
       "W_ID                              15007384\n",
       "F_ID                            /m/03h4h5p\n",
       "Release Date                        1934.0\n",
       "Char_Name                              NaN\n",
       "Actor DOB                        11/7/1963\n",
       "Gender                                 NaN\n",
       "Height (m)                             NaN\n",
       "Ethnicity                              NaN\n",
       "Actor                        Franck Dubosc\n",
       "Actor age at Release                  29.0\n",
       "FB_Charactor/actor map id       /m/0bwb9k3\n",
       "FB_char_ID                             NaN\n",
       "FB_Actor_ID                     /m/01wlly9\n",
       "Name: 767, dtype: object"
      ]
     },
     "execution_count": 27,
     "metadata": {},
     "output_type": "execute_result"
    }
   ],
   "source": [
    "char_a_dropped.loc[767]\n",
    "#here we see that we fixed the - age of the entry"
   ]
  },
  {
   "cell_type": "code",
   "execution_count": 28,
   "id": "db07f312",
   "metadata": {
    "scrolled": true
   },
   "outputs": [
    {
     "name": "stdout",
     "output_type": "stream",
     "text": [
      "Only 64.92 % of charactors have an associated actor age at release\n"
     ]
    }
   ],
   "source": [
    "print('Only {:.4} % of charactors have an associated actor age at release'.format(100 * len(char_a_dropped)/len(characters)))"
   ]
  },
  {
   "cell_type": "code",
   "execution_count": 29,
   "id": "25cc7327",
   "metadata": {
    "scrolled": false
   },
   "outputs": [
    {
     "data": {
      "text/html": [
       "<div>\n",
       "<style scoped>\n",
       "    .dataframe tbody tr th:only-of-type {\n",
       "        vertical-align: middle;\n",
       "    }\n",
       "\n",
       "    .dataframe tbody tr th {\n",
       "        vertical-align: top;\n",
       "    }\n",
       "\n",
       "    .dataframe thead th {\n",
       "        text-align: right;\n",
       "    }\n",
       "</style>\n",
       "<table border=\"1\" class=\"dataframe\">\n",
       "  <thead>\n",
       "    <tr style=\"text-align: right;\">\n",
       "      <th></th>\n",
       "      <th>Release Date</th>\n",
       "      <th>Gender</th>\n",
       "      <th>mean</th>\n",
       "      <th>size</th>\n",
       "    </tr>\n",
       "  </thead>\n",
       "  <tbody>\n",
       "    <tr>\n",
       "      <th>0</th>\n",
       "      <td>1908.0</td>\n",
       "      <td>F</td>\n",
       "      <td>5.000000</td>\n",
       "      <td>2</td>\n",
       "    </tr>\n",
       "    <tr>\n",
       "      <th>1</th>\n",
       "      <td>1909.0</td>\n",
       "      <td>F</td>\n",
       "      <td>3.600000</td>\n",
       "      <td>5</td>\n",
       "    </tr>\n",
       "    <tr>\n",
       "      <th>2</th>\n",
       "      <td>1910.0</td>\n",
       "      <td>F</td>\n",
       "      <td>9.000000</td>\n",
       "      <td>1</td>\n",
       "    </tr>\n",
       "    <tr>\n",
       "      <th>3</th>\n",
       "      <td>1910.0</td>\n",
       "      <td>M</td>\n",
       "      <td>81.000000</td>\n",
       "      <td>1</td>\n",
       "    </tr>\n",
       "    <tr>\n",
       "      <th>4</th>\n",
       "      <td>1911.0</td>\n",
       "      <td>F</td>\n",
       "      <td>9.000000</td>\n",
       "      <td>3</td>\n",
       "    </tr>\n",
       "    <tr>\n",
       "      <th>...</th>\n",
       "      <td>...</td>\n",
       "      <td>...</td>\n",
       "      <td>...</td>\n",
       "      <td>...</td>\n",
       "    </tr>\n",
       "    <tr>\n",
       "      <th>210</th>\n",
       "      <td>2014.0</td>\n",
       "      <td>M</td>\n",
       "      <td>41.400000</td>\n",
       "      <td>20</td>\n",
       "    </tr>\n",
       "    <tr>\n",
       "      <th>211</th>\n",
       "      <td>2015.0</td>\n",
       "      <td>F</td>\n",
       "      <td>50.500000</td>\n",
       "      <td>2</td>\n",
       "    </tr>\n",
       "    <tr>\n",
       "      <th>212</th>\n",
       "      <td>2015.0</td>\n",
       "      <td>M</td>\n",
       "      <td>50.272727</td>\n",
       "      <td>11</td>\n",
       "    </tr>\n",
       "    <tr>\n",
       "      <th>213</th>\n",
       "      <td>2016.0</td>\n",
       "      <td>F</td>\n",
       "      <td>42.000000</td>\n",
       "      <td>2</td>\n",
       "    </tr>\n",
       "    <tr>\n",
       "      <th>214</th>\n",
       "      <td>2016.0</td>\n",
       "      <td>M</td>\n",
       "      <td>46.250000</td>\n",
       "      <td>4</td>\n",
       "    </tr>\n",
       "  </tbody>\n",
       "</table>\n",
       "<p>215 rows × 4 columns</p>\n",
       "</div>"
      ],
      "text/plain": [
       "     Release Date Gender       mean  size\n",
       "0          1908.0      F   5.000000     2\n",
       "1          1909.0      F   3.600000     5\n",
       "2          1910.0      F   9.000000     1\n",
       "3          1910.0      M  81.000000     1\n",
       "4          1911.0      F   9.000000     3\n",
       "..            ...    ...        ...   ...\n",
       "210        2014.0      M  41.400000    20\n",
       "211        2015.0      F  50.500000     2\n",
       "212        2015.0      M  50.272727    11\n",
       "213        2016.0      F  42.000000     2\n",
       "214        2016.0      M  46.250000     4\n",
       "\n",
       "[215 rows x 4 columns]"
      ]
     },
     "execution_count": 29,
     "metadata": {},
     "output_type": "execute_result"
    }
   ],
   "source": [
    "char_a_filt = char_a_dropped.groupby([\"Release Date\",\"Gender\"])['Actor age at Release'].agg(['mean','size']).reset_index()\n",
    "char_a_filt"
   ]
  },
  {
   "cell_type": "code",
   "execution_count": 30,
   "id": "3dd00c70",
   "metadata": {},
   "outputs": [
    {
     "data": {
      "image/png": "[encoded data removed]",
      "text/plain": [
       "<Figure size 562.236x500 with 1 Axes>"
      ]
     },
     "metadata": {},
     "output_type": "display_data"
    }
   ],
   "source": [
    "#now to break it down by gender...\n",
    "#trying to include additional argument : scatter_kws={\"s\": char_a_filt['size']} , but get errors each time\n",
    "\n",
    "sns.lmplot(x='Release Date', y='mean',data = char_a_filt, hue = 'Gender', scatter_kws={\"s\":5})\n",
    "plt.xlabel(\"Year\")\n",
    "plt.ylabel(\"Average age of Actors\")\n",
    "plt.title(\"Average Age of Actors by Gender and Year of Release\")\n",
    "plt.ylim([0,100])\n",
    "plt.xlim([char_a_filt['Release Date'].min(),char_a_filt['Release Date'].max()]);"
   ]
  },
  {
   "cell_type": "markdown",
   "id": "e252765c",
   "metadata": {},
   "source": [
    "The two lines below run over the dataset before we grouped (get the actual average)"
   ]
  },
  {
   "cell_type": "code",
   "execution_count": 31,
   "id": "b6b32df6",
   "metadata": {},
   "outputs": [
    {
     "data": {
      "text/plain": [
       "40.44337002151166"
      ]
     },
     "execution_count": 31,
     "metadata": {},
     "output_type": "execute_result"
    }
   ],
   "source": [
    "char_a_dropped.loc[char_a_dropped['Gender'] == 'M']['Actor age at Release'].mean()"
   ]
  },
  {
   "cell_type": "code",
   "execution_count": 32,
   "id": "7ae3f777",
   "metadata": {},
   "outputs": [
    {
     "data": {
      "text/plain": [
       "33.02033331318139"
      ]
     },
     "execution_count": 32,
     "metadata": {},
     "output_type": "execute_result"
    }
   ],
   "source": [
    "char_a_dropped.loc[char_a_dropped['Gender'] == 'F']['Actor age at Release'].mean()"
   ]
  },
  {
   "cell_type": "markdown",
   "id": "49589b56",
   "metadata": {},
   "source": [
    "It is interesting to note that males tend to be older than women in cinema over the last hundred years. this difference is manifest in the average male age of 40 relative to a womens of 33. \n",
    "Another thing we see here is there the age seems to be rising. I propose that this is not as strongly the case as one would initially believe. My hypothesis is as follows: the age at release data is lacking for older actors at the beginning of the 20th century. simply put, record keeping was not as good as it is now. This is manifest in the fact that the data we do have on actors with roles in the early 20th century are all quite young - ie they lived long enough to enter modern database management \n"
   ]
  },
  {
   "cell_type": "code",
   "execution_count": 33,
   "id": "fa5cb0ec",
   "metadata": {},
   "outputs": [],
   "source": [
    "# This doesnt currenlty work but the idea is show how many entries are missing actor ages and break it down by decade\n",
    "# in such a manner we can show that in earlier years there is a much larger proportion of missing data?\n",
    "\n",
    "# characters.loc[characters['Actor age at Release'].isnull() and characters['Release Date'] < 1930]"
   ]
  },
  {
   "cell_type": "markdown",
   "id": "55d741ae",
   "metadata": {},
   "source": [
    "## Gendered"
   ]
  },
  {
   "cell_type": "code",
   "execution_count": 72,
   "id": "1b953204",
   "metadata": {
    "scrolled": false
   },
   "outputs": [
    {
     "data": {
      "text/html": [
       "<div>\n",
       "<style scoped>\n",
       "    .dataframe tbody tr th:only-of-type {\n",
       "        vertical-align: middle;\n",
       "    }\n",
       "\n",
       "    .dataframe tbody tr th {\n",
       "        vertical-align: top;\n",
       "    }\n",
       "\n",
       "    .dataframe thead th {\n",
       "        text-align: right;\n",
       "    }\n",
       "</style>\n",
       "<table border=\"1\" class=\"dataframe\">\n",
       "  <thead>\n",
       "    <tr style=\"text-align: right;\">\n",
       "      <th></th>\n",
       "      <th></th>\n",
       "      <th>Count</th>\n",
       "    </tr>\n",
       "    <tr>\n",
       "      <th>Release Date</th>\n",
       "      <th>Gender</th>\n",
       "      <th></th>\n",
       "    </tr>\n",
       "  </thead>\n",
       "  <tbody>\n",
       "    <tr>\n",
       "      <th rowspan=\"2\" valign=\"top\">1888.0</th>\n",
       "      <th>F</th>\n",
       "      <td>2</td>\n",
       "    </tr>\n",
       "    <tr>\n",
       "      <th>M</th>\n",
       "      <td>2</td>\n",
       "    </tr>\n",
       "    <tr>\n",
       "      <th>1891.0</th>\n",
       "      <th>M</th>\n",
       "      <td>1</td>\n",
       "    </tr>\n",
       "    <tr>\n",
       "      <th>1893.0</th>\n",
       "      <th>M</th>\n",
       "      <td>2</td>\n",
       "    </tr>\n",
       "    <tr>\n",
       "      <th>1894.0</th>\n",
       "      <th>F</th>\n",
       "      <td>1</td>\n",
       "    </tr>\n",
       "    <tr>\n",
       "      <th>...</th>\n",
       "      <th>...</th>\n",
       "      <td>...</td>\n",
       "    </tr>\n",
       "    <tr>\n",
       "      <th>2014.0</th>\n",
       "      <th>M</th>\n",
       "      <td>21</td>\n",
       "    </tr>\n",
       "    <tr>\n",
       "      <th rowspan=\"2\" valign=\"top\">2015.0</th>\n",
       "      <th>F</th>\n",
       "      <td>2</td>\n",
       "    </tr>\n",
       "    <tr>\n",
       "      <th>M</th>\n",
       "      <td>12</td>\n",
       "    </tr>\n",
       "    <tr>\n",
       "      <th rowspan=\"2\" valign=\"top\">2016.0</th>\n",
       "      <th>F</th>\n",
       "      <td>2</td>\n",
       "    </tr>\n",
       "    <tr>\n",
       "      <th>M</th>\n",
       "      <td>4</td>\n",
       "    </tr>\n",
       "  </tbody>\n",
       "</table>\n",
       "<p>247 rows × 1 columns</p>\n",
       "</div>"
      ],
      "text/plain": [
       "                     Count\n",
       "Release Date Gender       \n",
       "1888.0       F           2\n",
       "             M           2\n",
       "1891.0       M           1\n",
       "1893.0       M           2\n",
       "1894.0       F           1\n",
       "...                    ...\n",
       "2014.0       M          21\n",
       "2015.0       F           2\n",
       "             M          12\n",
       "2016.0       F           2\n",
       "             M           4\n",
       "\n",
       "[247 rows x 1 columns]"
      ]
     },
     "execution_count": 72,
     "metadata": {},
     "output_type": "execute_result"
    }
   ],
   "source": [
    "char_gen = pd.DataFrame(characters.groupby(['Release Date','Gender'])['Gender'].agg('size'))\n",
    "char_gen.set_axis(['Count'],axis = 'columns', inplace = True)"
   ]
  },
  {
   "cell_type": "markdown",
   "id": "a9a6bcf5",
   "metadata": {},
   "source": [
    "how to make use of this... just a % of m/f each year? "
   ]
  },
  {
   "cell_type": "code",
   "execution_count": 74,
   "id": "0e1a7cc2",
   "metadata": {
    "collapsed": true
   },
   "outputs": [
    {
     "name": "stdout",
     "output_type": "stream",
     "text": [
      "Count    147\n",
      "Name: (1912.0, F), dtype: int64\n",
      "Count    295\n",
      "Name: (1923.0, F), dtype: int64\n",
      "Count    833\n",
      "Name: (1967.0, F), dtype: int64\n",
      "Count    1097\n",
      "Name: (1978.0, F), dtype: int64\n",
      "Count    1571\n",
      "Name: (1989.0, F), dtype: int64\n",
      "Count    1831\n",
      "Name: (1993.0, F), dtype: int64\n",
      "Count    1483\n",
      "Name: (1935.0, M), dtype: int64\n",
      "Count    5\n",
      "Name: (1900.0, M), dtype: int64\n",
      "Count    147\n",
      "Name: (1911.0, M), dtype: int64\n",
      "Count    1726\n",
      "Name: (1955.0, M), dtype: int64\n",
      "Count    315\n",
      "Name: (1925.0, F), dtype: int64\n",
      "Count    2480\n",
      "Name: (1979.0, M), dtype: int64\n",
      "Count    1116\n",
      "Name: (1980.0, F), dtype: int64\n",
      "Count    3319\n",
      "Name: (1990.0, M), dtype: int64\n",
      "Count    1601\n",
      "Name: (1991.0, F), dtype: int64\n",
      "Count    6221\n",
      "Name: (2001.0, M), dtype: int64\n",
      "Count    426\n",
      "Name: (1929.0, F), dtype: int64\n",
      "Count    575\n",
      "Name: (1940.0, F), dtype: int64\n",
      "Count    733\n",
      "Name: (1951.0, F), dtype: int64\n",
      "Count    1912\n",
      "Name: (1995.0, F), dtype: int64\n",
      "Count    5236\n",
      "Name: (2006.0, F), dtype: int64\n",
      "Count    398\n",
      "Name: (1913.0, M), dtype: int64\n",
      "Count    3308\n",
      "Name: (1992.0, M), dtype: int64\n",
      "Count    6903\n",
      "Name: (2003.0, M), dtype: int64\n",
      "Count    1452\n",
      "Name: (1941.0, M), dtype: int64\n",
      "Count    470\n",
      "Name: (1917.0, M), dtype: int64\n",
      "Count    657\n",
      "Name: (1928.0, M), dtype: int64\n",
      "Count    1578\n",
      "Name: (1939.0, M), dtype: int64\n",
      "Count    546\n",
      "Name: (1942.0, F), dtype: int64\n",
      "Count    1702\n",
      "Name: (1952.0, M), dtype: int64\n",
      "Count    763\n",
      "Name: (1953.0, F), dtype: int64\n",
      "Count    9374\n",
      "Name: (2007.0, M), dtype: int64\n",
      "Count    5271\n",
      "Name: (2008.0, F), dtype: int64\n",
      "Count    2\n",
      "Name: (1902.0, F), dtype: int64\n",
      "Count    818\n",
      "Name: (1957.0, F), dtype: int64\n",
      "Count    828\n",
      "Name: (1968.0, F), dtype: int64\n",
      "Count    2545\n",
      "Name: (2012.0, F), dtype: int64\n",
      "Count    9312\n",
      "Name: (2009.0, M), dtype: int64\n",
      "Count    5\n",
      "Name: (1901.0, M), dtype: int64\n",
      "Count    2025\n",
      "Name: (1969.0, M), dtype: int64\n",
      "Count    1315\n",
      "Name: (1934.0, M), dtype: int64\n",
      "Count    713\n",
      "Name: (1959.0, F), dtype: int64\n",
      "Count    974\n",
      "Name: (1970.0, F), dtype: int64\n",
      "Count    206\n",
      "Name: (1919.0, F), dtype: int64\n",
      "Count    481\n",
      "Name: (1930.0, F), dtype: int64\n",
      "Count    962\n",
      "Name: (1974.0, F), dtype: int64\n",
      "Count    1418\n",
      "Name: (1985.0, F), dtype: int64\n",
      "Count    2242\n",
      "Name: (1971.0, M), dtype: int64\n",
      "Count    1671\n",
      "Name: (1958.0, M), dtype: int64\n",
      "Count    2390\n",
      "Name: (1982.0, M), dtype: int64\n",
      "Count    973\n",
      "Name: (1931.0, M), dtype: int64\n",
      "Count    402\n",
      "Name: (1918.0, M), dtype: int64\n",
      "Count    18\n",
      "Name: (1907.0, M), dtype: int64\n",
      "Count    4\n",
      "Name: (1896.0, M), dtype: int64\n",
      "Count    247\n",
      "Name: (1921.0, F), dtype: int64\n",
      "Count    497\n",
      "Name: (1932.0, F), dtype: int64\n",
      "Count    2858\n",
      "Name: (1986.0, M), dtype: int64\n",
      "Count    1483\n",
      "Name: (1987.0, F), dtype: int64\n",
      "Count    4623\n",
      "Name: (1997.0, M), dtype: int64\n",
      "Count    2591\n",
      "Name: (1998.0, F), dtype: int64\n",
      "Count    688\n",
      "Name: (1936.0, F), dtype: int64\n",
      "Count    570\n",
      "Name: (1947.0, F), dtype: int64\n",
      "Count    3402\n",
      "Name: (2002.0, F), dtype: int64\n",
      "Count    54\n",
      "Name: (1909.0, M), dtype: int64\n",
      "Count    454\n",
      "Name: (1920.0, M), dtype: int64\n",
      "Count    1987\n",
      "Name: (1975.0, M), dtype: int64\n",
      "Count    3291\n",
      "Name: (1988.0, M), dtype: int64\n",
      "Count    5369\n",
      "Name: (1999.0, M), dtype: int64\n",
      "Count    9109\n",
      "Name: (2010.0, M), dtype: int64\n",
      "Count    1386\n",
      "Name: (1948.0, M), dtype: int64\n",
      "Count    426\n",
      "Name: (1924.0, M), dtype: int64\n",
      "Count    1\n",
      "Name: (1894.0, F), dtype: int64\n",
      "Count    21\n",
      "Name: (2014.0, M), dtype: int64\n",
      "Count    571\n",
      "Name: (1938.0, F), dtype: int64\n",
      "Count    668\n",
      "Name: (1949.0, F), dtype: int64\n",
      "Count    3935\n",
      "Name: (2004.0, F), dtype: int64\n",
      "Count    2\n",
      "Name: (2015.0, F), dtype: int64\n",
      "Count    1\n",
      "Name: (1898.0, F), dtype: int64\n",
      "Count    801\n",
      "Name: (1964.0, F), dtype: int64\n",
      "Count    1667\n",
      "Name: (1950.0, M), dtype: int64\n",
      "Count    1447\n",
      "Name: (1937.0, M), dtype: int64\n",
      "Count    1542\n",
      "Name: (1961.0, M), dtype: int64\n",
      "Count    2461\n",
      "Name: (1972.0, M), dtype: int64\n",
      "Count    8192\n",
      "Name: (2005.0, M), dtype: int64\n",
      "Count    4\n",
      "Name: (2016.0, M), dtype: int64\n",
      "Count    59\n",
      "Name: (1910.0, M), dtype: int64\n",
      "Count    1\n",
      "Name: (1897.0, M), dtype: int64\n",
      "Count    2143\n",
      "Name: (1976.0, M), dtype: int64\n",
      "Count    5\n",
      "Name: (1900.0, F), dtype: int64\n",
      "Count    79\n",
      "Name: (1911.0, F), dtype: int64\n",
      "Count    740\n",
      "Name: (1955.0, F), dtype: int64\n",
      "Count    750\n",
      "Name: (1966.0, F), dtype: int64\n",
      "Count    989\n",
      "Name: (1977.0, F), dtype: int64\n",
      "Count    359\n",
      "Name: (1915.0, F), dtype: int64\n",
      "Count    286\n",
      "Name: (1926.0, F), dtype: int64\n",
      "Count    1072\n",
      "Name: (1981.0, F), dtype: int64\n",
      "Count    2\n",
      "Name: (1888.0, M), dtype: int64\n",
      "Count    2\n",
      "Name: (1899.0, M), dtype: int64\n",
      "Count    1597\n",
      "Name: (1954.0, M), dtype: int64\n",
      "Count    230\n",
      "Name: (1913.0, F), dtype: int64\n",
      "Count    2061\n",
      "Name: (1965.0, M), dtype: int64\n",
      "Count    1905\n",
      "Name: (1967.0, M), dtype: int64\n",
      "Count    2358\n",
      "Name: (1978.0, M), dtype: int64\n",
      "Count    3312\n",
      "Name: (1989.0, M), dtype: int64\n",
      "Count    10\n",
      "Name: (1903.0, M), dtype: int64\n",
      "Count    713\n",
      "Name: (1914.0, M), dtype: int64\n",
      "Count    3626\n",
      "Name: (1993.0, M), dtype: int64\n",
      "Count    234\n",
      "Name: (1917.0, F), dtype: int64\n",
      "Count    350\n",
      "Name: (1928.0, F), dtype: int64\n",
      "Count    592\n",
      "Name: (1939.0, F), dtype: int64\n",
      "Count    1165\n",
      "Name: (1983.0, F), dtype: int64\n",
      "Count    1954\n",
      "Name: (1994.0, F), dtype: int64\n",
      "Count    3303\n",
      "Name: (1991.0, M), dtype: int64\n",
      "Count    547\n",
      "Name: (1943.0, F), dtype: int64\n",
      "Count    1613\n",
      "Name: (1940.0, M), dtype: int64\n",
      "Count    520\n",
      "Name: (1916.0, M), dtype: int64\n",
      "Count    668\n",
      "Name: (1927.0, M), dtype: int64\n",
      "Count    1612\n",
      "Name: (1951.0, M), dtype: int64\n",
      "Count    3741\n",
      "Name: (1995.0, M), dtype: int64\n",
      "Count    9466\n",
      "Name: (2006.0, M), dtype: int64\n",
      "Count    2161\n",
      "Name: (1996.0, F), dtype: int64\n",
      "Count    3\n",
      "Name: (1901.0, F), dtype: int64\n",
      "Count    652\n",
      "Name: (1934.0, F), dtype: int64\n",
      "Count    529\n",
      "Name: (1945.0, F), dtype: int64\n",
      "Count    795\n",
      "Name: (1956.0, F), dtype: int64\n",
      "Count    3055\n",
      "Name: (2000.0, F), dtype: int64\n",
      "Count    4661\n",
      "Name: (2011.0, F), dtype: int64\n",
      "Count    9582\n",
      "Name: (2008.0, M), dtype: int64\n",
      "Count    748\n",
      "Name: (1960.0, F), dtype: int64\n",
      "Count    2730\n",
      "Name: (1984.0, M), dtype: int64\n",
      "Count    1836\n",
      "Name: (1957.0, M), dtype: int64\n",
      "Count    1150\n",
      "Name: (1933.0, M), dtype: int64\n",
      "Count    1208\n",
      "Name: (1944.0, M), dtype: int64\n",
      "Count    1944\n",
      "Name: (1968.0, M), dtype: int64\n",
      "Count    777\n",
      "Name: (1958.0, F), dtype: int64\n",
      "Count    4502\n",
      "Name: (2012.0, M), dtype: int64\n",
      "Count    281\n",
      "Name: (2013.0, F), dtype: int64\n",
      "Count    2\n",
      "Name: (1893.0, M), dtype: int64\n",
      "Count    5\n",
      "Name: (1896.0, F), dtype: int64\n",
      "Count    4\n",
      "Name: (1907.0, F), dtype: int64\n",
      "Count    236\n",
      "Name: (1918.0, F), dtype: int64\n",
      "Count    788\n",
      "Name: (1962.0, F), dtype: int64\n",
      "Count    1003\n",
      "Name: (1973.0, F), dtype: int64\n",
      "Count    224\n",
      "Name: (1922.0, F), dtype: int64\n",
      "Count    1137\n",
      "Name: (1946.0, M), dtype: int64\n",
      "Count    964\n",
      "Name: (1930.0, M), dtype: int64\n",
      "Count    1\n",
      "Name: (1895.0, M), dtype: int64\n",
      "Count    5\n",
      "Name: (1906.0, M), dtype: int64\n",
      "Count    2308\n",
      "Name: (1974.0, M), dtype: int64\n",
      "Count    37\n",
      "Name: (1909.0, F), dtype: int64\n",
      "Count    210\n",
      "Name: (1920.0, F), dtype: int64\n",
      "Count    890\n",
      "Name: (1975.0, F), dtype: int64\n",
      "Count    3000\n",
      "Name: (1985.0, M), dtype: int64\n",
      "Count    270\n",
      "Name: (1924.0, F), dtype: int64\n",
      "Count    634\n",
      "Name: (1935.0, F), dtype: int64\n",
      "Count    1077\n",
      "Name: (1979.0, F), dtype: int64\n",
      "Count    1524\n",
      "Name: (1990.0, F), dtype: int64\n",
      "Count    3185\n",
      "Name: (2001.0, F), dtype: int64\n",
      "Count    44\n",
      "Name: (1908.0, M), dtype: int64\n",
      "Count    3277\n",
      "Name: (1987.0, M), dtype: int64\n",
      "Count    1447\n",
      "Name: (1963.0, M), dtype: int64\n",
      "Count    4888\n",
      "Name: (1998.0, M), dtype: int64\n",
      "Count    1685\n",
      "Name: (1936.0, M), dtype: int64\n",
      "Count    181\n",
      "Name: (1912.0, M), dtype: int64\n",
      "Count    629\n",
      "Name: (1923.0, M), dtype: int64\n",
      "Count    1171\n",
      "Name: (1947.0, M), dtype: int64\n",
      "Count    600\n",
      "Name: (1937.0, F), dtype: int64\n",
      "Count    6477\n",
      "Name: (2002.0, M), dtype: int64\n",
      "Count    1554\n",
      "Name: (1992.0, F), dtype: int64\n",
      "Count    3586\n",
      "Name: (2003.0, F), dtype: int64\n",
      "Count    2\n",
      "Name: (1897.0, F), dtype: int64\n",
      "Count    599\n",
      "Name: (1941.0, F), dtype: int64\n",
      "Count    827\n",
      "Name: (1952.0, F), dtype: int64\n",
      "Count    5364\n",
      "Name: (2007.0, F), dtype: int64\n",
      "Count    455\n",
      "Name: (1925.0, M), dtype: int64\n",
      "Count    7506\n",
      "Name: (2004.0, M), dtype: int64\n",
      "Count    2544\n",
      "Name: (1980.0, M), dtype: int64\n",
      "Count    12\n",
      "Name: (2015.0, M), dtype: int64\n",
      "Count    1768\n",
      "Name: (1964.0, M), dtype: int64\n",
      "Count    872\n",
      "Name: (1929.0, M), dtype: int64\n",
      "Count    2\n",
      "Name: (1888.0, F), dtype: int64\n",
      "Count    4\n",
      "Name: (1899.0, F), dtype: int64\n",
      "Count    704\n",
      "Name: (1954.0, F), dtype: int64\n",
      "Count    871\n",
      "Name: (1965.0, F), dtype: int64\n",
      "Count    5223\n",
      "Name: (2009.0, F), dtype: int64\n",
      "Count    5\n",
      "Name: (1903.0, F), dtype: int64\n",
      "Count    404\n",
      "Name: (1914.0, F), dtype: int64\n",
      "Count    891\n",
      "Name: (1969.0, F), dtype: int64\n",
      "Count    1749\n",
      "Name: (1966.0, M), dtype: int64\n",
      "Count    1560\n",
      "Name: (1942.0, M), dtype: int64\n",
      "Count    1827\n",
      "Name: (1953.0, M), dtype: int64\n",
      "Count    2229\n",
      "Name: (1977.0, M), dtype: int64\n",
      "Count    614\n",
      "Name: (1915.0, M), dtype: int64\n",
      "Count    1\n",
      "Name: (1891.0, M), dtype: int64\n",
      "Count    7\n",
      "Name: (1902.0, M), dtype: int64\n",
      "Count    514\n",
      "Name: (1926.0, M), dtype: int64\n",
      "Count    312\n",
      "Name: (1916.0, F), dtype: int64\n",
      "Count    323\n",
      "Name: (1927.0, F), dtype: int64\n",
      "Count    1011\n",
      "Name: (1971.0, F), dtype: int64\n",
      "Count    2581\n",
      "Name: (1981.0, M), dtype: int64\n",
      "Count    1118\n",
      "Name: (1982.0, F), dtype: int64\n",
      "Count    524\n",
      "Name: (1931.0, F), dtype: int64\n",
      "Count    1364\n",
      "Name: (1986.0, F), dtype: int64\n",
      "Count    2398\n",
      "Name: (1997.0, F), dtype: int64\n",
      "Count    1\n",
      "Name: (1904.0, M), dtype: int64\n",
      "Count    2487\n",
      "Name: (1983.0, M), dtype: int64\n",
      "Count    1633\n",
      "Name: (1959.0, M), dtype: int64\n",
      "Count    2102\n",
      "Name: (1970.0, M), dtype: int64\n",
      "Count    3840\n",
      "Name: (1994.0, M), dtype: int64\n",
      "Count    1342\n",
      "Name: (1984.0, F), dtype: int64\n",
      "Count    1364\n",
      "Name: (1943.0, M), dtype: int64\n",
      "Count    400\n",
      "Name: (1919.0, M), dtype: int64\n",
      "Count    590\n",
      "Name: (1933.0, F), dtype: int64\n",
      "Count    563\n",
      "Name: (1944.0, F), dtype: int64\n",
      "Count    1583\n",
      "Name: (1988.0, F), dtype: int64\n",
      "Count    2819\n",
      "Name: (1999.0, F), dtype: int64\n",
      "Count    4916\n",
      "Name: (2010.0, F), dtype: int64\n",
      "Count    4374\n",
      "Name: (1996.0, M), dtype: int64\n",
      "Count    619\n",
      "Name: (1948.0, F), dtype: int64\n",
      "Count    15\n",
      "Name: (2014.0, F), dtype: int64\n",
      "Count    1194\n",
      "Name: (1945.0, M), dtype: int64\n",
      "Count    479\n",
      "Name: (1921.0, M), dtype: int64\n",
      "Count    1070\n",
      "Name: (1932.0, M), dtype: int64\n",
      "Count    1834\n",
      "Name: (1956.0, M), dtype: int64\n",
      "Count    539\n",
      "Name: (1946.0, F), dtype: int64\n",
      "Count    5466\n",
      "Name: (2000.0, M), dtype: int64\n",
      "Count    8376\n",
      "Name: (2011.0, M), dtype: int64\n",
      "Count    4\n",
      "Name: (1905.0, M), dtype: int64\n",
      "Count    1654\n",
      "Name: (1960.0, M), dtype: int64\n",
      "Count    3\n",
      "Name: (1906.0, F), dtype: int64\n",
      "Count    782\n",
      "Name: (1950.0, F), dtype: int64\n",
      "Count    691\n",
      "Name: (1961.0, F), dtype: int64\n",
      "Count    1101\n",
      "Name: (1972.0, F), dtype: int64\n",
      "Count    4541\n",
      "Name: (2005.0, F), dtype: int64\n",
      "Count    2\n",
      "Name: (2016.0, F), dtype: int64\n",
      "Count    35\n",
      "Name: (1910.0, F), dtype: int64\n",
      "Count    643\n",
      "Name: (2013.0, M), dtype: int64\n",
      "Count    973\n",
      "Name: (1976.0, F), dtype: int64\n",
      "Count    3\n",
      "Name: (1894.0, M), dtype: int64\n",
      "Count    1848\n",
      "Name: (1962.0, M), dtype: int64\n",
      "Count    1360\n",
      "Name: (1938.0, M), dtype: int64\n",
      "Count    23\n",
      "Name: (1908.0, F), dtype: int64\n",
      "Count    1502\n",
      "Name: (1949.0, M), dtype: int64\n",
      "Count    711\n",
      "Name: (1963.0, F), dtype: int64\n",
      "Count    2238\n",
      "Name: (1973.0, M), dtype: int64\n",
      "Count    427\n",
      "Name: (1922.0, M), dtype: int64\n",
      "Count    3\n",
      "Name: (1898.0, M), dtype: int64\n"
     ]
    }
   ],
   "source": [
    "for i in set(char_gen.index):\n",
    "    print (char_gen.loc[i])"
   ]
  },
  {
   "cell_type": "markdown",
   "id": "d0cbe2cd",
   "metadata": {},
   "source": [
    "## TODO\n",
    "\n",
    "-scale each datapoint in the m/f age graph with the amount of entities that were averaged to form it. issues: lmplot does not support this. lineplot is ugly with the outlier, I could potentially make a scatterplot and fit it myself ?\n",
    "\n",
    "-somehow groupby decade and describe the amount of rows we had to drop because there was no age data. we should see that in the earlier years we had to drop alot (little data on old ppl long ago, relative to the ones who were young and had better records in the 1900's)"
   ]
  },
  {
   "cell_type": "markdown",
   "id": "238953a7",
   "metadata": {},
   "source": [
    "### Ethnicity analysis"
   ]
  },
  {
   "cell_type": "code",
   "execution_count": 34,
   "id": "bb8f5d37",
   "metadata": {},
   "outputs": [
    {
     "data": {
      "text/html": [
       "<div>\n",
       "<style scoped>\n",
       "    .dataframe tbody tr th:only-of-type {\n",
       "        vertical-align: middle;\n",
       "    }\n",
       "\n",
       "    .dataframe tbody tr th {\n",
       "        vertical-align: top;\n",
       "    }\n",
       "\n",
       "    .dataframe thead th {\n",
       "        text-align: right;\n",
       "    }\n",
       "</style>\n",
       "<table border=\"1\" class=\"dataframe\">\n",
       "  <thead>\n",
       "    <tr style=\"text-align: right;\">\n",
       "      <th></th>\n",
       "      <th>W_ID</th>\n",
       "      <th>F_ID</th>\n",
       "      <th>Release Date</th>\n",
       "      <th>Char_Name</th>\n",
       "      <th>Actor DOB</th>\n",
       "      <th>Gender</th>\n",
       "      <th>Height (m)</th>\n",
       "      <th>Ethnicity</th>\n",
       "      <th>Actor</th>\n",
       "      <th>Actor age at Release</th>\n",
       "      <th>FB_Charactor/actor map id</th>\n",
       "      <th>FB_char_ID</th>\n",
       "      <th>FB_Actor_ID</th>\n",
       "    </tr>\n",
       "  </thead>\n",
       "  <tbody>\n",
       "    <tr>\n",
       "      <th>273746</th>\n",
       "      <td>13201636</td>\n",
       "      <td>/m/03bypg3</td>\n",
       "      <td>1981.0</td>\n",
       "      <td>NaN</td>\n",
       "      <td>11/22/1924</td>\n",
       "      <td>F</td>\n",
       "      <td>1.715</td>\n",
       "      <td>NaN</td>\n",
       "      <td>Geraldine Page</td>\n",
       "      <td>56.0</td>\n",
       "      <td>/m/040k9ht</td>\n",
       "      <td>NaN</td>\n",
       "      <td>/m/01dbhb</td>\n",
       "    </tr>\n",
       "    <tr>\n",
       "      <th>182104</th>\n",
       "      <td>12579118</td>\n",
       "      <td>/m/02wwl8v</td>\n",
       "      <td>2005.0</td>\n",
       "      <td>Gunner</td>\n",
       "      <td>6/22/1974</td>\n",
       "      <td>M</td>\n",
       "      <td>1.830</td>\n",
       "      <td>/m/0x67</td>\n",
       "      <td>Donald Faison</td>\n",
       "      <td>30.0</td>\n",
       "      <td>/m/0h30jm4</td>\n",
       "      <td>/m/0h30jm7</td>\n",
       "      <td>/m/03574m</td>\n",
       "    </tr>\n",
       "    <tr>\n",
       "      <th>171313</th>\n",
       "      <td>31710898</td>\n",
       "      <td>/m/0gmg9bg</td>\n",
       "      <td>1921.0</td>\n",
       "      <td>NaN</td>\n",
       "      <td>1880-08-08</td>\n",
       "      <td>M</td>\n",
       "      <td>NaN</td>\n",
       "      <td>NaN</td>\n",
       "      <td>Fred Groves</td>\n",
       "      <td>NaN</td>\n",
       "      <td>/m/0h5lrcj</td>\n",
       "      <td>NaN</td>\n",
       "      <td>/m/0g9g1n2</td>\n",
       "    </tr>\n",
       "  </tbody>\n",
       "</table>\n",
       "</div>"
      ],
      "text/plain": [
       "            W_ID        F_ID  Release Date Char_Name   Actor DOB Gender  \\\n",
       "273746  13201636  /m/03bypg3        1981.0       NaN  11/22/1924      F   \n",
       "182104  12579118  /m/02wwl8v        2005.0    Gunner   6/22/1974      M   \n",
       "171313  31710898  /m/0gmg9bg        1921.0       NaN  1880-08-08      M   \n",
       "\n",
       "        Height (m) Ethnicity           Actor  Actor age at Release  \\\n",
       "273746       1.715       NaN  Geraldine Page                  56.0   \n",
       "182104       1.830   /m/0x67   Donald Faison                  30.0   \n",
       "171313         NaN       NaN     Fred Groves                   NaN   \n",
       "\n",
       "       FB_Charactor/actor map id  FB_char_ID FB_Actor_ID  \n",
       "273746                /m/040k9ht         NaN   /m/01dbhb  \n",
       "182104                /m/0h30jm4  /m/0h30jm7   /m/03574m  \n",
       "171313                /m/0h5lrcj         NaN  /m/0g9g1n2  "
      ]
     },
     "execution_count": 34,
     "metadata": {},
     "output_type": "execute_result"
    }
   ],
   "source": [
    "characters.sample(3)"
   ]
  },
  {
   "cell_type": "code",
   "execution_count": 35,
   "id": "61392ced",
   "metadata": {},
   "outputs": [],
   "source": [
    "char_E_dropped = characters[characters['Ethnicity'].notnull()]  #dropping null ethnicities"
   ]
  },
  {
   "cell_type": "code",
   "execution_count": 36,
   "id": "3581d40a",
   "metadata": {},
   "outputs": [
    {
     "data": {
      "text/html": [
       "<div>\n",
       "<style scoped>\n",
       "    .dataframe tbody tr th:only-of-type {\n",
       "        vertical-align: middle;\n",
       "    }\n",
       "\n",
       "    .dataframe tbody tr th {\n",
       "        vertical-align: top;\n",
       "    }\n",
       "\n",
       "    .dataframe thead th {\n",
       "        text-align: right;\n",
       "    }\n",
       "</style>\n",
       "<table border=\"1\" class=\"dataframe\">\n",
       "  <thead>\n",
       "    <tr style=\"text-align: right;\">\n",
       "      <th></th>\n",
       "      <th>W_ID</th>\n",
       "      <th>F_ID</th>\n",
       "      <th>Release Date</th>\n",
       "      <th>Char_Name</th>\n",
       "      <th>Actor DOB</th>\n",
       "      <th>Gender</th>\n",
       "      <th>Height (m)</th>\n",
       "      <th>Ethnicity</th>\n",
       "      <th>Actor</th>\n",
       "      <th>Actor age at Release</th>\n",
       "      <th>FB_Charactor/actor map id</th>\n",
       "      <th>FB_char_ID</th>\n",
       "      <th>FB_Actor_ID</th>\n",
       "    </tr>\n",
       "  </thead>\n",
       "  <tbody>\n",
       "    <tr>\n",
       "      <th>296199</th>\n",
       "      <td>2157292</td>\n",
       "      <td>/m/06r1z1</td>\n",
       "      <td>2004.0</td>\n",
       "      <td>Sackville</td>\n",
       "      <td>9/11/1971</td>\n",
       "      <td>M</td>\n",
       "      <td>1.702</td>\n",
       "      <td>/m/02w7gg</td>\n",
       "      <td>Johnny Vegas</td>\n",
       "      <td>33.0</td>\n",
       "      <td>/m/03jq9v5</td>\n",
       "      <td>/m/0h345wc</td>\n",
       "      <td>/m/02ms5g</td>\n",
       "    </tr>\n",
       "    <tr>\n",
       "      <th>184220</th>\n",
       "      <td>5541237</td>\n",
       "      <td>/m/0drnk0</td>\n",
       "      <td>2003.0</td>\n",
       "      <td>Shark</td>\n",
       "      <td>3/5/1966</td>\n",
       "      <td>M</td>\n",
       "      <td>1.780</td>\n",
       "      <td>/m/04gfy7</td>\n",
       "      <td>Aasif Mandvi</td>\n",
       "      <td>36.0</td>\n",
       "      <td>/m/0cg57y5</td>\n",
       "      <td>/m/0h5kkmf</td>\n",
       "      <td>/m/0g2mbn</td>\n",
       "    </tr>\n",
       "    <tr>\n",
       "      <th>247319</th>\n",
       "      <td>1820344</td>\n",
       "      <td>/m/05zj2r</td>\n",
       "      <td>1993.0</td>\n",
       "      <td>NaN</td>\n",
       "      <td>4/29/1958</td>\n",
       "      <td>M</td>\n",
       "      <td>NaN</td>\n",
       "      <td>/m/0xnvg</td>\n",
       "      <td>Marc Coppola</td>\n",
       "      <td>34.0</td>\n",
       "      <td>/m/0gbwqqs</td>\n",
       "      <td>NaN</td>\n",
       "      <td>/m/03c6t_n</td>\n",
       "    </tr>\n",
       "  </tbody>\n",
       "</table>\n",
       "</div>"
      ],
      "text/plain": [
       "           W_ID       F_ID  Release Date  Char_Name  Actor DOB Gender  \\\n",
       "296199  2157292  /m/06r1z1        2004.0  Sackville  9/11/1971      M   \n",
       "184220  5541237  /m/0drnk0        2003.0      Shark   3/5/1966      M   \n",
       "247319  1820344  /m/05zj2r        1993.0        NaN  4/29/1958      M   \n",
       "\n",
       "        Height (m)  Ethnicity         Actor  Actor age at Release  \\\n",
       "296199       1.702  /m/02w7gg  Johnny Vegas                  33.0   \n",
       "184220       1.780  /m/04gfy7  Aasif Mandvi                  36.0   \n",
       "247319         NaN   /m/0xnvg  Marc Coppola                  34.0   \n",
       "\n",
       "       FB_Charactor/actor map id  FB_char_ID FB_Actor_ID  \n",
       "296199                /m/03jq9v5  /m/0h345wc   /m/02ms5g  \n",
       "184220                /m/0cg57y5  /m/0h5kkmf   /m/0g2mbn  \n",
       "247319                /m/0gbwqqs         NaN  /m/03c6t_n  "
      ]
     },
     "execution_count": 36,
     "metadata": {},
     "output_type": "execute_result"
    }
   ],
   "source": [
    "char_E_dropped.sample(3)"
   ]
  },
  {
   "cell_type": "code",
   "execution_count": 37,
   "id": "b8705327",
   "metadata": {},
   "outputs": [
    {
     "name": "stdout",
     "output_type": "stream",
     "text": [
      "Only 23.53 % of charactors have an associated ethnicity\n"
     ]
    }
   ],
   "source": [
    "print('Only {:.4} % of charactors have an associated ethnicity'.format(100 * len(char_E_dropped)/len(characters)))"
   ]
  },
  {
   "cell_type": "code",
   "execution_count": 38,
   "id": "6edc98c4",
   "metadata": {},
   "outputs": [],
   "source": [
    "char_E_filt = pd.DataFrame(char_E_dropped.groupby([\"Release Date\",\"Ethnicity\"]).size()).reset_index()"
   ]
  },
  {
   "cell_type": "code",
   "execution_count": 39,
   "id": "d9e632f9",
   "metadata": {},
   "outputs": [
    {
     "data": {
      "text/html": [
       "<div>\n",
       "<style scoped>\n",
       "    .dataframe tbody tr th:only-of-type {\n",
       "        vertical-align: middle;\n",
       "    }\n",
       "\n",
       "    .dataframe tbody tr th {\n",
       "        vertical-align: top;\n",
       "    }\n",
       "\n",
       "    .dataframe thead th {\n",
       "        text-align: right;\n",
       "    }\n",
       "</style>\n",
       "<table border=\"1\" class=\"dataframe\">\n",
       "  <thead>\n",
       "    <tr style=\"text-align: right;\">\n",
       "      <th></th>\n",
       "      <th>Release Date</th>\n",
       "      <th>Ethnicity</th>\n",
       "      <th>Count</th>\n",
       "    </tr>\n",
       "  </thead>\n",
       "  <tbody>\n",
       "    <tr>\n",
       "      <th>0</th>\n",
       "      <td>1891.0</td>\n",
       "      <td>/m/03lmx1</td>\n",
       "      <td>1</td>\n",
       "    </tr>\n",
       "    <tr>\n",
       "      <th>1</th>\n",
       "      <td>1894.0</td>\n",
       "      <td>/m/03lmx1</td>\n",
       "      <td>1</td>\n",
       "    </tr>\n",
       "    <tr>\n",
       "      <th>2</th>\n",
       "      <td>1896.0</td>\n",
       "      <td>/m/063k3h</td>\n",
       "      <td>1</td>\n",
       "    </tr>\n",
       "    <tr>\n",
       "      <th>3</th>\n",
       "      <td>1900.0</td>\n",
       "      <td>/m/041rx</td>\n",
       "      <td>1</td>\n",
       "    </tr>\n",
       "    <tr>\n",
       "      <th>4</th>\n",
       "      <td>1901.0</td>\n",
       "      <td>/m/063k3h</td>\n",
       "      <td>1</td>\n",
       "    </tr>\n",
       "    <tr>\n",
       "      <th>...</th>\n",
       "      <td>...</td>\n",
       "      <td>...</td>\n",
       "      <td>...</td>\n",
       "    </tr>\n",
       "    <tr>\n",
       "      <th>10460</th>\n",
       "      <td>2015.0</td>\n",
       "      <td>/m/02w7gg</td>\n",
       "      <td>1</td>\n",
       "    </tr>\n",
       "    <tr>\n",
       "      <th>10461</th>\n",
       "      <td>2015.0</td>\n",
       "      <td>/m/03cbkrf</td>\n",
       "      <td>1</td>\n",
       "    </tr>\n",
       "    <tr>\n",
       "      <th>10462</th>\n",
       "      <td>2015.0</td>\n",
       "      <td>/m/0912ll</td>\n",
       "      <td>1</td>\n",
       "    </tr>\n",
       "    <tr>\n",
       "      <th>10463</th>\n",
       "      <td>2015.0</td>\n",
       "      <td>/m/0dryh9k</td>\n",
       "      <td>5</td>\n",
       "    </tr>\n",
       "    <tr>\n",
       "      <th>10464</th>\n",
       "      <td>2015.0</td>\n",
       "      <td>/m/0g8_vp</td>\n",
       "      <td>1</td>\n",
       "    </tr>\n",
       "  </tbody>\n",
       "</table>\n",
       "<p>10465 rows × 3 columns</p>\n",
       "</div>"
      ],
      "text/plain": [
       "       Release Date   Ethnicity  Count\n",
       "0            1891.0   /m/03lmx1      1\n",
       "1            1894.0   /m/03lmx1      1\n",
       "2            1896.0   /m/063k3h      1\n",
       "3            1900.0    /m/041rx      1\n",
       "4            1901.0   /m/063k3h      1\n",
       "...             ...         ...    ...\n",
       "10460        2015.0   /m/02w7gg      1\n",
       "10461        2015.0  /m/03cbkrf      1\n",
       "10462        2015.0   /m/0912ll      1\n",
       "10463        2015.0  /m/0dryh9k      5\n",
       "10464        2015.0   /m/0g8_vp      1\n",
       "\n",
       "[10465 rows x 3 columns]"
      ]
     },
     "execution_count": 39,
     "metadata": {},
     "output_type": "execute_result"
    }
   ],
   "source": [
    "char_E_filt.set_axis(['Release Date', 'Ethnicity', 'Count'], axis='columns', inplace=True)\n",
    "char_E_filt"
   ]
  },
  {
   "cell_type": "code",
   "execution_count": 40,
   "id": "13117477",
   "metadata": {},
   "outputs": [
    {
     "data": {
      "text/plain": [
       "(1891.0, 2015.0)"
      ]
     },
     "execution_count": 40,
     "metadata": {},
     "output_type": "execute_result"
    },
    {
     "data": {
      "image/png": "[encoded data removed]",
      "text/plain": [
       "<Figure size 640x480 with 1 Axes>"
      ]
     },
     "metadata": {},
     "output_type": "display_data"
    }
   ],
   "source": [
    "sns.lineplot(x='Release Date', y='Count',data = char_E_filt, hue = 'Ethnicity', legend=False)\n",
    "plt.xlabel(\"Year\")\n",
    "plt.ylabel(\"Numer of times ethnicity is represented\")\n",
    "plt.title(\"Representation by ethnicity over time\")\n",
    "plt.ylim([0,char_E_filt['Count'].max()+50])\n",
    "plt.xlim([char_E_filt['Release Date'].min(),char_E_filt['Release Date'].max()])\n",
    "#plt.yscale('log')"
   ]
  },
  {
   "cell_type": "markdown",
   "id": "48c63fad",
   "metadata": {},
   "source": [
    "ideas - groups of ethnicities, top 10, or group by continents"
   ]
  },
  {
   "cell_type": "code",
   "execution_count": null,
   "id": "cfcb8a4c",
   "metadata": {},
   "outputs": [],
   "source": []
  }
 ],
 "metadata": {
  "kernelspec": {
   "display_name": "Python 3 (ipykernel)",
   "language": "python",
   "name": "python3"
  },
  "language_info": {
   "codemirror_mode": {
    "name": "ipython",
    "version": 3
   },
   "file_extension": ".py",
   "mimetype": "text/x-python",
   "name": "python",
   "nbconvert_exporter": "python",
   "pygments_lexer": "ipython3",
   "version": "3.9.13"
  }
 },
 "nbformat": 4,
 "nbformat_minor": 5
}
