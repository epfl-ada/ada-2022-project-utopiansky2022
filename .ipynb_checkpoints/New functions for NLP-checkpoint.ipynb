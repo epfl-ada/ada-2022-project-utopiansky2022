{
 "cells": [
  {
   "cell_type": "code",
   "execution_count": null,
   "id": "bac32566",
   "metadata": {},
   "outputs": [],
   "source": [
    "def recursive_find_adjs(root, sentence):\n",
    "    children = [w for w in sentence.words if w.head == root.id]\n",
    "    if not children:\n",
    "        pass \n",
    "    filtered_child = [w for w in children if (w.deprel == \"conj\" or w.deprel == \"appos\" \n",
    "                                              or w.deprel == \"nmod\" #w.deprel == or w.deprel == \"compound\" or w.deprel == \"nsubj\"\n",
    "                                              or w.deprel == \"amod\") and (w.pos == \"ADJ\"or w.pos == 'NOUN')] \n",
    "    results = [w for w in filtered_child if not any(sub.head == w.id and sub.upos == \"NOUN\" for sub in sentence.words)]\n",
    "    for w in children:\n",
    "        results += recursive_find_adjs(w, sentence)\n",
    "    return results"
   ]
  },
  {
   "cell_type": "code",
   "execution_count": null,
   "id": "e29afc71",
   "metadata": {},
   "outputs": [],
   "source": [
    "def char_attributes(doc):\n",
    "    sentences = []\n",
    "    names = []\n",
    "    attributes = []\n",
    "    for ix, sent in enumerate(doc.sentences):\n",
    "\n",
    "      nouns = [w for w in sent.words if (w.pos == \"PROPN\" or w.pos == \"PRON\")]\n",
    "      \n",
    "      name_list = list(char_table_all.loc[char_table_all['sentence']==ix]['name'])\n",
    "      for noun in nouns:\n",
    "        if noun.text in name_list:\n",
    "            adj0 = sent.words[noun.head-1] #adjective directly related\n",
    "            adjs = [adj0] + recursive_find_adjs(adj0, sent) if adj0.pos == \"ADJ\" or adj0.pos == \"NOUN\" else []\n",
    "            '''deps = [w for w in sent.words if (w.head == noun.id and (w.upos == 'NOUN' or w.upos == 'ADJ')) ]\n",
    "            for i in range(len(deps)):\n",
    "              adj0 = deps[i]\n",
    "              print(adj0.text)\n",
    "              print('\\n')\n",
    "              adjs = [adj0] + recursive_find_adjs(adj0, sent) if adj0.pos == \"ADJ\" or adj0.pos == \"NOUN\" else [] '''\n",
    "            mod_adjs = [w for w in sent.words if w.head == noun.id and (w.pos == \"ADJ\" or w.pos == 'NOUN')]\n",
    "              # This should only be one element because conjunctions are hierarchical\n",
    "            if mod_adjs:\n",
    "              mod_adj = mod_adjs[0]\n",
    "              adjs.extend([mod_adj] + recursive_find_adjs(mod_adj, sent))\n",
    "            if adjs:\n",
    "              unique_adjs = []\n",
    "              unique_ids = set()\n",
    "              for adj in adjs:\n",
    "                  if adj.id not in unique_ids:\n",
    "                      unique_adjs.append(adj)\n",
    "                      unique_ids.add(adj.id)\n",
    "              sentences.append(ix)\n",
    "              names.append(noun.text)\n",
    "              attributes.append(\" \".join([adj.text for adj in unique_adjs]))\n",
    "    char_attributes = pd.DataFrame()\n",
    "    char_attributes['Sentence'] = sentences\n",
    "    char_attributes['Character Names'] = names\n",
    "    char_attributes['Character Attributes'] = attributes\n",
    "    char_attributes['Total Attributes'] = char_attributes.groupby(['Sentence','Character Names'])['Character Attributes'].transform(lambda x: ' '.join(x))\n",
    "    char_attributes= char_attributes[['Sentence', 'Character Names','Total Attributes']]\n",
    "    return (char_attributes.drop_duplicates().reset_index())"
   ]
  }
 ],
 "metadata": {
  "kernelspec": {
   "display_name": "Python 3 (ipykernel)",
   "language": "python",
   "name": "python3"
  },
  "language_info": {
   "codemirror_mode": {
    "name": "ipython",
    "version": 3
   },
   "file_extension": ".py",
   "mimetype": "text/x-python",
   "name": "python",
   "nbconvert_exporter": "python",
   "pygments_lexer": "ipython3",
   "version": "3.9.13"
  }
 },
 "nbformat": 4,
 "nbformat_minor": 5
}
