{
 "cells": [
  {
   "cell_type": "code",
   "execution_count": 1,
   "id": "2a2ce926",
   "metadata": {
    "scrolled": true
   },
   "outputs": [],
   "source": [
    "import spacy\n",
    "import neuralcoref\n"
   ]
  },
  {
   "cell_type": "code",
   "execution_count": 2,
   "id": "013b3193",
   "metadata": {
    "scrolled": true
   },
   "outputs": [
    {
     "name": "stdout",
     "output_type": "stream",
     "text": [
      "✔ Download and installation successful\n",
      "You can now load the model via spacy.load('en_core_web_sm')\n"
     ]
    }
   ],
   "source": [
    "import os\n",
    "import sys\n",
    "from spacy.cli import download\n",
    "\n",
    "download(\"en_core_web_sm\")\n"
   ]
  },
  {
   "cell_type": "code",
   "execution_count": 3,
   "id": "89254fa0",
   "metadata": {},
   "outputs": [
    {
     "data": {
      "text/plain": [
       "<spacy.lang.en.English at 0x1a84ae84190>"
      ]
     },
     "execution_count": 3,
     "metadata": {},
     "output_type": "execute_result"
    }
   ],
   "source": [
    "nlp = spacy.load('en_core_web_sm')\n",
    "neuralcoref.add_to_pipe(nlp)"
   ]
  },
  {
   "cell_type": "code",
   "execution_count": 4,
   "id": "cd646d3c",
   "metadata": {},
   "outputs": [],
   "source": [
    "text = '''Jackson Maine, a famous country music singer privately battling an alcohol and drug addiction, plays a concert in California. His main support is Bobby, his manager and older half-brother. After the show, Jackson visits a drag bar where he witnesses a performance by Ally, a waitress and singer-songwriter. Jackson is amazed by her performance, and they spend the night speaking to each other, where Ally discloses to him the troubles she has faced in pursuing a professional music career. Jackson invites Ally to his next show. Despite her initial refusal she attends and, with Jackson's encouragement, sings on stage with him. Jackson invites Ally to go on tour with him, and they form a romantic relationship. In Arizona, Ally and Jackson visit the ranch where Jackson grew up and where his father is buried, only to discover that Bobby sold the land. Angered at his betrayal, Jackson punches Bobby, who subsequently quits as his manager. Before doing so, Bobby reveals that he did inform Jackson about the sale, but the latter was too inebriated to notice.'''"
   ]
  },
  {
   "cell_type": "code",
   "execution_count": 5,
   "id": "f9d0aaeb",
   "metadata": {},
   "outputs": [
    {
     "data": {
      "text/plain": [
       "\"Jackson Maine, a famous country music singer privately battling an alcohol and drug addiction, plays a concert in California. His main support is Bobby, his manager and older half-brother. After the show, Jackson visits a drag bar where he witnesses a performance by Ally, a waitress and singer-songwriter. Jackson is amazed by her performance, and they spend the night speaking to each other, where Ally discloses to him the troubles she has faced in pursuing a professional music career. Jackson invites Ally to his next show. Despite her initial refusal she attends and, with Jackson's encouragement, sings on stage with him. Jackson invites Ally to go on tour with him, and they form a romantic relationship. In Arizona, Ally and Jackson visit the ranch where Jackson grew up and where his father is buried, only to discover that Bobby sold the land. Angered at his betrayal, Jackson punches Bobby, who subsequently quits as his manager. Before doing so, Bobby reveals that he did inform Jackson about the sale, but the latter was too inebriated to notice.\""
      ]
     },
     "execution_count": 5,
     "metadata": {},
     "output_type": "execute_result"
    }
   ],
   "source": [
    "text"
   ]
  },
  {
   "cell_type": "code",
   "execution_count": 6,
   "id": "78455fe8",
   "metadata": {},
   "outputs": [
    {
     "name": "stdout",
     "output_type": "stream",
     "text": [
      "Fact count: 1\n",
      "1. His main support is Bobby, His manager and older half-brother.\n"
     ]
    }
   ],
   "source": [
    "doc = nlp(text)\n",
    "resolved_text = doc._.coref_resolved\n",
    "sentences = [sent.string.strip() for sent in nlp(resolved_text).sents]\n",
    "output = [sent for sent in sentences if 'brother' in \n",
    "          (' '.join([token.lemma_.lower() for token in nlp(sent)]))]\n",
    "print('Fact count:', len(output))\n",
    "for fact in range(len(output)):\n",
    "    print(str(fact+1)+'.', output[fact])"
   ]
  },
  {
   "cell_type": "code",
   "execution_count": 7,
   "id": "5a3f3831",
   "metadata": {},
   "outputs": [
    {
     "data": {
      "text/plain": [
       "['Jackson Maine, a famous country music singer privately battling an alcohol and drug addiction, plays a concert in California.',\n",
       " 'His main support is Bobby, His manager and older half-brother.',\n",
       " 'After the show, His visits a drag bar where His witnesses a performance by Ally, a waitress and singer-songwriter.',\n",
       " 'His is amazed by His performance, and they spend the night speaking to each other, where Ally discloses to His the troubles His has faced in pursuing a professional music career.',\n",
       " 'His invites Ally to the show.',\n",
       " \"Despite His initial refusal His attends and, with His's encouragement, sings on stage with His.\",\n",
       " 'His invites Ally to go on tour with His, and they form a romantic relationship.',\n",
       " 'In Arizona, Ally and His visit the ranch where His grew up and where His father is buried, only to discover that Bobby sold the land.',\n",
       " 'Angered at His betrayal, His punches Bobby, who subsequently quits as His manager.',\n",
       " 'Before doing so, Bobby reveals that Bobby did inform His about the sale, but the latter was too inebriated to notice.']"
      ]
     },
     "execution_count": 7,
     "metadata": {},
     "output_type": "execute_result"
    }
   ],
   "source": [
    "sentences"
   ]
  },
  {
   "cell_type": "code",
   "execution_count": 8,
   "id": "7bcd856a",
   "metadata": {},
   "outputs": [
    {
     "data": {
      "text/plain": [
       "the show"
      ]
     },
     "execution_count": 8,
     "metadata": {},
     "output_type": "execute_result"
    }
   ],
   "source": [
    "doc._.coref_clusters\n",
    "doc._.coref_clusters[1].mentions\n",
    "doc._.coref_clusters[1].mentions[-1]\n",
    "doc._.coref_clusters[1].mentions[-1]._.coref_cluster.main"
   ]
  },
  {
   "cell_type": "code",
   "execution_count": 12,
   "id": "da11b5a6",
   "metadata": {},
   "outputs": [
    {
     "data": {
      "text/plain": [
       "His"
      ]
     },
     "execution_count": 12,
     "metadata": {},
     "output_type": "execute_result"
    }
   ],
   "source": [
    "doc._.coref_clusters[0]\n",
    "doc._.coref_clusters[0].mentions[-1]._.coref_cluster.main\n"
   ]
  },
  {
   "cell_type": "code",
   "execution_count": null,
   "id": "d0fa2d65",
   "metadata": {},
   "outputs": [],
   "source": []
  }
 ],
 "metadata": {
  "kernelspec": {
   "display_name": "Python 3 (ipykernel)",
   "language": "python",
   "name": "python3"
  },
  "language_info": {
   "codemirror_mode": {
    "name": "ipython",
    "version": 3
   },
   "file_extension": ".py",
   "mimetype": "text/x-python",
   "name": "python",
   "nbconvert_exporter": "python",
   "pygments_lexer": "ipython3",
   "version": "3.9.13"
  }
 },
 "nbformat": 4,
 "nbformat_minor": 5
}
