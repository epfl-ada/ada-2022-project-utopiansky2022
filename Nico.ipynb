{
 "cells": [
  {
   "cell_type": "markdown",
   "metadata": {},
   "source": [
    "0. Importing Libraries"
   ]
  },
  {
   "cell_type": "code",
   "execution_count": 11,
   "metadata": {},
   "outputs": [],
   "source": [
    "import pandas as pd\n",
    "import numpy as np\n"
   ]
  },
  {
   "cell_type": "markdown",
   "metadata": {},
   "source": [
    "1. Loading the data"
   ]
  },
  {
   "cell_type": "code",
   "execution_count": 199,
   "metadata": {},
   "outputs": [],
   "source": [
    "# Loading the data of character metadata\n",
    "\n",
    "df_characters = pd.read_csv('Data/character.metadata.tsv', sep='\\t')\n",
    "df_characters.columns = ['Wikipedia movie ID', 'Freebase movie ID', 'Movie release date', 'Character name', 'Actor date of birth', 'Actor gender',\n",
    "                        'Actor height (in meters)', 'Actor ethnicity (Freebase ID)', 'Actor name', 'Actor age at movie release',\n",
    "                        'Freebase character/actor map ID', 'Freebase character ID', 'Freebase actor ID']"
   ]
  },
  {
   "cell_type": "code",
   "execution_count": 200,
   "metadata": {},
   "outputs": [],
   "source": [
    "# Loading the data of movie metadata\n",
    "\n",
    "df_movie = pd.read_csv('Data/movie.metadata.tsv', sep='\\t')\n",
    "df_movie.columns = ['Wikipedia movie ID', 'Freebase movie ID', 'Movie name', 'Movie release date', 'Movie box office revenue', 'Movie runtime',\n",
    "                    'Movie languages (Freebase ID)', 'Movie countries (Freebase ID)', 'Movie genres (Freebase ID)']"
   ]
  },
  {
   "cell_type": "code",
   "execution_count": 220,
   "metadata": {},
   "outputs": [
    {
     "name": "stdout",
     "output_type": "stream",
     "text": [
      "450668\n"
     ]
    }
   ],
   "source": [
    "# Loading name clusters\n",
    "# 970 unique character names used in at least two different movies, along with 2,666 instances of those types\n",
    "\n",
    "df_name_clusters = pd.read_csv('Data/name.clusters.txt', sep='\\t')\n",
    "df_name_clusters.columns = ['Character name', 'Freebase character/actor map ID']\n",
    "print(len(df_characters))"
   ]
  },
  {
   "cell_type": "code",
   "execution_count": 221,
   "metadata": {},
   "outputs": [
    {
     "name": "stdout",
     "output_type": "stream",
     "text": [
      "81740\n"
     ]
    }
   ],
   "source": [
    "# Loading plot summaries\n",
    "df_plot_summaries = pd.read_csv('Data/plot_summaries.txt', sep='\\t')\n",
    "df_plot_summaries.columns = ['Wikipedia movie ID', 'Plot Summary']\n",
    "print(len(df_movie))"
   ]
  },
  {
   "cell_type": "markdown",
   "metadata": {},
   "source": [
    "2. Data Exploration"
   ]
  },
  {
   "cell_type": "code",
   "execution_count": 219,
   "metadata": {},
   "outputs": [
    {
     "name": "stdout",
     "output_type": "stream",
     "text": [
      "Missing \"character names\" in character metadata: 257875\n",
      "Missing \"Freebase character\" IDs in character metadata: 257865\n",
      "We can see that the number of missing character names ≈ missing Freebase character IDs\n",
      "There are 10 characters where we have a \"Freebase character ID\" but not \"character names\"\n",
      "Missing Character name AND Freebase character ID: 257865\n"
     ]
    }
   ],
   "source": [
    "# Checking when either character name or Freebase movie ID are missing:\n",
    "print('Missing \"character names\" in character metadata: %d' %df_characters['Character name'].isnull().sum())\n",
    "print('Missing \"Freebase character\" IDs in character metadata: %d' %df_characters['Freebase character ID'].isnull().sum())\n",
    "print('We can see that the number of missing character names ≈ missing Freebase character IDs')\n",
    "print('There are 10 characters where we have a \"Freebase character ID\" but not \"character names\"')\n",
    "\n",
    "# Checking when both \"Character name\" and \"Freebase character ID are missing\":\n",
    "df_characters.loc[df_characters['Character name'].isnull() & df_characters['Freebase movie ID'].isnull()]\n",
    "out = df_characters.iloc[:, [3, 11]].isnull().all(1)\n",
    "out\n",
    "true_count = sum(out)\n",
    "print('Missing Character name AND Freebase character ID: %d' %true_count)\n",
    "\n",
    "# We could try and recover the character names by their Freebase movie IDs.\n"
   ]
  },
  {
   "cell_type": "code",
   "execution_count": 215,
   "metadata": {},
   "outputs": [
    {
     "name": "stdout",
     "output_type": "stream",
     "text": [
      "The total number of characters that we obtain from the inner merge is: 450652\n"
     ]
    }
   ],
   "source": [
    "# Merging character with movie metadata with an inner join\n",
    "\n",
    "df_char_movie = pd.merge(left=df_characters, right=df_movie, how='inner', on= ['Wikipedia movie ID', 'Freebase movie ID', 'Movie release date'])\n",
    "print('The total number of characters that we obtain from the inner merge is: %d' %len(df_char_movie))\n",
    "print('By merging character and movie metadata we are missing')"
   ]
  },
  {
   "cell_type": "markdown",
   "metadata": {},
   "source": [
    "We do an inner join because there are movies in the movie metadata for which we do not have any character information in character metadata\n",
    "and vice versa."
   ]
  },
  {
   "cell_type": "code",
   "execution_count": 253,
   "metadata": {},
   "outputs": [
    {
     "name": "stdout",
     "output_type": "stream",
     "text": [
      "The resulting number of movies from the merge of characters and movies is: 64329\n"
     ]
    }
   ],
   "source": [
    "movies_with_characters = df_char_movie.groupby(['Wikipedia movie ID']).agg('size')\n",
    "print('The resulting number of movies from the merge of characters and movies is: %d'%len(movies_with_characters))"
   ]
  },
  {
   "cell_type": "code",
   "execution_count": 18,
   "metadata": {},
   "outputs": [],
   "source": [
    "movies = df_characters['Wikipedia movie ID']\n",
    "characters = df_characters['Character name']"
   ]
  },
  {
   "cell_type": "code",
   "execution_count": 268,
   "metadata": {},
   "outputs": [],
   "source": [
    "# Computing the total number of characters and the number of character names we have in our dataframe\n",
    "char_names_per_movie = df_char_movie.groupby('Wikipedia movie ID')['Character name'].count() # extracts number of characters we have (i.e. not coun ting NaNs)\n",
    "total_characters_per_movie = df_char_movie.groupby(['Wikipedia movie ID'])['Character name'].agg(['size'])"
   ]
  },
  {
   "cell_type": "code",
   "execution_count": 273,
   "metadata": {},
   "outputs": [
    {
     "data": {
      "text/html": [
       "<div>\n",
       "<style scoped>\n",
       "    .dataframe tbody tr th:only-of-type {\n",
       "        vertical-align: middle;\n",
       "    }\n",
       "\n",
       "    .dataframe tbody tr th {\n",
       "        vertical-align: top;\n",
       "    }\n",
       "\n",
       "    .dataframe thead th {\n",
       "        text-align: right;\n",
       "    }\n",
       "</style>\n",
       "<table border=\"1\" class=\"dataframe\">\n",
       "  <thead>\n",
       "    <tr style=\"text-align: right;\">\n",
       "      <th></th>\n",
       "      <th>total_n°_characters (incl. NaN)</th>\n",
       "      <th>character_names (excl. NaN)</th>\n",
       "      <th>n°_missing_characters</th>\n",
       "      <th>percentage_missing</th>\n",
       "    </tr>\n",
       "    <tr>\n",
       "      <th>Wikipedia movie ID</th>\n",
       "      <th></th>\n",
       "      <th></th>\n",
       "      <th></th>\n",
       "      <th></th>\n",
       "    </tr>\n",
       "  </thead>\n",
       "  <tbody>\n",
       "    <tr>\n",
       "      <th>330</th>\n",
       "      <td>4</td>\n",
       "      <td>0</td>\n",
       "      <td>4</td>\n",
       "      <td>100.00</td>\n",
       "    </tr>\n",
       "    <tr>\n",
       "      <th>3217</th>\n",
       "      <td>14</td>\n",
       "      <td>14</td>\n",
       "      <td>0</td>\n",
       "      <td>0.00</td>\n",
       "    </tr>\n",
       "    <tr>\n",
       "      <th>3333</th>\n",
       "      <td>14</td>\n",
       "      <td>0</td>\n",
       "      <td>14</td>\n",
       "      <td>100.00</td>\n",
       "    </tr>\n",
       "    <tr>\n",
       "      <th>3746</th>\n",
       "      <td>15</td>\n",
       "      <td>15</td>\n",
       "      <td>0</td>\n",
       "      <td>0.00</td>\n",
       "    </tr>\n",
       "    <tr>\n",
       "      <th>3837</th>\n",
       "      <td>20</td>\n",
       "      <td>16</td>\n",
       "      <td>4</td>\n",
       "      <td>20.00</td>\n",
       "    </tr>\n",
       "    <tr>\n",
       "      <th>...</th>\n",
       "      <td>...</td>\n",
       "      <td>...</td>\n",
       "      <td>...</td>\n",
       "      <td>...</td>\n",
       "    </tr>\n",
       "    <tr>\n",
       "      <th>37373877</th>\n",
       "      <td>7</td>\n",
       "      <td>2</td>\n",
       "      <td>5</td>\n",
       "      <td>71.43</td>\n",
       "    </tr>\n",
       "    <tr>\n",
       "      <th>37476824</th>\n",
       "      <td>10</td>\n",
       "      <td>0</td>\n",
       "      <td>10</td>\n",
       "      <td>100.00</td>\n",
       "    </tr>\n",
       "    <tr>\n",
       "      <th>37478048</th>\n",
       "      <td>4</td>\n",
       "      <td>1</td>\n",
       "      <td>3</td>\n",
       "      <td>75.00</td>\n",
       "    </tr>\n",
       "    <tr>\n",
       "      <th>37492363</th>\n",
       "      <td>3</td>\n",
       "      <td>0</td>\n",
       "      <td>3</td>\n",
       "      <td>100.00</td>\n",
       "    </tr>\n",
       "    <tr>\n",
       "      <th>37501922</th>\n",
       "      <td>2</td>\n",
       "      <td>2</td>\n",
       "      <td>0</td>\n",
       "      <td>0.00</td>\n",
       "    </tr>\n",
       "  </tbody>\n",
       "</table>\n",
       "<p>64329 rows × 4 columns</p>\n",
       "</div>"
      ],
      "text/plain": [
       "                    total_n°_characters (incl. NaN)  \\\n",
       "Wikipedia movie ID                                    \n",
       "330                                               4   \n",
       "3217                                             14   \n",
       "3333                                             14   \n",
       "3746                                             15   \n",
       "3837                                             20   \n",
       "...                                             ...   \n",
       "37373877                                          7   \n",
       "37476824                                         10   \n",
       "37478048                                          4   \n",
       "37492363                                          3   \n",
       "37501922                                          2   \n",
       "\n",
       "                    character_names (excl. NaN)  n°_missing_characters  \\\n",
       "Wikipedia movie ID                                                       \n",
       "330                                           0                      4   \n",
       "3217                                         14                      0   \n",
       "3333                                          0                     14   \n",
       "3746                                         15                      0   \n",
       "3837                                         16                      4   \n",
       "...                                         ...                    ...   \n",
       "37373877                                      2                      5   \n",
       "37476824                                      0                     10   \n",
       "37478048                                      1                      3   \n",
       "37492363                                      0                      3   \n",
       "37501922                                      2                      0   \n",
       "\n",
       "                    percentage_missing  \n",
       "Wikipedia movie ID                      \n",
       "330                             100.00  \n",
       "3217                              0.00  \n",
       "3333                            100.00  \n",
       "3746                              0.00  \n",
       "3837                             20.00  \n",
       "...                                ...  \n",
       "37373877                         71.43  \n",
       "37476824                        100.00  \n",
       "37478048                         75.00  \n",
       "37492363                        100.00  \n",
       "37501922                          0.00  \n",
       "\n",
       "[64329 rows x 4 columns]"
      ]
     },
     "execution_count": 273,
     "metadata": {},
     "output_type": "execute_result"
    }
   ],
   "source": [
    "df_character_missing_stats = pd.merge(total_characters_per_movie, char_names_per_movie, on='Wikipedia movie ID')\n",
    "\n",
    "df_character_missing_stats['n°_missing_characters'] = df_character_missing_stats['size'] - df_character_missing_stats['Character name']\n",
    "df_character_missing_stats['percentage_missing'] = round(100 * df_character_missing_stats['n°_missing_characters'] / df_character_missing_stats['size'], 2) # computing percentages of missing character names\n",
    "df_character_missing_stats = df_character_missing_stats.rename(columns={'size': 'total_n°_characters (incl. NaN)'})\n",
    "df_character_missing_stats = df_character_missing_stats.rename(columns={'Character name': 'character_names (excl. NaN)'})\n",
    "df_character_missing_stats\n",
    "\n",
    "# In this dataframe we obtain the percentage of the character names that are missing per movie"
   ]
  },
  {
   "cell_type": "markdown",
   "metadata": {},
   "source": [
    "Gathering some useful statistics about missing characters:"
   ]
  },
  {
   "cell_type": "code",
   "execution_count": 115,
   "metadata": {},
   "outputs": [
    {
     "name": "stdout",
     "output_type": "stream",
     "text": [
      "9120\n",
      "31759\n",
      "0.4936964666013773\n",
      "0.28463057097110167\n",
      "32570\n"
     ]
    }
   ],
   "source": [
    "print(df_character_missing_stats['% of missing'][df_character_missing_stats['% of missing'] == 0].count()) # Have all names\n",
    "print(df_character_missing_stats['Character Name (excl. NaN)'][df_character_missing_stats['Character Name (excl. NaN)'] == 0].count())\n",
    "print(df_character_missing_stats['Character Name (excl. NaN)'][df_character_missing_stats['Character Name (excl. NaN)'] == 0].count()/64329)\n",
    "print(df_character_missing_stats['% of missing'][df_character_missing_stats['% of missing'] <= 0.5].count()/64329)\n",
    "print(df_character_missing_stats['Character Name (excl. NaN)'][df_character_missing_stats['Character Name (excl. NaN)'] >= 1].count())\n",
    "\n",
    "\n",
    "# The 3rd number is the number of movies for which we are missing 100% of the character names. In other words we are missing all of the characters for roughly 50% of the movies.\n",
    "\n",
    "# Plot histograms of percentages .....\n",
    "\n"
   ]
  },
  {
   "cell_type": "code",
   "execution_count": 226,
   "metadata": {},
   "outputs": [],
   "source": [
    "###################################################################################################"
   ]
  },
  {
   "cell_type": "markdown",
   "metadata": {},
   "source": [
    "Creating a dataframe with the output of the NLP "
   ]
  },
  {
   "cell_type": "code",
   "execution_count": 237,
   "metadata": {},
   "outputs": [],
   "source": [
    "df_1 = pd.read_csv(\"Data/Plot_NLP_Analysis_0_14100.csv\", sep='\\t', header = None)\n",
    "df_2 = pd.read_csv(\"Data/Plot_NLP_Analysis_14101_23201.csv\", sep='\\t', header = None)\n",
    "df_3 = pd.read_csv(\"Data/Plot_NLP_Analysis_23202_42302.csv\", sep='\\t', header = None)\n",
    "df_1 = df_1.drop(columns=0)\n",
    "df_2 = df_2.drop(columns=0)\n",
    "df_3 = df_3.drop(columns=0)"
   ]
  },
  {
   "cell_type": "code",
   "execution_count": 239,
   "metadata": {},
   "outputs": [
    {
     "data": {
      "text/html": [
       "<div>\n",
       "<style scoped>\n",
       "    .dataframe tbody tr th:only-of-type {\n",
       "        vertical-align: middle;\n",
       "    }\n",
       "\n",
       "    .dataframe tbody tr th {\n",
       "        vertical-align: top;\n",
       "    }\n",
       "\n",
       "    .dataframe thead th {\n",
       "        text-align: right;\n",
       "    }\n",
       "</style>\n",
       "<table border=\"1\" class=\"dataframe\">\n",
       "  <thead>\n",
       "    <tr style=\"text-align: right;\">\n",
       "      <th></th>\n",
       "      <th>Wikipedia movie ID</th>\n",
       "      <th>Character name</th>\n",
       "      <th>Agent Verbs</th>\n",
       "      <th>Patient Verbs</th>\n",
       "      <th>Attributes</th>\n",
       "    </tr>\n",
       "  </thead>\n",
       "  <tbody>\n",
       "    <tr>\n",
       "      <th>0</th>\n",
       "      <td>23890098</td>\n",
       "      <td>Lyosha</td>\n",
       "      <td>0.0</td>\n",
       "      <td>0.0</td>\n",
       "      <td>driver taxi</td>\n",
       "    </tr>\n",
       "    <tr>\n",
       "      <th>1</th>\n",
       "      <td>31186339</td>\n",
       "      <td>Primrose</td>\n",
       "      <td>0.0</td>\n",
       "      <td>['chosen']</td>\n",
       "      <td>old</td>\n",
       "    </tr>\n",
       "    <tr>\n",
       "      <th>2</th>\n",
       "      <td>31186339</td>\n",
       "      <td>Katniss</td>\n",
       "      <td>['volunteers', 'survives', 'drops', 'has', 'ru...</td>\n",
       "      <td>['gave', 'taken', 'warned', 'presented']</td>\n",
       "      <td>sister love</td>\n",
       "    </tr>\n",
       "    <tr>\n",
       "      <th>3</th>\n",
       "      <td>31186339</td>\n",
       "      <td>Peeta</td>\n",
       "      <td>['tribute', 'reveals', 'meant', 'forms', 'begs...</td>\n",
       "      <td>0.0</td>\n",
       "      <td>tribute mobile victorious</td>\n",
       "    </tr>\n",
       "    <tr>\n",
       "      <th>4</th>\n",
       "      <td>31186339</td>\n",
       "      <td>Haymitch</td>\n",
       "      <td>['able', 'warns']</td>\n",
       "      <td>0.0</td>\n",
       "      <td>victor advice able star rule</td>\n",
       "    </tr>\n",
       "    <tr>\n",
       "      <th>...</th>\n",
       "      <td>...</td>\n",
       "      <td>...</td>\n",
       "      <td>...</td>\n",
       "      <td>...</td>\n",
       "      <td>...</td>\n",
       "    </tr>\n",
       "    <tr>\n",
       "      <th>150631</th>\n",
       "      <td>8628195</td>\n",
       "      <td>Amina</td>\n",
       "      <td>['forgotten']</td>\n",
       "      <td>0.0</td>\n",
       "      <td>daughter</td>\n",
       "    </tr>\n",
       "    <tr>\n",
       "      <th>150632</th>\n",
       "      <td>8628195</td>\n",
       "      <td>Rehman</td>\n",
       "      <td>['abuses', 'tries', 'states', 'forgotten', 'tr...</td>\n",
       "      <td>['gives']</td>\n",
       "      <td>lawyer honesty daughter</td>\n",
       "    </tr>\n",
       "    <tr>\n",
       "      <th>150633</th>\n",
       "      <td>8628195</td>\n",
       "      <td>Mini</td>\n",
       "      <td>['short', 'decides', 'goes', 'tolerate', 'stop...</td>\n",
       "      <td>0.0</td>\n",
       "      <td>father budget wedding</td>\n",
       "    </tr>\n",
       "    <tr>\n",
       "      <th>150634</th>\n",
       "      <td>6040782</td>\n",
       "      <td>Arthur</td>\n",
       "      <td>0.0</td>\n",
       "      <td>0.0</td>\n",
       "      <td>clerk</td>\n",
       "    </tr>\n",
       "    <tr>\n",
       "      <th>150635</th>\n",
       "      <td>6040782</td>\n",
       "      <td>Joe</td>\n",
       "      <td>0.0</td>\n",
       "      <td>0.0</td>\n",
       "      <td>Private</td>\n",
       "    </tr>\n",
       "  </tbody>\n",
       "</table>\n",
       "<p>150636 rows × 5 columns</p>\n",
       "</div>"
      ],
      "text/plain": [
       "        Wikipedia movie ID Character name  \\\n",
       "0                 23890098         Lyosha   \n",
       "1                 31186339       Primrose   \n",
       "2                 31186339        Katniss   \n",
       "3                 31186339          Peeta   \n",
       "4                 31186339       Haymitch   \n",
       "...                    ...            ...   \n",
       "150631             8628195          Amina   \n",
       "150632             8628195         Rehman   \n",
       "150633             8628195           Mini   \n",
       "150634             6040782         Arthur   \n",
       "150635             6040782            Joe   \n",
       "\n",
       "                                              Agent Verbs  \\\n",
       "0                                                     0.0   \n",
       "1                                                     0.0   \n",
       "2       ['volunteers', 'survives', 'drops', 'has', 'ru...   \n",
       "3       ['tribute', 'reveals', 'meant', 'forms', 'begs...   \n",
       "4                                       ['able', 'warns']   \n",
       "...                                                   ...   \n",
       "150631                                      ['forgotten']   \n",
       "150632  ['abuses', 'tries', 'states', 'forgotten', 'tr...   \n",
       "150633  ['short', 'decides', 'goes', 'tolerate', 'stop...   \n",
       "150634                                                0.0   \n",
       "150635                                                0.0   \n",
       "\n",
       "                                   Patient Verbs                    Attributes  \n",
       "0                                            0.0                   driver taxi  \n",
       "1                                     ['chosen']                           old  \n",
       "2       ['gave', 'taken', 'warned', 'presented']                   sister love  \n",
       "3                                            0.0     tribute mobile victorious  \n",
       "4                                            0.0  victor advice able star rule  \n",
       "...                                          ...                           ...  \n",
       "150631                                       0.0                      daughter  \n",
       "150632                                 ['gives']       lawyer honesty daughter  \n",
       "150633                                       0.0         father budget wedding  \n",
       "150634                                       0.0                         clerk  \n",
       "150635                                       0.0                       Private  \n",
       "\n",
       "[150636 rows x 5 columns]"
      ]
     },
     "execution_count": 239,
     "metadata": {},
     "output_type": "execute_result"
    }
   ],
   "source": [
    "clusters_df = pd.concat([df_1, df_2, df_3], ignore_index=True)\n",
    "clusters_df.columns = ('Wikipedia movie ID', 'Character name', 'Agent Verbs', 'Patient Verbs', 'Attributes')\n",
    "clusters_df"
   ]
  },
  {
   "cell_type": "markdown",
   "metadata": {},
   "source": [
    "Trying to merge clusters_df df_char_movie"
   ]
  },
  {
   "cell_type": "code",
   "execution_count": null,
   "metadata": {},
   "outputs": [],
   "source": [
    "#  Nerea Example from Homework 1\n",
    "# df_comparison['positive1'] = np.where(df_comparison['headline1'].str.contains('|'.join(df_pos), \n",
    "#                     case=False, regex=True), 1, 0)\n",
    "\n",
    "# Nerea example code for the merge"
   ]
  },
  {
   "cell_type": "code",
   "execution_count": null,
   "metadata": {},
   "outputs": [],
   "source": [
    "#Example from the internet\n",
    "#  df1\n",
    "#     # check which LOCAL_NAME values are related\n",
    "#     .assign(matches = lambda x: x[\"NAME\"].apply(lambda y: df2.loc[df2[\"LOCAL_NAME\"].str.contains(y), \"LOCAL_NAME\"].tolist()))\n",
    "#     # make sure each row only has one key in the case that there are multiple matches found (is this possible?)\n",
    "#     .explode(\"matches\")\n",
    "#     # join with the second dataframe to get the NAME_MAP column\n",
    "#     .merge(df2, how=\"right\", left_on=\"matches\", right_on=\"LOCAL_NAME\")\n",
    "# )"
   ]
  }
 ],
 "metadata": {
  "kernelspec": {
   "display_name": "Python 3.8.13 ('ada')",
   "language": "python",
   "name": "python3"
  },
  "language_info": {
   "codemirror_mode": {
    "name": "ipython",
    "version": 3
   },
   "file_extension": ".py",
   "mimetype": "text/x-python",
   "name": "python",
   "nbconvert_exporter": "python",
   "pygments_lexer": "ipython3",
   "version": "3.8.13"
  },
  "orig_nbformat": 4,
  "vscode": {
   "interpreter": {
    "hash": "ce99cf25ffd600a1bd039dd0e5fc1f91a501536a7e4709656cdce4bef5f7601c"
   }
  }
 },
 "nbformat": 4,
 "nbformat_minor": 2
}
